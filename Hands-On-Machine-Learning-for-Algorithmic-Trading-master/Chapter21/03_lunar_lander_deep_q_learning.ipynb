{
 "cells": [
  {
   "cell_type": "markdown",
   "metadata": {},
   "source": [
    "# Double Deep Q-Learning"
   ]
  },
  {
   "cell_type": "markdown",
   "metadata": {},
   "source": [
    "## The Open AI Lunar Lander environment "
   ]
  },
  {
   "cell_type": "markdown",
   "metadata": {},
   "source": [
    "The [OpenAI Gym](https://gym.openai.com/) is a RL platform that provides standardized environments to test and benchmark RL algorithms using Python. It is also possible to extend the platform and register custom environments.\n",
    "\n",
    "The [Lunar Lander](https://gym.openai.com/envs/LunarLander-v2) (LL) environment requires the agent to control its motion in two dimensions, based on a discrete action space and low-dimensional state observations that include position, orientation, and velocity. At each time step, the environment provides an observation of the new state and a positive or negative reward.  Each episode consists of up to 1,000 time steps. The following diagram shows selected frames from a successful landing after 250 episodes by the agent we will train:"
   ]
  },
  {
   "cell_type": "markdown",
   "metadata": {},
   "source": [
    "<img src=\"img/lunar_lander.png\" width=\"700\">"
   ]
  },
  {
   "cell_type": "markdown",
   "metadata": {},
   "source": [
    "More specifically, the agent observes eight aspects of the state, including six continuous and two discrete elements. Based on the observed elements, the agent knows its location, direction, speed of movement, and whether it has (partially) landed. However, it does not know where it should be moving using its available actions or observe the inner state of the environment in the sense of understanding the rules that govern its motion.\n",
    "\n",
    "At each time step, the agent controls its motion using one of four discrete actions. It can do nothing (and continue on its current path), fire its main engine (to reduce downward motion), or steer to the left or right using the respective orientation engines. There are no fuel limitations.\n",
    "\n",
    "The goal is to land the agent between two flags on a landing pad at coordinates (0, 0), but landing outside of the pad is possible. The agent accumulates rewards in the range of 100-140 for moving toward the pad, depending on the exact landing spot. However, moving away from the target negates the reward the agent would have gained by moving toward the pad. Ground contact by each leg adds ten points, and using the main engine costs -0.3 points.\n",
    "\n",
    "An episode terminates if the agent lands or crashes, adding or subtracting 100 points, respectively, or after 1,000 time steps. Solving LL requires achieving a cumulative reward of at least 200 on average over 100 consecutive episodes."
   ]
  },
  {
   "cell_type": "markdown",
   "metadata": {},
   "source": [
    "## Deep Q-Learning"
   ]
  },
  {
   "cell_type": "markdown",
   "metadata": {},
   "source": [
    "Deep Q learning estimates the value of the available actions for a given state using a deep neural network. It was introduced by Deep Mind's [Playing Atari with Deep Reinforcement Learning](https://www.cs.toronto.edu/~vmnih/docs/dqn.pdf) (2013), where RL agents learned to play games solely from pixel input.\n",
    "\n",
    "The Deep Q-Learning algorithm approximates the action-value function q by learning a set of weights  of a multi-layered Deep Q Network (DQN) that maps states to actions so that $$q(s,a,\\theta)\\approx q^*(s,a)$$\n",
    "\n",
    "The algorithm applies gradient descent to a loss function defined as the squared difference between the DQN's estimate of the target \n",
    "$$y_i=\\mathbb{E}[r+\\gamma\\max_{a^\\prime}Q(s^\\prime, a^\\prime; \\theta_{i−1}\\mid s,a)]$$ \n",
    "and its estimate of the action-value of the current state-action pair  to learn the network parameters:\n",
    "\n",
    "$$L_i(\\theta_i)=\\mathbb{E}\\left[\\left(\\overbrace{\\underbrace{y_i}_{\\text{Q Target}}−\\underbrace{Q(s, a; \\theta)}_{\\text{Current Prediction}}}^{\\text{TD Error}}\\right)^2 \\right]$$\n",
    "\n",
    "Both the target and the current estimate depend on the set of weights, underlining the distinction from supervised learning where targets are fixed prior to training. "
   ]
  },
  {
   "cell_type": "markdown",
   "metadata": {},
   "source": [
    "### Extensions"
   ]
  },
  {
   "cell_type": "markdown",
   "metadata": {},
   "source": [
    "Several innovations have improved the accuracy and convergence speed of deep Q-Learning, namely:\n",
    "- **Experience replay** stores a history of state, action, reward, and next state transitions and randomly samples mini-batches from this experience to update the network weights at each time step before the agent selects an ε-greedy action. It increases sample efficiency, reduces the autocorrelation of samples, and limits the feedback due to the current weights producing training samples that can lead to local minima or divergence.\n",
    "- **Slowly-changing target network** weakens the feedback loop from the current network parameters on the neural network weight updates. Also invented by by Deep Mind in [Human-level control through deep reinforcement learning](https://web.stanford.edu/class/psych209/Readings/MnihEtAlHassibis15NatureControlDeepRL.pdf) (2015), it use a slowly-changing target network that has the same architecture as the Q-network, but its weights are only updated periodically. The target network generates the predictions of the next state value used to update the Q-Networks estimate of the current state's value.\n",
    "- **Double deep Q-learning** addresses the bias of deep Q-Learning to overestimate action values because it purposely samples the highest action value. This bias can negatively affect the learning process and the resulting policy if it does not apply uniformly , as shown by Hado van Hasselt in [Deep Reinforcement Learning with Double Q-learning](https://arxiv.org/abs/1509.06461) (2015). To decouple the estimation of action values from the selection of actions, Double Deep Q-Learning (DDQN) uses the weights, of one network to select the best action given the next state, and the weights of another network to provide the corresponding action value estimate.\n"
   ]
  },
  {
   "cell_type": "markdown",
   "metadata": {},
   "source": [
    "## Imports & Settings"
   ]
  },
  {
   "cell_type": "code",
   "execution_count": 1,
   "metadata": {},
   "outputs": [],
   "source": [
    "%matplotlib inline\n",
    "from pathlib import Path\n",
    "from collections import deque, namedtuple\n",
    "from time import time\n",
    "from random import sample\n",
    "import numpy as np\n",
    "from numpy.random import random, randint, seed\n",
    "import pandas as pd\n",
    "\n",
    "import matplotlib.pyplot as plt\n",
    "import seaborn as sns\n",
    "\n",
    "import tensorflow as tf\n",
    "\n",
    "import gym\n",
    "from gym import wrappers"
   ]
  },
  {
   "cell_type": "code",
   "execution_count": 2,
   "metadata": {},
   "outputs": [],
   "source": [
    "sns.set_style('darkgrid', {'axes.grid' : False})"
   ]
  },
  {
   "cell_type": "markdown",
   "metadata": {},
   "source": [
    "### Result display helper functions"
   ]
  },
  {
   "cell_type": "code",
   "execution_count": 3,
   "metadata": {},
   "outputs": [],
   "source": [
    "def format_time(t):\n",
    "    m_, s = divmod(t, 60)\n",
    "    h, m = divmod(m_, 60)\n",
    "    return '{:02.0f}:{:05.2f}'.format(m, s)"
   ]
  },
  {
   "cell_type": "code",
   "execution_count": 4,
   "metadata": {},
   "outputs": [],
   "source": [
    "def track_results(episode, episode_reward,\n",
    "                  rewards_ma, rewards_std,\n",
    "                  episode_steps, episode_time,\n",
    "                  epsilon):\n",
    "    time_ma = np.mean([episode_time[-100:]])\n",
    "    T = np.sum(episode_time)\n",
    "\n",
    "    print('{:>4d} | Reward: {:>5.0f} | MA: {:>5.0f} | '\n",
    "          'Steps: {:>4d} Time: {:>5.2f} | MA: {:>5.2f} | Total: {} | '\n",
    "          'eps: {:>6.3f}'.format(episode,\n",
    "                                 episode_reward,\n",
    "                                 rewards_ma,\n",
    "                                 episode_steps[-1],\n",
    "                                 episode_time[-1],\n",
    "                                 time_ma,\n",
    "                                 format_time(T),\n",
    "                                 epsilon))"
   ]
  },
  {
   "cell_type": "markdown",
   "metadata": {},
   "source": [
    "### Enable virtual display to run from docker container"
   ]
  },
  {
   "cell_type": "markdown",
   "metadata": {},
   "source": [
    "This is only required if you run this on server that does not have a display."
   ]
  },
  {
   "cell_type": "code",
   "execution_count": 4,
   "metadata": {},
   "outputs": [
    {
     "data": {
      "text/plain": [
       "<Display cmd_param=['Xvfb', '-br', '-nolisten', 'tcp', '-screen', '0', '1400x900x24', ':1017'] cmd=['Xvfb', '-br', '-nolisten', 'tcp', '-screen', '0', '1400x900x24', ':1017'] oserror=None return_code=None stdout=\"None\" stderr=\"None\" timeout_happened=False>"
      ]
     },
     "execution_count": 4,
     "metadata": {},
     "output_type": "execute_result"
    }
   ],
   "source": [
    "from pyvirtualdisplay import Display\n",
    "virtual_display = Display(visible=0, size=(1400, 900))\n",
    "virtual_display.start()"
   ]
  },
  {
   "cell_type": "markdown",
   "metadata": {},
   "source": [
    "## Set up Gym Environment"
   ]
  },
  {
   "cell_type": "markdown",
   "metadata": {},
   "source": [
    "We will begin by instantiating and extracting key parameters from the LL environment:"
   ]
  },
  {
   "cell_type": "code",
   "execution_count": 5,
   "metadata": {},
   "outputs": [
    {
     "data": {
      "text/plain": [
       "[42]"
      ]
     },
     "execution_count": 5,
     "metadata": {},
     "output_type": "execute_result"
    }
   ],
   "source": [
    "env = gym.make('LunarLander-v2')\n",
    "state_dim = env.observation_space.shape[0]  # number of dimensions in state\n",
    "n_actions = env.action_space.n  # number of actions\n",
    "max_episode_steps = env.spec.max_episode_steps  # max number of steps per episode\n",
    "env.seed(42)"
   ]
  },
  {
   "cell_type": "markdown",
   "metadata": {},
   "source": [
    "### Define hyperparameters"
   ]
  },
  {
   "cell_type": "markdown",
   "metadata": {},
   "source": [
    "The agent's performance is quite sensitive to several hyperparameters. We will start with the discount and learning rates:"
   ]
  },
  {
   "cell_type": "code",
   "execution_count": null,
   "metadata": {},
   "outputs": [],
   "source": [
    "gamma=.99,  # discount factor\n",
    "learning_rate=5e-5  # learning rate"
   ]
  },
  {
   "cell_type": "markdown",
   "metadata": {},
   "source": [
    "We will update the target network every 100 time steps, store up to 1 m past episodes in the replay memory, and sample mini-batches of 1,024 from memory to train the agent:"
   ]
  },
  {
   "cell_type": "code",
   "execution_count": 14,
   "metadata": {},
   "outputs": [],
   "source": [
    "tau=100  # target network update frequency\n",
    "replay_capacity=int(1e6)\n",
    "minibatch_size=1024"
   ]
  },
  {
   "cell_type": "markdown",
   "metadata": {},
   "source": [
    "The ε-greedy policy starts with pure exploration at ε=1, linear decay to 0.05 over 20,000 time steps, and exponential decay thereafter:"
   ]
  },
  {
   "cell_type": "code",
   "execution_count": null,
   "metadata": {},
   "outputs": [],
   "source": [
    "epsilon_start=1.0\n",
    "epsilon_end=0.05\n",
    "epsilon_linear_steps=2e4\n",
    "epsilon_exp_decay=0.99"
   ]
  },
  {
   "cell_type": "code",
   "execution_count": 6,
   "metadata": {},
   "outputs": [],
   "source": [
    "\n",
    "layers=(256,) * 3  # units per layer\n",
    "\n",
    "l2_reg=1e-6  # L2 regularization\n",
    "\n",
    "\n",
    "\n",
    "video_freq=50"
   ]
  },
  {
   "cell_type": "markdown",
   "metadata": {},
   "source": [
    "## Create Neural Network"
   ]
  },
  {
   "cell_type": "markdown",
   "metadata": {},
   "source": [
    "We will use [TensorFlow](https://www.tensorflow.org/) to create our Double Deep Q-Network ."
   ]
  },
  {
   "cell_type": "code",
   "execution_count": null,
   "metadata": {},
   "outputs": [],
   "source": [
    "tf.reset_default_graph()"
   ]
  },
  {
   "cell_type": "markdown",
   "metadata": {},
   "source": [
    "### Dense Layers"
   ]
  },
  {
   "cell_type": "markdown",
   "metadata": {},
   "source": [
    "The `create_network` function generates the three dense layers that can be trained and/or reused as required by the Q network and its slower-moving target network:"
   ]
  },
  {
   "cell_type": "code",
   "execution_count": 7,
   "metadata": {},
   "outputs": [],
   "source": [
    "def create_network(s, layers, trainable, reuse, n_actions=4):\n",
    "    \"\"\"Generate Q and target network with same structure\"\"\"\n",
    "    for layer, units in enumerate(layers):\n",
    "        x = tf.layers.dense(inputs=s if layer == 0 else x,\n",
    "                            units=units,\n",
    "                            activation=tf.nn.relu,\n",
    "                            trainable=trainable,\n",
    "                            reuse=reuse,\n",
    "                            name='dense_{}'.format(layer))\n",
    "    return tf.squeeze(tf.layers.dense(inputs=x,\n",
    "                                      units=n_actions,\n",
    "                                      trainable=trainable,\n",
    "                                      reuse=reuse,\n",
    "                                      name='output'))"
   ]
  },
  {
   "cell_type": "markdown",
   "metadata": {},
   "source": [
    "### Placeholders"
   ]
  },
  {
   "cell_type": "markdown",
   "metadata": {},
   "source": [
    "Key elements of the DDQN's computational graph include placeholder variables for the state, action, and reward sequences:"
   ]
  },
  {
   "cell_type": "code",
   "execution_count": 8,
   "metadata": {},
   "outputs": [],
   "source": [
    "state = tf.placeholder(dtype=tf.float32, shape=[None, state_dim])  # input to Q network\n",
    "next_state = tf.placeholder(dtype=tf.float32, shape=[None, state_dim])  # input to target network\n",
    "action = tf.placeholder(dtype=tf.int32, shape=[None])  # action indices (indices of Q network output)\n",
    "reward = tf.placeholder(dtype=tf.float32, shape=[None])  # rewards for target computation\n",
    "not_done = tf.placeholder(dtype=tf.float32, shape=[None])  # indicators for target computation"
   ]
  },
  {
   "cell_type": "markdown",
   "metadata": {},
   "source": [
    "### Episode Counter"
   ]
  },
  {
   "cell_type": "markdown",
   "metadata": {},
   "source": [
    "We add a variable to keep track of episodes:"
   ]
  },
  {
   "cell_type": "code",
   "execution_count": null,
   "metadata": {},
   "outputs": [],
   "source": [
    "episode_count = tf.Variable(0.0, trainable=False, name='episode_count')\n",
    "add_episode = episode_count.assign_add(1)"
   ]
  },
  {
   "cell_type": "markdown",
   "metadata": {},
   "source": [
    "### Deep Q Networks"
   ]
  },
  {
   "cell_type": "markdown",
   "metadata": {},
   "source": [
    "We will create two DQNs to predict q values for the current and next state, where we hold the weights for the second network that's fixed when predicting the next state:"
   ]
  },
  {
   "cell_type": "code",
   "execution_count": null,
   "metadata": {},
   "outputs": [],
   "source": [
    "with tf.variable_scope('Q_Network'):\n",
    "    # Q network applied to current observation\n",
    "    q_action_values = create_network(state,\n",
    "                                     layers=layers,\n",
    "                                     trainable=True,\n",
    "                                     reuse=False)\n",
    "\n",
    "    # Q network applied to next_observation\n",
    "    next_q_action_values = tf.stop_gradient(create_network(next_state,\n",
    "                                                           layers=layers,\n",
    "                                                           trainable=False,\n",
    "                                                           reuse=True))"
   ]
  },
  {
   "cell_type": "markdown",
   "metadata": {},
   "source": [
    "### Slow-Moving Target Network"
   ]
  },
  {
   "cell_type": "markdown",
   "metadata": {},
   "source": [
    "In addition, we will create the target network that we update every tau periods:"
   ]
  },
  {
   "cell_type": "code",
   "execution_count": null,
   "metadata": {},
   "outputs": [],
   "source": [
    "with tf.variable_scope('Target_Network', reuse=False):\n",
    "    target_action_values = tf.stop_gradient(create_network(next_state,\n",
    "                                                           layers=layers,\n",
    "                                                           trainable=False,\n",
    "                                                           reuse=False))"
   ]
  },
  {
   "cell_type": "markdown",
   "metadata": {},
   "source": [
    "### Collect Variables and Operations"
   ]
  },
  {
   "cell_type": "markdown",
   "metadata": {},
   "source": [
    "To build TensorFlow's computational graph, we need to collect the relevant variables and operations:"
   ]
  },
  {
   "cell_type": "code",
   "execution_count": null,
   "metadata": {},
   "outputs": [],
   "source": [
    "q_network_variables = tf.get_collection(tf.GraphKeys.TRAINABLE_VARIABLES, scope='Q_Network')\n",
    "target_network_variables = tf.get_collection(tf.GraphKeys.GLOBAL_VARIABLES, scope='Target_Network')\n",
    "\n",
    "# update target network weights\n",
    "update_target_ops = []\n",
    "for i, target_variable in enumerate(target_network_variables):\n",
    "    update_target_op = target_variable.assign(q_network_variables[i])\n",
    "    update_target_ops.append(update_target_op)\n",
    "update_target_op = tf.group(*update_target_ops, name='update_target')"
   ]
  },
  {
   "cell_type": "markdown",
   "metadata": {},
   "source": [
    "### Compute Q-Learning updates"
   ]
  },
  {
   "cell_type": "markdown",
   "metadata": {},
   "source": [
    "The target, yi, and the predicted q value is computed as follows:"
   ]
  },
  {
   "cell_type": "code",
   "execution_count": null,
   "metadata": {},
   "outputs": [],
   "source": [
    "# Q target calculation \n",
    "targets = reward + not_done * gamma * tf.gather_nd(target_action_values, tf.stack(\n",
    "                (tf.range(minibatch_size), tf.cast(tf.argmax(next_q_action_values, axis=1), tf.int32)), axis=1))\n",
    "\n",
    "\n",
    "# Estimated Q values for (s,a) from experience replay\n",
    "predicted_q_value = tf.gather_nd(q_action_values,\n",
    "                                 tf.stack((tf.range(minibatch_size),\n",
    "                                           action), axis=1))"
   ]
  },
  {
   "cell_type": "markdown",
   "metadata": {},
   "source": [
    "### Compute Loss Function"
   ]
  },
  {
   "cell_type": "markdown",
   "metadata": {},
   "source": [
    "Finally, the TD loss function that's used for stochastic gradient descent is the mean squared error (MSE) between the target and prediction:"
   ]
  },
  {
   "cell_type": "code",
   "execution_count": null,
   "metadata": {},
   "outputs": [],
   "source": [
    "losses = tf.squared_difference(targets, predicted_q_value)\n",
    "loss = tf.reduce_mean(losses)\n",
    "loss += tf.add_n([tf.nn.l2_loss(var) for var in q_network_variables if 'bias' not in var.name]) * l2_reg * 0.5"
   ]
  },
  {
   "cell_type": "markdown",
   "metadata": {},
   "source": [
    "### Tensorboard summaries"
   ]
  },
  {
   "cell_type": "markdown",
   "metadata": {},
   "source": [
    "To view results in [tensorboard](https://www.tensorflow.org/guide/summaries_and_tensorboard), we need to define summaries:"
   ]
  },
  {
   "cell_type": "code",
   "execution_count": null,
   "metadata": {},
   "outputs": [],
   "source": [
    "summaries = tf.summary.merge([\n",
    "    tf.summary.scalar('episode', episode_count),\n",
    "    tf.summary.scalar('loss', loss),\n",
    "    tf.summary.scalar('max_q_value', tf.reduce_max(predicted_q_value)),\n",
    "    tf.summary.histogram('loss_hist', losses),\n",
    "    tf.summary.histogram('q_values', predicted_q_value)])"
   ]
  },
  {
   "cell_type": "markdown",
   "metadata": {},
   "source": [
    "### Set optimizer"
   ]
  },
  {
   "cell_type": "markdown",
   "metadata": {},
   "source": [
    "We'll use the [AdamOptimizer](https://www.tensorflow.org/api_docs/python/tf/train/AdamOptimizer):"
   ]
  },
  {
   "cell_type": "code",
   "execution_count": null,
   "metadata": {},
   "outputs": [],
   "source": [
    "train_op = tf.train.AdamOptimizer(learning_rate).minimize(loss,\n",
    "                                                          global_step=tf.train.create_global_step())"
   ]
  },
  {
   "cell_type": "markdown",
   "metadata": {},
   "source": [
    "### Initialize TensorFlow session"
   ]
  },
  {
   "cell_type": "code",
   "execution_count": 9,
   "metadata": {},
   "outputs": [
    {
     "name": "stdout",
     "output_type": "stream",
     "text": [
      "WARNING:tensorflow:From /home/stefan/.pyenv/versions/miniconda3-latest/envs/ml4t/lib/python3.6/site-packages/tensorflow/python/framework/op_def_library.py:263: colocate_with (from tensorflow.python.framework.ops) is deprecated and will be removed in a future version.\n",
      "Instructions for updating:\n",
      "Colocations handled automatically by placer.\n",
      "WARNING:tensorflow:From <ipython-input-7-178a7f73e60f>:9: dense (from tensorflow.python.layers.core) is deprecated and will be removed in a future version.\n",
      "Instructions for updating:\n",
      "Use keras.layers.dense instead.\n",
      "WARNING:tensorflow:From /home/stefan/.pyenv/versions/miniconda3-latest/envs/ml4t/lib/python3.6/site-packages/tensorflow/python/ops/math_ops.py:3066: to_int32 (from tensorflow.python.ops.math_ops) is deprecated and will be removed in a future version.\n",
      "Instructions for updating:\n",
      "Use tf.cast instead.\n"
     ]
    }
   ],
   "source": [
    "sess = tf.Session()\n",
    "sess.run(tf.global_variables_initializer())"
   ]
  },
  {
   "cell_type": "markdown",
   "metadata": {},
   "source": [
    "## Run Experiment"
   ]
  },
  {
   "cell_type": "markdown",
   "metadata": {},
   "source": [
    "### Set parameters"
   ]
  },
  {
   "cell_type": "code",
   "execution_count": 10,
   "metadata": {},
   "outputs": [],
   "source": [
    "experiment = 1\n",
    "train = True\n",
    "total_steps, max_episodes = 0, 1000"
   ]
  },
  {
   "cell_type": "markdown",
   "metadata": {},
   "source": [
    "### Initialize variables"
   ]
  },
  {
   "cell_type": "code",
   "execution_count": 16,
   "metadata": {},
   "outputs": [],
   "source": [
    "experience = deque(maxlen=replay_capacity)\n",
    "episode_time, episode_steps, episode_rewards, episode_eps = [], [], [], []"
   ]
  },
  {
   "cell_type": "code",
   "execution_count": 14,
   "metadata": {},
   "outputs": [],
   "source": [
    "epsilon = epsilon_start\n",
    "epsilon_linear_step = (epsilon_start - epsilon_end) / epsilon_linear_steps"
   ]
  },
  {
   "cell_type": "markdown",
   "metadata": {},
   "source": [
    "### Set up directories"
   ]
  },
  {
   "cell_type": "code",
   "execution_count": 17,
   "metadata": {},
   "outputs": [],
   "source": [
    "experiment_dir = Path('results')\n",
    "monitor_path = experiment_dir / 'monitor'\n",
    "checkpoint_dir = experiment_dir / 'checkpoints'\n",
    "checkpoint_path = checkpoint_dir / 'model'\n",
    "\n",
    "for path in [checkpoint_path, monitor_path]:\n",
    "    if not path.exists():\n",
    "        path.mkdir(exist_ok=True, parents=True)"
   ]
  },
  {
   "cell_type": "markdown",
   "metadata": {},
   "source": [
    "### Set up Tensorflow Logging"
   ]
  },
  {
   "cell_type": "code",
   "execution_count": 12,
   "metadata": {},
   "outputs": [],
   "source": [
    "log_path = experiment_dir / 'tensorboard'\n",
    "summary_writer = tf.summary.FileWriter(logdir=log_path / 'experiment_{}'.format(experiment))\n",
    "\n",
    "saver = tf.train.Saver()\n",
    "if not train:\n",
    "    latest_checkpoint = tf.train.latest_checkpoint(checkpoint_dir.as_posix())\n",
    "    if latest_checkpoint:\n",
    "        saver.restore(sess, latest_checkpoint)"
   ]
  },
  {
   "cell_type": "markdown",
   "metadata": {},
   "source": [
    "### Set up Gym Monitoring"
   ]
  },
  {
   "cell_type": "markdown",
   "metadata": {},
   "source": [
    "We will also use the built-in wrappers that permit the periodic storing of videos that display the agent's performance:"
   ]
  },
  {
   "cell_type": "code",
   "execution_count": null,
   "metadata": {},
   "outputs": [],
   "source": [
    "env = wrappers.Monitor(env,\n",
    "                       directory=monitor_path.as_posix(),\n",
    "                       video_callable=lambda count: count % video_freq == 0,\n",
    "                      force=True)"
   ]
  },
  {
   "cell_type": "markdown",
   "metadata": {},
   "source": [
    "### Run Training Loop"
   ]
  },
  {
   "cell_type": "code",
   "execution_count": 15,
   "metadata": {
    "scrolled": false
   },
   "outputs": [
    {
     "name": "stderr",
     "output_type": "stream",
     "text": [
      "/usr/local/lib/python3.5/dist-packages/numpy/core/fromnumeric.py:3118: RuntimeWarning: Mean of empty slice.\n",
      "  out=out, **kwargs)\n",
      "/usr/local/lib/python3.5/dist-packages/numpy/core/_methods.py:85: RuntimeWarning: invalid value encountered in double_scalars\n",
      "  ret = ret.dtype.type(ret / rcount)\n"
     ]
    },
    {
     "name": "stdout",
     "output_type": "stream",
     "text": [
      "   0 | Reward:  -192 | MA:  -192 | Steps:  106 Time:  1.28 | MA:  1.28 | Total: 00:01.28 | eps:  0.995\n",
      "   1 | Reward:  -194 | MA:  -193 | Steps:   92 Time:  0.03 | MA:  0.65 | Total: 00:01.31 | eps:  0.991\n",
      "   2 | Reward:  -163 | MA:  -183 | Steps:  121 Time:  0.13 | MA:  0.48 | Total: 00:01.44 | eps:  0.985\n",
      "   3 | Reward:  -126 | MA:  -169 | Steps:   92 Time:  0.01 | MA:  0.36 | Total: 00:01.45 | eps:  0.980\n",
      "   4 | Reward:  -176 | MA:  -170 | Steps:  100 Time:  0.01 | MA:  0.29 | Total: 00:01.46 | eps:  0.975\n",
      "   5 | Reward:  -208 | MA:  -176 | Steps:   87 Time:  0.01 | MA:  0.25 | Total: 00:01.47 | eps:  0.971\n",
      "   6 | Reward:  -295 | MA:  -193 | Steps:  119 Time:  0.02 | MA:  0.21 | Total: 00:01.49 | eps:  0.966\n",
      "   7 | Reward:  -140 | MA:  -187 | Steps:   94 Time:  0.01 | MA:  0.19 | Total: 00:01.50 | eps:  0.961\n",
      "   8 | Reward:  -112 | MA:  -178 | Steps:   70 Time:  0.01 | MA:  0.17 | Total: 00:01.51 | eps:  0.958\n",
      "   9 | Reward:  -395 | MA:  -200 | Steps:  122 Time:  0.02 | MA:  0.15 | Total: 00:01.53 | eps:  0.952\n",
      "  10 | Reward:  -116 | MA:  -192 | Steps:   63 Time:  0.25 | MA:  0.16 | Total: 00:01.78 | eps:  0.949\n",
      "  11 | Reward:   -63 | MA:  -181 | Steps:   73 Time:  0.26 | MA:  0.17 | Total: 00:02.04 | eps:  0.945\n",
      "  12 | Reward:  -256 | MA:  -187 | Steps:  142 Time:  0.39 | MA:  0.19 | Total: 00:02.43 | eps:  0.939\n",
      "  13 | Reward:  -372 | MA:  -200 | Steps:   89 Time:  0.24 | MA:  0.19 | Total: 00:02.67 | eps:  0.934\n",
      "  14 | Reward:  -163 | MA:  -198 | Steps:   87 Time:  0.29 | MA:  0.20 | Total: 00:02.96 | eps:  0.930\n",
      "  15 | Reward:  -224 | MA:  -200 | Steps:  104 Time:  0.29 | MA:  0.20 | Total: 00:03.25 | eps:  0.925\n",
      "  16 | Reward:  -195 | MA:  -199 | Steps:  130 Time:  0.37 | MA:  0.21 | Total: 00:03.62 | eps:  0.919\n",
      "  17 | Reward:  -239 | MA:  -202 | Steps:  101 Time:  0.28 | MA:  0.22 | Total: 00:03.90 | eps:  0.914\n",
      "  18 | Reward:  -197 | MA:  -201 | Steps:   82 Time:  0.27 | MA:  0.22 | Total: 00:04.17 | eps:  0.910\n",
      "  19 | Reward:  -283 | MA:  -205 | Steps:   89 Time:  0.25 | MA:  0.22 | Total: 00:04.42 | eps:  0.906\n",
      "  20 | Reward:  -137 | MA:  -202 | Steps:   84 Time:  0.23 | MA:  0.22 | Total: 00:04.65 | eps:  0.902\n",
      "  21 | Reward:   -71 | MA:  -196 | Steps:  135 Time:  0.37 | MA:  0.23 | Total: 00:05.03 | eps:  0.895\n",
      "  22 | Reward:  -137 | MA:  -194 | Steps:   94 Time:  0.31 | MA:  0.23 | Total: 00:05.34 | eps:  0.891\n",
      "  23 | Reward:    20 | MA:  -185 | Steps:  121 Time:  0.37 | MA:  0.24 | Total: 00:05.71 | eps:  0.885\n",
      "  24 | Reward:  -108 | MA:  -182 | Steps:   75 Time:  0.25 | MA:  0.24 | Total: 00:05.96 | eps:  0.881\n",
      "  25 | Reward:  -325 | MA:  -187 | Steps:   72 Time:  0.20 | MA:  0.24 | Total: 00:06.16 | eps:  0.878\n",
      "  26 | Reward:   -45 | MA:  -182 | Steps:   68 Time:  0.19 | MA:  0.24 | Total: 00:06.35 | eps:  0.875\n",
      "  27 | Reward:  -305 | MA:  -186 | Steps:  105 Time:  0.34 | MA:  0.24 | Total: 00:06.69 | eps:  0.870\n",
      "  28 | Reward:  -170 | MA:  -186 | Steps:  123 Time:  0.35 | MA:  0.24 | Total: 00:07.04 | eps:  0.864\n",
      "  29 | Reward:  -137 | MA:  -184 | Steps:   78 Time:  0.22 | MA:  0.24 | Total: 00:07.26 | eps:  0.860\n",
      "  30 | Reward:  -107 | MA:  -182 | Steps:  111 Time:  0.36 | MA:  0.25 | Total: 00:07.62 | eps:  0.855\n",
      "  31 | Reward:  -312 | MA:  -186 | Steps:   92 Time:  0.26 | MA:  0.25 | Total: 00:07.88 | eps:  0.850\n",
      "  32 | Reward:  -121 | MA:  -184 | Steps:   77 Time:  0.22 | MA:  0.25 | Total: 00:08.10 | eps:  0.847\n",
      "  33 | Reward:  -147 | MA:  -183 | Steps:   75 Time:  0.22 | MA:  0.24 | Total: 00:08.32 | eps:  0.843\n",
      "  34 | Reward:   -25 | MA:  -178 | Steps:   77 Time:  0.22 | MA:  0.24 | Total: 00:08.54 | eps:  0.839\n",
      "  35 | Reward:   -83 | MA:  -175 | Steps:   87 Time:  0.30 | MA:  0.25 | Total: 00:08.84 | eps:  0.835\n",
      "  36 | Reward:  -138 | MA:  -174 | Steps:   86 Time:  0.25 | MA:  0.25 | Total: 00:09.09 | eps:  0.831\n",
      "  37 | Reward:  -135 | MA:  -173 | Steps:  107 Time:  0.30 | MA:  0.25 | Total: 00:09.39 | eps:  0.826\n",
      "  38 | Reward:  -222 | MA:  -175 | Steps:  112 Time:  0.32 | MA:  0.25 | Total: 00:09.71 | eps:  0.820\n",
      "  39 | Reward:  -136 | MA:  -174 | Steps:  108 Time:  0.35 | MA:  0.25 | Total: 00:10.06 | eps:  0.815\n",
      "  40 | Reward:  -109 | MA:  -172 | Steps:   64 Time:  0.18 | MA:  0.25 | Total: 00:10.24 | eps:  0.812\n",
      "  41 | Reward:  -113 | MA:  -171 | Steps:   78 Time:  0.22 | MA:  0.25 | Total: 00:10.46 | eps:  0.808\n",
      "  42 | Reward:  -151 | MA:  -170 | Steps:  112 Time:  0.33 | MA:  0.25 | Total: 00:10.79 | eps:  0.803\n",
      "  43 | Reward:   -62 | MA:  -168 | Steps:  100 Time:  0.35 | MA:  0.25 | Total: 00:11.14 | eps:  0.798\n",
      "  44 | Reward:  -186 | MA:  -168 | Steps:  108 Time:  0.33 | MA:  0.25 | Total: 00:11.47 | eps:  0.793\n",
      "  45 | Reward:   -83 | MA:  -166 | Steps:  115 Time:  0.35 | MA:  0.26 | Total: 00:11.83 | eps:  0.788\n",
      "  46 | Reward:  -178 | MA:  -167 | Steps:  118 Time:  0.36 | MA:  0.26 | Total: 00:12.19 | eps:  0.782\n",
      "  47 | Reward:  -103 | MA:  -165 | Steps:  111 Time:  0.38 | MA:  0.26 | Total: 00:12.57 | eps:  0.777\n",
      "  48 | Reward:   -62 | MA:  -163 | Steps:   78 Time:  0.24 | MA:  0.26 | Total: 00:12.81 | eps:  0.773\n",
      "  49 | Reward:    -6 | MA:  -160 | Steps:  159 Time:  0.49 | MA:  0.27 | Total: 00:13.30 | eps:  0.765\n",
      "  50 | Reward:   -44 | MA:  -158 | Steps:  109 Time:  1.19 | MA:  0.28 | Total: 00:14.49 | eps:  0.760\n",
      "  51 | Reward:   -44 | MA:  -156 | Steps:   79 Time:  0.27 | MA:  0.28 | Total: 00:14.76 | eps:  0.756\n",
      "  52 | Reward:   -64 | MA:  -154 | Steps:   60 Time:  0.18 | MA:  0.28 | Total: 00:14.94 | eps:  0.753\n",
      "  53 | Reward:   -62 | MA:  -152 | Steps:  110 Time:  0.34 | MA:  0.28 | Total: 00:15.28 | eps:  0.748\n",
      "  54 | Reward:   -89 | MA:  -151 | Steps:  135 Time:  0.46 | MA:  0.29 | Total: 00:15.74 | eps:  0.742\n",
      "  55 | Reward:  -160 | MA:  -151 | Steps:   90 Time:  0.28 | MA:  0.29 | Total: 00:16.01 | eps:  0.737\n",
      "  56 | Reward:   -72 | MA:  -150 | Steps:  140 Time:  0.43 | MA:  0.29 | Total: 00:16.44 | eps:  0.731\n",
      "  57 | Reward:   -88 | MA:  -149 | Steps:   88 Time:  0.27 | MA:  0.29 | Total: 00:16.71 | eps:  0.726\n",
      "  58 | Reward:   -41 | MA:  -147 | Steps:   94 Time:  0.34 | MA:  0.29 | Total: 00:17.05 | eps:  0.722\n",
      "  59 | Reward:   -55 | MA:  -145 | Steps:   70 Time:  0.22 | MA:  0.29 | Total: 00:17.27 | eps:  0.718\n",
      "  60 | Reward:   -85 | MA:  -144 | Steps:  110 Time:  0.34 | MA:  0.29 | Total: 00:17.61 | eps:  0.713\n",
      "  61 | Reward:   -54 | MA:  -143 | Steps:   81 Time:  0.25 | MA:  0.29 | Total: 00:17.86 | eps:  0.709\n",
      "  62 | Reward:    16 | MA:  -140 | Steps:  158 Time:  0.54 | MA:  0.29 | Total: 00:18.40 | eps:  0.702\n",
      "  63 | Reward:  -113 | MA:  -140 | Steps:   92 Time:  0.28 | MA:  0.29 | Total: 00:18.68 | eps:  0.697\n",
      "  64 | Reward:  -114 | MA:  -140 | Steps:  102 Time:  0.32 | MA:  0.29 | Total: 00:19.00 | eps:  0.692\n",
      "  65 | Reward:  -216 | MA:  -141 | Steps:  101 Time:  0.32 | MA:  0.29 | Total: 00:19.32 | eps:  0.688\n",
      "  66 | Reward:   -42 | MA:  -139 | Steps:   87 Time:  0.32 | MA:  0.29 | Total: 00:19.64 | eps:  0.683\n",
      "  67 | Reward:   -55 | MA:  -138 | Steps:   92 Time:  0.28 | MA:  0.29 | Total: 00:19.92 | eps:  0.679\n",
      "  68 | Reward:  -196 | MA:  -139 | Steps:  123 Time:  0.38 | MA:  0.29 | Total: 00:20.30 | eps:  0.673\n",
      "  69 | Reward:   -24 | MA:  -137 | Steps:  142 Time:  0.49 | MA:  0.30 | Total: 00:20.79 | eps:  0.666\n",
      "  70 | Reward:   -31 | MA:  -136 | Steps:  125 Time:  0.39 | MA:  0.30 | Total: 00:21.17 | eps:  0.660\n",
      "  71 | Reward:    21 | MA:  -134 | Steps:  169 Time:  0.52 | MA:  0.30 | Total: 00:21.70 | eps:  0.652\n",
      "  72 | Reward:   -71 | MA:  -133 | Steps:   99 Time:  0.36 | MA:  0.30 | Total: 00:22.06 | eps:  0.647\n",
      "  73 | Reward:   -24 | MA:  -131 | Steps:   66 Time:  0.20 | MA:  0.30 | Total: 00:22.26 | eps:  0.644\n",
      "  74 | Reward:   -15 | MA:  -130 | Steps:  144 Time:  0.45 | MA:  0.30 | Total: 00:22.71 | eps:  0.637\n",
      "  75 | Reward:   -12 | MA:  -128 | Steps:  144 Time:  0.45 | MA:  0.30 | Total: 00:23.15 | eps:  0.630\n",
      "  76 | Reward:  -117 | MA:  -128 | Steps:  167 Time:  0.58 | MA:  0.31 | Total: 00:23.73 | eps:  0.623\n",
      "  77 | Reward:   -31 | MA:  -127 | Steps:   99 Time:  0.31 | MA:  0.31 | Total: 00:24.04 | eps:  0.618\n",
      "  78 | Reward:  -191 | MA:  -128 | Steps:  203 Time:  0.69 | MA:  0.31 | Total: 00:24.73 | eps:  0.608\n",
      "  79 | Reward:   -44 | MA:  -126 | Steps:  120 Time:  0.38 | MA:  0.31 | Total: 00:25.11 | eps:  0.602\n"
     ]
    },
    {
     "name": "stdout",
     "output_type": "stream",
     "text": [
      "  80 | Reward:   -75 | MA:  -126 | Steps:  138 Time:  0.45 | MA:  0.32 | Total: 00:25.56 | eps:  0.596\n",
      "  81 | Reward:   -51 | MA:  -125 | Steps:  133 Time:  0.48 | MA:  0.32 | Total: 00:26.04 | eps:  0.589\n",
      "  82 | Reward:   -55 | MA:  -124 | Steps:  106 Time:  0.34 | MA:  0.32 | Total: 00:26.38 | eps:  0.584\n",
      "  83 | Reward:   -20 | MA:  -123 | Steps:  103 Time:  0.34 | MA:  0.32 | Total: 00:26.72 | eps:  0.579\n",
      "  84 | Reward:  -113 | MA:  -123 | Steps:  156 Time:  0.55 | MA:  0.32 | Total: 00:27.28 | eps:  0.572\n",
      "  85 | Reward:   -36 | MA:  -122 | Steps:  122 Time:  0.40 | MA:  0.32 | Total: 00:27.68 | eps:  0.566\n",
      "  86 | Reward:    -4 | MA:  -120 | Steps:  155 Time:  0.51 | MA:  0.32 | Total: 00:28.19 | eps:  0.559\n",
      "  87 | Reward:   -40 | MA:  -119 | Steps:  111 Time:  0.41 | MA:  0.33 | Total: 00:28.60 | eps:  0.553\n",
      "  88 | Reward:   -40 | MA:  -119 | Steps:  162 Time:  0.54 | MA:  0.33 | Total: 00:29.14 | eps:  0.546\n",
      "  89 | Reward:   -10 | MA:  -117 | Steps:  176 Time:  0.58 | MA:  0.33 | Total: 00:29.72 | eps:  0.537\n",
      "  90 | Reward:    -5 | MA:  -116 | Steps:  188 Time:  0.67 | MA:  0.33 | Total: 00:30.39 | eps:  0.528\n",
      "  91 | Reward:   -70 | MA:  -116 | Steps:  141 Time:  0.46 | MA:  0.34 | Total: 00:30.85 | eps:  0.521\n",
      "  92 | Reward:   -30 | MA:  -115 | Steps:  295 Time:  1.07 | MA:  0.34 | Total: 00:31.92 | eps:  0.507\n",
      "  93 | Reward:  -175 | MA:  -115 | Steps:  199 Time:  0.67 | MA:  0.35 | Total: 00:32.59 | eps:  0.498\n",
      "  94 | Reward:  -127 | MA:  -115 | Steps:  181 Time:  0.66 | MA:  0.35 | Total: 00:33.25 | eps:  0.489\n",
      "  95 | Reward:    13 | MA:  -114 | Steps:  146 Time:  0.49 | MA:  0.35 | Total: 00:33.75 | eps:  0.482\n",
      "  96 | Reward:     3 | MA:  -113 | Steps:  142 Time:  0.52 | MA:  0.35 | Total: 00:34.27 | eps:  0.475\n",
      "  97 | Reward:   -60 | MA:  -112 | Steps:  144 Time:  0.49 | MA:  0.35 | Total: 00:34.76 | eps:  0.469\n",
      "  98 | Reward:   -20 | MA:  -111 | Steps:  128 Time:  0.43 | MA:  0.36 | Total: 00:35.19 | eps:  0.462\n",
      "  99 | Reward:   -71 | MA:  -111 | Steps:  309 Time:  1.12 | MA:  0.36 | Total: 00:36.31 | eps:  0.448\n",
      " 100 | Reward:    31 | MA:  -109 | Steps:  188 Time:  1.94 | MA:  0.37 | Total: 00:38.25 | eps:  0.439\n",
      " 101 | Reward:  -189 | MA:  -109 | Steps:  195 Time:  0.69 | MA:  0.38 | Total: 00:38.94 | eps:  0.429\n",
      " 102 | Reward:   -15 | MA:  -107 | Steps:   96 Time:  0.33 | MA:  0.38 | Total: 00:39.27 | eps:  0.425\n",
      " 103 | Reward:   -12 | MA:  -106 | Steps:  116 Time:  0.45 | MA:  0.38 | Total: 00:39.73 | eps:  0.419\n",
      " 104 | Reward:  -183 | MA:  -106 | Steps:  253 Time:  0.88 | MA:  0.39 | Total: 00:40.60 | eps:  0.407\n",
      " 105 | Reward:    19 | MA:  -104 | Steps:  999 Time:  4.12 | MA:  0.43 | Total: 00:44.72 | eps:  0.360\n",
      " 106 | Reward:   -81 | MA:  -102 | Steps:  178 Time:  0.63 | MA:  0.44 | Total: 00:45.35 | eps:  0.351\n",
      " 107 | Reward:  -116 | MA:  -102 | Steps:  453 Time:  1.81 | MA:  0.46 | Total: 00:47.16 | eps:  0.330\n",
      " 108 | Reward:   129 | MA:   -99 | Steps:  999 Time:  4.19 | MA:  0.50 | Total: 00:51.35 | eps:  0.282\n",
      " 109 | Reward:  -105 | MA:   -96 | Steps:  282 Time:  1.03 | MA:  0.51 | Total: 00:52.37 | eps:  0.269\n",
      " 110 | Reward:  -181 | MA:   -97 | Steps:  612 Time:  2.42 | MA:  0.53 | Total: 00:54.80 | eps:  0.240\n",
      " 111 | Reward:   177 | MA:   -95 | Steps:  320 Time:  1.23 | MA:  0.54 | Total: 00:56.03 | eps:  0.224\n",
      " 112 | Reward:   -79 | MA:   -93 | Steps:  999 Time:  4.16 | MA:  0.58 | Total: 01:00.19 | eps:  0.177\n",
      " 113 | Reward:   -99 | MA:   -90 | Steps:  999 Time:  4.40 | MA:  0.62 | Total: 01:04.58 | eps:  0.129\n",
      " 114 | Reward:   -43 | MA:   -89 | Steps:  999 Time:  4.33 | MA:  0.66 | Total: 01:08.91 | eps:  0.082\n",
      " 115 | Reward:   -35 | MA:   -87 | Steps:  999 Time:  4.63 | MA:  0.70 | Total: 01:13.54 | eps:  0.050\n",
      " 116 | Reward:   -23 | MA:   -85 | Steps:  999 Time:  4.64 | MA:  0.75 | Total: 01:18.18 | eps:  0.049\n",
      " 117 | Reward:   -41 | MA:   -83 | Steps:  999 Time:  4.72 | MA:  0.79 | Total: 01:22.90 | eps:  0.049\n",
      " 118 | Reward:   -75 | MA:   -82 | Steps:  999 Time:  4.66 | MA:  0.83 | Total: 01:27.56 | eps:  0.048\n",
      " 119 | Reward:   -25 | MA:   -79 | Steps:  999 Time:  4.82 | MA:  0.88 | Total: 01:32.38 | eps:  0.048\n",
      " 120 | Reward:   -44 | MA:   -79 | Steps:  999 Time:  5.12 | MA:  0.93 | Total: 01:37.51 | eps:  0.047\n",
      " 121 | Reward:   -37 | MA:   -78 | Steps:  999 Time:  5.00 | MA:  0.97 | Total: 01:42.51 | eps:  0.047\n",
      " 122 | Reward:    -0 | MA:   -77 | Steps:  278 Time:  1.15 | MA:  0.98 | Total: 01:43.66 | eps:  0.046\n",
      " 123 | Reward:    89 | MA:   -76 | Steps:  999 Time:  5.00 | MA:  1.03 | Total: 01:48.66 | eps:  0.046\n",
      " 124 | Reward:   -17 | MA:   -75 | Steps:  269 Time:  1.06 | MA:  1.04 | Total: 01:49.72 | eps:  0.045\n",
      " 125 | Reward:   161 | MA:   -70 | Steps:  999 Time:  4.44 | MA:  1.08 | Total: 01:54.16 | eps:  0.045\n",
      " 126 | Reward:    -9 | MA:   -70 | Steps:  341 Time:  1.43 | MA:  1.09 | Total: 01:55.58 | eps:  0.044\n",
      " 127 | Reward:   138 | MA:   -66 | Steps:  999 Time:  4.63 | MA:  1.14 | Total: 02:00.22 | eps:  0.044\n",
      " 128 | Reward:   113 | MA:   -63 | Steps:  999 Time:  4.63 | MA:  1.18 | Total: 02:04.85 | eps:  0.043\n",
      " 129 | Reward:   224 | MA:   -59 | Steps:  385 Time:  1.67 | MA:  1.19 | Total: 02:06.52 | eps:  0.043\n",
      " 130 | Reward:   -20 | MA:   -58 | Steps:  462 Time:  2.00 | MA:  1.21 | Total: 02:08.52 | eps:  0.043\n",
      " 131 | Reward:   205 | MA:   -53 | Steps:  389 Time:  1.64 | MA:  1.22 | Total: 02:10.16 | eps:  0.042\n",
      " 132 | Reward:   223 | MA:   -50 | Steps:  640 Time:  2.91 | MA:  1.25 | Total: 02:13.06 | eps:  0.042\n",
      " 133 | Reward:   -73 | MA:   -49 | Steps:  999 Time:  4.68 | MA:  1.29 | Total: 02:17.75 | eps:  0.041\n",
      " 134 | Reward:   -21 | MA:   -49 | Steps:  534 Time:  2.40 | MA:  1.32 | Total: 02:20.14 | eps:  0.041\n",
      " 135 | Reward:   -57 | MA:   -49 | Steps:  999 Time:  4.86 | MA:  1.36 | Total: 02:25.00 | eps:  0.041\n",
      " 136 | Reward:   225 | MA:   -45 | Steps:  581 Time:  3.02 | MA:  1.39 | Total: 02:28.02 | eps:  0.040\n",
      " 137 | Reward:   -61 | MA:   -44 | Steps:  999 Time:  4.84 | MA:  1.43 | Total: 02:32.87 | eps:  0.040\n",
      " 138 | Reward:   -79 | MA:   -43 | Steps:  999 Time:  5.56 | MA:  1.49 | Total: 02:38.42 | eps:  0.039\n",
      " 139 | Reward:   -20 | MA:   -42 | Steps:  999 Time:  5.32 | MA:  1.54 | Total: 02:43.75 | eps:  0.039\n",
      " 140 | Reward:   -26 | MA:   -41 | Steps:  999 Time:  4.98 | MA:  1.58 | Total: 02:48.73 | eps:  0.039\n",
      " 141 | Reward:     1 | MA:   -40 | Steps:  999 Time:  5.53 | MA:  1.64 | Total: 02:54.26 | eps:  0.038\n",
      " 142 | Reward:   223 | MA:   -36 | Steps:  471 Time:  2.24 | MA:  1.66 | Total: 02:56.50 | eps:  0.038\n",
      " 143 | Reward:   141 | MA:   -34 | Steps:  994 Time:  4.73 | MA:  1.70 | Total: 03:01.23 | eps:  0.037\n",
      " 144 | Reward:   125 | MA:   -31 | Steps:  999 Time:  4.96 | MA:  1.75 | Total: 03:06.19 | eps:  0.037\n",
      " 145 | Reward:    26 | MA:   -30 | Steps:  999 Time:  5.35 | MA:  1.80 | Total: 03:11.54 | eps:  0.037\n",
      " 146 | Reward:    53 | MA:   -27 | Steps:  999 Time:  5.34 | MA:  1.85 | Total: 03:16.88 | eps:  0.036\n",
      " 147 | Reward:   158 | MA:   -25 | Steps:  889 Time:  4.50 | MA:  1.89 | Total: 03:21.38 | eps:  0.036\n",
      " 148 | Reward:   122 | MA:   -23 | Steps:  999 Time:  5.68 | MA:  1.94 | Total: 03:27.06 | eps:  0.036\n",
      " 149 | Reward:  -109 | MA:   -24 | Steps:  342 Time:  1.67 | MA:  1.95 | Total: 03:28.73 | eps:  0.035\n",
      " 150 | Reward:   208 | MA:   -21 | Steps:  852 Time:  9.43 | MA:  2.04 | Total: 03:38.16 | eps:  0.035\n",
      " 151 | Reward:   139 | MA:   -20 | Steps:  777 Time:  4.48 | MA:  2.08 | Total: 03:42.64 | eps:  0.035\n",
      " 152 | Reward:    60 | MA:   -18 | Steps:  999 Time:  5.82 | MA:  2.14 | Total: 03:48.46 | eps:  0.034\n",
      " 153 | Reward:    61 | MA:   -17 | Steps:  999 Time:  6.37 | MA:  2.20 | Total: 03:54.83 | eps:  0.034\n",
      " 154 | Reward:   -44 | MA:   -17 | Steps:  702 Time:  3.80 | MA:  2.23 | Total: 03:58.63 | eps:  0.033\n",
      " 155 | Reward:   178 | MA:   -13 | Steps:  641 Time:  3.74 | MA:  2.26 | Total: 04:02.37 | eps:  0.033\n",
      " 156 | Reward:   -63 | MA:   -13 | Steps:  421 Time:  2.27 | MA:  2.28 | Total: 04:04.64 | eps:  0.033\n",
      " 157 | Reward:   228 | MA:   -10 | Steps:  352 Time:  1.75 | MA:  2.30 | Total: 04:06.38 | eps:  0.032\n",
      " 158 | Reward:   -67 | MA:   -10 | Steps:  432 Time:  2.17 | MA:  2.32 | Total: 04:08.56 | eps:  0.032\n",
      " 159 | Reward:   -68 | MA:   -10 | Steps:  739 Time:  3.70 | MA:  2.35 | Total: 04:12.25 | eps:  0.032\n"
     ]
    },
    {
     "name": "stdout",
     "output_type": "stream",
     "text": [
      " 160 | Reward:   186 | MA:    -8 | Steps:  600 Time:  3.30 | MA:  2.38 | Total: 04:15.56 | eps:  0.032\n",
      " 161 | Reward:    76 | MA:    -6 | Steps:  999 Time:  5.44 | MA:  2.43 | Total: 04:21.00 | eps:  0.031\n",
      " 162 | Reward:    43 | MA:    -6 | Steps:  999 Time:  5.56 | MA:  2.48 | Total: 04:26.56 | eps:  0.031\n",
      " 163 | Reward:   174 | MA:    -3 | Steps:  593 Time:  2.95 | MA:  2.51 | Total: 04:29.51 | eps:  0.031\n",
      " 164 | Reward:    41 | MA:    -2 | Steps:  999 Time:  5.64 | MA:  2.56 | Total: 04:35.14 | eps:  0.030\n",
      " 165 | Reward:   169 | MA:     2 | Steps:  648 Time:  3.37 | MA:  2.59 | Total: 04:38.51 | eps:  0.030\n",
      " 166 | Reward:     9 | MA:     3 | Steps:  999 Time:  5.37 | MA:  2.64 | Total: 04:43.88 | eps:  0.030\n",
      " 167 | Reward:    94 | MA:     4 | Steps:  999 Time:  6.05 | MA:  2.70 | Total: 04:49.93 | eps:  0.029\n",
      " 168 | Reward:   -20 | MA:     6 | Steps:  999 Time:  5.13 | MA:  2.75 | Total: 04:55.05 | eps:  0.029\n",
      " 169 | Reward:   -68 | MA:     5 | Steps:  999 Time:  5.15 | MA:  2.79 | Total: 05:00.20 | eps:  0.029\n",
      " 170 | Reward:   -25 | MA:     6 | Steps:  999 Time:  5.51 | MA:  2.85 | Total: 05:05.71 | eps:  0.029\n",
      " 171 | Reward:    24 | MA:     6 | Steps:  999 Time:  5.30 | MA:  2.89 | Total: 05:11.01 | eps:  0.028\n",
      " 172 | Reward:   275 | MA:     9 | Steps:  327 Time:  1.73 | MA:  2.91 | Total: 05:12.74 | eps:  0.028\n",
      " 173 | Reward:   228 | MA:    12 | Steps:  761 Time:  4.40 | MA:  2.95 | Total: 05:17.14 | eps:  0.028\n",
      " 174 | Reward:   149 | MA:    13 | Steps:  999 Time:  5.41 | MA:  3.00 | Total: 05:22.56 | eps:  0.027\n",
      " 175 | Reward:    28 | MA:    14 | Steps:  999 Time:  5.56 | MA:  3.05 | Total: 05:28.11 | eps:  0.027\n",
      " 176 | Reward:   110 | MA:    16 | Steps:  999 Time:  5.50 | MA:  3.10 | Total: 05:33.62 | eps:  0.027\n",
      " 177 | Reward:   128 | MA:    17 | Steps:  999 Time:  5.79 | MA:  3.15 | Total: 05:39.41 | eps:  0.027\n",
      " 178 | Reward:   141 | MA:    21 | Steps:  842 Time:  4.96 | MA:  3.20 | Total: 05:44.37 | eps:  0.026\n",
      " 179 | Reward:   121 | MA:    22 | Steps:  999 Time:  5.98 | MA:  3.25 | Total: 05:50.36 | eps:  0.026\n",
      " 180 | Reward:   152 | MA:    25 | Steps:  999 Time:  5.65 | MA:  3.30 | Total: 05:56.00 | eps:  0.026\n",
      " 181 | Reward:   245 | MA:    28 | Steps:  613 Time:  3.42 | MA:  3.33 | Total: 05:59.42 | eps:  0.026\n",
      " 182 | Reward:   142 | MA:    30 | Steps:  999 Time:  5.74 | MA:  3.39 | Total: 06:05.16 | eps:  0.025\n",
      " 183 | Reward:   199 | MA:    32 | Steps:  450 Time:  2.48 | MA:  3.41 | Total: 06:07.64 | eps:  0.025\n",
      " 184 | Reward:   106 | MA:    34 | Steps:  999 Time:  6.00 | MA:  3.46 | Total: 06:13.64 | eps:  0.025\n",
      " 185 | Reward:   118 | MA:    36 | Steps:  999 Time:  5.92 | MA:  3.52 | Total: 06:19.55 | eps:  0.025\n",
      " 186 | Reward:    75 | MA:    36 | Steps:  999 Time:  5.86 | MA:  3.57 | Total: 06:25.41 | eps:  0.024\n",
      " 187 | Reward:    91 | MA:    38 | Steps:  999 Time:  6.49 | MA:  3.63 | Total: 06:31.90 | eps:  0.024\n",
      " 188 | Reward:   239 | MA:    40 | Steps:  552 Time:  3.31 | MA:  3.66 | Total: 06:35.21 | eps:  0.024\n",
      " 189 | Reward:   151 | MA:    42 | Steps:  999 Time:  6.20 | MA:  3.72 | Total: 06:41.41 | eps:  0.024\n",
      " 190 | Reward:   128 | MA:    43 | Steps:  999 Time:  6.52 | MA:  3.78 | Total: 06:47.92 | eps:  0.023\n",
      " 191 | Reward:   142 | MA:    45 | Steps:  999 Time:  6.88 | MA:  3.84 | Total: 06:54.81 | eps:  0.023\n",
      " 192 | Reward:   135 | MA:    47 | Steps:  999 Time:  6.44 | MA:  3.89 | Total: 07:01.25 | eps:  0.023\n",
      " 193 | Reward:   157 | MA:    50 | Steps:  999 Time:  6.55 | MA:  3.95 | Total: 07:07.80 | eps:  0.023\n",
      " 194 | Reward:   100 | MA:    53 | Steps:  999 Time:  6.26 | MA:  4.01 | Total: 07:14.07 | eps:  0.022\n",
      " 195 | Reward:   125 | MA:    54 | Steps:  999 Time:  6.77 | MA:  4.07 | Total: 07:20.84 | eps:  0.022\n",
      " 196 | Reward:   109 | MA:    55 | Steps:  999 Time:  6.97 | MA:  4.14 | Total: 07:27.81 | eps:  0.022\n",
      " 197 | Reward:   122 | MA:    57 | Steps:  999 Time:  6.83 | MA:  4.20 | Total: 07:34.64 | eps:  0.022\n",
      " 198 | Reward:   219 | MA:    59 | Steps:  825 Time:  5.48 | MA:  4.25 | Total: 07:40.12 | eps:  0.022\n",
      " 199 | Reward:   165 | MA:    61 | Steps:  999 Time:  6.45 | MA:  4.30 | Total: 07:46.57 | eps:  0.021\n",
      " 200 | Reward:   118 | MA:    62 | Steps:  999 Time: 12.55 | MA:  4.41 | Total: 07:59.13 | eps:  0.021\n",
      " 201 | Reward:   148 | MA:    66 | Steps:  999 Time:  6.87 | MA:  4.47 | Total: 08:05.99 | eps:  0.021\n",
      " 202 | Reward:   127 | MA:    67 | Steps:  999 Time:  6.80 | MA:  4.54 | Total: 08:12.80 | eps:  0.021\n",
      " 203 | Reward:   126 | MA:    68 | Steps:  999 Time:  6.96 | MA:  4.60 | Total: 08:19.76 | eps:  0.020\n",
      " 204 | Reward:   162 | MA:    72 | Steps:  999 Time:  6.60 | MA:  4.66 | Total: 08:26.36 | eps:  0.020\n",
      " 205 | Reward:    83 | MA:    73 | Steps:  999 Time:  6.62 | MA:  4.68 | Total: 08:32.98 | eps:  0.020\n",
      " 206 | Reward:   231 | MA:    76 | Steps:  706 Time:  5.00 | MA:  4.73 | Total: 08:37.98 | eps:  0.020\n",
      " 207 | Reward:   252 | MA:    79 | Steps:  355 Time:  2.34 | MA:  4.73 | Total: 08:40.33 | eps:  0.020\n",
      " 208 | Reward:    72 | MA:    79 | Steps:  999 Time:  6.71 | MA:  4.76 | Total: 08:47.04 | eps:  0.019\n",
      " 209 | Reward:   182 | MA:    82 | Steps:  999 Time:  7.10 | MA:  4.82 | Total: 08:54.14 | eps:  0.019\n",
      " 210 | Reward:   -23 | MA:    83 | Steps:  438 Time:  3.00 | MA:  4.82 | Total: 08:57.14 | eps:  0.019\n",
      " 211 | Reward:   133 | MA:    83 | Steps:  999 Time:  7.23 | MA:  4.88 | Total: 09:04.36 | eps:  0.019\n",
      " 212 | Reward:   140 | MA:    85 | Steps:  999 Time:  7.24 | MA:  4.91 | Total: 09:11.61 | eps:  0.019\n",
      " 213 | Reward:   139 | MA:    87 | Steps:  999 Time:  6.78 | MA:  4.94 | Total: 09:18.39 | eps:  0.019\n",
      " 214 | Reward:   125 | MA:    89 | Steps:  999 Time:  7.19 | MA:  4.97 | Total: 09:25.57 | eps:  0.018\n",
      " 215 | Reward:   174 | MA:    91 | Steps:  999 Time:  7.59 | MA:  5.00 | Total: 09:33.16 | eps:  0.018\n",
      " 216 | Reward:   132 | MA:    93 | Steps:  999 Time:  7.09 | MA:  5.02 | Total: 09:40.25 | eps:  0.018\n",
      " 217 | Reward:   125 | MA:    94 | Steps:  999 Time:  7.25 | MA:  5.05 | Total: 09:47.50 | eps:  0.018\n",
      " 218 | Reward:   134 | MA:    96 | Steps:  999 Time:  7.59 | MA:  5.08 | Total: 09:55.09 | eps:  0.018\n",
      " 219 | Reward:   102 | MA:    98 | Steps:  999 Time:  6.82 | MA:  5.10 | Total: 10:01.91 | eps:  0.017\n",
      " 220 | Reward:   128 | MA:    99 | Steps:  999 Time:  6.95 | MA:  5.11 | Total: 10:08.86 | eps:  0.017\n",
      " 221 | Reward:   118 | MA:   101 | Steps:  999 Time:  6.92 | MA:  5.13 | Total: 10:15.78 | eps:  0.017\n",
      " 222 | Reward:   130 | MA:   102 | Steps:  999 Time:  7.08 | MA:  5.19 | Total: 10:22.86 | eps:  0.017\n",
      " 223 | Reward:   118 | MA:   103 | Steps:  999 Time:  7.07 | MA:  5.21 | Total: 10:29.94 | eps:  0.017\n",
      " 224 | Reward:   156 | MA:   104 | Steps:  999 Time:  6.99 | MA:  5.27 | Total: 10:36.93 | eps:  0.017\n",
      " 225 | Reward:   232 | MA:   105 | Steps:  857 Time:  6.28 | MA:  5.29 | Total: 10:43.21 | eps:  0.016\n",
      " 226 | Reward:   147 | MA:   107 | Steps:  999 Time:  7.17 | MA:  5.35 | Total: 10:50.38 | eps:  0.016\n",
      " 227 | Reward:   152 | MA:   107 | Steps:  999 Time:  7.50 | MA:  5.38 | Total: 10:57.87 | eps:  0.016\n",
      " 228 | Reward:   113 | MA:   107 | Steps:  999 Time:  7.07 | MA:  5.40 | Total: 11:04.94 | eps:  0.016\n",
      " 229 | Reward:   233 | MA:   107 | Steps:  952 Time:  6.45 | MA:  5.45 | Total: 11:11.40 | eps:  0.016\n",
      " 230 | Reward:   233 | MA:   109 | Steps:  323 Time:  2.12 | MA:  5.45 | Total: 11:13.51 | eps:  0.016\n",
      " 231 | Reward:   172 | MA:   109 | Steps:  999 Time:  6.97 | MA:  5.50 | Total: 11:20.48 | eps:  0.015\n",
      " 232 | Reward:   110 | MA:   108 | Steps:  999 Time:  7.27 | MA:  5.55 | Total: 11:27.75 | eps:  0.015\n",
      " 233 | Reward:   173 | MA:   110 | Steps:  999 Time:  7.01 | MA:  5.57 | Total: 11:34.76 | eps:  0.015\n",
      " 234 | Reward:   143 | MA:   112 | Steps:  999 Time:  7.21 | MA:  5.62 | Total: 11:41.97 | eps:  0.015\n",
      " 235 | Reward:   239 | MA:   115 | Steps:  419 Time:  2.81 | MA:  5.60 | Total: 11:44.78 | eps:  0.015\n",
      " 236 | Reward:   225 | MA:   115 | Steps:  517 Time:  3.53 | MA:  5.60 | Total: 11:48.32 | eps:  0.015\n",
      " 237 | Reward:   224 | MA:   118 | Steps:  530 Time:  3.96 | MA:  5.59 | Total: 11:52.28 | eps:  0.015\n",
      " 238 | Reward:   158 | MA:   120 | Steps:  999 Time:  7.45 | MA:  5.61 | Total: 11:59.73 | eps:  0.014\n",
      " 239 | Reward:   296 | MA:   123 | Steps:  435 Time:  3.04 | MA:  5.59 | Total: 12:02.77 | eps:  0.014\n"
     ]
    },
    {
     "name": "stdout",
     "output_type": "stream",
     "text": [
      " 240 | Reward:   222 | MA:   126 | Steps:  344 Time:  2.33 | MA:  5.56 | Total: 12:05.10 | eps:  0.014\n",
      " 241 | Reward:   268 | MA:   128 | Steps:  290 Time:  1.98 | MA:  5.53 | Total: 12:07.09 | eps:  0.014\n",
      " 242 | Reward:   247 | MA:   129 | Steps:  455 Time:  3.13 | MA:  5.54 | Total: 12:10.22 | eps:  0.014\n",
      " 243 | Reward:   241 | MA:   130 | Steps:  368 Time:  2.53 | MA:  5.52 | Total: 12:12.74 | eps:  0.014\n",
      " 244 | Reward:   268 | MA:   131 | Steps:  351 Time:  2.40 | MA:  5.49 | Total: 12:15.14 | eps:  0.014\n",
      " 245 | Reward:   285 | MA:   134 | Steps:  542 Time:  3.88 | MA:  5.47 | Total: 12:19.02 | eps:  0.013\n",
      " 246 | Reward:   -64 | MA:   133 | Steps:  379 Time:  2.62 | MA:  5.45 | Total: 12:21.64 | eps:  0.013\n",
      " 247 | Reward:   228 | MA:   133 | Steps:  464 Time:  3.32 | MA:  5.44 | Total: 12:24.96 | eps:  0.013\n",
      " 248 | Reward:   237 | MA:   134 | Steps:  346 Time:  2.38 | MA:  5.40 | Total: 12:27.34 | eps:  0.013\n",
      " 249 | Reward:   275 | MA:   138 | Steps:  493 Time:  3.44 | MA:  5.42 | Total: 12:30.78 | eps:  0.013\n",
      " 250 | Reward:   206 | MA:   138 | Steps:  311 Time:  4.14 | MA:  5.37 | Total: 12:34.92 | eps:  0.013\n",
      " 251 | Reward:   167 | MA:   138 | Steps:  999 Time:  7.45 | MA:  5.40 | Total: 12:42.37 | eps:  0.013\n",
      " 252 | Reward:   268 | MA:   141 | Steps:  259 Time:  1.84 | MA:  5.36 | Total: 12:44.20 | eps:  0.013\n",
      " 253 | Reward:   242 | MA:   142 | Steps:  553 Time:  4.13 | MA:  5.34 | Total: 12:48.34 | eps:  0.012\n",
      " 254 | Reward:   286 | MA:   146 | Steps:  243 Time:  1.75 | MA:  5.31 | Total: 12:50.08 | eps:  0.012\n",
      " 255 | Reward:   256 | MA:   146 | Steps:  499 Time:  3.67 | MA:  5.31 | Total: 12:53.75 | eps:  0.012\n",
      " 256 | Reward:   260 | MA:   150 | Steps:  327 Time:  2.57 | MA:  5.32 | Total: 12:56.32 | eps:  0.012\n",
      " 257 | Reward:   276 | MA:   150 | Steps:  371 Time:  2.96 | MA:  5.33 | Total: 12:59.28 | eps:  0.012\n",
      " 258 | Reward:   257 | MA:   153 | Steps:  368 Time:  2.84 | MA:  5.34 | Total: 13:02.13 | eps:  0.012\n",
      " 259 | Reward:   244 | MA:   157 | Steps:  329 Time:  2.43 | MA:  5.32 | Total: 13:04.56 | eps:  0.012\n",
      " 260 | Reward:   281 | MA:   157 | Steps:  291 Time:  2.06 | MA:  5.31 | Total: 13:06.62 | eps:  0.012\n",
      " 261 | Reward:   254 | MA:   159 | Steps:  342 Time:  2.51 | MA:  5.28 | Total: 13:09.13 | eps:  0.011\n",
      " 262 | Reward:   223 | MA:   161 | Steps:  306 Time:  2.20 | MA:  5.25 | Total: 13:11.34 | eps:  0.011\n",
      " 263 | Reward:   270 | MA:   162 | Steps:  298 Time:  2.17 | MA:  5.24 | Total: 13:13.50 | eps:  0.011\n",
      " 264 | Reward:   235 | MA:   164 | Steps:  302 Time:  2.18 | MA:  5.21 | Total: 13:15.68 | eps:  0.011\n",
      " 265 | Reward:   276 | MA:   165 | Steps:  244 Time:  1.79 | MA:  5.19 | Total: 13:17.47 | eps:  0.011\n",
      " 266 | Reward:   246 | MA:   167 | Steps:  495 Time:  3.64 | MA:  5.17 | Total: 13:21.11 | eps:  0.011\n",
      " 267 | Reward:   251 | MA:   169 | Steps:  299 Time:  2.21 | MA:  5.13 | Total: 13:23.32 | eps:  0.011\n",
      " 268 | Reward:   278 | MA:   172 | Steps:  347 Time:  2.56 | MA:  5.11 | Total: 13:25.87 | eps:  0.011\n",
      " 269 | Reward:   294 | MA:   176 | Steps:  272 Time:  1.97 | MA:  5.08 | Total: 13:27.85 | eps:  0.011\n",
      " 270 | Reward:   246 | MA:   178 | Steps:  374 Time:  2.86 | MA:  5.05 | Total: 13:30.71 | eps:  0.010\n",
      " 271 | Reward:   227 | MA:   180 | Steps:  298 Time:  2.23 | MA:  5.02 | Total: 13:32.94 | eps:  0.010\n",
      " 272 | Reward:   254 | MA:   180 | Steps:  411 Time:  3.11 | MA:  5.03 | Total: 13:36.05 | eps:  0.010\n",
      " 273 | Reward:   229 | MA:   180 | Steps:  297 Time:  2.25 | MA:  5.01 | Total: 13:38.30 | eps:  0.010\n",
      " 274 | Reward:   225 | MA:   181 | Steps:  463 Time:  3.53 | MA:  4.99 | Total: 13:41.83 | eps:  0.010\n",
      " 275 | Reward:   282 | MA:   183 | Steps:  350 Time:  2.57 | MA:  4.96 | Total: 13:44.39 | eps:  0.010\n",
      " 276 | Reward:   254 | MA:   185 | Steps:  379 Time:  2.89 | MA:  4.94 | Total: 13:47.28 | eps:  0.010\n",
      " 277 | Reward:   235 | MA:   186 | Steps:  361 Time:  2.77 | MA:  4.91 | Total: 13:50.05 | eps:  0.010\n",
      " 278 | Reward:   244 | MA:   187 | Steps:  387 Time:  2.97 | MA:  4.89 | Total: 13:53.02 | eps:  0.010\n",
      " 279 | Reward:   284 | MA:   189 | Steps:  321 Time:  2.39 | MA:  4.85 | Total: 13:55.41 | eps:  0.010\n",
      " 280 | Reward:   207 | MA:   189 | Steps:  583 Time:  4.52 | MA:  4.84 | Total: 13:59.93 | eps:  0.009\n",
      " 281 | Reward:   248 | MA:   189 | Steps:  442 Time:  3.51 | MA:  4.84 | Total: 14:03.44 | eps:  0.009\n",
      " 282 | Reward:   262 | MA:   190 | Steps:  311 Time:  2.48 | MA:  4.81 | Total: 14:05.92 | eps:  0.009\n",
      " 283 | Reward:   266 | MA:   191 | Steps:  408 Time:  3.13 | MA:  4.81 | Total: 14:09.05 | eps:  0.009\n",
      " 284 | Reward:   247 | MA:   192 | Steps:  377 Time:  2.99 | MA:  4.78 | Total: 14:12.03 | eps:  0.009\n",
      " 285 | Reward:   230 | MA:   194 | Steps:  315 Time:  2.38 | MA:  4.75 | Total: 14:14.42 | eps:  0.009\n",
      " 286 | Reward:   269 | MA:   195 | Steps:  370 Time:  3.28 | MA:  4.72 | Total: 14:17.70 | eps:  0.009\n",
      " 287 | Reward:   302 | MA:   198 | Steps:  350 Time:  2.64 | MA:  4.68 | Total: 14:20.33 | eps:  0.009\n",
      " 288 | Reward:   275 | MA:   198 | Steps:  424 Time:  3.28 | MA:  4.68 | Total: 14:23.61 | eps:  0.009\n",
      " 289 | Reward:   231 | MA:   199 | Steps:  324 Time:  2.49 | MA:  4.65 | Total: 14:26.10 | eps:  0.009\n",
      " 290 | Reward:   278 | MA:   200 | Steps:  262 Time:  2.01 | MA:  4.60 | Total: 14:28.11 | eps:  0.009\n"
     ]
    }
   ],
   "source": [
    "for episode in range(max_episodes):\n",
    "    episode_start = time()\n",
    "    episode_reward = 0\n",
    "    episode_eps.append(epsilon)\n",
    "\n",
    "    # Initial state\n",
    "    this_observation = env.reset()\n",
    "    for episode_step in range(max_episode_steps):\n",
    "\n",
    "        # choose action according to epsilon-greedy policy wrt Q\n",
    "        if train:\n",
    "            if random() < epsilon:\n",
    "                selected_action = randint(n_actions)\n",
    "            else:\n",
    "                q_s = sess.run(q_action_values,\n",
    "                               feed_dict={state: this_observation[None]})\n",
    "                selected_action = np.argmax(q_s)\n",
    "        else:\n",
    "            q_s = sess.run(q_action_values,\n",
    "                           feed_dict={state: this_observation[None]})\n",
    "            selected_action = np.argmax(q_s)\n",
    "\n",
    "        next_observation, step_reward, done, _ = env.step(selected_action)\n",
    "        episode_reward += step_reward\n",
    "\n",
    "        if train:\n",
    "            # add to replay buffer\n",
    "            experience.append((this_observation,\n",
    "                               selected_action,\n",
    "                               step_reward,\n",
    "                               next_observation,\n",
    "                               0.0 if done else 1.0))\n",
    "\n",
    "            # update the target weights\n",
    "            if total_steps % tau == 0:\n",
    "                _ = sess.run(update_target_op)\n",
    "\n",
    "            # update weights using minibatch of (s,a,r,s') samples from experience\n",
    "            if len(experience) >= minibatch_size:\n",
    "                minibatch = map(np.array, zip(*sample(experience, minibatch_size)))\n",
    "                states_batch, action_batch, reward_batch, next_states_batch, done_batch = minibatch\n",
    "\n",
    "                # do a train_op with required inputs\n",
    "                feed_dict = {\n",
    "                    state     : states_batch,\n",
    "                    action    : action_batch,\n",
    "                    reward    : reward_batch,\n",
    "                    next_state: next_states_batch,\n",
    "                    not_done  : done_batch}\n",
    "                if total_steps % 100 == 0:\n",
    "                    summary, global_step, _ = sess.run([summaries, tf.train.get_global_step(), train_op],\n",
    "                                                       feed_dict=feed_dict)\n",
    "                    summary_writer.add_summary(summary, global_step)\n",
    "                else:\n",
    "                    _ = sess.run([train_op],\n",
    "                                 feed_dict=feed_dict)\n",
    "\n",
    "        this_observation = next_observation\n",
    "        total_steps += 1\n",
    "\n",
    "        # linearly decay epsilon from epsilon_start to epsilon_end for epsilon_linear_steps\n",
    "        if total_steps < epsilon_linear_steps:\n",
    "            epsilon -= epsilon_linear_step\n",
    "        # then exponentially decay every episode\n",
    "        elif done:\n",
    "            epsilon *= epsilon_exp_decay\n",
    "\n",
    "        if done:\n",
    "            # Increment episode counter\n",
    "            episode_, _ = sess.run([episode_count, add_episode])\n",
    "            if train:\n",
    "                episode_summary = tf.Summary()\n",
    "                episode_summary.value.add(simple_value=episode_reward,\n",
    "                                          node_name='episode_reward',\n",
    "                                          tag='episode_reward')\n",
    "                episode_summary.value.add(simple_value=np.mean(episode_rewards[-100:]),\n",
    "                                          node_name='episode_reward_mavg',\n",
    "                                          tag='episode_reward_mavg')\n",
    "                episode_summary.value.add(simple_value=episode_step,\n",
    "                                          node_name='episode_steps',\n",
    "                                          tag='episode_steps')\n",
    "                episode_summary.value.add(simple_value=time() - episode_start,\n",
    "                                          node_name='episode_duration',\n",
    "                                          tag='episode_duration')\n",
    "                summary_writer.add_summary(episode_summary, episode_)\n",
    "                summary_writer.flush()\n",
    "            break\n",
    "\n",
    "    episode_time.append(time() - episode_start)\n",
    "    episode_steps.append(episode_step)\n",
    "    episode_rewards.append(episode_reward)\n",
    "    rewards_ma = np.mean([episode_rewards[-100:]])\n",
    "    rewards_std = np.std([episode_rewards[-100:]])\n",
    "\n",
    "    track_results(episode, episode_reward,\n",
    "                  rewards_ma, rewards_std,\n",
    "                  episode_steps, episode_time,\n",
    "                  epsilon)\n",
    "\n",
    "    if rewards_ma > 200:\n",
    "        saver.save(sess, checkpoint_path.as_posix())\n",
    "        break\n",
    "\n",
    "env.close()"
   ]
  },
  {
   "cell_type": "markdown",
   "metadata": {},
   "source": [
    "### Store Results"
   ]
  },
  {
   "cell_type": "code",
   "execution_count": 17,
   "metadata": {},
   "outputs": [],
   "source": [
    "results = pd.DataFrame({'episode': list(range(1, len(episode_steps) + 1)),\n",
    "                        'steps'  : episode_steps,\n",
    "                        'rewards': episode_rewards,\n",
    "                        'time'   : episode_time,\n",
    "                        'epsilon': episode_eps})\n",
    "\n",
    "fn = 'results.csv' if train else 'performance.csv'\n",
    "results.to_csv(experiment_dir / fn, index=False)"
   ]
  },
  {
   "cell_type": "code",
   "execution_count": null,
   "metadata": {},
   "outputs": [],
   "source": [
    "params = dict(gamma=gamma, layers=layers, learning_rate=learning_rate, l2_reg=l2_reg,\n",
    "              tau=tau, replay_capacity=replay_capacity, minibatch_size=minibatch_size,\n",
    "              epsilon_start=epsilon_start, epsilon_end=epsilon_end, epsilon_linear_steps=epsilon_linear_steps,\n",
    "              epsilon_exp_decay=epsilon_exp_decay)\n",
    "\n",
    "parameters = pd.Series(params).to_frame().reset_index()\n",
    "parameters.columns = ['parameter', 'value']\n",
    "parameters.to_csv(experiment_dir / 'parameters.csv', index=False)"
   ]
  },
  {
   "cell_type": "markdown",
   "metadata": {},
   "source": [
    "### Plot Results"
   ]
  },
  {
   "cell_type": "code",
   "execution_count": 7,
   "metadata": {},
   "outputs": [],
   "source": [
    "results = pd.read_csv(experiment_dir / 'results.csv').rename(columns=str.capitalize)\n",
    "results = results.set_index('Episode')\n",
    "results['MA100'] = results.rolling(window=100, min_periods=25).Rewards.mean()"
   ]
  },
  {
   "cell_type": "code",
   "execution_count": 8,
   "metadata": {},
   "outputs": [
    {
     "name": "stdout",
     "output_type": "stream",
     "text": [
      "<class 'pandas.core.frame.DataFrame'>\n",
      "Int64Index: 291 entries, 1 to 291\n",
      "Data columns (total 5 columns):\n",
      "Epsilon    291 non-null float64\n",
      "Rewards    291 non-null float64\n",
      "Steps      291 non-null int64\n",
      "Time       291 non-null float64\n",
      "MA100      267 non-null float64\n",
      "dtypes: float64(4), int64(1)\n",
      "memory usage: 13.6 KB\n"
     ]
    }
   ],
   "source": [
    "results.info()"
   ]
  },
  {
   "cell_type": "code",
   "execution_count": 9,
   "metadata": {},
   "outputs": [
    {
     "data": {
      "image/png": "[encoded data removed]",
      "text/plain": [
       "<Figure size 1008x288 with 3 Axes>"
      ]
     },
     "metadata": {},
     "output_type": "display_data"
    }
   ],
   "source": [
    "fig, axes = plt.subplots(ncols=2, figsize=(14, 4))\n",
    "results[['Rewards', 'MA100']].plot(ax=axes[0])\n",
    "axes[0].set_ylabel('Rewards')\n",
    "results[['Steps', 'Epsilon']].plot(secondary_y='Epsilon', ax=axes[1]);\n",
    "fig.suptitle('Double Deep Q-Network Agent | Lunar Lander', fontsize=16)\n",
    "fig.tight_layout()\n",
    "fig.subplots_adjust(top=.9)\n",
    "fig.savefig('figures/ddqn_lunarlander', dpi=300)"
   ]
  }
 ],
 "metadata": {
  "kernelspec": {
   "display_name": "Python 3",
   "language": "python",
   "name": "python3"
  },
  "language_info": {
   "codemirror_mode": {
    "name": "ipython",
    "version": 3
   },
   "file_extension": ".py",
   "mimetype": "text/x-python",
   "name": "python",
   "nbconvert_exporter": "python",
   "pygments_lexer": "ipython3",
   "version": "3.6.8"
  },
  "toc": {
   "base_numbering": 1,
   "nav_menu": {},
   "number_sections": true,
   "sideBar": true,
   "skip_h1_title": true,
   "title_cell": "Table of Contents",
   "title_sidebar": "Contents",
   "toc_cell": false,
   "toc_position": {},
   "toc_section_display": true,
   "toc_window_display": true
  }
 },
 "nbformat": 4,
 "nbformat_minor": 2
}
