{
 "cells": [
  {
   "cell_type": "markdown",
   "metadata": {},
   "source": [
    "# Reinforcement Learning for trading"
   ]
  },
  {
   "cell_type": "markdown",
   "metadata": {},
   "source": [
    "To train a trading agent, we need to create a market environment that provides price and other information, offers trading-related actions, and keeps track of the portfolio to reward the agent accordingly."
   ]
  },
  {
   "cell_type": "markdown",
   "metadata": {},
   "source": [
    "## How to Design an OpenAI trading environment"
   ]
  },
  {
   "cell_type": "markdown",
   "metadata": {},
   "source": [
    "The OpenAI Gym allows for the design, registration, and utilization of environments that adhere to its architecture, as described in its [documentation](https://github.com/openai/gym/tree/master/gym/envs#how-to-create-new-environments-for-gym). The [trading_env.py](trading_env.py) file implements an example that illustrates how to create a class that implements the requisite `step()` and `reset()` methods.\n",
    "\n",
    "The trading environment consists of three classes that interact to facilitate the agent's activities:\n",
    " 1. The `DataSource` class loads a time series, generates a few features, and provides the latest observation to the agent at each time step. \n",
    " 2. `TradingSimulator` tracks the positions, trades and cost, and the performance. It also implements and records the results of a buy-and-hold benchmark strategy. \n",
    " 3. `TradingEnvironment` itself orchestrates the process. "
   ]
  },
  {
   "cell_type": "markdown",
   "metadata": {},
   "source": [
    "## A basic trading game"
   ]
  },
  {
   "cell_type": "markdown",
   "metadata": {},
   "source": [
    "To train the agent, we need to set up a simple game with a limited set of options, a relatively low-dimensional state, and other parameters that can be easily modified and extended.\n",
    "\n",
    "More specifically, the environment samples a stock price time series for a single ticker using a random start date to simulate a trading period that, by default, contains 252 days, or 1 year. The state contains the (scaled) price and volume, as well as some technical indicators like the percentile ranks of price and volume, a relative strength index (RSI), as well as 5- and 21-day returns. The agent can choose from three actions:\n",
    "\n",
    "- **Buy**: Invest capital for a long position in the stock\n",
    "- **Flat**: Hold cash only\n",
    "- **Sell short**: Take a short position equal to the amount of capital\n",
    "\n",
    "The environment accounts for trading cost, which is set to 10bps by default. It also deducts a 1bps time cost per period. It tracks the net asset value (NAV) of the agent's portfolio and compares it against the market portfolio (which trades frictionless to raise the bar for the agent)."
   ]
  },
  {
   "cell_type": "markdown",
   "metadata": {},
   "source": [
    "We use the same DDQN agent and neural network architecture that successfully learned to navigate the Lunar Lander environment. We let exploration continue for 500,000 time steps (~2,000 1yr trading periods) with linear decay of ε to 0.1 and exponential decay at a factor of 0.9999 thereafter."
   ]
  },
  {
   "cell_type": "markdown",
   "metadata": {},
   "source": [
    "## Imports & Settings"
   ]
  },
  {
   "cell_type": "code",
   "execution_count": 1,
   "metadata": {},
   "outputs": [],
   "source": [
    "%matplotlib inline\n",
    "from pathlib import Path\n",
    "from collections import deque, namedtuple\n",
    "from time import time\n",
    "from random import sample\n",
    "import numpy as np\n",
    "from numpy.random import random, randint, seed\n",
    "import pandas as pd\n",
    "\n",
    "import matplotlib.pyplot as plt\n",
    "from matplotlib.ticker import FuncFormatter\n",
    "import seaborn as sns\n",
    "\n",
    "import tensorflow as tf\n",
    "\n",
    "import gym\n",
    "from gym.envs.registration import register"
   ]
  },
  {
   "cell_type": "code",
   "execution_count": 2,
   "metadata": {},
   "outputs": [],
   "source": [
    "sns.set_style('darkgrid')"
   ]
  },
  {
   "cell_type": "markdown",
   "metadata": {},
   "source": [
    "### Helper functions"
   ]
  },
  {
   "cell_type": "code",
   "execution_count": 3,
   "metadata": {},
   "outputs": [],
   "source": [
    "def format_time(t):\n",
    "    m_, s = divmod(t, 60)\n",
    "    h, m = divmod(m_, 60)\n",
    "    return '{:02.0f}:{:05.2f}'.format(m, s)"
   ]
  },
  {
   "cell_type": "code",
   "execution_count": 4,
   "metadata": {},
   "outputs": [],
   "source": [
    "def track_results(episode, episode_nav,\n",
    "                  market_nav, ratio,\n",
    "                  total,\n",
    "                  epsilon):\n",
    "    time_ma = np.mean([episode_time[-100:]])\n",
    "    T = np.sum(episode_time)\n",
    "\n",
    "    print('{:>4d} | NAV: {:>5.3f} | Market NAV: {:>5.3f} | Delta: {:4.0f} | {} | '\n",
    "          'eps: {:>6.3f}'.format(episode,\n",
    "                                  episode_nav,\n",
    "                                  market_nav,\n",
    "                                  ratio,\n",
    "                                  format_time(total),\n",
    "                                  epsilon))"
   ]
  },
  {
   "cell_type": "markdown",
   "metadata": {},
   "source": [
    "## Set up Gym Environment"
   ]
  },
  {
   "cell_type": "markdown",
   "metadata": {},
   "source": [
    "Before using the custom environment, just like we used the Lunar Lander environment, we need to register it:"
   ]
  },
  {
   "cell_type": "code",
   "execution_count": 5,
   "metadata": {},
   "outputs": [],
   "source": [
    "register(\n",
    "    id='trading-v0',\n",
    "    entry_point='trading_env:TradingEnvironment',\n",
    "    max_episode_steps=1000\n",
    ")"
   ]
  },
  {
   "cell_type": "markdown",
   "metadata": {},
   "source": [
    "### Initialize Trading Environment"
   ]
  },
  {
   "cell_type": "markdown",
   "metadata": {},
   "source": [
    "We can instantiate the environment by using the desired trading costs and ticker:"
   ]
  },
  {
   "cell_type": "code",
   "execution_count": 7,
   "metadata": {
    "scrolled": false
   },
   "outputs": [
    {
     "name": "stderr",
     "output_type": "stream",
     "text": [
      "INFO:trading_env:trading_env logger started.\n",
      "INFO:trading_env:loading data for AAPL...\n",
      "INFO:trading_env:got data for AAPL...\n",
      "INFO:trading_env:None\n"
     ]
    },
    {
     "name": "stdout",
     "output_type": "stream",
     "text": [
      "<class 'pandas.core.frame.DataFrame'>\n",
      "MultiIndex: 8596 entries, (1981-05-06 00:00:00, AAPL) to (2018-03-27 00:00:00, AAPL)\n",
      "Data columns (total 10 columns):\n",
      "close             8596 non-null float64\n",
      "volume            8596 non-null float64\n",
      "returns           8596 non-null float64\n",
      "close_pct_100     8596 non-null float64\n",
      "volume_pct_100    8596 non-null float64\n",
      "close_pct_20      8596 non-null float64\n",
      "volume_pct_20     8596 non-null float64\n",
      "return_5          8596 non-null float64\n",
      "return_21         8596 non-null float64\n",
      "rsi               8596 non-null float64\n",
      "dtypes: float64(10)\n",
      "memory usage: 841.8+ KB\n"
     ]
    },
    {
     "data": {
      "text/plain": [
       "[42]"
      ]
     },
     "execution_count": 7,
     "metadata": {},
     "output_type": "execute_result"
    }
   ],
   "source": [
    "trading_environment = gym.make('trading-v0')\n",
    "trading_environment.env.trading_cost_bps = 1e-3\n",
    "trading_environment.env.time_cost_bps = 1e-4\n",
    "trading_environment.env.ticker = 'AAPL'\n",
    "trading_environment.seed(42)"
   ]
  },
  {
   "cell_type": "markdown",
   "metadata": {},
   "source": [
    "### Get Environment Params"
   ]
  },
  {
   "cell_type": "code",
   "execution_count": 11,
   "metadata": {},
   "outputs": [],
   "source": [
    "state_dim = trading_environment.observation_space.shape[0]  # number of dimensions in state\n",
    "n_actions = trading_environment.action_space.n  # number of actions\n",
    "max_episode_steps = trading_environment.spec.max_episode_steps  # max number of steps per episode"
   ]
  },
  {
   "cell_type": "markdown",
   "metadata": {},
   "source": [
    "## Define hyperparameters"
   ]
  },
  {
   "cell_type": "code",
   "execution_count": 12,
   "metadata": {},
   "outputs": [],
   "source": [
    "gamma=.99,  # discount factor\n",
    "tau=100  # target network update frequency"
   ]
  },
  {
   "cell_type": "markdown",
   "metadata": {},
   "source": [
    "### NN Architecture"
   ]
  },
  {
   "cell_type": "code",
   "execution_count": 13,
   "metadata": {},
   "outputs": [],
   "source": [
    "layers=(256,) * 3  # units per layer\n",
    "learning_rate=5e-5  # learning rate\n",
    "l2_reg=1e-6  # L2 regularization"
   ]
  },
  {
   "cell_type": "markdown",
   "metadata": {},
   "source": [
    "### Experience Replay"
   ]
  },
  {
   "cell_type": "code",
   "execution_count": 14,
   "metadata": {},
   "outputs": [],
   "source": [
    "replay_capacity=int(1e6)\n",
    "minibatch_size=5"
   ]
  },
  {
   "cell_type": "markdown",
   "metadata": {},
   "source": [
    "### $\\epsilon$-greedy Policy"
   ]
  },
  {
   "cell_type": "code",
   "execution_count": 15,
   "metadata": {},
   "outputs": [],
   "source": [
    "epsilon_start=1.0\n",
    "epsilon_end=0.1\n",
    "epsilon_linear_steps=5e5\n",
    "epsilon_exp_decay=.9999"
   ]
  },
  {
   "cell_type": "markdown",
   "metadata": {},
   "source": [
    "## Create Neural Network"
   ]
  },
  {
   "cell_type": "markdown",
   "metadata": {},
   "source": [
    "We will use [TensorFlow](https://www.tensorflow.org/) to create our Double Deep Q-Network ."
   ]
  },
  {
   "cell_type": "code",
   "execution_count": null,
   "metadata": {},
   "outputs": [],
   "source": [
    "tf.reset_default_graph()"
   ]
  },
  {
   "cell_type": "markdown",
   "metadata": {},
   "source": [
    "### Dense Layers"
   ]
  },
  {
   "cell_type": "markdown",
   "metadata": {},
   "source": [
    "The `create_network` function generates the three dense layers that can be trained and/or reused as required by the Q network and its slower-moving target network:"
   ]
  },
  {
   "cell_type": "code",
   "execution_count": 7,
   "metadata": {},
   "outputs": [],
   "source": [
    "def create_network(s, layers, trainable, reuse, n_actions=4):\n",
    "    \"\"\"Generate Q and target network with same structure\"\"\"\n",
    "    for layer, units in enumerate(layers):\n",
    "        x = tf.layers.dense(inputs=s if layer == 0 else x,\n",
    "                            units=units,\n",
    "                            activation=tf.nn.relu,\n",
    "                            trainable=trainable,\n",
    "                            reuse=reuse,\n",
    "                            name='dense_{}'.format(layer))\n",
    "    return tf.squeeze(tf.layers.dense(inputs=x,\n",
    "                                      units=n_actions,\n",
    "                                      trainable=trainable,\n",
    "                                      reuse=reuse,\n",
    "                                      name='output'))"
   ]
  },
  {
   "cell_type": "markdown",
   "metadata": {},
   "source": [
    "### Placeholders"
   ]
  },
  {
   "cell_type": "markdown",
   "metadata": {},
   "source": [
    "Key elements of the DDQN's computational graph include placeholder variables for the state, action, and reward sequences:"
   ]
  },
  {
   "cell_type": "code",
   "execution_count": 8,
   "metadata": {},
   "outputs": [],
   "source": [
    "state = tf.placeholder(dtype=tf.float32, shape=[None, state_dim])  # input to Q network\n",
    "next_state = tf.placeholder(dtype=tf.float32, shape=[None, state_dim])  # input to target network\n",
    "action = tf.placeholder(dtype=tf.int32, shape=[None])  # action indices (indices of Q network output)\n",
    "reward = tf.placeholder(dtype=tf.float32, shape=[None])  # rewards for target computation\n",
    "not_done = tf.placeholder(dtype=tf.float32, shape=[None])  # indicators for target computation"
   ]
  },
  {
   "cell_type": "markdown",
   "metadata": {},
   "source": [
    "### Episode Counter"
   ]
  },
  {
   "cell_type": "markdown",
   "metadata": {},
   "source": [
    "We add a variable to keep track of episodes:"
   ]
  },
  {
   "cell_type": "code",
   "execution_count": null,
   "metadata": {},
   "outputs": [],
   "source": [
    "episode_count = tf.Variable(0.0, trainable=False, name='episode_count')\n",
    "add_episode = episode_count.assign_add(1)"
   ]
  },
  {
   "cell_type": "markdown",
   "metadata": {},
   "source": [
    "### Deep Q Networks"
   ]
  },
  {
   "cell_type": "markdown",
   "metadata": {},
   "source": [
    "We will create two DQNs to predict q values for the current and next state, where we hold the weights for the second network that's fixed when predicting the next state:"
   ]
  },
  {
   "cell_type": "code",
   "execution_count": null,
   "metadata": {},
   "outputs": [],
   "source": [
    "with tf.variable_scope('Q_Network'):\n",
    "    # Q network applied to current observation\n",
    "    q_action_values = create_network(state,\n",
    "                                     layers=layers,\n",
    "                                     trainable=True,\n",
    "                                     reuse=False)\n",
    "\n",
    "    # Q network applied to next_observation\n",
    "    next_q_action_values = tf.stop_gradient(create_network(next_state,\n",
    "                                                           layers=layers,\n",
    "                                                           trainable=False,\n",
    "                                                           reuse=True))"
   ]
  },
  {
   "cell_type": "markdown",
   "metadata": {},
   "source": [
    "### Slow-Moving Target Network"
   ]
  },
  {
   "cell_type": "markdown",
   "metadata": {},
   "source": [
    "In addition, we will create the target network that we update every tau periods:"
   ]
  },
  {
   "cell_type": "code",
   "execution_count": null,
   "metadata": {},
   "outputs": [],
   "source": [
    "with tf.variable_scope('Target_Network', reuse=False):\n",
    "    target_action_values = tf.stop_gradient(create_network(next_state,\n",
    "                                                           layers=layers,\n",
    "                                                           trainable=False,\n",
    "                                                           reuse=False))"
   ]
  },
  {
   "cell_type": "markdown",
   "metadata": {},
   "source": [
    "### Collect Variables and Operations"
   ]
  },
  {
   "cell_type": "markdown",
   "metadata": {},
   "source": [
    "To build TensorFlow's computational graph, we need to collect the relevant variables and operations:"
   ]
  },
  {
   "cell_type": "code",
   "execution_count": null,
   "metadata": {},
   "outputs": [],
   "source": [
    "q_network_variables = tf.get_collection(tf.GraphKeys.TRAINABLE_VARIABLES, scope='Q_Network')\n",
    "target_network_variables = tf.get_collection(tf.GraphKeys.GLOBAL_VARIABLES, scope='Target_Network')\n",
    "\n",
    "# update target network weights\n",
    "update_target_ops = []\n",
    "for i, target_variable in enumerate(target_network_variables):\n",
    "    update_target_op = target_variable.assign(q_network_variables[i])\n",
    "    update_target_ops.append(update_target_op)\n",
    "update_target_op = tf.group(*update_target_ops, name='update_target')"
   ]
  },
  {
   "cell_type": "markdown",
   "metadata": {},
   "source": [
    "### Compute Q-Learning updates"
   ]
  },
  {
   "cell_type": "markdown",
   "metadata": {},
   "source": [
    "The target, yi, and the predicted q value is computed as follows:"
   ]
  },
  {
   "cell_type": "code",
   "execution_count": null,
   "metadata": {},
   "outputs": [],
   "source": [
    "# Q target calculation \n",
    "targets = reward + not_done * gamma * tf.gather_nd(target_action_values, tf.stack(\n",
    "                (tf.range(minibatch_size), tf.cast(tf.argmax(next_q_action_values, axis=1), tf.int32)), axis=1))\n",
    "\n",
    "\n",
    "# Estimated Q values for (s,a) from experience replay\n",
    "predicted_q_value = tf.gather_nd(q_action_values,\n",
    "                                 tf.stack((tf.range(minibatch_size),\n",
    "                                           action), axis=1))"
   ]
  },
  {
   "cell_type": "markdown",
   "metadata": {},
   "source": [
    "### Compute Loss Function"
   ]
  },
  {
   "cell_type": "markdown",
   "metadata": {},
   "source": [
    "Finally, the TD loss function that's used for stochastic gradient descent is the mean squared error (MSE) between the target and prediction:"
   ]
  },
  {
   "cell_type": "code",
   "execution_count": null,
   "metadata": {},
   "outputs": [],
   "source": [
    "losses = tf.squared_difference(targets, predicted_q_value)\n",
    "loss = tf.reduce_mean(losses)\n",
    "loss += tf.add_n([tf.nn.l2_loss(var) for var in q_network_variables if 'bias' not in var.name]) * l2_reg * 0.5"
   ]
  },
  {
   "cell_type": "markdown",
   "metadata": {},
   "source": [
    "### Tensorboard summaries"
   ]
  },
  {
   "cell_type": "markdown",
   "metadata": {},
   "source": [
    "To view results in [tensorboard](https://www.tensorflow.org/guide/summaries_and_tensorboard), we need to define summaries:"
   ]
  },
  {
   "cell_type": "code",
   "execution_count": null,
   "metadata": {},
   "outputs": [],
   "source": [
    "summaries = tf.summary.merge([\n",
    "    tf.summary.scalar('episode', episode_count),\n",
    "    tf.summary.scalar('loss', loss),\n",
    "    tf.summary.scalar('max_q_value', tf.reduce_max(predicted_q_value)),\n",
    "    tf.summary.histogram('loss_hist', losses),\n",
    "    tf.summary.histogram('q_values', predicted_q_value)])"
   ]
  },
  {
   "cell_type": "markdown",
   "metadata": {},
   "source": [
    "### Set optimizer"
   ]
  },
  {
   "cell_type": "markdown",
   "metadata": {},
   "source": [
    "We'll use the [AdamOptimizer](https://www.tensorflow.org/api_docs/python/tf/train/AdamOptimizer):"
   ]
  },
  {
   "cell_type": "code",
   "execution_count": null,
   "metadata": {},
   "outputs": [],
   "source": [
    "train_op = tf.train.AdamOptimizer(learning_rate).minimize(loss,\n",
    "                                                          global_step=tf.train.create_global_step())"
   ]
  },
  {
   "cell_type": "markdown",
   "metadata": {},
   "source": [
    "### Initialize TensorFlow session"
   ]
  },
  {
   "cell_type": "code",
   "execution_count": 9,
   "metadata": {},
   "outputs": [
    {
     "name": "stdout",
     "output_type": "stream",
     "text": [
      "WARNING:tensorflow:From /home/stefan/.pyenv/versions/miniconda3-latest/envs/ml4t/lib/python3.6/site-packages/tensorflow/python/framework/op_def_library.py:263: colocate_with (from tensorflow.python.framework.ops) is deprecated and will be removed in a future version.\n",
      "Instructions for updating:\n",
      "Colocations handled automatically by placer.\n",
      "WARNING:tensorflow:From <ipython-input-7-178a7f73e60f>:9: dense (from tensorflow.python.layers.core) is deprecated and will be removed in a future version.\n",
      "Instructions for updating:\n",
      "Use keras.layers.dense instead.\n",
      "WARNING:tensorflow:From /home/stefan/.pyenv/versions/miniconda3-latest/envs/ml4t/lib/python3.6/site-packages/tensorflow/python/ops/math_ops.py:3066: to_int32 (from tensorflow.python.ops.math_ops) is deprecated and will be removed in a future version.\n",
      "Instructions for updating:\n",
      "Use tf.cast instead.\n"
     ]
    }
   ],
   "source": [
    "sess = tf.Session()\n",
    "sess.run(tf.global_variables_initializer())"
   ]
  },
  {
   "cell_type": "markdown",
   "metadata": {},
   "source": [
    "## Run Experiment"
   ]
  },
  {
   "cell_type": "markdown",
   "metadata": {},
   "source": [
    "### Set parameters"
   ]
  },
  {
   "cell_type": "code",
   "execution_count": 19,
   "metadata": {},
   "outputs": [],
   "source": [
    "total_steps, max_episodes = 0, 10000\n",
    "experience = deque(maxlen=replay_capacity)\n",
    "episode_time, navs, market_navs,diffs, episode_eps = [], [], [], [],[]"
   ]
  },
  {
   "cell_type": "markdown",
   "metadata": {},
   "source": [
    "### Initialize variables"
   ]
  },
  {
   "cell_type": "code",
   "execution_count": 16,
   "metadata": {},
   "outputs": [],
   "source": [
    "experience = deque(maxlen=replay_capacity)\n",
    "episode_time, episode_steps, episode_rewards, episode_eps = [], [], [], []"
   ]
  },
  {
   "cell_type": "code",
   "execution_count": 14,
   "metadata": {},
   "outputs": [],
   "source": [
    "epsilon = epsilon_start\n",
    "epsilon_linear_step = (epsilon_start - epsilon_end) / epsilon_linear_steps"
   ]
  },
  {
   "cell_type": "markdown",
   "metadata": {},
   "source": [
    "### Train Agent"
   ]
  },
  {
   "cell_type": "code",
   "execution_count": 23,
   "metadata": {
    "scrolled": false
   },
   "outputs": [
    {
     "name": "stdout",
     "output_type": "stream",
     "text": [
      "   0 | NAV: 0.534 | Market NAV: 1.836 | Delta:    0 | 00:00.47 | eps:  0.999\n",
      " 250 | NAV: 0.797 | Market NAV: 1.331 | Delta:   19 | 00:56.60 | eps:  0.886\n",
      " 500 | NAV: 0.774 | Market NAV: 1.253 | Delta:   23 | 01:55.27 | eps:  0.772\n",
      " 750 | NAV: 0.801 | Market NAV: 1.431 | Delta:   16 | 02:56.54 | eps:  0.659\n",
      "1000 | NAV: 0.849 | Market NAV: 1.406 | Delta:   26 | 04:07.49 | eps:  0.545\n",
      "1250 | NAV: 0.819 | Market NAV: 1.303 | Delta:   13 | 05:19.67 | eps:  0.432\n",
      "1500 | NAV: 0.974 | Market NAV: 1.297 | Delta:   29 | 06:31.60 | eps:  0.319\n",
      "1750 | NAV: 0.938 | Market NAV: 1.359 | Delta:   30 | 07:45.69 | eps:  0.205\n",
      "2000 | NAV: 1.081 | Market NAV: 1.403 | Delta:   25 | 09:02.94 | eps:  0.100\n",
      "2250 | NAV: 1.132 | Market NAV: 1.492 | Delta:   25 | 10:23.32 | eps:  0.097\n",
      "2500 | NAV: 1.014 | Market NAV: 1.324 | Delta:   21 | 11:46.05 | eps:  0.095\n",
      "2750 | NAV: 1.017 | Market NAV: 1.359 | Delta:   21 | 13:11.42 | eps:  0.093\n",
      "3000 | NAV: 1.089 | Market NAV: 1.275 | Delta:   35 | 14:39.76 | eps:  0.090\n",
      "3250 | NAV: 1.154 | Market NAV: 1.323 | Delta:   30 | 16:10.79 | eps:  0.088\n",
      "3500 | NAV: 1.184 | Market NAV: 1.315 | Delta:   37 | 17:44.59 | eps:  0.086\n",
      "3750 | NAV: 1.167 | Market NAV: 1.375 | Delta:   21 | 19:21.34 | eps:  0.084\n",
      "4000 | NAV: 1.184 | Market NAV: 1.385 | Delta:   29 | 21:03.62 | eps:  0.082\n",
      "4250 | NAV: 1.189 | Market NAV: 1.390 | Delta:   30 | 22:51.81 | eps:  0.080\n",
      "4500 | NAV: 1.272 | Market NAV: 1.372 | Delta:   33 | 24:41.07 | eps:  0.078\n",
      "4750 | NAV: 1.086 | Market NAV: 1.317 | Delta:   32 | 26:22.23 | eps:  0.076\n",
      "5000 | NAV: 1.202 | Market NAV: 1.379 | Delta:   36 | 28:08.88 | eps:  0.074\n",
      "5250 | NAV: 1.221 | Market NAV: 1.326 | Delta:   34 | 29:51.13 | eps:  0.072\n",
      "5500 | NAV: 1.207 | Market NAV: 1.284 | Delta:   33 | 31:32.27 | eps:  0.070\n",
      "5750 | NAV: 1.263 | Market NAV: 1.448 | Delta:   24 | 33:13.59 | eps:  0.069\n",
      "6000 | NAV: 1.198 | Market NAV: 1.306 | Delta:   42 | 34:54.84 | eps:  0.067\n",
      "6250 | NAV: 1.164 | Market NAV: 1.251 | Delta:   44 | 36:36.06 | eps:  0.065\n",
      "6500 | NAV: 1.276 | Market NAV: 1.412 | Delta:   37 | 38:17.27 | eps:  0.064\n",
      "6750 | NAV: 1.259 | Market NAV: 1.456 | Delta:   29 | 39:58.54 | eps:  0.062\n",
      "7000 | NAV: 1.139 | Market NAV: 1.302 | Delta:   30 | 41:39.79 | eps:  0.061\n",
      "7250 | NAV: 1.228 | Market NAV: 1.347 | Delta:   37 | 43:21.06 | eps:  0.059\n",
      "7500 | NAV: 1.129 | Market NAV: 1.264 | Delta:   37 | 45:02.75 | eps:  0.058\n",
      "7750 | NAV: 1.202 | Market NAV: 1.334 | Delta:   35 | 46:43.78 | eps:  0.056\n",
      "8000 | NAV: 1.174 | Market NAV: 1.333 | Delta:   31 | 48:27.57 | eps:  0.055\n",
      "8250 | NAV: 1.138 | Market NAV: 1.293 | Delta:   40 | 50:11.39 | eps:  0.053\n",
      "8500 | NAV: 1.300 | Market NAV: 1.392 | Delta:   44 | 51:57.41 | eps:  0.052\n",
      "8750 | NAV: 1.271 | Market NAV: 1.442 | Delta:   28 | 53:47.43 | eps:  0.051\n",
      "9000 | NAV: 1.291 | Market NAV: 1.458 | Delta:   43 | 55:30.47 | eps:  0.050\n",
      "9250 | NAV: 1.173 | Market NAV: 1.317 | Delta:   35 | 57:11.88 | eps:  0.048\n",
      "9500 | NAV: 1.139 | Market NAV: 1.338 | Delta:   33 | 58:54.60 | eps:  0.047\n",
      "9750 | NAV: 1.132 | Market NAV: 1.320 | Delta:   30 | 00:36.03 | eps:  0.046\n"
     ]
    }
   ],
   "source": [
    "for episode in range(max_episodes):\n",
    "    episode_start = time()\n",
    "    episode_reward = 0\n",
    "    episode_eps.append(epsilon)\n",
    "\n",
    "    # Initial state\n",
    "    this_observation = trading_environment.reset()\n",
    "    for episode_step in range(max_episode_steps):\n",
    "\n",
    "        # choose action according to epsilon-greedy policy wrt Q\n",
    "\n",
    "        if random() < epsilon:\n",
    "            src = 'eps'\n",
    "            selected_action = randint(n_actions)\n",
    "        else:\n",
    "            src = 'q'\n",
    "            q_s = sess.run(q_action_values,\n",
    "                           feed_dict={state: this_observation[None]})\n",
    "            selected_action = np.argmax(q_s)\n",
    "\n",
    "        next_observation, step_reward, done, _ = trading_environment.step(selected_action)\n",
    "        episode_reward += step_reward\n",
    "\n",
    "        # add to replay buffer\n",
    "        experience.append((this_observation,\n",
    "                           selected_action,\n",
    "                           step_reward,\n",
    "                           next_observation,\n",
    "                           0.0 if done else 1.0))\n",
    "\n",
    "        # update the target weights\n",
    "        if total_steps % tau == 0:\n",
    "            _ = sess.run(update_target_op)\n",
    "\n",
    "        # update weights using minibatch of (s,a,r,s') samples from experience\n",
    "        if len(experience) >= minibatch_size:\n",
    "            minibatch = map(np.array, zip(\n",
    "                *sample(experience, minibatch_size)))\n",
    "            states_batch, action_batch, reward_batch, next_states_batch, done_batch = minibatch\n",
    "\n",
    "            # do a train_op with required inputs\n",
    "            feed_dict = {\n",
    "                state: states_batch,\n",
    "                action: action_batch,\n",
    "                reward: reward_batch,\n",
    "                next_state: next_states_batch,\n",
    "                not_done: done_batch}\n",
    "            _ = sess.run([train_op],\n",
    "                         feed_dict=feed_dict)\n",
    "\n",
    "        this_observation = next_observation\n",
    "        total_steps += 1\n",
    "\n",
    "        # linearly decay epsilon from epsilon_start to epsilon_end for epsilon_linear_steps\n",
    "        if total_steps < epsilon_linear_steps:\n",
    "            epsilon -= epsilon_linear_step\n",
    "        # then exponentially decay every episode\n",
    "        elif done:\n",
    "            epsilon *= epsilon_exp_decay\n",
    "\n",
    "        if done:\n",
    "            # Increment episode counter\n",
    "            episode_, _ = sess.run([episode_count, add_episode])\n",
    "            break\n",
    "\n",
    "    episode_time.append(time()-episode_start)\n",
    "    result = trading_environment.env.sim.result()\n",
    "    final = result.iloc[-1]\n",
    "\n",
    "    nav = final.nav * (1 + final.strategy_return)\n",
    "    navs.append(nav)\n",
    "\n",
    "    market_nav = final.market_nav\n",
    "    market_navs.append(market_nav)\n",
    "\n",
    "    diff = nav - market_nav\n",
    "    diffs.append(diff)\n",
    "    if episode % 250 == 0:\n",
    "        track_results(episode,\n",
    "                      np.mean(navs[-100:]),\n",
    "                      np.mean(market_navs[-100:]),\n",
    "                      np.sum([s > 0 for s in diffs[-100:]]),\n",
    "                      sum(episode_time),\n",
    "                      epsilon)\n",
    "\n",
    "    if len(diffs) > 25 and all([r > 0 for r in diffs[-25:]]):\n",
    "        print(result.tail())\n",
    "        break\n",
    "\n",
    "trading_environment.close()"
   ]
  },
  {
   "cell_type": "markdown",
   "metadata": {},
   "source": [
    "### Store Results"
   ]
  },
  {
   "cell_type": "code",
   "execution_count": 27,
   "metadata": {},
   "outputs": [],
   "source": [
    "results = pd.DataFrame({'episode': list(range(1, episode + 2)),\n",
    "                        'nav': navs,\n",
    "                        'market_nav': market_navs,\n",
    "                        'outperform': diffs})\n",
    "\n",
    "fn = 'trading_agent_result_no_cost.csv'\n",
    "results.to_csv(fn, index=False)"
   ]
  },
  {
   "cell_type": "markdown",
   "metadata": {},
   "source": [
    "### Evaluate Results"
   ]
  },
  {
   "cell_type": "code",
   "execution_count": 34,
   "metadata": {},
   "outputs": [
    {
     "name": "stdout",
     "output_type": "stream",
     "text": [
      "<class 'pandas.core.frame.DataFrame'>\n",
      "Int64Index: 14039 entries, 1 to 14039\n",
      "Data columns (total 4 columns):\n",
      "Agent                14039 non-null float64\n",
      "Market               14039 non-null float64\n",
      "difference           14039 non-null float64\n",
      "Strategy Wins (%)    13940 non-null float64\n",
      "dtypes: float64(4)\n",
      "memory usage: 548.4 KB\n"
     ]
    }
   ],
   "source": [
    "results = pd.read_csv('trading_agent_result.csv')\n",
    "results.columns = ['Episode', 'Agent', 'Market', 'difference']\n",
    "results = results.set_index('Episode')\n",
    "results['Strategy Wins (%)'] = (results.difference > 0).rolling(100).sum()\n",
    "results.info()"
   ]
  },
  {
   "cell_type": "markdown",
   "metadata": {},
   "source": [
    "The following diagram shows the rolling average of agent and market returns over 100 periods on the left, and the share of the last 100 periods the agent outperformed the market on the right. It uses AAPL stock data for which there are some 9,000 daily price and volume observations. Training stopped after 14,000 trading periods when the agent beat the market 10 consecutive times.\n",
    "\n",
    "It shows how the agent's performance improves significantly while exploring at a higher rate over the first ~3,000 periods (that is, years) and approaches a level where it outperforms the market around 40 percent of the time, despite transaction costs. In a few instances, it beats the market about half the time out of 100 periods:"
   ]
  },
  {
   "cell_type": "code",
   "execution_count": 35,
   "metadata": {},
   "outputs": [
    {
     "data": {
      "image/png": "[encoded data removed]",
      "text/plain": [
       "<Figure size 1008x288 with 2 Axes>"
      ]
     },
     "metadata": {},
     "output_type": "display_data"
    }
   ],
   "source": [
    "fig, axes = plt.subplots(ncols=2, figsize=(14,4))\n",
    "(results[['Agent', 'Market']]\n",
    " .sub(1)\n",
    " .rolling(100)\n",
    " .mean()\n",
    " .plot(ax=axes[0], \n",
    "       title='Annual Returns (Moving Average)', lw=1))\n",
    "results['Strategy Wins (%)'].div(100).rolling(50).mean().plot(ax=axes[1], title='Agent Outperformance (%, Moving Average)');\n",
    "for ax in axes:\n",
    "    ax.yaxis.set_major_formatter(FuncFormatter(lambda y, _: '{:.0%}'.format(y)))\n",
    "    ax.xaxis.set_major_formatter(FuncFormatter(lambda x, _: '{:,.0f}'.format(x)))\n",
    "fig.tight_layout()\n",
    "# fig.savefig('figures/trading_agent', dpi=300)"
   ]
  },
  {
   "cell_type": "markdown",
   "metadata": {},
   "source": [
    "## Summary"
   ]
  },
  {
   "cell_type": "markdown",
   "metadata": {},
   "source": [
    "This relatively simple agent uses limited information beyond the latest market data and the reward signal compared to the machine learning models we covered elsewhere in this book. Nonetheless, it learns to make a profit and approach the market (after training on several thousand year's worth of data, which takes around 30 minutes).\n",
    "\n",
    "Keep in mind that using a single stock also increase the risk of overfitting the data by a lot. You can test your trained agent on new data using the saved model (see the notebook on the Lunar Lander).\n",
    "\n",
    "In conclusion, we have demonstrated the mechanics of setting up a RL trading environment and experimented with a basic agent that uses a small number of technical indicators. You should try to extend both the environment and the agent so that you can choose from several assets, size their positions, and manage risks.\n",
    "\n",
    "More specifically, the environment samples a stock price time series for a single ticker from a random start date to simulate a trading period of 252 days, or 1 year (default). The agent has three options, that is, buying (long), short, or exiting its position, and faces a 10bps trading plus a 1bps time cost per period."
   ]
  },
  {
   "cell_type": "code",
   "execution_count": null,
   "metadata": {},
   "outputs": [],
   "source": []
  }
 ],
 "metadata": {
  "kernelspec": {
   "display_name": "Python 3",
   "language": "python",
   "name": "python3"
  },
  "language_info": {
   "codemirror_mode": {
    "name": "ipython",
    "version": 3
   },
   "file_extension": ".py",
   "mimetype": "text/x-python",
   "name": "python",
   "nbconvert_exporter": "python",
   "pygments_lexer": "ipython3",
   "version": "3.6.8"
  },
  "toc": {
   "base_numbering": 1,
   "nav_menu": {},
   "number_sections": true,
   "sideBar": true,
   "skip_h1_title": true,
   "title_cell": "Table of Contents",
   "title_sidebar": "Contents",
   "toc_cell": false,
   "toc_position": {
    "height": "calc(100% - 180px)",
    "left": "10px",
    "top": "150px",
    "width": "230.909px"
   },
   "toc_section_display": true,
   "toc_window_display": true
  }
 },
 "nbformat": 4,
 "nbformat_minor": 2
}
