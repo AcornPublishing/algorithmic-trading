{
 "cells": [
  {
   "cell_type": "markdown",
   "metadata": {},
   "source": [
    "# Text classification and sentiment analysis: Twitter"
   ]
  },
  {
   "cell_type": "markdown",
   "metadata": {},
   "source": [
    "Once text data has been converted into numerical features using the natural language processing techniques discussed in the previous sections, text classification works just like any other classification task.\n",
    "\n",
    "In this notebook, we will apply these preprocessing technique to news articles, product reviews, and Twitter data and teach various classifiers to predict discrete news categories, review scores, and sentiment polarity."
   ]
  },
  {
   "cell_type": "markdown",
   "metadata": {},
   "source": [
    "## Imports"
   ]
  },
  {
   "cell_type": "code",
   "execution_count": 1,
   "metadata": {
    "ExecuteTime": {
     "end_time": "2018-11-26T06:37:13.006374Z",
     "start_time": "2018-11-26T06:37:12.515786Z"
    }
   },
   "outputs": [],
   "source": [
    "%matplotlib inline\n",
    "import warnings\n",
    "from collections import Counter, OrderedDict\n",
    "from pathlib import Path\n",
    "\n",
    "import numpy as np\n",
    "import pandas as pd\n",
    "from pandas.io.json import json_normalize\n",
    "import pyarrow as pa   \n",
    "import pyarrow.parquet as pq\n",
    "from fastparquet import ParquetFile \n",
    "from scipy import sparse\n",
    "from scipy.spatial.distance import pdist, squareform\n",
    "\n",
    "# Visualization\n",
    "import matplotlib.pyplot as plt\n",
    "from matplotlib.ticker import FuncFormatter, ScalarFormatter\n",
    "import seaborn as sns\n",
    "\n",
    "# spacy, textblob and nltk for language processing\n",
    "from textblob import TextBlob, Word\n",
    "\n",
    "# sklearn for feature extraction & modeling\n",
    "from sklearn.feature_extraction.text import CountVectorizer, TfidfVectorizer\n",
    "from sklearn.model_selection import train_test_split\n",
    "from sklearn.naive_bayes import MultinomialNB\n",
    "from sklearn.linear_model import LogisticRegression\n",
    "from sklearn.metrics import roc_auc_score, roc_curve, accuracy_score, confusion_matrix\n",
    "from sklearn.externals import joblib\n",
    "\n",
    "import lightgbm as lgb\n",
    "\n",
    "import json\n",
    "from time import clock, time"
   ]
  },
  {
   "cell_type": "code",
   "execution_count": 2,
   "metadata": {
    "ExecuteTime": {
     "end_time": "2018-11-26T06:37:13.010613Z",
     "start_time": "2018-11-26T06:37:13.007802Z"
    }
   },
   "outputs": [],
   "source": [
    "plt.style.use('fivethirtyeight')\n",
    "warnings.filterwarnings('ignore')"
   ]
  },
  {
   "cell_type": "markdown",
   "metadata": {},
   "source": [
    "## Twitter Sentiment"
   ]
  },
  {
   "cell_type": "markdown",
   "metadata": {},
   "source": [
    "We use a dataset that contains 1.6 million training and 350 test tweets from 2009 with algorithmically assigned binary positive and negative sentiment scores that are fairly evenly split."
   ]
  },
  {
   "cell_type": "markdown",
   "metadata": {},
   "source": [
    "Download the data from [here](http://cs.stanford.edu/people/alecmgo/trainingandtestdata.zip)."
   ]
  },
  {
   "cell_type": "markdown",
   "metadata": {},
   "source": [
    "Extract the content of the compressed file, move to 'data/sentiment140/' and rename the files:\n",
    "- `training.1600000.processed.noemoticon.csv` to `train.csv`, and\n",
    "- `testdata.manual.2009.06.14.csv` to `test.csv`"
   ]
  },
  {
   "cell_type": "markdown",
   "metadata": {},
   "source": [
    "- 0 - the polarity of the tweet (0 = negative, 2 = neutral, 4 = positive); training data has no neutral tweets\n",
    "- 1 - the id of the tweet (2087)\n",
    "- 2 - the date of the tweet (Sat May 16 23:58:44 UTC 2009)\n",
    "- 3 - the query (lyx). If there is no query, then this value is NO_QUERY. (only test data uses query)\n",
    "- 4 - the user that tweeted (robotickilldozr)\n",
    "- 5 - the text of the tweet (Lyx is cool)"
   ]
  },
  {
   "cell_type": "markdown",
   "metadata": {},
   "source": [
    "### Read train/test data"
   ]
  },
  {
   "cell_type": "markdown",
   "metadata": {},
   "source": [
    "We move the data to the faster parqu3et"
   ]
  },
  {
   "cell_type": "code",
   "execution_count": 3,
   "metadata": {
    "ExecuteTime": {
     "end_time": "2018-11-22T19:00:48.485331Z",
     "start_time": "2018-11-22T18:57:39.456400Z"
    }
   },
   "outputs": [],
   "source": [
    "names = ['polarity', 'id', 'date', 'query', 'user', 'text']\n",
    "train = (pd.read_csv('data/sentiment140/train.csv',\n",
    "                     low_memory=False,\n",
    "                     encoding='latin1',\n",
    "                     header=None,\n",
    "                     names=names,\n",
    "                     parse_dates=['date'])\n",
    "         .drop(['id', 'query'], axis=1)\n",
    "         .drop_duplicates(subset=['polarity', 'text']))\n",
    "\n",
    "train = train[train.text.str.len()<=140]\n",
    "train.polarity = (train.polarity>0).astype(int)"
   ]
  },
  {
   "cell_type": "code",
   "execution_count": 4,
   "metadata": {
    "ExecuteTime": {
     "end_time": "2018-11-22T19:00:48.675865Z",
     "start_time": "2018-11-22T19:00:48.486380Z"
    }
   },
   "outputs": [
    {
     "name": "stdout",
     "output_type": "stream",
     "text": [
      "<class 'pandas.core.frame.DataFrame'>\n",
      "Int64Index: 1566668 entries, 0 to 1599999\n",
      "Data columns (total 4 columns):\n",
      "polarity    1566668 non-null int64\n",
      "date        1566668 non-null datetime64[ns]\n",
      "user        1566668 non-null object\n",
      "text        1566668 non-null object\n",
      "dtypes: datetime64[ns](1), int64(1), object(2)\n",
      "memory usage: 59.8+ MB\n"
     ]
    }
   ],
   "source": [
    "train.info(null_counts=True)"
   ]
  },
  {
   "cell_type": "code",
   "execution_count": 5,
   "metadata": {
    "ExecuteTime": {
     "end_time": "2018-11-22T19:00:49.731086Z",
     "start_time": "2018-11-22T19:00:48.676975Z"
    }
   },
   "outputs": [],
   "source": [
    "train.to_parquet('data/sentiment140/train.parquet')"
   ]
  },
  {
   "cell_type": "code",
   "execution_count": 7,
   "metadata": {
    "ExecuteTime": {
     "end_time": "2018-11-22T19:17:51.114458Z",
     "start_time": "2018-11-22T19:17:51.034471Z"
    }
   },
   "outputs": [],
   "source": [
    "test = (pd.read_csv('data/sentiment140/test.csv',\n",
    "                    low_memory=False,\n",
    "                    encoding='latin1',\n",
    "                    header=None,\n",
    "                    names=names,\n",
    "                    parse_dates=['date'])\n",
    "        .drop(['id', 'query'], axis=1)\n",
    "        .drop_duplicates(subset=['polarity', 'text']))\n",
    "test = test[(test.text.str.len()<=140) & (test.polarity.isin([0,4]))]"
   ]
  },
  {
   "cell_type": "code",
   "execution_count": 8,
   "metadata": {
    "ExecuteTime": {
     "end_time": "2018-11-22T19:17:51.785326Z",
     "start_time": "2018-11-22T19:17:51.769276Z"
    }
   },
   "outputs": [
    {
     "name": "stdout",
     "output_type": "stream",
     "text": [
      "<class 'pandas.core.frame.DataFrame'>\n",
      "Int64Index: 354 entries, 0 to 497\n",
      "Data columns (total 4 columns):\n",
      "polarity    354 non-null int64\n",
      "date        354 non-null datetime64[ns, UTC]\n",
      "user        354 non-null object\n",
      "text        354 non-null object\n",
      "dtypes: datetime64[ns, UTC](1), int64(1), object(2)\n",
      "memory usage: 13.8+ KB\n"
     ]
    }
   ],
   "source": [
    "test.info()"
   ]
  },
  {
   "cell_type": "code",
   "execution_count": 9,
   "metadata": {
    "ExecuteTime": {
     "end_time": "2018-11-22T19:17:53.872380Z",
     "start_time": "2018-11-22T19:17:53.867964Z"
    }
   },
   "outputs": [],
   "source": [
    "test.to_parquet('data/sentiment140/test.parquet')"
   ]
  },
  {
   "cell_type": "code",
   "execution_count": 10,
   "metadata": {
    "ExecuteTime": {
     "end_time": "2018-11-22T19:16:36.901020Z",
     "start_time": "2018-11-22T19:16:36.392462Z"
    }
   },
   "outputs": [],
   "source": [
    "train = pd.read_parquet('data/sentiment140/train.parquet')\n",
    "test = pd.read_parquet('data/sentiment140/test.parquet')"
   ]
  },
  {
   "cell_type": "markdown",
   "metadata": {},
   "source": [
    "### Explore data"
   ]
  },
  {
   "cell_type": "code",
   "execution_count": 11,
   "metadata": {
    "ExecuteTime": {
     "end_time": "2018-11-22T19:18:03.927318Z",
     "start_time": "2018-11-22T19:18:03.920661Z"
    }
   },
   "outputs": [
    {
     "data": {
      "text/html": [
       "<div>\n",
       "<style scoped>\n",
       "    .dataframe tbody tr th:only-of-type {\n",
       "        vertical-align: middle;\n",
       "    }\n",
       "\n",
       "    .dataframe tbody tr th {\n",
       "        vertical-align: top;\n",
       "    }\n",
       "\n",
       "    .dataframe thead th {\n",
       "        text-align: right;\n",
       "    }\n",
       "</style>\n",
       "<table border=\"1\" class=\"dataframe\">\n",
       "  <thead>\n",
       "    <tr style=\"text-align: right;\">\n",
       "      <th></th>\n",
       "      <th>polarity</th>\n",
       "      <th>date</th>\n",
       "      <th>user</th>\n",
       "      <th>text</th>\n",
       "    </tr>\n",
       "  </thead>\n",
       "  <tbody>\n",
       "    <tr>\n",
       "      <th>0</th>\n",
       "      <td>0</td>\n",
       "      <td>2009-04-06 22:19:45</td>\n",
       "      <td>_TheSpecialOne_</td>\n",
       "      <td>@switchfoot http://twitpic.com/2y1zl - Awww, t...</td>\n",
       "    </tr>\n",
       "    <tr>\n",
       "      <th>1</th>\n",
       "      <td>0</td>\n",
       "      <td>2009-04-06 22:19:49</td>\n",
       "      <td>scotthamilton</td>\n",
       "      <td>is upset that he can't update his Facebook by ...</td>\n",
       "    </tr>\n",
       "    <tr>\n",
       "      <th>2</th>\n",
       "      <td>0</td>\n",
       "      <td>2009-04-06 22:19:53</td>\n",
       "      <td>mattycus</td>\n",
       "      <td>@Kenichan I dived many times for the ball. Man...</td>\n",
       "    </tr>\n",
       "    <tr>\n",
       "      <th>3</th>\n",
       "      <td>0</td>\n",
       "      <td>2009-04-06 22:19:57</td>\n",
       "      <td>ElleCTF</td>\n",
       "      <td>my whole body feels itchy and like its on fire</td>\n",
       "    </tr>\n",
       "    <tr>\n",
       "      <th>4</th>\n",
       "      <td>0</td>\n",
       "      <td>2009-04-06 22:19:57</td>\n",
       "      <td>Karoli</td>\n",
       "      <td>@nationwideclass no, it's not behaving at all....</td>\n",
       "    </tr>\n",
       "  </tbody>\n",
       "</table>\n",
       "</div>"
      ],
      "text/plain": [
       "   polarity                date             user  \\\n",
       "0         0 2009-04-06 22:19:45  _TheSpecialOne_   \n",
       "1         0 2009-04-06 22:19:49    scotthamilton   \n",
       "2         0 2009-04-06 22:19:53         mattycus   \n",
       "3         0 2009-04-06 22:19:57          ElleCTF   \n",
       "4         0 2009-04-06 22:19:57           Karoli   \n",
       "\n",
       "                                                text  \n",
       "0  @switchfoot http://twitpic.com/2y1zl - Awww, t...  \n",
       "1  is upset that he can't update his Facebook by ...  \n",
       "2  @Kenichan I dived many times for the ball. Man...  \n",
       "3    my whole body feels itchy and like its on fire   \n",
       "4  @nationwideclass no, it's not behaving at all....  "
      ]
     },
     "execution_count": 11,
     "metadata": {},
     "output_type": "execute_result"
    }
   ],
   "source": [
    "train.head()"
   ]
  },
  {
   "cell_type": "code",
   "execution_count": 12,
   "metadata": {
    "ExecuteTime": {
     "end_time": "2018-11-22T19:18:12.927468Z",
     "start_time": "2018-11-22T19:18:12.911852Z"
    }
   },
   "outputs": [
    {
     "data": {
      "text/plain": [
       "1    784335\n",
       "0    782333\n",
       "Name: polarity, dtype: int64"
      ]
     },
     "execution_count": 12,
     "metadata": {},
     "output_type": "execute_result"
    }
   ],
   "source": [
    "train.polarity = (train.polarity>0).astype(int)\n",
    "train.polarity.value_counts()"
   ]
  },
  {
   "cell_type": "code",
   "execution_count": 13,
   "metadata": {
    "ExecuteTime": {
     "end_time": "2018-11-22T19:18:15.622426Z",
     "start_time": "2018-11-22T19:18:15.548936Z"
    }
   },
   "outputs": [
    {
     "data": {
      "text/plain": [
       "1    180\n",
       "0    174\n",
       "Name: polarity, dtype: int64"
      ]
     },
     "execution_count": 13,
     "metadata": {},
     "output_type": "execute_result"
    }
   ],
   "source": [
    "test.polarity = (test.polarity>0).astype(int)\n",
    "test.polarity.value_counts()"
   ]
  },
  {
   "cell_type": "code",
   "execution_count": 14,
   "metadata": {
    "ExecuteTime": {
     "end_time": "2018-11-22T19:18:20.141090Z",
     "start_time": "2018-11-22T19:18:19.641846Z"
    }
   },
   "outputs": [
    {
     "data": {
      "image/png": "[encoded data removed]",
      "text/plain": [
       "<Figure size 432x288 with 1 Axes>"
      ]
     },
     "metadata": {},
     "output_type": "display_data"
    }
   ],
   "source": [
    "sns.distplot(train.text.str.len(), kde=False);"
   ]
  },
  {
   "cell_type": "code",
   "execution_count": 15,
   "metadata": {
    "ExecuteTime": {
     "end_time": "2018-11-22T19:18:20.259126Z",
     "start_time": "2018-11-22T19:18:20.143288Z"
    }
   },
   "outputs": [
    {
     "data": {
      "text/plain": [
       "count                 1566668\n",
       "unique                 765666\n",
       "top       2009-06-15 12:53:14\n",
       "freq                       20\n",
       "first     2009-04-06 22:19:45\n",
       "last      2009-06-25 10:28:31\n",
       "Name: date, dtype: object"
      ]
     },
     "execution_count": 15,
     "metadata": {},
     "output_type": "execute_result"
    }
   ],
   "source": [
    "train.date.describe()"
   ]
  },
  {
   "cell_type": "code",
   "execution_count": 16,
   "metadata": {
    "ExecuteTime": {
     "end_time": "2018-11-22T19:18:20.488156Z",
     "start_time": "2018-11-22T19:18:20.260138Z"
    }
   },
   "outputs": [
    {
     "data": {
      "text/plain": [
       "650606"
      ]
     },
     "execution_count": 16,
     "metadata": {},
     "output_type": "execute_result"
    }
   ],
   "source": [
    "train.user.nunique()"
   ]
  },
  {
   "cell_type": "code",
   "execution_count": 17,
   "metadata": {
    "ExecuteTime": {
     "end_time": "2018-11-22T19:16:29.418393Z",
     "start_time": "2018-11-22T19:16:28.813193Z"
    }
   },
   "outputs": [
    {
     "data": {
      "text/plain": [
       "lost_dog           549\n",
       "webwoke            341\n",
       "SallytheShizzle    276\n",
       "VioletsCRUK        275\n",
       "mcraddictal        274\n",
       "tsarnick           247\n",
       "what_bugs_u        246\n",
       "Karen230683        237\n",
       "DarkPiano          232\n",
       "SongoftheOss       226\n",
       "Name: user, dtype: int64"
      ]
     },
     "execution_count": 17,
     "metadata": {},
     "output_type": "execute_result"
    }
   ],
   "source": [
    "train.user.value_counts().head(10)"
   ]
  },
  {
   "cell_type": "markdown",
   "metadata": {},
   "source": [
    "### Create text vectorizer"
   ]
  },
  {
   "cell_type": "markdown",
   "metadata": {},
   "source": [
    "We create a document-term matrix with 934 tokens as follows:"
   ]
  },
  {
   "cell_type": "code",
   "execution_count": 18,
   "metadata": {
    "ExecuteTime": {
     "end_time": "2018-11-22T19:19:01.584161Z",
     "start_time": "2018-11-22T19:18:47.830361Z"
    }
   },
   "outputs": [],
   "source": [
    "vectorizer = CountVectorizer(min_df=.001, max_df=.8, stop_words='english')\n",
    "train_dtm = vectorizer.fit_transform(train.text)"
   ]
  },
  {
   "cell_type": "code",
   "execution_count": 19,
   "metadata": {
    "ExecuteTime": {
     "end_time": "2018-11-22T19:19:01.587749Z",
     "start_time": "2018-11-22T19:19:01.585491Z"
    }
   },
   "outputs": [
    {
     "data": {
      "text/plain": [
       "<1566668x934 sparse matrix of type '<class 'numpy.int64'>'\n",
       "\twith 6332930 stored elements in Compressed Sparse Row format>"
      ]
     },
     "execution_count": 19,
     "metadata": {},
     "output_type": "execute_result"
    }
   ],
   "source": [
    "train_dtm"
   ]
  },
  {
   "cell_type": "code",
   "execution_count": 20,
   "metadata": {
    "ExecuteTime": {
     "end_time": "2018-11-22T19:19:13.384051Z",
     "start_time": "2018-11-22T19:19:13.378622Z"
    }
   },
   "outputs": [],
   "source": [
    "test_dtm = vectorizer.transform(test.text)"
   ]
  },
  {
   "cell_type": "markdown",
   "metadata": {},
   "source": [
    "### Train Naive Bayes Classifier"
   ]
  },
  {
   "cell_type": "code",
   "execution_count": 21,
   "metadata": {
    "ExecuteTime": {
     "end_time": "2018-11-22T19:27:27.856821Z",
     "start_time": "2018-11-22T19:27:27.695934Z"
    }
   },
   "outputs": [
    {
     "data": {
      "text/plain": [
       "MultinomialNB(alpha=1.0, class_prior=None, fit_prior=True)"
      ]
     },
     "execution_count": 21,
     "metadata": {},
     "output_type": "execute_result"
    }
   ],
   "source": [
    "nb = MultinomialNB()\n",
    "nb.fit(train_dtm, train.polarity)"
   ]
  },
  {
   "cell_type": "markdown",
   "metadata": {},
   "source": [
    "### Predict Test Polarity"
   ]
  },
  {
   "cell_type": "code",
   "execution_count": 22,
   "metadata": {},
   "outputs": [],
   "source": [
    "predicted_polarity = nb.predict(test_dtm)"
   ]
  },
  {
   "cell_type": "markdown",
   "metadata": {},
   "source": [
    "### Evaluate Results"
   ]
  },
  {
   "cell_type": "code",
   "execution_count": 24,
   "metadata": {
    "ExecuteTime": {
     "end_time": "2018-11-22T19:27:47.481529Z",
     "start_time": "2018-11-22T19:27:47.468974Z"
    }
   },
   "outputs": [
    {
     "data": {
      "text/plain": [
       "0.7768361581920904"
      ]
     },
     "execution_count": 24,
     "metadata": {},
     "output_type": "execute_result"
    }
   ],
   "source": [
    "accuracy_score(test.polarity, predicted_polarity)"
   ]
  },
  {
   "cell_type": "markdown",
   "metadata": {},
   "source": [
    "### TextBlob for Sentiment Analysis"
   ]
  },
  {
   "cell_type": "code",
   "execution_count": 25,
   "metadata": {
    "ExecuteTime": {
     "end_time": "2018-11-22T19:57:48.007733Z",
     "start_time": "2018-11-22T19:57:48.001084Z"
    }
   },
   "outputs": [
    {
     "name": "stdout",
     "output_type": "stream",
     "text": [
      "Ok its cake and ice cream time! Ha! See what I'm talking about! The temptation is there! \n"
     ]
    },
    {
     "data": {
      "text/plain": [
       "1.0"
      ]
     },
     "execution_count": 25,
     "metadata": {},
     "output_type": "execute_result"
    }
   ],
   "source": [
    "sample_positive = train.text.loc[256332]\n",
    "print(sample_positive)\n",
    "parsed_positive = TextBlob(sample_positive)\n",
    "parsed_positive.polarity"
   ]
  },
  {
   "cell_type": "code",
   "execution_count": 26,
   "metadata": {
    "ExecuteTime": {
     "end_time": "2018-11-22T19:57:48.496070Z",
     "start_time": "2018-11-22T19:57:48.488459Z"
    }
   },
   "outputs": [
    {
     "name": "stdout",
     "output_type": "stream",
     "text": [
      " i hate this place\n"
     ]
    },
    {
     "data": {
      "text/plain": [
       "-0.8"
      ]
     },
     "execution_count": 26,
     "metadata": {},
     "output_type": "execute_result"
    }
   ],
   "source": [
    "sample_negative = train.text.loc[636079]\n",
    "print(sample_negative)\n",
    "parsed_negative = TextBlob(sample_negative)\n",
    "parsed_negative.polarity"
   ]
  },
  {
   "cell_type": "code",
   "execution_count": 27,
   "metadata": {
    "ExecuteTime": {
     "end_time": "2018-11-22T19:01:50.649282Z",
     "start_time": "2018-11-22T19:01:50.644939Z"
    }
   },
   "outputs": [],
   "source": [
    "def estimate_polarity(text):\n",
    "    return TextBlob(text).sentiment.polarity"
   ]
  },
  {
   "cell_type": "code",
   "execution_count": 28,
   "metadata": {
    "ExecuteTime": {
     "end_time": "2018-11-22T19:57:50.952685Z",
     "start_time": "2018-11-22T19:57:50.872680Z"
    }
   },
   "outputs": [
    {
     "data": {
      "text/html": [
       "<div>\n",
       "<style scoped>\n",
       "    .dataframe tbody tr th:only-of-type {\n",
       "        vertical-align: middle;\n",
       "    }\n",
       "\n",
       "    .dataframe tbody tr th {\n",
       "        vertical-align: top;\n",
       "    }\n",
       "\n",
       "    .dataframe thead th {\n",
       "        text-align: right;\n",
       "    }\n",
       "</style>\n",
       "<table border=\"1\" class=\"dataframe\">\n",
       "  <thead>\n",
       "    <tr style=\"text-align: right;\">\n",
       "      <th></th>\n",
       "      <th>text</th>\n",
       "      <th>sentiment</th>\n",
       "    </tr>\n",
       "  </thead>\n",
       "  <tbody>\n",
       "    <tr>\n",
       "      <th>286878</th>\n",
       "      <td>Waiting to board the plane. Frustrated that Sa...</td>\n",
       "      <td>-0.141667</td>\n",
       "    </tr>\n",
       "    <tr>\n",
       "      <th>608505</th>\n",
       "      <td>I FEEL SO LOST RIGHT NOW.  wtf..</td>\n",
       "      <td>-0.107143</td>\n",
       "    </tr>\n",
       "    <tr>\n",
       "      <th>1049211</th>\n",
       "      <td>Chocolate cookies with cocoa nibs and lime rec...</td>\n",
       "      <td>0.000000</td>\n",
       "    </tr>\n",
       "    <tr>\n",
       "      <th>1054879</th>\n",
       "      <td>@GrahamNelson You're a cubs fan?! Oh boy. http...</td>\n",
       "      <td>0.000000</td>\n",
       "    </tr>\n",
       "    <tr>\n",
       "      <th>261809</th>\n",
       "      <td>work tomorrow. goodbye weekend</td>\n",
       "      <td>0.000000</td>\n",
       "    </tr>\n",
       "    <tr>\n",
       "      <th>776057</th>\n",
       "      <td>damn mood off..leavimg m dear home..hyderabad....</td>\n",
       "      <td>0.000000</td>\n",
       "    </tr>\n",
       "    <tr>\n",
       "      <th>1296985</th>\n",
       "      <td>is packing her bag and wants to dive into the ...</td>\n",
       "      <td>0.066667</td>\n",
       "    </tr>\n",
       "    <tr>\n",
       "      <th>1180514</th>\n",
       "      <td>yay new moon is a trending topic on twitter</td>\n",
       "      <td>0.136364</td>\n",
       "    </tr>\n",
       "    <tr>\n",
       "      <th>350779</th>\n",
       "      <td>Forget same page... I think I'm reading a whol...</td>\n",
       "      <td>0.175000</td>\n",
       "    </tr>\n",
       "    <tr>\n",
       "      <th>425694</th>\n",
       "      <td>@tommcfly you would get on really well with my...</td>\n",
       "      <td>0.200000</td>\n",
       "    </tr>\n",
       "  </tbody>\n",
       "</table>\n",
       "</div>"
      ],
      "text/plain": [
       "                                                      text  sentiment\n",
       "286878   Waiting to board the plane. Frustrated that Sa...  -0.141667\n",
       "608505                    I FEEL SO LOST RIGHT NOW.  wtf..  -0.107143\n",
       "1049211  Chocolate cookies with cocoa nibs and lime rec...   0.000000\n",
       "1054879  @GrahamNelson You're a cubs fan?! Oh boy. http...   0.000000\n",
       "261809                     work tomorrow. goodbye weekend    0.000000\n",
       "776057   damn mood off..leavimg m dear home..hyderabad....   0.000000\n",
       "1296985  is packing her bag and wants to dive into the ...   0.066667\n",
       "1180514       yay new moon is a trending topic on twitter    0.136364\n",
       "350779   Forget same page... I think I'm reading a whol...   0.175000\n",
       "425694   @tommcfly you would get on really well with my...   0.200000"
      ]
     },
     "execution_count": 28,
     "metadata": {},
     "output_type": "execute_result"
    }
   ],
   "source": [
    "train[['text']].sample(10).assign(sentiment=lambda x: x.text.apply(estimate_polarity)).sort_values('sentiment')"
   ]
  },
  {
   "cell_type": "markdown",
   "metadata": {},
   "source": [
    "### Compare with TextBlob Polarity Score"
   ]
  },
  {
   "cell_type": "markdown",
   "metadata": {},
   "source": [
    "We also obtain TextBlob sentiment scores for the tweets and note (see left panel in below figure) that positive test tweets receive a significantly higher sentiment estimate. We then use the MultinomialNB ‘s model .predict_proba() method to compute predicted probabilities and compare both models using the respective Area Under the Curve (see right panel below)."
   ]
  },
  {
   "cell_type": "code",
   "execution_count": 29,
   "metadata": {
    "ExecuteTime": {
     "end_time": "2018-11-22T19:19:35.423684Z",
     "start_time": "2018-11-22T19:19:35.301114Z"
    }
   },
   "outputs": [],
   "source": [
    "test['sentiment'] = test.text.apply(estimate_polarity)"
   ]
  },
  {
   "cell_type": "code",
   "execution_count": 30,
   "metadata": {
    "ExecuteTime": {
     "end_time": "2018-11-22T19:39:00.506536Z",
     "start_time": "2018-11-22T19:39:00.492227Z"
    }
   },
   "outputs": [
    {
     "data": {
      "text/plain": [
       "0.7429378531073446"
      ]
     },
     "execution_count": 30,
     "metadata": {},
     "output_type": "execute_result"
    }
   ],
   "source": [
    "accuracy_score(test.polarity, (test.sentiment>0).astype(int))"
   ]
  },
  {
   "cell_type": "markdown",
   "metadata": {},
   "source": [
    "#### ROC AUC Scores"
   ]
  },
  {
   "cell_type": "code",
   "execution_count": 31,
   "metadata": {
    "ExecuteTime": {
     "end_time": "2018-11-22T19:24:36.678618Z",
     "start_time": "2018-11-22T19:24:36.673660Z"
    }
   },
   "outputs": [
    {
     "data": {
      "text/plain": [
       "0.8254948914431672"
      ]
     },
     "execution_count": 31,
     "metadata": {},
     "output_type": "execute_result"
    }
   ],
   "source": [
    "roc_auc_score(y_true=test.polarity, y_score=test.sentiment)"
   ]
  },
  {
   "cell_type": "code",
   "execution_count": 32,
   "metadata": {
    "ExecuteTime": {
     "end_time": "2018-11-22T19:24:59.154671Z",
     "start_time": "2018-11-22T19:24:59.150504Z"
    }
   },
   "outputs": [
    {
     "data": {
      "text/plain": [
       "0.848595146871009"
      ]
     },
     "execution_count": 32,
     "metadata": {},
     "output_type": "execute_result"
    }
   ],
   "source": [
    "roc_auc_score(y_true=test.polarity, y_score=nb.predict_proba(test_dtm)[:, 1])"
   ]
  },
  {
   "cell_type": "code",
   "execution_count": 33,
   "metadata": {
    "ExecuteTime": {
     "end_time": "2018-11-22T19:35:57.575353Z",
     "start_time": "2018-11-22T19:35:57.568683Z"
    }
   },
   "outputs": [],
   "source": [
    "fpr_tb, tpr_tb, _ = roc_curve(y_true=test.polarity, y_score=test.sentiment)\n",
    "roc_tb = pd.Series(tpr_tb, index=fpr_tb)\n",
    "fpr_nb, tpr_nb, _ = roc_curve(y_true=test.polarity, y_score=nb.predict_proba(test_dtm)[:, 1])\n",
    "roc_nb = pd.Series(tpr_nb, index=fpr_nb)"
   ]
  },
  {
   "cell_type": "markdown",
   "metadata": {},
   "source": [
    "The Naive Bayes model outperforms TextBlob in this case."
   ]
  },
  {
   "cell_type": "code",
   "execution_count": 34,
   "metadata": {
    "ExecuteTime": {
     "end_time": "2018-11-22T19:38:33.287623Z",
     "start_time": "2018-11-22T19:38:32.991173Z"
    }
   },
   "outputs": [
    {
     "data": {
      "image/png": "[encoded data removed]",
      "text/plain": [
       "<Figure size 1008x432 with 2 Axes>"
      ]
     },
     "metadata": {},
     "output_type": "display_data"
    }
   ],
   "source": [
    "fig, axes = plt.subplots(ncols=2, figsize=(14, 6))\n",
    "sns.boxplot(x='polarity', y='sentiment', data=test, ax=axes[0])\n",
    "axes[0].set_title('TextBlob Sentiment Scores')\n",
    "roc_nb.plot(ax=axes[1], label='Naive Bayes', legend=True, lw=1, title='ROC Curves')\n",
    "roc_tb.plot(ax=axes[1], label='TextBlob', legend=True, lw=1)\n",
    "fig.tight_layout();"
   ]
  }
 ],
 "metadata": {
  "celltoolbar": "Slideshow",
  "kernelspec": {
   "display_name": "Python 3",
   "language": "python",
   "name": "python3"
  },
  "language_info": {
   "codemirror_mode": {
    "name": "ipython",
    "version": 3
   },
   "file_extension": ".py",
   "mimetype": "text/x-python",
   "name": "python",
   "nbconvert_exporter": "python",
   "pygments_lexer": "ipython3",
   "version": "3.6.8"
  },
  "toc": {
   "base_numbering": 1,
   "nav_menu": {},
   "number_sections": true,
   "sideBar": true,
   "skip_h1_title": true,
   "title_cell": "Table of Contents",
   "title_sidebar": "Contents",
   "toc_cell": false,
   "toc_position": {
    "height": "calc(100% - 180px)",
    "left": "10px",
    "top": "150px",
    "width": "316px"
   },
   "toc_section_display": true,
   "toc_window_display": true
  }
 },
 "nbformat": 4,
 "nbformat_minor": 2
}
