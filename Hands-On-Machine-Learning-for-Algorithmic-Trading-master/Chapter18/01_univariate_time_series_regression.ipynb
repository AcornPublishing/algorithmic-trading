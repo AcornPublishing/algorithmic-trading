{
 "cells": [
  {
   "cell_type": "markdown",
   "metadata": {
    "pycharm": {}
   },
   "source": [
    "# Recurrent Neural Networks"
   ]
  },
  {
   "cell_type": "markdown",
   "metadata": {
    "pycharm": {}
   },
   "source": [
    "## Univariate Time Series Regression"
   ]
  },
  {
   "cell_type": "markdown",
   "metadata": {
    "pycharm": {}
   },
   "source": [
    "This notebook demonstrates how to forecast the S&P 500 index using a Recurrent Neural Network."
   ]
  },
  {
   "cell_type": "markdown",
   "metadata": {},
   "source": [
    "## Run inside docker container for GPU acceleration"
   ]
  },
  {
   "cell_type": "markdown",
   "metadata": {},
   "source": [
    "See [tensorflow guide](https://www.tensorflow.org/install/docker) and more detailed [instructions](https://blog.sicara.com/tensorflow-gpu-opencv-jupyter-docker-10705b6cd1d)"
   ]
  },
  {
   "cell_type": "markdown",
   "metadata": {},
   "source": [
    "`docker run -it -p 8889:8888 -v /path/to/machine-learning-for-trading/18_recurrent_neural_nets:/rnn --name tensorflow tensorflow/tensorflow:latest-gpu-py3 bash`"
   ]
  },
  {
   "cell_type": "markdown",
   "metadata": {},
   "source": [
    "Inside docker container: \n",
    "`jupyter notebook --ip 0.0.0.0 --no-browser --allow-root`"
   ]
  },
  {
   "cell_type": "markdown",
   "metadata": {
    "pycharm": {}
   },
   "source": [
    "## Imports & Settings"
   ]
  },
  {
   "cell_type": "code",
   "execution_count": 1,
   "metadata": {
    "pycharm": {}
   },
   "outputs": [
    {
     "name": "stderr",
     "output_type": "stream",
     "text": [
      "Using TensorFlow backend.\n"
     ]
    }
   ],
   "source": [
    "%matplotlib inline\n",
    "import numpy as np\n",
    "import pandas as pd\n",
    "import matplotlib.pyplot as plt\n",
    "import seaborn as sns\n",
    "import pandas_datareader.data as web\n",
    "from datetime import datetime, date\n",
    "from sklearn.metrics import mean_squared_error, roc_auc_score\n",
    "from sklearn.preprocessing import minmax_scale\n",
    "from keras.callbacks import ModelCheckpoint, EarlyStopping\n",
    "from keras.models import Sequential\n",
    "from keras.layers import Dense, LSTM\n",
    "import keras"
   ]
  },
  {
   "cell_type": "code",
   "execution_count": 2,
   "metadata": {
    "pycharm": {}
   },
   "outputs": [],
   "source": [
    "sns.set_style('whitegrid')\n",
    "np.random.seed(42)"
   ]
  },
  {
   "cell_type": "markdown",
   "metadata": {
    "pycharm": {}
   },
   "source": [
    "## Get Data"
   ]
  },
  {
   "cell_type": "markdown",
   "metadata": {
    "pycharm": {}
   },
   "source": [
    "We obtain data for 2010-2018 from the Federal Reserve Bank’s Data Service [FRED](https://fred.stlouisfed.org/) using the [pandas_datareader](https://pandas-datareader.readthedocs.io/) library in introduced in [Chapter 2 on Market and Fundamental Data](../02_market_and_fundamental_data)."
   ]
  },
  {
   "cell_type": "code",
   "execution_count": 3,
   "metadata": {
    "pycharm": {}
   },
   "outputs": [
    {
     "name": "stdout",
     "output_type": "stream",
     "text": [
      "<class 'pandas.core.frame.DataFrame'>\n",
      "DatetimeIndex: 2264 entries, 2010-01-04 to 2018-12-31\n",
      "Data columns (total 1 columns):\n",
      "SP500    2264 non-null float64\n",
      "dtypes: float64(1)\n",
      "memory usage: 35.4 KB\n"
     ]
    }
   ],
   "source": [
    "sp500 = web.DataReader('SP500', 'fred', start='2010', end='2019').dropna()\n",
    "sp500.info()"
   ]
  },
  {
   "cell_type": "markdown",
   "metadata": {
    "pycharm": {}
   },
   "source": [
    "## Preprocessing"
   ]
  },
  {
   "cell_type": "code",
   "execution_count": 4,
   "metadata": {
    "pycharm": {}
   },
   "outputs": [
    {
     "data": {
      "text/html": [
       "<div>\n",
       "<style scoped>\n",
       "    .dataframe tbody tr th:only-of-type {\n",
       "        vertical-align: middle;\n",
       "    }\n",
       "\n",
       "    .dataframe tbody tr th {\n",
       "        vertical-align: top;\n",
       "    }\n",
       "\n",
       "    .dataframe thead th {\n",
       "        text-align: right;\n",
       "    }\n",
       "</style>\n",
       "<table border=\"1\" class=\"dataframe\">\n",
       "  <thead>\n",
       "    <tr style=\"text-align: right;\">\n",
       "      <th></th>\n",
       "      <th>SP500</th>\n",
       "    </tr>\n",
       "  </thead>\n",
       "  <tbody>\n",
       "    <tr>\n",
       "      <th>count</th>\n",
       "      <td>2264.000000</td>\n",
       "    </tr>\n",
       "    <tr>\n",
       "      <th>mean</th>\n",
       "      <td>0.437175</td>\n",
       "    </tr>\n",
       "    <tr>\n",
       "      <th>std</th>\n",
       "      <td>0.272843</td>\n",
       "    </tr>\n",
       "    <tr>\n",
       "      <th>min</th>\n",
       "      <td>0.000000</td>\n",
       "    </tr>\n",
       "    <tr>\n",
       "      <th>25%</th>\n",
       "      <td>0.172811</td>\n",
       "    </tr>\n",
       "    <tr>\n",
       "      <th>50%</th>\n",
       "      <td>0.462480</td>\n",
       "    </tr>\n",
       "    <tr>\n",
       "      <th>75%</th>\n",
       "      <td>0.600596</td>\n",
       "    </tr>\n",
       "    <tr>\n",
       "      <th>max</th>\n",
       "      <td>1.000000</td>\n",
       "    </tr>\n",
       "  </tbody>\n",
       "</table>\n",
       "</div>"
      ],
      "text/plain": [
       "             SP500\n",
       "count  2264.000000\n",
       "mean      0.437175\n",
       "std       0.272843\n",
       "min       0.000000\n",
       "25%       0.172811\n",
       "50%       0.462480\n",
       "75%       0.600596\n",
       "max       1.000000"
      ]
     },
     "execution_count": 4,
     "metadata": {},
     "output_type": "execute_result"
    }
   ],
   "source": [
    "sp500_scaled = sp500.apply(minmax_scale)\n",
    "sp500_scaled.describe()"
   ]
  },
  {
   "cell_type": "markdown",
   "metadata": {
    "pycharm": {}
   },
   "source": [
    "## Generating recurrent sequences from our time series\n",
    "\n",
    "Our time series is a sequence of numbers indexed by time:\n",
    "\n",
    "$$x_{0},x_{1},x_{2},...,x_{T}$$\n",
    "\n",
    "where $\\{x_t\\}$ is the numerical value in period $t$ and  $T$ is the total length of the series. \n",
    "\n",
    "To apply a RNN for regression of classification, we use a sliding window to construct a rolling set of input/output pairs for our model to learn from as animated below.\n",
    "\n",
    "<img src=\"images/timeseries_windowing.gif\" width=600 height=600/>"
   ]
  },
  {
   "cell_type": "markdown",
   "metadata": {
    "pycharm": {}
   },
   "source": [
    "We will generate sequences of 63 trading days, approximately three months, and use a single LSTM layer with 20 hidden units to predict the index value one timestep ahead. \n",
    "The input to every LSTM layer must have three dimensions, namely:\n",
    "- **Samples**: One sequence is one sample. A batch contains one or more samples.\n",
    "- **Time Steps**: One time step is one point of observation in the sample.\n",
    "- **Features**: One feature is one observation at a time step.\n",
    "\n",
    "Our S&P 500 sample has 2,264 observations or time steps. We will create overlapping sequences using a window of 63 observations each.\n",
    "For a simpler window of size T = 5, we obtain input-output pairs as shown in the following table:"
   ]
  },
  {
   "cell_type": "markdown",
   "metadata": {
    "pycharm": {}
   },
   "source": [
    "$$\\begin{array}{c|c}\n",
    "\\text{Input} & \\text{Output}\\\\\n",
    "\\hline  {\\langle x_1,x_2,x_3,x_4,x_5\\rangle} & { x_6} \\\\\n",
    "\\ {\\langle x_{2},x_{3},x_{4},x_{5},x_{6} \\rangle } & {x_{7} } \\\\\n",
    "  {\\vdots} & {\\vdots}\\\\\n",
    " { \\langle x_{T-5},x_{T-4},x_{T-3},x_{T-2},x_{T-1} \\rangle } &  {x_{T}}\n",
    "\\end{array}$$"
   ]
  },
  {
   "cell_type": "markdown",
   "metadata": {
    "pycharm": {}
   },
   "source": [
    "Generally speaking, for window size S, the relationship takes the form \n",
    "\n",
    "$$x_t = f( x_{t-1}, x_{t-2}, ..., x_{t-S}) \\quad\\forall t=S, S+1, ..., T$$\n",
    "\n",
    "Each of the $T-S$ lagged input sequence or vector is of length S with a corresponding scalar output."
   ]
  },
  {
   "cell_type": "markdown",
   "metadata": {
    "pycharm": {}
   },
   "source": [
    "We can use the function create_univariate_rnn_data() to stack sequences selected using a rolling windows:"
   ]
  },
  {
   "cell_type": "code",
   "execution_count": 8,
   "metadata": {
    "pycharm": {}
   },
   "outputs": [],
   "source": [
    "def create_univariate_rnn_data(data, window_size):\n",
    "    y = data[window_size:]\n",
    "    data = data.values.reshape(-1, 1) # make 2D\n",
    "    n = data.shape[0]\n",
    "    X = np.hstack(tuple([data[i: n-j, :] for i, j in enumerate(range(window_size, 0, -1))]))\n",
    "    return pd.DataFrame(X, index=y.index), y"
   ]
  },
  {
   "cell_type": "markdown",
   "metadata": {
    "pycharm": {}
   },
   "source": [
    "We apply this function to the rescaled stock index for a window_size=63 to obtain a two-dimensional dataset of shape number of samples x number of timesteps:"
   ]
  },
  {
   "cell_type": "code",
   "execution_count": 9,
   "metadata": {
    "pycharm": {}
   },
   "outputs": [],
   "source": [
    "window_size = 63"
   ]
  },
  {
   "cell_type": "code",
   "execution_count": 10,
   "metadata": {
    "pycharm": {}
   },
   "outputs": [],
   "source": [
    "X, y = create_univariate_rnn_data(sp500_scaled, window_size=window_size)"
   ]
  },
  {
   "cell_type": "code",
   "execution_count": 11,
   "metadata": {
    "pycharm": {}
   },
   "outputs": [
    {
     "data": {
      "text/html": [
       "<div>\n",
       "<style scoped>\n",
       "    .dataframe tbody tr th:only-of-type {\n",
       "        vertical-align: middle;\n",
       "    }\n",
       "\n",
       "    .dataframe tbody tr th {\n",
       "        vertical-align: top;\n",
       "    }\n",
       "\n",
       "    .dataframe thead th {\n",
       "        text-align: right;\n",
       "    }\n",
       "</style>\n",
       "<table border=\"1\" class=\"dataframe\">\n",
       "  <thead>\n",
       "    <tr style=\"text-align: right;\">\n",
       "      <th></th>\n",
       "      <th>0</th>\n",
       "      <th>1</th>\n",
       "      <th>2</th>\n",
       "      <th>3</th>\n",
       "      <th>4</th>\n",
       "      <th>5</th>\n",
       "      <th>6</th>\n",
       "      <th>7</th>\n",
       "      <th>8</th>\n",
       "      <th>9</th>\n",
       "      <th>...</th>\n",
       "      <th>53</th>\n",
       "      <th>54</th>\n",
       "      <th>55</th>\n",
       "      <th>56</th>\n",
       "      <th>57</th>\n",
       "      <th>58</th>\n",
       "      <th>59</th>\n",
       "      <th>60</th>\n",
       "      <th>61</th>\n",
       "      <th>62</th>\n",
       "    </tr>\n",
       "    <tr>\n",
       "      <th>DATE</th>\n",
       "      <th></th>\n",
       "      <th></th>\n",
       "      <th></th>\n",
       "      <th></th>\n",
       "      <th></th>\n",
       "      <th></th>\n",
       "      <th></th>\n",
       "      <th></th>\n",
       "      <th></th>\n",
       "      <th></th>\n",
       "      <th></th>\n",
       "      <th></th>\n",
       "      <th></th>\n",
       "      <th></th>\n",
       "      <th></th>\n",
       "      <th></th>\n",
       "      <th></th>\n",
       "      <th></th>\n",
       "      <th></th>\n",
       "      <th></th>\n",
       "      <th></th>\n",
       "    </tr>\n",
       "  </thead>\n",
       "  <tbody>\n",
       "    <tr>\n",
       "      <th>2010-04-06</th>\n",
       "      <td>0.057862</td>\n",
       "      <td>0.059712</td>\n",
       "      <td>0.060037</td>\n",
       "      <td>0.062421</td>\n",
       "      <td>0.064145</td>\n",
       "      <td>0.065193</td>\n",
       "      <td>0.059554</td>\n",
       "      <td>0.064512</td>\n",
       "      <td>0.065969</td>\n",
       "      <td>0.059455</td>\n",
       "      <td>...</td>\n",
       "      <td>0.075061</td>\n",
       "      <td>0.079443</td>\n",
       "      <td>0.076062</td>\n",
       "      <td>0.075020</td>\n",
       "      <td>0.075470</td>\n",
       "      <td>0.078945</td>\n",
       "      <td>0.078971</td>\n",
       "      <td>0.076959</td>\n",
       "      <td>0.081502</td>\n",
       "      <td>0.086397</td>\n",
       "    </tr>\n",
       "    <tr>\n",
       "      <th>2010-04-07</th>\n",
       "      <td>0.059712</td>\n",
       "      <td>0.060037</td>\n",
       "      <td>0.062421</td>\n",
       "      <td>0.064145</td>\n",
       "      <td>0.065193</td>\n",
       "      <td>0.059554</td>\n",
       "      <td>0.064512</td>\n",
       "      <td>0.065969</td>\n",
       "      <td>0.059455</td>\n",
       "      <td>0.066897</td>\n",
       "      <td>...</td>\n",
       "      <td>0.079443</td>\n",
       "      <td>0.076062</td>\n",
       "      <td>0.075020</td>\n",
       "      <td>0.075470</td>\n",
       "      <td>0.078945</td>\n",
       "      <td>0.078971</td>\n",
       "      <td>0.076959</td>\n",
       "      <td>0.081502</td>\n",
       "      <td>0.086397</td>\n",
       "      <td>0.087445</td>\n",
       "    </tr>\n",
       "    <tr>\n",
       "      <th>2010-04-08</th>\n",
       "      <td>0.060037</td>\n",
       "      <td>0.062421</td>\n",
       "      <td>0.064145</td>\n",
       "      <td>0.065193</td>\n",
       "      <td>0.059554</td>\n",
       "      <td>0.064512</td>\n",
       "      <td>0.065969</td>\n",
       "      <td>0.059455</td>\n",
       "      <td>0.066897</td>\n",
       "      <td>0.060508</td>\n",
       "      <td>...</td>\n",
       "      <td>0.076062</td>\n",
       "      <td>0.075020</td>\n",
       "      <td>0.075470</td>\n",
       "      <td>0.078945</td>\n",
       "      <td>0.078971</td>\n",
       "      <td>0.076959</td>\n",
       "      <td>0.081502</td>\n",
       "      <td>0.086397</td>\n",
       "      <td>0.087445</td>\n",
       "      <td>0.083782</td>\n",
       "    </tr>\n",
       "    <tr>\n",
       "      <th>2010-04-09</th>\n",
       "      <td>0.062421</td>\n",
       "      <td>0.064145</td>\n",
       "      <td>0.065193</td>\n",
       "      <td>0.059554</td>\n",
       "      <td>0.064512</td>\n",
       "      <td>0.065969</td>\n",
       "      <td>0.059455</td>\n",
       "      <td>0.066897</td>\n",
       "      <td>0.060508</td>\n",
       "      <td>0.049209</td>\n",
       "      <td>...</td>\n",
       "      <td>0.075020</td>\n",
       "      <td>0.075470</td>\n",
       "      <td>0.078945</td>\n",
       "      <td>0.078971</td>\n",
       "      <td>0.076959</td>\n",
       "      <td>0.081502</td>\n",
       "      <td>0.086397</td>\n",
       "      <td>0.087445</td>\n",
       "      <td>0.083782</td>\n",
       "      <td>0.085873</td>\n",
       "    </tr>\n",
       "    <tr>\n",
       "      <th>2010-04-12</th>\n",
       "      <td>0.064145</td>\n",
       "      <td>0.065193</td>\n",
       "      <td>0.059554</td>\n",
       "      <td>0.064512</td>\n",
       "      <td>0.065969</td>\n",
       "      <td>0.059455</td>\n",
       "      <td>0.066897</td>\n",
       "      <td>0.060508</td>\n",
       "      <td>0.049209</td>\n",
       "      <td>0.036255</td>\n",
       "      <td>...</td>\n",
       "      <td>0.075470</td>\n",
       "      <td>0.078945</td>\n",
       "      <td>0.078971</td>\n",
       "      <td>0.076959</td>\n",
       "      <td>0.081502</td>\n",
       "      <td>0.086397</td>\n",
       "      <td>0.087445</td>\n",
       "      <td>0.083782</td>\n",
       "      <td>0.085873</td>\n",
       "      <td>0.090029</td>\n",
       "    </tr>\n",
       "  </tbody>\n",
       "</table>\n",
       "<p>5 rows × 63 columns</p>\n",
       "</div>"
      ],
      "text/plain": [
       "                  0         1         2         3         4         5   \\\n",
       "DATE                                                                     \n",
       "2010-04-06  0.057862  0.059712  0.060037  0.062421  0.064145  0.065193   \n",
       "2010-04-07  0.059712  0.060037  0.062421  0.064145  0.065193  0.059554   \n",
       "2010-04-08  0.060037  0.062421  0.064145  0.065193  0.059554  0.064512   \n",
       "2010-04-09  0.062421  0.064145  0.065193  0.059554  0.064512  0.065969   \n",
       "2010-04-12  0.064145  0.065193  0.059554  0.064512  0.065969  0.059455   \n",
       "\n",
       "                  6         7         8         9   ...        53        54  \\\n",
       "DATE                                                ...                       \n",
       "2010-04-06  0.059554  0.064512  0.065969  0.059455  ...  0.075061  0.079443   \n",
       "2010-04-07  0.064512  0.065969  0.059455  0.066897  ...  0.079443  0.076062   \n",
       "2010-04-08  0.065969  0.059455  0.066897  0.060508  ...  0.076062  0.075020   \n",
       "2010-04-09  0.059455  0.066897  0.060508  0.049209  ...  0.075020  0.075470   \n",
       "2010-04-12  0.066897  0.060508  0.049209  0.036255  ...  0.075470  0.078945   \n",
       "\n",
       "                  55        56        57        58        59        60  \\\n",
       "DATE                                                                     \n",
       "2010-04-06  0.076062  0.075020  0.075470  0.078945  0.078971  0.076959   \n",
       "2010-04-07  0.075020  0.075470  0.078945  0.078971  0.076959  0.081502   \n",
       "2010-04-08  0.075470  0.078945  0.078971  0.076959  0.081502  0.086397   \n",
       "2010-04-09  0.078945  0.078971  0.076959  0.081502  0.086397  0.087445   \n",
       "2010-04-12  0.078971  0.076959  0.081502  0.086397  0.087445  0.083782   \n",
       "\n",
       "                  61        62  \n",
       "DATE                            \n",
       "2010-04-06  0.081502  0.086397  \n",
       "2010-04-07  0.086397  0.087445  \n",
       "2010-04-08  0.087445  0.083782  \n",
       "2010-04-09  0.083782  0.085873  \n",
       "2010-04-12  0.085873  0.090029  \n",
       "\n",
       "[5 rows x 63 columns]"
      ]
     },
     "execution_count": 11,
     "metadata": {},
     "output_type": "execute_result"
    }
   ],
   "source": [
    "X.head()"
   ]
  },
  {
   "cell_type": "code",
   "execution_count": 12,
   "metadata": {
    "pycharm": {}
   },
   "outputs": [
    {
     "data": {
      "text/html": [
       "<div>\n",
       "<style scoped>\n",
       "    .dataframe tbody tr th:only-of-type {\n",
       "        vertical-align: middle;\n",
       "    }\n",
       "\n",
       "    .dataframe tbody tr th {\n",
       "        vertical-align: top;\n",
       "    }\n",
       "\n",
       "    .dataframe thead th {\n",
       "        text-align: right;\n",
       "    }\n",
       "</style>\n",
       "<table border=\"1\" class=\"dataframe\">\n",
       "  <thead>\n",
       "    <tr style=\"text-align: right;\">\n",
       "      <th></th>\n",
       "      <th>SP500</th>\n",
       "    </tr>\n",
       "    <tr>\n",
       "      <th>DATE</th>\n",
       "      <th></th>\n",
       "    </tr>\n",
       "  </thead>\n",
       "  <tbody>\n",
       "    <tr>\n",
       "      <th>2010-04-06</th>\n",
       "      <td>0.087445</td>\n",
       "    </tr>\n",
       "    <tr>\n",
       "      <th>2010-04-07</th>\n",
       "      <td>0.083782</td>\n",
       "    </tr>\n",
       "    <tr>\n",
       "      <th>2010-04-08</th>\n",
       "      <td>0.085873</td>\n",
       "    </tr>\n",
       "    <tr>\n",
       "      <th>2010-04-09</th>\n",
       "      <td>0.090029</td>\n",
       "    </tr>\n",
       "    <tr>\n",
       "      <th>2010-04-12</th>\n",
       "      <td>0.091134</td>\n",
       "    </tr>\n",
       "  </tbody>\n",
       "</table>\n",
       "</div>"
      ],
      "text/plain": [
       "               SP500\n",
       "DATE                \n",
       "2010-04-06  0.087445\n",
       "2010-04-07  0.083782\n",
       "2010-04-08  0.085873\n",
       "2010-04-09  0.090029\n",
       "2010-04-12  0.091134"
      ]
     },
     "execution_count": 12,
     "metadata": {},
     "output_type": "execute_result"
    }
   ],
   "source": [
    "y.head()"
   ]
  },
  {
   "cell_type": "code",
   "execution_count": 13,
   "metadata": {
    "pycharm": {}
   },
   "outputs": [
    {
     "data": {
      "text/plain": [
       "(2201, 63)"
      ]
     },
     "execution_count": 13,
     "metadata": {},
     "output_type": "execute_result"
    }
   ],
   "source": [
    "X.shape"
   ]
  },
  {
   "cell_type": "code",
   "execution_count": 14,
   "metadata": {
    "pycharm": {}
   },
   "outputs": [
    {
     "name": "stdout",
     "output_type": "stream",
     "text": [
      "<class 'pandas.core.frame.DataFrame'>\n",
      "DatetimeIndex: 2201 entries, 2010-04-06 to 2018-12-31\n",
      "Data columns (total 63 columns):\n",
      "0     2201 non-null float64\n",
      "1     2201 non-null float64\n",
      "2     2201 non-null float64\n",
      "3     2201 non-null float64\n",
      "4     2201 non-null float64\n",
      "5     2201 non-null float64\n",
      "6     2201 non-null float64\n",
      "7     2201 non-null float64\n",
      "8     2201 non-null float64\n",
      "9     2201 non-null float64\n",
      "10    2201 non-null float64\n",
      "11    2201 non-null float64\n",
      "12    2201 non-null float64\n",
      "13    2201 non-null float64\n",
      "14    2201 non-null float64\n",
      "15    2201 non-null float64\n",
      "16    2201 non-null float64\n",
      "17    2201 non-null float64\n",
      "18    2201 non-null float64\n",
      "19    2201 non-null float64\n",
      "20    2201 non-null float64\n",
      "21    2201 non-null float64\n",
      "22    2201 non-null float64\n",
      "23    2201 non-null float64\n",
      "24    2201 non-null float64\n",
      "25    2201 non-null float64\n",
      "26    2201 non-null float64\n",
      "27    2201 non-null float64\n",
      "28    2201 non-null float64\n",
      "29    2201 non-null float64\n",
      "30    2201 non-null float64\n",
      "31    2201 non-null float64\n",
      "32    2201 non-null float64\n",
      "33    2201 non-null float64\n",
      "34    2201 non-null float64\n",
      "35    2201 non-null float64\n",
      "36    2201 non-null float64\n",
      "37    2201 non-null float64\n",
      "38    2201 non-null float64\n",
      "39    2201 non-null float64\n",
      "40    2201 non-null float64\n",
      "41    2201 non-null float64\n",
      "42    2201 non-null float64\n",
      "43    2201 non-null float64\n",
      "44    2201 non-null float64\n",
      "45    2201 non-null float64\n",
      "46    2201 non-null float64\n",
      "47    2201 non-null float64\n",
      "48    2201 non-null float64\n",
      "49    2201 non-null float64\n",
      "50    2201 non-null float64\n",
      "51    2201 non-null float64\n",
      "52    2201 non-null float64\n",
      "53    2201 non-null float64\n",
      "54    2201 non-null float64\n",
      "55    2201 non-null float64\n",
      "56    2201 non-null float64\n",
      "57    2201 non-null float64\n",
      "58    2201 non-null float64\n",
      "59    2201 non-null float64\n",
      "60    2201 non-null float64\n",
      "61    2201 non-null float64\n",
      "62    2201 non-null float64\n",
      "dtypes: float64(63)\n",
      "memory usage: 1.1 MB\n"
     ]
    }
   ],
   "source": [
    "X.info()"
   ]
  },
  {
   "cell_type": "markdown",
   "metadata": {
    "pycharm": {}
   },
   "source": [
    "## Train-test split\n",
    "\n",
    "To respect the time series nature of the data, we set aside the data at the end of the sample as hold-out or test set. More specifically, we'll use the data for 2018."
   ]
  },
  {
   "cell_type": "code",
   "execution_count": 15,
   "metadata": {
    "pycharm": {}
   },
   "outputs": [
    {
     "data": {
      "image/png": "[encoded data removed]",
      "text/plain": [
       "<Figure size 432x288 with 1 Axes>"
      ]
     },
     "metadata": {},
     "output_type": "display_data"
    }
   ],
   "source": [
    "sp500_scaled.plot(lw=2);"
   ]
  },
  {
   "cell_type": "code",
   "execution_count": 16,
   "metadata": {
    "pycharm": {}
   },
   "outputs": [],
   "source": [
    "X_train = X[:'2017'].values.reshape(-1, window_size, 1)\n",
    "y_train = y[:'2017']\n",
    "\n",
    "# keep the last year for testing\n",
    "X_test = X['2018'].values.reshape(-1, window_size, 1)\n",
    "y_test = y['2018']"
   ]
  },
  {
   "cell_type": "code",
   "execution_count": 17,
   "metadata": {
    "pycharm": {}
   },
   "outputs": [],
   "source": [
    "n_obs, window_size, n_features = X_train.shape"
   ]
  },
  {
   "cell_type": "code",
   "execution_count": 18,
   "metadata": {
    "pycharm": {}
   },
   "outputs": [
    {
     "data": {
      "text/plain": [
       "(1950, 1)"
      ]
     },
     "execution_count": 18,
     "metadata": {},
     "output_type": "execute_result"
    }
   ],
   "source": [
    "y_train.shape"
   ]
  },
  {
   "cell_type": "markdown",
   "metadata": {
    "pycharm": {}
   },
   "source": [
    "## Keras LSTM Layer"
   ]
  },
  {
   "cell_type": "markdown",
   "metadata": {
    "pycharm": {}
   },
   "source": [
    "Keras has several built-in RNN layers with various configuration options described in detail in the [documentation](https://keras.io/layers/recurrent/)."
   ]
  },
  {
   "cell_type": "code",
   "execution_count": null,
   "metadata": {
    "pycharm": {}
   },
   "outputs": [],
   "source": [
    "LSTM(units, \n",
    "      activation='tanh', \n",
    "      recurrent_activation='hard_sigmoid', \n",
    "      use_bias=True,\n",
    "      kernel_initializer='glorot_uniform', \n",
    "      recurrent_initializer='orthogonal', \n",
    "      bias_initializer='zeros',\n",
    "      unit_forget_bias=True, \n",
    "      kernel_regularizer=None, \n",
    "      recurrent_regularizer=None, \n",
    "      bias_regularizer=None,\n",
    "      activity_regularizer=None, \n",
    "      kernel_constraint=None, \n",
    "      recurrent_constraint=None, \n",
    "      bias_constraint=None,\n",
    "      dropout=0.0, \n",
    "      recurrent_dropout=0.0, \n",
    "      implementation=1, \n",
    "      return_sequences=False, \n",
    "      return_state=False,\n",
    "      go_backwards=False, \n",
    "      stateful=False, \n",
    "      unroll=False)"
   ]
  },
  {
   "cell_type": "markdown",
   "metadata": {
    "pycharm": {}
   },
   "source": [
    "##  Define the Model Architecture\n",
    "\n",
    "Having created input/output pairs out of our time series and cut this into training/testing sets, we can now begin setting up our RNN.  We use Keras to quickly build a two hidden layer RNN of the following specifications\n",
    "\n",
    "- layer 1 uses an LSTM module with 20 hidden units (note here the input_shape = (window_size,1))\n",
    "- layer 2 uses a fully connected module with one unit\n",
    "- the 'mean_squared_error' loss should be used (remember: we are performing regression here)\n",
    "\n",
    "This can be constructed using just a few lines - see e.g., the [general Keras documentation](https://keras.io/getting-started/sequential-model-guide/) and the [LTSM documentation in particular](https://keras.io/layers/recurrent/) for examples of how to quickly use Keras to build neural network models.  Make sure you are initializing your optimizer given the [keras-recommended approach for RNNs](https://keras.io/optimizers/) "
   ]
  },
  {
   "cell_type": "code",
   "execution_count": 19,
   "metadata": {
    "pycharm": {}
   },
   "outputs": [
    {
     "name": "stdout",
     "output_type": "stream",
     "text": [
      "WARNING:tensorflow:From /home/stefan/.pyenv/versions/miniconda3-latest/envs/ml4t/lib/python3.6/site-packages/tensorflow/python/framework/op_def_library.py:263: colocate_with (from tensorflow.python.framework.ops) is deprecated and will be removed in a future version.\n",
      "Instructions for updating:\n",
      "Colocations handled automatically by placer.\n"
     ]
    }
   ],
   "source": [
    "rnn = Sequential([\n",
    "    LSTM(units=20, \n",
    "         input_shape=(window_size, n_features), name='LSTM'),\n",
    "    Dense(1, name='Output')\n",
    "])"
   ]
  },
  {
   "cell_type": "markdown",
   "metadata": {
    "pycharm": {}
   },
   "source": [
    "The summary shows that the model has 1,781 parameters:"
   ]
  },
  {
   "cell_type": "code",
   "execution_count": 20,
   "metadata": {
    "pycharm": {},
    "scrolled": true
   },
   "outputs": [
    {
     "name": "stdout",
     "output_type": "stream",
     "text": [
      "_________________________________________________________________\n",
      "Layer (type)                 Output Shape              Param #   \n",
      "=================================================================\n",
      "LSTM (LSTM)                  (None, 20)                1760      \n",
      "_________________________________________________________________\n",
      "Output (Dense)               (None, 1)                 21        \n",
      "=================================================================\n",
      "Total params: 1,781\n",
      "Trainable params: 1,781\n",
      "Non-trainable params: 0\n",
      "_________________________________________________________________\n"
     ]
    }
   ],
   "source": [
    "rnn.summary()"
   ]
  },
  {
   "cell_type": "markdown",
   "metadata": {
    "pycharm": {}
   },
   "source": [
    "## Train the Model"
   ]
  },
  {
   "cell_type": "markdown",
   "metadata": {
    "pycharm": {}
   },
   "source": [
    "We train the model using the RMSProp optimizer recommended for RNN with default settings and compile the model with mean squared error for this regression problem:"
   ]
  },
  {
   "cell_type": "code",
   "execution_count": 21,
   "metadata": {
    "pycharm": {}
   },
   "outputs": [],
   "source": [
    "optimizer = keras.optimizers.RMSprop(lr=0.001,\n",
    "                                     rho=0.9,\n",
    "                                     epsilon=1e-08,\n",
    "                                     decay=0.0)"
   ]
  },
  {
   "cell_type": "code",
   "execution_count": 22,
   "metadata": {
    "pycharm": {}
   },
   "outputs": [],
   "source": [
    "rnn.compile(loss='mean_squared_error', optimizer=optimizer)"
   ]
  },
  {
   "cell_type": "code",
   "execution_count": 23,
   "metadata": {
    "pycharm": {}
   },
   "outputs": [],
   "source": [
    "rnn_path = 'models/sp500.lstm5.weights.best.hdf5'\n",
    "checkpointer = ModelCheckpoint(filepath=rnn_path,\n",
    "                              monitor='val_loss',\n",
    "                              save_best_only=True,\n",
    "                              save_weights_only=True,\n",
    "                              period=5)"
   ]
  },
  {
   "cell_type": "markdown",
   "metadata": {
    "pycharm": {}
   },
   "source": [
    "We define an EarlyStopping callback and train the model for 500 episodes. "
   ]
  },
  {
   "cell_type": "code",
   "execution_count": 24,
   "metadata": {
    "pycharm": {}
   },
   "outputs": [],
   "source": [
    "early_stopping = EarlyStopping(monitor='val_loss', \n",
    "                              patience=25,\n",
    "                              restore_best_weights=True)"
   ]
  },
  {
   "cell_type": "code",
   "execution_count": 25,
   "metadata": {
    "pycharm": {},
    "scrolled": false
   },
   "outputs": [
    {
     "name": "stdout",
     "output_type": "stream",
     "text": [
      "WARNING:tensorflow:From /home/stefan/.pyenv/versions/miniconda3-latest/envs/ml4t/lib/python3.6/site-packages/tensorflow/python/ops/math_ops.py:3066: to_int32 (from tensorflow.python.ops.math_ops) is deprecated and will be removed in a future version.\n",
      "Instructions for updating:\n",
      "Use tf.cast instead.\n",
      "Train on 1950 samples, validate on 251 samples\n",
      "Epoch 1/500\n",
      "1950/1950 [==============================] - 4s 2ms/step - loss: 0.0259 - val_loss: 0.0022\n",
      "Epoch 2/500\n",
      "1950/1950 [==============================] - 3s 1ms/step - loss: 6.4320e-04 - val_loss: 0.0014\n",
      "Epoch 3/500\n",
      "1950/1950 [==============================] - 3s 1ms/step - loss: 4.0963e-04 - val_loss: 0.0043\n",
      "Epoch 4/500\n",
      "1950/1950 [==============================] - 3s 1ms/step - loss: 3.6222e-04 - val_loss: 8.3634e-04\n",
      "Epoch 5/500\n",
      "1950/1950 [==============================] - 3s 1ms/step - loss: 3.2014e-04 - val_loss: 0.0017\n",
      "Epoch 6/500\n",
      "1950/1950 [==============================] - 3s 1ms/step - loss: 2.8507e-04 - val_loss: 6.9610e-04\n",
      "Epoch 7/500\n",
      "1950/1950 [==============================] - 3s 1ms/step - loss: 2.7760e-04 - val_loss: 6.6384e-04\n",
      "Epoch 8/500\n",
      "1950/1950 [==============================] - 3s 1ms/step - loss: 2.5975e-04 - val_loss: 6.3310e-04\n",
      "Epoch 9/500\n",
      "1950/1950 [==============================] - 3s 1ms/step - loss: 2.4940e-04 - val_loss: 6.0271e-04\n",
      "Epoch 10/500\n",
      "1950/1950 [==============================] - 3s 1ms/step - loss: 2.3685e-04 - val_loss: 8.4301e-04\n",
      "Epoch 11/500\n",
      "1950/1950 [==============================] - 3s 1ms/step - loss: 2.2719e-04 - val_loss: 7.6135e-04\n",
      "Epoch 12/500\n",
      "1950/1950 [==============================] - 3s 1ms/step - loss: 2.1947e-04 - val_loss: 0.0019\n",
      "Epoch 13/500\n",
      "1950/1950 [==============================] - 3s 1ms/step - loss: 2.1333e-04 - val_loss: 5.3785e-04\n",
      "Epoch 14/500\n",
      "1950/1950 [==============================] - 3s 2ms/step - loss: 2.0020e-04 - val_loss: 6.2005e-04\n",
      "Epoch 15/500\n",
      "1950/1950 [==============================] - 3s 1ms/step - loss: 1.8950e-04 - val_loss: 0.0015\n",
      "Epoch 16/500\n",
      "1950/1950 [==============================] - 3s 1ms/step - loss: 1.8961e-04 - val_loss: 5.1533e-04\n",
      "Epoch 17/500\n",
      "1950/1950 [==============================] - 3s 2ms/step - loss: 1.8438e-04 - val_loss: 4.3401e-04\n",
      "Epoch 18/500\n",
      "1950/1950 [==============================] - 3s 2ms/step - loss: 1.7802e-04 - val_loss: 0.0017\n",
      "Epoch 19/500\n",
      "1950/1950 [==============================] - 3s 1ms/step - loss: 1.7023e-04 - val_loss: 4.1096e-04\n",
      "Epoch 20/500\n",
      "1950/1950 [==============================] - 3s 1ms/step - loss: 1.6940e-04 - val_loss: 7.7811e-04\n",
      "Epoch 21/500\n",
      "1950/1950 [==============================] - 3s 1ms/step - loss: 1.6567e-04 - val_loss: 4.2575e-04\n",
      "Epoch 22/500\n",
      "1950/1950 [==============================] - 3s 1ms/step - loss: 1.6778e-04 - val_loss: 5.9410e-04\n",
      "Epoch 23/500\n",
      "1950/1950 [==============================] - 3s 1ms/step - loss: 1.6142e-04 - val_loss: 3.4634e-04\n",
      "Epoch 24/500\n",
      "1950/1950 [==============================] - 3s 1ms/step - loss: 1.5385e-04 - val_loss: 3.3708e-04\n",
      "Epoch 25/500\n",
      "1950/1950 [==============================] - 3s 2ms/step - loss: 1.5047e-04 - val_loss: 3.5181e-04\n",
      "Epoch 26/500\n",
      "1950/1950 [==============================] - 3s 1ms/step - loss: 1.5033e-04 - val_loss: 4.0619e-04\n",
      "Epoch 27/500\n",
      "1950/1950 [==============================] - 3s 2ms/step - loss: 1.4270e-04 - val_loss: 4.9892e-04\n",
      "Epoch 28/500\n",
      "1950/1950 [==============================] - 3s 2ms/step - loss: 1.4054e-04 - val_loss: 5.5422e-04\n",
      "Epoch 29/500\n",
      "1950/1950 [==============================] - 3s 1ms/step - loss: 1.4403e-04 - val_loss: 3.2917e-04\n",
      "Epoch 30/500\n",
      "1950/1950 [==============================] - 3s 1ms/step - loss: 1.3060e-04 - val_loss: 3.1522e-04\n",
      "Epoch 31/500\n",
      "1950/1950 [==============================] - 3s 1ms/step - loss: 1.3969e-04 - val_loss: 3.8150e-04\n",
      "Epoch 32/500\n",
      "1950/1950 [==============================] - 3s 1ms/step - loss: 1.2551e-04 - val_loss: 3.9315e-04\n",
      "Epoch 33/500\n",
      "1950/1950 [==============================] - 3s 1ms/step - loss: 1.2725e-04 - val_loss: 3.1077e-04\n",
      "Epoch 34/500\n",
      "1950/1950 [==============================] - 3s 1ms/step - loss: 1.3154e-04 - val_loss: 9.7449e-04\n",
      "Epoch 35/500\n",
      "1950/1950 [==============================] - 3s 1ms/step - loss: 1.2289e-04 - val_loss: 6.6856e-04\n",
      "Epoch 36/500\n",
      "1950/1950 [==============================] - 3s 1ms/step - loss: 1.2949e-04 - val_loss: 3.7870e-04\n",
      "Epoch 37/500\n",
      "1950/1950 [==============================] - 3s 1ms/step - loss: 1.2081e-04 - val_loss: 2.8874e-04\n",
      "Epoch 38/500\n",
      "1950/1950 [==============================] - 3s 1ms/step - loss: 1.1083e-04 - val_loss: 3.3363e-04\n",
      "Epoch 39/500\n",
      "1950/1950 [==============================] - 3s 1ms/step - loss: 1.1815e-04 - val_loss: 2.8503e-04\n",
      "Epoch 40/500\n",
      "1950/1950 [==============================] - 3s 1ms/step - loss: 1.1974e-04 - val_loss: 2.7384e-04\n",
      "Epoch 41/500\n",
      "1950/1950 [==============================] - 3s 1ms/step - loss: 1.1099e-04 - val_loss: 2.7397e-04\n",
      "Epoch 42/500\n",
      "1950/1950 [==============================] - 3s 2ms/step - loss: 1.1578e-04 - val_loss: 3.0450e-04\n",
      "Epoch 43/500\n",
      "1950/1950 [==============================] - 3s 1ms/step - loss: 1.1036e-04 - val_loss: 3.4770e-04\n",
      "Epoch 44/500\n",
      "1950/1950 [==============================] - 3s 1ms/step - loss: 1.0236e-04 - val_loss: 6.2072e-04\n",
      "Epoch 45/500\n",
      "1950/1950 [==============================] - 3s 1ms/step - loss: 1.1311e-04 - val_loss: 3.3050e-04\n",
      "Epoch 46/500\n",
      "1950/1950 [==============================] - 3s 1ms/step - loss: 1.0739e-04 - val_loss: 4.8290e-04\n",
      "Epoch 47/500\n",
      "1950/1950 [==============================] - 3s 1ms/step - loss: 1.0477e-04 - val_loss: 2.8105e-04\n",
      "Epoch 48/500\n",
      "1950/1950 [==============================] - 3s 1ms/step - loss: 9.9790e-05 - val_loss: 2.6678e-04\n",
      "Epoch 49/500\n",
      "1950/1950 [==============================] - 3s 1ms/step - loss: 1.0286e-04 - val_loss: 4.1710e-04\n",
      "Epoch 50/500\n",
      "1950/1950 [==============================] - 3s 1ms/step - loss: 1.0573e-04 - val_loss: 3.1239e-04\n",
      "Epoch 51/500\n",
      "1950/1950 [==============================] - 3s 1ms/step - loss: 1.0260e-04 - val_loss: 2.6442e-04\n",
      "Epoch 52/500\n",
      "1950/1950 [==============================] - 3s 1ms/step - loss: 1.0153e-04 - val_loss: 9.4587e-04\n",
      "Epoch 53/500\n",
      "1950/1950 [==============================] - 3s 1ms/step - loss: 1.0048e-04 - val_loss: 4.5468e-04\n",
      "Epoch 54/500\n",
      "1950/1950 [==============================] - 3s 1ms/step - loss: 9.6916e-05 - val_loss: 2.6880e-04\n",
      "Epoch 55/500\n",
      "1950/1950 [==============================] - 3s 1ms/step - loss: 1.0439e-04 - val_loss: 4.1931e-04\n",
      "Epoch 56/500\n",
      "1950/1950 [==============================] - 3s 1ms/step - loss: 9.7635e-05 - val_loss: 3.1589e-04\n",
      "Epoch 57/500\n",
      "1950/1950 [==============================] - 3s 1ms/step - loss: 9.4119e-05 - val_loss: 3.1625e-04\n",
      "Epoch 58/500\n",
      "1950/1950 [==============================] - 3s 1ms/step - loss: 9.5449e-05 - val_loss: 4.9882e-04\n",
      "Epoch 59/500\n",
      "1950/1950 [==============================] - 3s 1ms/step - loss: 9.6122e-05 - val_loss: 2.7764e-04\n",
      "Epoch 60/500\n",
      "1950/1950 [==============================] - 3s 1ms/step - loss: 9.4437e-05 - val_loss: 2.6602e-04\n",
      "Epoch 61/500\n",
      "1950/1950 [==============================] - 3s 1ms/step - loss: 9.2302e-05 - val_loss: 5.5054e-04\n",
      "Epoch 62/500\n",
      "1950/1950 [==============================] - 3s 1ms/step - loss: 9.6147e-05 - val_loss: 2.4944e-04\n",
      "Epoch 63/500\n",
      "1950/1950 [==============================] - 3s 1ms/step - loss: 9.0018e-05 - val_loss: 4.9056e-04\n",
      "Epoch 64/500\n",
      "1950/1950 [==============================] - 3s 1ms/step - loss: 9.7334e-05 - val_loss: 3.5986e-04\n",
      "Epoch 65/500\n",
      "1950/1950 [==============================] - 3s 1ms/step - loss: 8.9901e-05 - val_loss: 2.6305e-04\n",
      "Epoch 66/500\n",
      "1950/1950 [==============================] - 3s 1ms/step - loss: 9.3220e-05 - val_loss: 3.1781e-04\n",
      "Epoch 67/500\n",
      "1950/1950 [==============================] - 3s 1ms/step - loss: 9.3404e-05 - val_loss: 5.4133e-04\n",
      "Epoch 68/500\n",
      "1950/1950 [==============================] - 3s 1ms/step - loss: 9.1018e-05 - val_loss: 3.5198e-04\n",
      "Epoch 69/500\n",
      "1950/1950 [==============================] - 3s 1ms/step - loss: 9.1941e-05 - val_loss: 2.3394e-04\n",
      "Epoch 70/500\n",
      "1950/1950 [==============================] - 3s 1ms/step - loss: 8.8822e-05 - val_loss: 3.5617e-04\n",
      "Epoch 71/500\n",
      "1950/1950 [==============================] - 3s 1ms/step - loss: 8.8030e-05 - val_loss: 3.9396e-04\n",
      "Epoch 72/500\n",
      "1950/1950 [==============================] - 3s 1ms/step - loss: 8.5764e-05 - val_loss: 6.6562e-04\n",
      "Epoch 73/500\n",
      "1950/1950 [==============================] - 3s 1ms/step - loss: 8.5432e-05 - val_loss: 4.6716e-04\n",
      "Epoch 74/500\n",
      "1950/1950 [==============================] - 3s 1ms/step - loss: 8.7653e-05 - val_loss: 2.4659e-04\n",
      "Epoch 75/500\n",
      "1950/1950 [==============================] - 3s 1ms/step - loss: 7.9781e-05 - val_loss: 2.3857e-04\n",
      "Epoch 76/500\n",
      "1950/1950 [==============================] - 3s 1ms/step - loss: 8.8396e-05 - val_loss: 3.5092e-04\n",
      "Epoch 77/500\n",
      "1950/1950 [==============================] - 3s 1ms/step - loss: 8.5004e-05 - val_loss: 2.3115e-04\n",
      "Epoch 78/500\n",
      "1950/1950 [==============================] - 3s 1ms/step - loss: 9.1321e-05 - val_loss: 4.1456e-04\n",
      "Epoch 79/500\n",
      "1950/1950 [==============================] - 3s 1ms/step - loss: 8.7536e-05 - val_loss: 3.9532e-04\n",
      "Epoch 80/500\n",
      "1950/1950 [==============================] - 3s 1ms/step - loss: 8.7761e-05 - val_loss: 4.0047e-04\n",
      "Epoch 81/500\n",
      "1950/1950 [==============================] - 3s 1ms/step - loss: 8.6047e-05 - val_loss: 2.3446e-04\n",
      "Epoch 82/500\n",
      "1950/1950 [==============================] - 3s 1ms/step - loss: 8.0903e-05 - val_loss: 5.7490e-04\n",
      "Epoch 83/500\n",
      "1950/1950 [==============================] - 3s 1ms/step - loss: 8.5997e-05 - val_loss: 3.4693e-04\n",
      "Epoch 84/500\n",
      "1950/1950 [==============================] - 3s 1ms/step - loss: 8.4650e-05 - val_loss: 2.4621e-04\n",
      "Epoch 85/500\n",
      "1950/1950 [==============================] - 3s 1ms/step - loss: 8.4828e-05 - val_loss: 7.6684e-04\n",
      "Epoch 86/500\n",
      "1950/1950 [==============================] - 3s 1ms/step - loss: 8.4825e-05 - val_loss: 2.4294e-04\n",
      "Epoch 87/500\n",
      "1950/1950 [==============================] - 3s 1ms/step - loss: 8.2162e-05 - val_loss: 2.8051e-04\n",
      "Epoch 88/500\n",
      "1950/1950 [==============================] - 3s 1ms/step - loss: 8.7945e-05 - val_loss: 2.9734e-04\n",
      "Epoch 89/500\n",
      "1950/1950 [==============================] - 3s 1ms/step - loss: 8.4162e-05 - val_loss: 2.3595e-04\n",
      "Epoch 90/500\n",
      "1950/1950 [==============================] - 3s 1ms/step - loss: 8.5688e-05 - val_loss: 2.2958e-04\n",
      "Epoch 91/500\n",
      "1950/1950 [==============================] - 3s 1ms/step - loss: 8.3299e-05 - val_loss: 4.1246e-04\n",
      "Epoch 92/500\n",
      "1950/1950 [==============================] - 3s 1ms/step - loss: 8.0612e-05 - val_loss: 8.1742e-04\n",
      "Epoch 93/500\n",
      "1950/1950 [==============================] - 3s 1ms/step - loss: 8.6531e-05 - val_loss: 3.3606e-04\n",
      "Epoch 94/500\n",
      "1950/1950 [==============================] - 3s 1ms/step - loss: 8.4190e-05 - val_loss: 2.5197e-04\n",
      "Epoch 95/500\n",
      "1950/1950 [==============================] - 3s 1ms/step - loss: 8.2990e-05 - val_loss: 2.9431e-04\n",
      "Epoch 96/500\n",
      "1950/1950 [==============================] - 3s 1ms/step - loss: 8.2887e-05 - val_loss: 2.3025e-04\n",
      "Epoch 97/500\n",
      "1950/1950 [==============================] - 3s 1ms/step - loss: 8.2982e-05 - val_loss: 3.2498e-04\n",
      "Epoch 98/500\n",
      "1950/1950 [==============================] - 3s 1ms/step - loss: 8.4710e-05 - val_loss: 2.5490e-04\n",
      "Epoch 99/500\n",
      "1950/1950 [==============================] - 3s 1ms/step - loss: 8.2775e-05 - val_loss: 2.6047e-04\n",
      "Epoch 100/500\n",
      "1950/1950 [==============================] - 3s 1ms/step - loss: 8.3247e-05 - val_loss: 3.5049e-04\n",
      "Epoch 101/500\n",
      "1950/1950 [==============================] - 3s 1ms/step - loss: 8.2596e-05 - val_loss: 2.5096e-04\n",
      "Epoch 102/500\n",
      "1950/1950 [==============================] - 3s 1ms/step - loss: 8.2268e-05 - val_loss: 3.7958e-04\n",
      "Epoch 103/500\n",
      "1950/1950 [==============================] - 3s 1ms/step - loss: 8.3137e-05 - val_loss: 2.2946e-04\n",
      "Epoch 104/500\n",
      "1950/1950 [==============================] - 3s 1ms/step - loss: 8.2451e-05 - val_loss: 2.6558e-04\n",
      "Epoch 105/500\n",
      "1950/1950 [==============================] - 3s 1ms/step - loss: 8.1882e-05 - val_loss: 2.2816e-04\n",
      "Epoch 106/500\n",
      "1950/1950 [==============================] - 3s 1ms/step - loss: 8.3570e-05 - val_loss: 2.3123e-04\n",
      "Epoch 107/500\n",
      "1950/1950 [==============================] - 3s 1ms/step - loss: 7.8835e-05 - val_loss: 3.5646e-04\n",
      "Epoch 108/500\n",
      "1950/1950 [==============================] - 3s 1ms/step - loss: 7.9922e-05 - val_loss: 2.5957e-04\n",
      "Epoch 109/500\n",
      "1950/1950 [==============================] - 3s 2ms/step - loss: 8.0363e-05 - val_loss: 3.6044e-04\n",
      "Epoch 110/500\n",
      "1950/1950 [==============================] - 3s 1ms/step - loss: 8.3008e-05 - val_loss: 2.4002e-04\n",
      "Epoch 111/500\n",
      "1950/1950 [==============================] - 3s 1ms/step - loss: 8.1985e-05 - val_loss: 6.5130e-04\n",
      "Epoch 112/500\n",
      "1950/1950 [==============================] - 3s 1ms/step - loss: 8.1532e-05 - val_loss: 2.3963e-04\n",
      "Epoch 113/500\n",
      "1950/1950 [==============================] - 3s 1ms/step - loss: 8.1931e-05 - val_loss: 2.5075e-04\n",
      "Epoch 114/500\n",
      "1950/1950 [==============================] - 3s 1ms/step - loss: 8.1507e-05 - val_loss: 2.2866e-04\n",
      "Epoch 115/500\n",
      "1950/1950 [==============================] - 3s 1ms/step - loss: 8.0922e-05 - val_loss: 2.2727e-04\n",
      "Epoch 116/500\n",
      "1950/1950 [==============================] - 3s 1ms/step - loss: 8.1009e-05 - val_loss: 4.5465e-04\n",
      "Epoch 117/500\n",
      "1950/1950 [==============================] - 3s 1ms/step - loss: 7.7969e-05 - val_loss: 4.4201e-04\n",
      "Epoch 118/500\n",
      "1950/1950 [==============================] - 3s 1ms/step - loss: 7.9101e-05 - val_loss: 2.6725e-04\n",
      "Epoch 119/500\n",
      "1950/1950 [==============================] - 3s 1ms/step - loss: 7.9465e-05 - val_loss: 4.1787e-04\n",
      "Epoch 120/500\n",
      "1950/1950 [==============================] - 3s 1ms/step - loss: 8.3085e-05 - val_loss: 3.0253e-04\n",
      "Epoch 121/500\n",
      "1950/1950 [==============================] - 3s 1ms/step - loss: 8.0912e-05 - val_loss: 2.3440e-04\n",
      "Epoch 122/500\n",
      "1950/1950 [==============================] - 3s 2ms/step - loss: 8.2004e-05 - val_loss: 5.3592e-04\n",
      "Epoch 123/500\n",
      "1950/1950 [==============================] - 3s 2ms/step - loss: 8.2487e-05 - val_loss: 2.6276e-04\n",
      "Epoch 124/500\n",
      "1950/1950 [==============================] - 3s 1ms/step - loss: 7.7115e-05 - val_loss: 3.0590e-04\n",
      "Epoch 125/500\n",
      "1950/1950 [==============================] - 3s 2ms/step - loss: 8.4017e-05 - val_loss: 5.3031e-04\n",
      "Epoch 126/500\n",
      "1950/1950 [==============================] - 3s 1ms/step - loss: 8.1123e-05 - val_loss: 4.2408e-04\n",
      "Epoch 127/500\n",
      "1950/1950 [==============================] - 3s 1ms/step - loss: 7.9488e-05 - val_loss: 3.7248e-04\n",
      "Epoch 128/500\n",
      "1950/1950 [==============================] - 3s 1ms/step - loss: 8.3095e-05 - val_loss: 2.2539e-04\n",
      "Epoch 129/500\n",
      "1950/1950 [==============================] - 3s 1ms/step - loss: 7.7840e-05 - val_loss: 4.3200e-04\n",
      "Epoch 130/500\n",
      "1950/1950 [==============================] - 3s 1ms/step - loss: 8.1818e-05 - val_loss: 2.3462e-04\n",
      "Epoch 131/500\n",
      "1950/1950 [==============================] - 3s 1ms/step - loss: 7.9268e-05 - val_loss: 3.3856e-04\n",
      "Epoch 132/500\n",
      "1950/1950 [==============================] - 3s 1ms/step - loss: 7.6852e-05 - val_loss: 2.4157e-04\n",
      "Epoch 133/500\n",
      "1950/1950 [==============================] - 3s 1ms/step - loss: 7.9114e-05 - val_loss: 2.4436e-04\n",
      "Epoch 134/500\n",
      "1950/1950 [==============================] - 3s 1ms/step - loss: 7.9573e-05 - val_loss: 3.5230e-04\n",
      "Epoch 135/500\n",
      "1950/1950 [==============================] - 3s 1ms/step - loss: 8.0803e-05 - val_loss: 2.8551e-04\n",
      "Epoch 136/500\n",
      "1950/1950 [==============================] - 3s 1ms/step - loss: 7.8001e-05 - val_loss: 2.2527e-04\n",
      "Epoch 137/500\n",
      "1950/1950 [==============================] - 3s 1ms/step - loss: 7.6306e-05 - val_loss: 2.4812e-04\n",
      "Epoch 138/500\n",
      "1950/1950 [==============================] - 3s 1ms/step - loss: 7.9999e-05 - val_loss: 2.9246e-04\n",
      "Epoch 139/500\n",
      "1950/1950 [==============================] - 3s 1ms/step - loss: 7.8573e-05 - val_loss: 2.2760e-04\n",
      "Epoch 140/500\n",
      "1950/1950 [==============================] - 3s 1ms/step - loss: 7.8896e-05 - val_loss: 3.0829e-04\n",
      "Epoch 141/500\n",
      "1950/1950 [==============================] - 3s 1ms/step - loss: 7.8071e-05 - val_loss: 2.9816e-04\n",
      "Epoch 142/500\n",
      "1950/1950 [==============================] - 3s 1ms/step - loss: 8.1856e-05 - val_loss: 3.2728e-04\n",
      "Epoch 143/500\n",
      "1950/1950 [==============================] - 3s 1ms/step - loss: 8.0268e-05 - val_loss: 6.5046e-04\n"
     ]
    },
    {
     "name": "stdout",
     "output_type": "stream",
     "text": [
      "Epoch 144/500\n",
      "1950/1950 [==============================] - 3s 1ms/step - loss: 7.7013e-05 - val_loss: 6.2298e-04\n",
      "Epoch 145/500\n",
      "1950/1950 [==============================] - 3s 1ms/step - loss: 7.8551e-05 - val_loss: 6.0778e-04\n",
      "Epoch 146/500\n",
      "1950/1950 [==============================] - 3s 2ms/step - loss: 7.8303e-05 - val_loss: 6.7426e-04\n",
      "Epoch 147/500\n",
      "1950/1950 [==============================] - 3s 1ms/step - loss: 7.5538e-05 - val_loss: 2.2505e-04\n",
      "Epoch 148/500\n",
      "1950/1950 [==============================] - 3s 1ms/step - loss: 8.2132e-05 - val_loss: 2.3028e-04\n",
      "Epoch 149/500\n",
      "1950/1950 [==============================] - 3s 1ms/step - loss: 7.6928e-05 - val_loss: 2.2649e-04\n",
      "Epoch 150/500\n",
      "1950/1950 [==============================] - 3s 1ms/step - loss: 7.8825e-05 - val_loss: 2.6291e-04\n",
      "Epoch 151/500\n",
      "1950/1950 [==============================] - 3s 1ms/step - loss: 7.9428e-05 - val_loss: 2.3031e-04\n",
      "Epoch 152/500\n",
      "1950/1950 [==============================] - 3s 1ms/step - loss: 7.7981e-05 - val_loss: 2.2469e-04\n",
      "Epoch 153/500\n",
      "1950/1950 [==============================] - 3s 1ms/step - loss: 7.8535e-05 - val_loss: 3.3456e-04\n",
      "Epoch 154/500\n",
      "1950/1950 [==============================] - 3s 2ms/step - loss: 7.5944e-05 - val_loss: 2.2601e-04\n",
      "Epoch 155/500\n",
      "1950/1950 [==============================] - 3s 1ms/step - loss: 7.7516e-05 - val_loss: 2.2957e-04\n",
      "Epoch 156/500\n",
      "1950/1950 [==============================] - 3s 1ms/step - loss: 7.8716e-05 - val_loss: 2.5327e-04\n",
      "Epoch 157/500\n",
      "1950/1950 [==============================] - 3s 2ms/step - loss: 7.5919e-05 - val_loss: 3.3461e-04\n",
      "Epoch 158/500\n",
      "1950/1950 [==============================] - 3s 1ms/step - loss: 7.7729e-05 - val_loss: 3.8942e-04\n",
      "Epoch 159/500\n",
      "1950/1950 [==============================] - 3s 2ms/step - loss: 7.9647e-05 - val_loss: 2.2755e-04\n",
      "Epoch 160/500\n",
      "1950/1950 [==============================] - 3s 2ms/step - loss: 7.7441e-05 - val_loss: 2.2691e-04\n",
      "Epoch 161/500\n",
      "1950/1950 [==============================] - 3s 1ms/step - loss: 7.8661e-05 - val_loss: 2.2745e-04\n",
      "Epoch 162/500\n",
      "1950/1950 [==============================] - 3s 1ms/step - loss: 7.5917e-05 - val_loss: 2.2520e-04\n",
      "Epoch 163/500\n",
      "1950/1950 [==============================] - 3s 2ms/step - loss: 7.9040e-05 - val_loss: 2.2528e-04\n",
      "Epoch 164/500\n",
      "1950/1950 [==============================] - 3s 1ms/step - loss: 7.7964e-05 - val_loss: 2.3334e-04\n",
      "Epoch 165/500\n",
      "1950/1950 [==============================] - 3s 1ms/step - loss: 7.4630e-05 - val_loss: 4.4796e-04\n",
      "Epoch 166/500\n",
      "1950/1950 [==============================] - 3s 1ms/step - loss: 7.8689e-05 - val_loss: 4.2133e-04\n",
      "Epoch 167/500\n",
      "1950/1950 [==============================] - 3s 1ms/step - loss: 7.7186e-05 - val_loss: 3.9237e-04\n",
      "Epoch 168/500\n",
      "1950/1950 [==============================] - 3s 1ms/step - loss: 7.4509e-05 - val_loss: 4.4618e-04\n",
      "Epoch 169/500\n",
      "1950/1950 [==============================] - 3s 1ms/step - loss: 7.7624e-05 - val_loss: 3.2093e-04\n",
      "Epoch 170/500\n",
      "1950/1950 [==============================] - 3s 1ms/step - loss: 7.7089e-05 - val_loss: 3.3168e-04\n",
      "Epoch 171/500\n",
      "1950/1950 [==============================] - 3s 1ms/step - loss: 7.6876e-05 - val_loss: 2.4541e-04\n",
      "Epoch 172/500\n",
      "1950/1950 [==============================] - 3s 1ms/step - loss: 7.7408e-05 - val_loss: 3.7961e-04\n",
      "Epoch 173/500\n",
      "1950/1950 [==============================] - 3s 1ms/step - loss: 7.5646e-05 - val_loss: 3.7333e-04\n",
      "Epoch 174/500\n",
      "1950/1950 [==============================] - 3s 1ms/step - loss: 7.8253e-05 - val_loss: 2.3300e-04\n",
      "Epoch 175/500\n",
      "1950/1950 [==============================] - 3s 1ms/step - loss: 7.8868e-05 - val_loss: 2.2529e-04\n",
      "Epoch 176/500\n",
      "1950/1950 [==============================] - 3s 1ms/step - loss: 7.7858e-05 - val_loss: 3.1906e-04\n",
      "Epoch 177/500\n",
      "1950/1950 [==============================] - 3s 1ms/step - loss: 7.4459e-05 - val_loss: 3.3510e-04\n"
     ]
    }
   ],
   "source": [
    "result = rnn.fit(X_train,\n",
    "                 y_train,\n",
    "                 epochs=500,\n",
    "                 batch_size=20,\n",
    "                 validation_data=(X_test, y_test),\n",
    "                 callbacks=[checkpointer, early_stopping],\n",
    "                 verbose=1)"
   ]
  },
  {
   "cell_type": "markdown",
   "metadata": {
    "pycharm": {}
   },
   "source": [
    "Training stops after 177 epochs and we reload the weights for the best model:"
   ]
  },
  {
   "cell_type": "code",
   "execution_count": 26,
   "metadata": {
    "pycharm": {}
   },
   "outputs": [],
   "source": [
    "rnn.load_weights(rnn_path)"
   ]
  },
  {
   "cell_type": "markdown",
   "metadata": {
    "pycharm": {}
   },
   "source": [
    "The loss history shows how the model’s validation error converges to an error level that illustrates the noise inherent in predicting stock prices:"
   ]
  },
  {
   "cell_type": "code",
   "execution_count": 27,
   "metadata": {
    "pycharm": {}
   },
   "outputs": [
    {
     "data": {
      "image/png": "[encoded data removed]",
      "text/plain": [
       "<Figure size 432x288 with 1 Axes>"
      ]
     },
     "metadata": {},
     "output_type": "display_data"
    }
   ],
   "source": [
    "loss_history = pd.DataFrame(result.history).pow(.5)\n",
    "loss_history.columns=['Training RMSE', 'Validation RMSE']\n",
    "loss_history.plot(logy=True, lw=2);"
   ]
  },
  {
   "cell_type": "markdown",
   "metadata": {
    "pycharm": {}
   },
   "source": [
    "## Evaluate model performance"
   ]
  },
  {
   "cell_type": "markdown",
   "metadata": {
    "pycharm": {}
   },
   "source": [
    "The following charts illustrate the out-of-sample forecast performance that generally track the index development in 2018 well with a test RMSE of 0.015 on the rescaled price series. The test IC is 95.85%. "
   ]
  },
  {
   "cell_type": "code",
   "execution_count": 28,
   "metadata": {
    "pycharm": {}
   },
   "outputs": [],
   "source": [
    "def eval_result():\n",
    "    test_predict = pd.Series(rnn.predict(X_test).squeeze(), index=y_test.index)\n",
    "    train_predict = pd.Series(rnn.predict(X_train).squeeze(), index=y_train.index)\n",
    "    rmse = np.sqrt(mean_squared_error(test_predict, y_test))\n",
    "    return test_predict, train_predict, rmse"
   ]
  },
  {
   "cell_type": "code",
   "execution_count": 29,
   "metadata": {
    "pycharm": {}
   },
   "outputs": [],
   "source": [
    "test_predict, train_predict, rmse = eval_result()"
   ]
  },
  {
   "cell_type": "code",
   "execution_count": 30,
   "metadata": {
    "pycharm": {}
   },
   "outputs": [
    {
     "name": "stdout",
     "output_type": "stream",
     "text": [
      "<class 'pandas.core.frame.DataFrame'>\n",
      "DatetimeIndex: 2201 entries, 2018-01-02 to 2017-12-29\n",
      "Data columns (total 2 columns):\n",
      "prediction    2201 non-null float32\n",
      "data          2201 non-null object\n",
      "dtypes: float32(1), object(1)\n",
      "memory usage: 43.0+ KB\n"
     ]
    }
   ],
   "source": [
    "predictions = (test_predict.to_frame('prediction').assign(data='test')\n",
    "               .append(train_predict.to_frame('prediction').assign(data='train')))\n",
    "predictions.info()"
   ]
  },
  {
   "cell_type": "code",
   "execution_count": 31,
   "metadata": {
    "pycharm": {}
   },
   "outputs": [
    {
     "name": "stdout",
     "output_type": "stream",
     "text": [
      "<class 'pandas.core.frame.DataFrame'>\n",
      "DatetimeIndex: 2201 entries, 2010-04-06 to 2018-12-31\n",
      "Data columns (total 3 columns):\n",
      "SP500         2201 non-null float64\n",
      "prediction    2201 non-null float32\n",
      "data          2201 non-null object\n",
      "dtypes: float32(1), float64(1), object(1)\n",
      "memory usage: 60.2+ KB\n"
     ]
    }
   ],
   "source": [
    "results = sp500_scaled.join(predictions).dropna()\n",
    "results.info()"
   ]
  },
  {
   "cell_type": "code",
   "execution_count": 32,
   "metadata": {
    "pycharm": {}
   },
   "outputs": [],
   "source": [
    "corr = {}\n",
    "for run, df in results.groupby('data'):\n",
    "    corr[run] = df.SP500.corr(df.prediction)"
   ]
  },
  {
   "cell_type": "code",
   "execution_count": 33,
   "metadata": {
    "pycharm": {}
   },
   "outputs": [],
   "source": [
    "sp500_scaled['Train Prediction'] = pd.Series(train_predict.squeeze(), index=y_train.index)\n",
    "sp500_scaled['Test Prediction'] = pd.Series(test_predict.squeeze(), index=y_test.index)"
   ]
  },
  {
   "cell_type": "code",
   "execution_count": 34,
   "metadata": {
    "pycharm": {}
   },
   "outputs": [
    {
     "name": "stdout",
     "output_type": "stream",
     "text": [
      "Training Error: 0.0076 | Test Error: 0.0150\n"
     ]
    }
   ],
   "source": [
    "training_error = np.sqrt(rnn.evaluate(X_train, y_train, verbose=0))\n",
    "testing_error = np.sqrt(rnn.evaluate(X_test, y_test, verbose=0))\n",
    "print('Training Error: {:.4f} | Test Error: {:.4f}'.format(training_error, testing_error))"
   ]
  },
  {
   "cell_type": "code",
   "execution_count": 35,
   "metadata": {
    "pycharm": {}
   },
   "outputs": [
    {
     "data": {
      "image/png": "[encoded data removed]",
      "text/plain": [
       "<Figure size 1008x504 with 4 Axes>"
      ]
     },
     "metadata": {},
     "output_type": "display_data"
    }
   ],
   "source": [
    "fig=plt.figure(figsize=(14,7))\n",
    "ax1 = plt.subplot(221)\n",
    "ax2 = plt.subplot(222)\n",
    "ax3 = plt.subplot(223)\n",
    "ax4 = plt.subplot(224, sharex = ax2, sharey=ax2)\n",
    "\n",
    "sp500_scaled.loc['2015':, 'SP500'].plot(lw=4, ax=ax1, c='k')\n",
    "sp500_scaled.loc['2015':, ['Test Prediction', 'Train Prediction']].plot(lw=1, ax=ax1, ls='--')\n",
    "ax1.set_title('In- and Out-of-sample Predictions')\n",
    "\n",
    "sns.scatterplot(x='SP500', y='prediction', data=results, hue='data', ax=ax3)\n",
    "ax3.text(x=.02, y=.95, s='Test IC ={:.2%}'.format(corr['test']), transform=ax3.transAxes)\n",
    "ax3.text(x=.02, y=.87, s='Train IC={:.2%}'.format(corr['train']), transform=ax3.transAxes)\n",
    "ax3.set_title('Correlation')\n",
    "ax3.legend(loc='lower right')\n",
    "\n",
    "sns.distplot(train_predict.squeeze()-y_train.squeeze(), ax=ax2)\n",
    "ax2.set_title('Train Error')\n",
    "ax2.text(x=.03, y=.9, s='Train RMSE ={:.4f}'.format(training_error), transform=ax2.transAxes)\n",
    "sns.distplot(test_predict.squeeze()-y_test.squeeze(), ax=ax4)\n",
    "ax4.set_title('Test Error')\n",
    "ax4.text(x=.03, y=.9, s='Test RMSE ={:.4f}'.format(testing_error), transform=ax4.transAxes)\n",
    "\n",
    "fig.tight_layout()\n",
    "fig.savefig('images/rnn_sp500_regression', dpi=300);"
   ]
  }
 ],
 "metadata": {
  "anaconda-cloud": {},
  "kernelspec": {
   "display_name": "Python 3",
   "language": "python",
   "name": "python3"
  },
  "language_info": {
   "codemirror_mode": {
    "name": "ipython",
    "version": 3
   },
   "file_extension": ".py",
   "mimetype": "text/x-python",
   "name": "python",
   "nbconvert_exporter": "python",
   "pygments_lexer": "ipython3",
   "version": "3.6.8"
  },
  "toc": {
   "base_numbering": 1,
   "nav_menu": {},
   "number_sections": true,
   "sideBar": true,
   "skip_h1_title": true,
   "title_cell": "Table of Contents",
   "title_sidebar": "Contents",
   "toc_cell": false,
   "toc_position": {
    "height": "calc(100% - 180px)",
    "left": "10px",
    "top": "150px",
    "width": "318.55px"
   },
   "toc_section_display": true,
   "toc_window_display": true
  }
 },
 "nbformat": 4,
 "nbformat_minor": 1
}
