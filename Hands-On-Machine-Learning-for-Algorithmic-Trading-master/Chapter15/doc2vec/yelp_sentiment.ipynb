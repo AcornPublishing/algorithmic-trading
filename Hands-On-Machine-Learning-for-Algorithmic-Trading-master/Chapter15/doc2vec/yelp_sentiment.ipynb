{
 "cells": [
  {
   "cell_type": "code",
   "execution_count": 1,
   "metadata": {
    "ExecuteTime": {
     "end_time": "2018-12-28T02:16:30.922402Z",
     "start_time": "2018-12-28T02:16:30.638781Z"
    }
   },
   "outputs": [
    {
     "name": "stderr",
     "output_type": "stream",
     "text": [
      "[nltk_data] Downloading package stopwords to /home/stefan/nltk_data...\n",
      "[nltk_data]   Package stopwords is already up-to-date!\n"
     ]
    },
    {
     "data": {
      "text/plain": [
       "True"
      ]
     },
     "execution_count": 1,
     "metadata": {},
     "output_type": "execute_result"
    }
   ],
   "source": [
    "import nltk\n",
    "nltk.download('stopwords')"
   ]
  },
  {
   "cell_type": "code",
   "execution_count": 2,
   "metadata": {
    "ExecuteTime": {
     "end_time": "2018-12-28T02:16:31.728129Z",
     "start_time": "2018-12-28T02:16:30.925942Z"
    }
   },
   "outputs": [],
   "source": [
    "from pathlib import Path\n",
    "import numpy as np\n",
    "import pandas as pd\n",
    "from gensim.models import Doc2Vec\n",
    "from gensim.models.doc2vec import TaggedDocument\n",
    "import logging\n",
    "import warnings\n",
    "from random import shuffle\n",
    "import lightgbm as lgb\n",
    "from sklearn.model_selection import train_test_split\n",
    "from nltk import RegexpTokenizer\n",
    "from nltk.corpus import stopwords\n",
    "from sklearn.linear_model import LogisticRegression\n",
    "from sklearn.ensemble import RandomForestClassifier\n",
    "from sklearn.metrics import confusion_matrix, accuracy_score, roc_auc_score\n",
    "from sklearn.utils import class_weight\n",
    "import umap"
   ]
  },
  {
   "cell_type": "code",
   "execution_count": 3,
   "metadata": {
    "ExecuteTime": {
     "end_time": "2018-12-28T02:16:35.063506Z",
     "start_time": "2018-12-28T02:16:35.061306Z"
    }
   },
   "outputs": [],
   "source": [
    "warnings.filterwarnings('ignore')\n",
    "pd.set_option('display.expand_frame_repr', False)\n",
    "np.random.seed(42)"
   ]
  },
  {
   "cell_type": "code",
   "execution_count": 4,
   "metadata": {
    "ExecuteTime": {
     "end_time": "2018-12-28T02:16:35.246590Z",
     "start_time": "2018-12-28T02:16:35.238924Z"
    }
   },
   "outputs": [],
   "source": [
    "logging.basicConfig(\n",
    "        filename='doc2vec.log',\n",
    "        level=logging.DEBUG,\n",
    "        format='%(asctime)s - %(name)s - %(levelname)s - %(message)s',\n",
    "        datefmt='%H:%M:%S')"
   ]
  },
  {
   "cell_type": "markdown",
   "metadata": {},
   "source": [
    "## Load Data"
   ]
  },
  {
   "cell_type": "code",
   "execution_count": 38,
   "metadata": {
    "ExecuteTime": {
     "end_time": "2018-12-28T02:31:45.448079Z",
     "start_time": "2018-12-28T02:31:21.942362Z"
    }
   },
   "outputs": [],
   "source": [
    "df = pd.read_parquet('combined.parquet', engine='fastparquet').loc[:, ['stars', 'text']]"
   ]
  },
  {
   "cell_type": "code",
   "execution_count": 39,
   "metadata": {
    "ExecuteTime": {
     "end_time": "2018-12-28T02:31:45.481577Z",
     "start_time": "2018-12-28T02:31:45.449302Z"
    }
   },
   "outputs": [
    {
     "data": {
      "text/plain": [
       "5    2641880\n",
       "4    1335957\n",
       "1     858139\n",
       "3     673206\n",
       "2     487813\n",
       "Name: stars, dtype: int64"
      ]
     },
     "execution_count": 39,
     "metadata": {},
     "output_type": "execute_result"
    }
   ],
   "source": [
    "df.stars.value_counts()"
   ]
  },
  {
   "cell_type": "code",
   "execution_count": 91,
   "metadata": {
    "ExecuteTime": {
     "end_time": "2018-12-28T02:49:18.719387Z",
     "start_time": "2018-12-28T02:49:18.715253Z"
    }
   },
   "outputs": [],
   "source": [
    "stars = range(1, 6)"
   ]
  },
  {
   "cell_type": "code",
   "execution_count": 40,
   "metadata": {
    "ExecuteTime": {
     "end_time": "2018-12-28T02:32:45.883173Z",
     "start_time": "2018-12-28T02:32:45.238120Z"
    }
   },
   "outputs": [],
   "source": [
    "sample = pd.concat([df[df.stars==s].sample(n=100000) for s in stars])"
   ]
  },
  {
   "cell_type": "code",
   "execution_count": 41,
   "metadata": {
    "ExecuteTime": {
     "end_time": "2018-12-28T02:32:47.838880Z",
     "start_time": "2018-12-28T02:32:47.743143Z"
    }
   },
   "outputs": [
    {
     "name": "stdout",
     "output_type": "stream",
     "text": [
      "<class 'pandas.core.frame.DataFrame'>\n",
      "Int64Index: 500000 entries, 52085 to 3365007\n",
      "Data columns (total 2 columns):\n",
      "stars    500000 non-null int64\n",
      "text     500000 non-null object\n",
      "dtypes: int64(1), object(1)\n",
      "memory usage: 11.4+ MB\n"
     ]
    }
   ],
   "source": [
    "sample.info()"
   ]
  },
  {
   "cell_type": "code",
   "execution_count": 66,
   "metadata": {
    "ExecuteTime": {
     "end_time": "2018-12-28T00:07:55.455558Z",
     "start_time": "2018-12-28T00:07:55.438396Z"
    }
   },
   "outputs": [],
   "source": [
    "sample.stars = (sample.stars == 5).astype(int)"
   ]
  },
  {
   "cell_type": "code",
   "execution_count": 42,
   "metadata": {
    "ExecuteTime": {
     "end_time": "2018-12-28T02:32:54.195893Z",
     "start_time": "2018-12-28T02:32:54.187161Z"
    }
   },
   "outputs": [
    {
     "data": {
      "text/plain": [
       "5    100000\n",
       "4    100000\n",
       "3    100000\n",
       "2    100000\n",
       "1    100000\n",
       "Name: stars, dtype: int64"
      ]
     },
     "execution_count": 42,
     "metadata": {},
     "output_type": "execute_result"
    }
   ],
   "source": [
    "sample.stars.value_counts()"
   ]
  },
  {
   "cell_type": "code",
   "execution_count": 43,
   "metadata": {
    "ExecuteTime": {
     "end_time": "2018-12-28T02:33:04.902169Z",
     "start_time": "2018-12-28T02:33:03.174809Z"
    }
   },
   "outputs": [],
   "source": [
    "sample.to_parquet('yelp_sample_5.parquet')"
   ]
  },
  {
   "cell_type": "code",
   "execution_count": 12,
   "metadata": {
    "ExecuteTime": {
     "end_time": "2018-12-28T02:18:17.982897Z",
     "start_time": "2018-12-28T02:18:17.121098Z"
    }
   },
   "outputs": [],
   "source": [
    "sample = pd.read_parquet('yelp_sample.parquet').reset_index(drop=True)"
   ]
  },
  {
   "cell_type": "code",
   "execution_count": 44,
   "metadata": {
    "ExecuteTime": {
     "end_time": "2018-12-28T02:33:08.533674Z",
     "start_time": "2018-12-28T02:33:08.526044Z"
    }
   },
   "outputs": [
    {
     "data": {
      "text/html": [
       "<div>\n",
       "<style scoped>\n",
       "    .dataframe tbody tr th:only-of-type {\n",
       "        vertical-align: middle;\n",
       "    }\n",
       "\n",
       "    .dataframe tbody tr th {\n",
       "        vertical-align: top;\n",
       "    }\n",
       "\n",
       "    .dataframe thead th {\n",
       "        text-align: right;\n",
       "    }\n",
       "</style>\n",
       "<table border=\"1\" class=\"dataframe\">\n",
       "  <thead>\n",
       "    <tr style=\"text-align: right;\">\n",
       "      <th></th>\n",
       "      <th>stars</th>\n",
       "      <th>text</th>\n",
       "    </tr>\n",
       "  </thead>\n",
       "  <tbody>\n",
       "    <tr>\n",
       "      <th>52085</th>\n",
       "      <td>1</td>\n",
       "      <td>Just terrible.\\n\\nI used to love Chili's - it ...</td>\n",
       "    </tr>\n",
       "    <tr>\n",
       "      <th>527763</th>\n",
       "      <td>1</td>\n",
       "      <td>I love Cold Stone ice cream, but this location...</td>\n",
       "    </tr>\n",
       "    <tr>\n",
       "      <th>3797997</th>\n",
       "      <td>1</td>\n",
       "      <td>I don't understand why people give this place ...</td>\n",
       "    </tr>\n",
       "    <tr>\n",
       "      <th>4715860</th>\n",
       "      <td>1</td>\n",
       "      <td>Terrible disappointment.  It was a special cel...</td>\n",
       "    </tr>\n",
       "    <tr>\n",
       "      <th>2230375</th>\n",
       "      <td>1</td>\n",
       "      <td>Staff is awful. One called his coworker a bitc...</td>\n",
       "    </tr>\n",
       "  </tbody>\n",
       "</table>\n",
       "</div>"
      ],
      "text/plain": [
       "         stars                                               text\n",
       "52085        1  Just terrible.\\n\\nI used to love Chili's - it ...\n",
       "527763       1  I love Cold Stone ice cream, but this location...\n",
       "3797997      1  I don't understand why people give this place ...\n",
       "4715860      1  Terrible disappointment.  It was a special cel...\n",
       "2230375      1  Staff is awful. One called his coworker a bitc..."
      ]
     },
     "execution_count": 44,
     "metadata": {},
     "output_type": "execute_result"
    }
   ],
   "source": [
    "sample.head()"
   ]
  },
  {
   "cell_type": "code",
   "execution_count": 17,
   "metadata": {
    "ExecuteTime": {
     "end_time": "2018-12-28T02:19:00.180749Z",
     "start_time": "2018-12-28T02:18:56.814179Z"
    }
   },
   "outputs": [
    {
     "data": {
      "image/png": "[encoded data removed]",
      "text/plain": [
       "<Figure size 432x288 with 1 Axes>"
      ]
     },
     "metadata": {
      "needs_background": "light"
     },
     "output_type": "display_data"
    }
   ],
   "source": [
    "sns.distplot(sample.text.str.split().str.len());"
   ]
  },
  {
   "cell_type": "markdown",
   "metadata": {},
   "source": [
    "## Doc2Vec"
   ]
  },
  {
   "cell_type": "markdown",
   "metadata": {},
   "source": [
    "### Basic text cleaning"
   ]
  },
  {
   "cell_type": "code",
   "execution_count": 45,
   "metadata": {
    "ExecuteTime": {
     "end_time": "2018-12-28T02:33:19.647682Z",
     "start_time": "2018-12-28T02:33:19.644233Z"
    }
   },
   "outputs": [],
   "source": [
    "tokenizer = RegexpTokenizer(r'\\w+')\n",
    "stopword_set = set(stopwords.words('english'))\n",
    "\n",
    "def clean(review):\n",
    "    tokens = tokenizer.tokenize(review)\n",
    "    return ' '.join([t for t in tokens if t not in stopword_set])"
   ]
  },
  {
   "cell_type": "code",
   "execution_count": 46,
   "metadata": {
    "ExecuteTime": {
     "end_time": "2018-12-28T02:33:35.354851Z",
     "start_time": "2018-12-28T02:33:20.198492Z"
    }
   },
   "outputs": [],
   "source": [
    "sample.text = sample.text.str.lower().apply(clean)"
   ]
  },
  {
   "cell_type": "code",
   "execution_count": 47,
   "metadata": {
    "ExecuteTime": {
     "end_time": "2018-12-28T02:33:35.368047Z",
     "start_time": "2018-12-28T02:33:35.355960Z"
    }
   },
   "outputs": [
    {
     "data": {
      "text/html": [
       "<div>\n",
       "<style scoped>\n",
       "    .dataframe tbody tr th:only-of-type {\n",
       "        vertical-align: middle;\n",
       "    }\n",
       "\n",
       "    .dataframe tbody tr th {\n",
       "        vertical-align: top;\n",
       "    }\n",
       "\n",
       "    .dataframe thead th {\n",
       "        text-align: right;\n",
       "    }\n",
       "</style>\n",
       "<table border=\"1\" class=\"dataframe\">\n",
       "  <thead>\n",
       "    <tr style=\"text-align: right;\">\n",
       "      <th></th>\n",
       "      <th>stars</th>\n",
       "      <th>text</th>\n",
       "    </tr>\n",
       "  </thead>\n",
       "  <tbody>\n",
       "    <tr>\n",
       "      <th>3713191</th>\n",
       "      <td>1</td>\n",
       "      <td>called 938 placed order informer ian manager a...</td>\n",
       "    </tr>\n",
       "    <tr>\n",
       "      <th>3632813</th>\n",
       "      <td>3</td>\n",
       "      <td>ok best tip sell stuff buffalo exchange sharin...</td>\n",
       "    </tr>\n",
       "    <tr>\n",
       "      <th>1414414</th>\n",
       "      <td>5</td>\n",
       "      <td>afford rooms well worth money absolutely amazi...</td>\n",
       "    </tr>\n",
       "    <tr>\n",
       "      <th>4609094</th>\n",
       "      <td>3</td>\n",
       "      <td>little bit pricier nw competition peak hours d...</td>\n",
       "    </tr>\n",
       "    <tr>\n",
       "      <th>4996179</th>\n",
       "      <td>4</td>\n",
       "      <td>great pigging comfort food visiting great frie...</td>\n",
       "    </tr>\n",
       "    <tr>\n",
       "      <th>1826950</th>\n",
       "      <td>5</td>\n",
       "      <td>went sun auto fri mar 9th dealt patrick mantan...</td>\n",
       "    </tr>\n",
       "    <tr>\n",
       "      <th>4210188</th>\n",
       "      <td>5</td>\n",
       "      <td>went nail salon must say impressed level custo...</td>\n",
       "    </tr>\n",
       "    <tr>\n",
       "      <th>1354353</th>\n",
       "      <td>5</td>\n",
       "      <td>rita must love custard black cherry little bit...</td>\n",
       "    </tr>\n",
       "    <tr>\n",
       "      <th>2760</th>\n",
       "      <td>1</td>\n",
       "      <td>drittes goa pfaffing erlebt absolut nix unterh...</td>\n",
       "    </tr>\n",
       "    <tr>\n",
       "      <th>1118726</th>\n",
       "      <td>1</td>\n",
       "      <td>visited week ago im finally writing review pla...</td>\n",
       "    </tr>\n",
       "  </tbody>\n",
       "</table>\n",
       "</div>"
      ],
      "text/plain": [
       "         stars                                               text\n",
       "3713191      1  called 938 placed order informer ian manager a...\n",
       "3632813      3  ok best tip sell stuff buffalo exchange sharin...\n",
       "1414414      5  afford rooms well worth money absolutely amazi...\n",
       "4609094      3  little bit pricier nw competition peak hours d...\n",
       "4996179      4  great pigging comfort food visiting great frie...\n",
       "1826950      5  went sun auto fri mar 9th dealt patrick mantan...\n",
       "4210188      5  went nail salon must say impressed level custo...\n",
       "1354353      5  rita must love custard black cherry little bit...\n",
       "2760         1  drittes goa pfaffing erlebt absolut nix unterh...\n",
       "1118726      1  visited week ago im finally writing review pla..."
      ]
     },
     "execution_count": 47,
     "metadata": {},
     "output_type": "execute_result"
    }
   ],
   "source": [
    "sample.sample(n=10)"
   ]
  },
  {
   "cell_type": "code",
   "execution_count": 48,
   "metadata": {
    "ExecuteTime": {
     "end_time": "2018-12-28T02:33:57.874953Z",
     "start_time": "2018-12-28T02:33:55.863246Z"
    }
   },
   "outputs": [
    {
     "name": "stdout",
     "output_type": "stream",
     "text": [
      "<class 'pandas.core.frame.DataFrame'>\n",
      "Int64Index: 485681 entries, 52085 to 3365007\n",
      "Data columns (total 2 columns):\n",
      "stars    485681 non-null int64\n",
      "text     485681 non-null object\n",
      "dtypes: int64(1), object(1)\n",
      "memory usage: 11.1+ MB\n"
     ]
    }
   ],
   "source": [
    "sample = sample[sample.text.str.split().str.len()>10]\n",
    "sample.info()"
   ]
  },
  {
   "cell_type": "markdown",
   "metadata": {},
   "source": [
    "### Create sentence stream"
   ]
  },
  {
   "cell_type": "code",
   "execution_count": 49,
   "metadata": {
    "ExecuteTime": {
     "end_time": "2018-12-28T02:34:06.903097Z",
     "start_time": "2018-12-28T02:34:01.100396Z"
    }
   },
   "outputs": [],
   "source": [
    "sentences = []\n",
    "for i, (_, text) in enumerate(sample.values):\n",
    "    sentences.append(TaggedDocument(words=text.split(), tags=[i]))"
   ]
  },
  {
   "cell_type": "markdown",
   "metadata": {},
   "source": [
    "### Formulate the model"
   ]
  },
  {
   "cell_type": "code",
   "execution_count": 50,
   "metadata": {
    "ExecuteTime": {
     "end_time": "2018-12-28T02:34:06.906431Z",
     "start_time": "2018-12-28T02:34:06.904273Z"
    }
   },
   "outputs": [],
   "source": [
    "size=300\n",
    "window=5\n",
    "min_count=0\n",
    "epochs=5\n",
    "negative=5\n",
    "dm = 1\n",
    "dm_concat=0\n",
    "dbow_words=0\n",
    "workers = 8"
   ]
  },
  {
   "cell_type": "code",
   "execution_count": null,
   "metadata": {},
   "outputs": [],
   "source": [
    "model = Doc2Vec(documents=sentences,\n",
    "                dm=1,\n",
    "                size=size,\n",
    "                window=window,\n",
    "                min_count=min_count,\n",
    "                workers=workers,\n",
    "                epochs=epochs,\n",
    "                negative=negative,\n",
    "                dm_concat=dm_concat,\n",
    "                dbow_words=dbow_words)"
   ]
  },
  {
   "cell_type": "code",
   "execution_count": 51,
   "metadata": {
    "ExecuteTime": {
     "end_time": "2018-12-28T02:37:01.442409Z",
     "start_time": "2018-12-28T02:34:07.761377Z"
    }
   },
   "outputs": [],
   "source": [
    "model = Doc2Vec(documents=sentences,\n",
    "                dm=dm,\n",
    "                size=size,\n",
    "                window=window,\n",
    "                min_count=min_count,\n",
    "                workers=workers,\n",
    "                epochs=epochs,\n",
    "                negative=negative,\n",
    "                dm_concat=dm_concat,\n",
    "                dbow_words=dbow_words)"
   ]
  },
  {
   "cell_type": "code",
   "execution_count": 90,
   "metadata": {
    "ExecuteTime": {
     "end_time": "2018-12-28T01:56:03.959942Z",
     "start_time": "2018-12-28T01:52:41.532880Z"
    }
   },
   "outputs": [],
   "source": [
    "model.train(sentences, total_examples=model.corpus_count, epochs=model.epochs)"
   ]
  },
  {
   "cell_type": "code",
   "execution_count": 52,
   "metadata": {
    "ExecuteTime": {
     "end_time": "2018-12-28T02:37:01.604728Z",
     "start_time": "2018-12-28T02:37:01.443607Z"
    }
   },
   "outputs": [
    {
     "data": {
      "text/html": [
       "<div>\n",
       "<style scoped>\n",
       "    .dataframe tbody tr th:only-of-type {\n",
       "        vertical-align: middle;\n",
       "    }\n",
       "\n",
       "    .dataframe tbody tr th {\n",
       "        vertical-align: top;\n",
       "    }\n",
       "\n",
       "    .dataframe thead th {\n",
       "        text-align: right;\n",
       "    }\n",
       "</style>\n",
       "<table border=\"1\" class=\"dataframe\">\n",
       "  <thead>\n",
       "    <tr style=\"text-align: right;\">\n",
       "      <th></th>\n",
       "      <th>token</th>\n",
       "      <th>similarity</th>\n",
       "    </tr>\n",
       "  </thead>\n",
       "  <tbody>\n",
       "    <tr>\n",
       "      <th>0</th>\n",
       "      <td>great</td>\n",
       "      <td>0.869434</td>\n",
       "    </tr>\n",
       "    <tr>\n",
       "      <th>1</th>\n",
       "      <td>decent</td>\n",
       "      <td>0.824517</td>\n",
       "    </tr>\n",
       "    <tr>\n",
       "      <th>2</th>\n",
       "      <td>ok</td>\n",
       "      <td>0.759463</td>\n",
       "    </tr>\n",
       "    <tr>\n",
       "      <th>3</th>\n",
       "      <td>bad</td>\n",
       "      <td>0.749852</td>\n",
       "    </tr>\n",
       "    <tr>\n",
       "      <th>4</th>\n",
       "      <td>amazing</td>\n",
       "      <td>0.748687</td>\n",
       "    </tr>\n",
       "    <tr>\n",
       "      <th>5</th>\n",
       "      <td>awesome</td>\n",
       "      <td>0.733886</td>\n",
       "    </tr>\n",
       "    <tr>\n",
       "      <th>6</th>\n",
       "      <td>okay</td>\n",
       "      <td>0.719382</td>\n",
       "    </tr>\n",
       "    <tr>\n",
       "      <th>7</th>\n",
       "      <td>tasty</td>\n",
       "      <td>0.707188</td>\n",
       "    </tr>\n",
       "    <tr>\n",
       "      <th>8</th>\n",
       "      <td>nice</td>\n",
       "      <td>0.702621</td>\n",
       "    </tr>\n",
       "    <tr>\n",
       "      <th>9</th>\n",
       "      <td>delicious</td>\n",
       "      <td>0.692123</td>\n",
       "    </tr>\n",
       "  </tbody>\n",
       "</table>\n",
       "</div>"
      ],
      "text/plain": [
       "       token  similarity\n",
       "0      great    0.869434\n",
       "1     decent    0.824517\n",
       "2         ok    0.759463\n",
       "3        bad    0.749852\n",
       "4    amazing    0.748687\n",
       "5    awesome    0.733886\n",
       "6       okay    0.719382\n",
       "7      tasty    0.707188\n",
       "8       nice    0.702621\n",
       "9  delicious    0.692123"
      ]
     },
     "execution_count": 52,
     "metadata": {},
     "output_type": "execute_result"
    }
   ],
   "source": [
    "pd.DataFrame(model.most_similar('good'), columns=['token', 'similarity'])"
   ]
  },
  {
   "cell_type": "markdown",
   "metadata": {},
   "source": [
    "## Persist Model"
   ]
  },
  {
   "cell_type": "code",
   "execution_count": 53,
   "metadata": {
    "ExecuteTime": {
     "end_time": "2018-12-28T02:37:02.197070Z",
     "start_time": "2018-12-28T02:37:01.605570Z"
    }
   },
   "outputs": [],
   "source": [
    "model.save('sample5.model')"
   ]
  },
  {
   "cell_type": "code",
   "execution_count": 6,
   "metadata": {
    "ExecuteTime": {
     "end_time": "2018-12-28T00:54:04.864287Z",
     "start_time": "2018-12-28T00:54:03.581152Z"
    }
   },
   "outputs": [],
   "source": [
    "model = Doc2Vec.load('sample.model')"
   ]
  },
  {
   "cell_type": "markdown",
   "metadata": {},
   "source": [
    "## Evaluate"
   ]
  },
  {
   "cell_type": "code",
   "execution_count": 62,
   "metadata": {
    "ExecuteTime": {
     "end_time": "2018-12-28T02:38:50.845013Z",
     "start_time": "2018-12-28T02:38:50.804633Z"
    }
   },
   "outputs": [],
   "source": [
    "y = sample.stars.sub(1)"
   ]
  },
  {
   "cell_type": "code",
   "execution_count": 55,
   "metadata": {
    "ExecuteTime": {
     "end_time": "2018-12-28T02:37:03.062359Z",
     "start_time": "2018-12-28T02:37:02.201730Z"
    }
   },
   "outputs": [],
   "source": [
    "X = np.zeros(shape=(len(y), size))\n",
    "for i in range(len(sample)):\n",
    "    X[i] = model.docvecs[i]"
   ]
  },
  {
   "cell_type": "code",
   "execution_count": 56,
   "metadata": {
    "ExecuteTime": {
     "end_time": "2018-12-28T02:37:03.065414Z",
     "start_time": "2018-12-28T02:37:03.063244Z"
    }
   },
   "outputs": [
    {
     "data": {
      "text/plain": [
       "(485681, 300)"
      ]
     },
     "execution_count": 56,
     "metadata": {},
     "output_type": "execute_result"
    }
   ],
   "source": [
    "X.shape"
   ]
  },
  {
   "cell_type": "markdown",
   "metadata": {},
   "source": [
    "### Train-Test Split"
   ]
  },
  {
   "cell_type": "code",
   "execution_count": 63,
   "metadata": {
    "ExecuteTime": {
     "end_time": "2018-12-28T02:39:04.085998Z",
     "start_time": "2018-12-28T02:39:03.631216Z"
    }
   },
   "outputs": [],
   "source": [
    "X_train, X_test, y_train, y_test = train_test_split(X, y, test_size=0.2, random_state=42, stratify=y)"
   ]
  },
  {
   "cell_type": "code",
   "execution_count": 64,
   "metadata": {
    "ExecuteTime": {
     "end_time": "2018-12-28T02:39:06.672781Z",
     "start_time": "2018-12-28T02:39:06.665668Z"
    }
   },
   "outputs": [
    {
     "name": "stdout",
     "output_type": "stream",
     "text": [
      "Baseline Score: 20.16%\n"
     ]
    }
   ],
   "source": [
    "mode = pd.Series(y_train).mode().iloc[0]\n",
    "baseline = accuracy_score(y_true=y_test, y_pred=np.full_like(y_test, fill_value=mode))\n",
    "print(f'Baseline Score: {baseline:.2%}')"
   ]
  },
  {
   "cell_type": "code",
   "execution_count": 26,
   "metadata": {
    "ExecuteTime": {
     "end_time": "2018-12-27T23:35:39.040108Z",
     "start_time": "2018-12-27T23:35:38.953294Z"
    }
   },
   "outputs": [],
   "source": [
    "class_weights = class_weight.compute_class_weight('balanced',\n",
    "                                                 np.unique(y_train),\n",
    "                                                 y_train)"
   ]
  },
  {
   "cell_type": "code",
   "execution_count": 27,
   "metadata": {
    "ExecuteTime": {
     "end_time": "2018-12-27T23:35:39.240067Z",
     "start_time": "2018-12-27T23:35:39.237696Z"
    }
   },
   "outputs": [
    {
     "data": {
      "text/plain": [
       "array([0.52585038, 1.59482003, 2.12184306])"
      ]
     },
     "execution_count": 27,
     "metadata": {},
     "output_type": "execute_result"
    }
   ],
   "source": [
    "class_weights"
   ]
  },
  {
   "cell_type": "markdown",
   "metadata": {},
   "source": [
    "## LightGBM"
   ]
  },
  {
   "cell_type": "code",
   "execution_count": 65,
   "metadata": {
    "ExecuteTime": {
     "end_time": "2018-12-28T02:39:10.223141Z",
     "start_time": "2018-12-28T02:39:10.217963Z"
    }
   },
   "outputs": [],
   "source": [
    "train_data = lgb.Dataset(data=X_train, label=y_train)\n",
    "test_data = train_data.create_valid(X_test, label=y_test)"
   ]
  },
  {
   "cell_type": "code",
   "execution_count": 66,
   "metadata": {
    "ExecuteTime": {
     "end_time": "2018-12-28T02:39:10.908403Z",
     "start_time": "2018-12-28T02:39:10.901251Z"
    }
   },
   "outputs": [],
   "source": [
    "params = {'objective': 'multiclass',\n",
    "          'num_classes': 5}"
   ]
  },
  {
   "cell_type": "code",
   "execution_count": 67,
   "metadata": {
    "ExecuteTime": {
     "end_time": "2018-12-28T02:42:04.449691Z",
     "start_time": "2018-12-28T02:39:11.555708Z"
    },
    "scrolled": true
   },
   "outputs": [
    {
     "name": "stdout",
     "output_type": "stream",
     "text": [
      "[25]\ttraining's multi_logloss: 1.50257\tvalid_1's multi_logloss: 1.51211\n",
      "[50]\ttraining's multi_logloss: 1.45251\tvalid_1's multi_logloss: 1.4704\n",
      "[75]\ttraining's multi_logloss: 1.41546\tvalid_1's multi_logloss: 1.44103\n",
      "[100]\ttraining's multi_logloss: 1.38507\tvalid_1's multi_logloss: 1.41809\n",
      "[125]\ttraining's multi_logloss: 1.35921\tvalid_1's multi_logloss: 1.39942\n",
      "[150]\ttraining's multi_logloss: 1.33601\tvalid_1's multi_logloss: 1.38295\n",
      "[175]\ttraining's multi_logloss: 1.31554\tvalid_1's multi_logloss: 1.36904\n",
      "[200]\ttraining's multi_logloss: 1.29656\tvalid_1's multi_logloss: 1.35624\n",
      "[225]\ttraining's multi_logloss: 1.27918\tvalid_1's multi_logloss: 1.34486\n",
      "[250]\ttraining's multi_logloss: 1.26276\tvalid_1's multi_logloss: 1.33447\n"
     ]
    }
   ],
   "source": [
    "lgb_model = lgb.train(params=params,\n",
    "                      train_set=train_data,\n",
    "                      num_boost_round=250,\n",
    "                      valid_sets=[train_data, test_data],\n",
    "                      verbose_eval=25)"
   ]
  },
  {
   "cell_type": "code",
   "execution_count": 72,
   "metadata": {
    "ExecuteTime": {
     "end_time": "2018-12-28T02:43:01.722585Z",
     "start_time": "2018-12-28T02:43:00.450410Z"
    }
   },
   "outputs": [],
   "source": [
    "y_pred = np.argmax(lgb_model.predict(X_test), axis=1)"
   ]
  },
  {
   "cell_type": "code",
   "execution_count": 88,
   "metadata": {
    "ExecuteTime": {
     "end_time": "2018-12-28T02:48:08.595370Z",
     "start_time": "2018-12-28T02:48:08.514152Z"
    }
   },
   "outputs": [],
   "source": [
    "cm = confusion_matrix(y_true=y_test, y_pred=y_pred)"
   ]
  },
  {
   "cell_type": "code",
   "execution_count": 99,
   "metadata": {
    "ExecuteTime": {
     "end_time": "2018-12-28T03:56:59.129287Z",
     "start_time": "2018-12-28T03:56:58.910377Z"
    }
   },
   "outputs": [
    {
     "data": {
      "image/png": "[encoded data removed]",
      "text/plain": [
       "<Figure size 432x288 with 2 Axes>"
      ]
     },
     "metadata": {
      "needs_background": "light"
     },
     "output_type": "display_data"
    }
   ],
   "source": [
    "sns.heatmap(pd.DataFrame(cm/np.sum(cm), \n",
    "                         index=stars, \n",
    "                         columns=stars), \n",
    "            annot=True, \n",
    "            cmap='Blues', \n",
    "            fmt='.1%')"
   ]
  },
  {
   "cell_type": "code",
   "execution_count": 81,
   "metadata": {
    "ExecuteTime": {
     "end_time": "2018-12-28T02:45:12.284710Z",
     "start_time": "2018-12-28T02:45:12.277127Z"
    }
   },
   "outputs": [
    {
     "data": {
      "text/plain": [
       "0.44955063467061984"
      ]
     },
     "execution_count": 81,
     "metadata": {},
     "output_type": "execute_result"
    }
   ],
   "source": [
    "accuracy_score(y_true=y_test, y_pred=y_pred)"
   ]
  },
  {
   "cell_type": "code",
   "execution_count": 36,
   "metadata": {
    "ExecuteTime": {
     "end_time": "2018-12-28T02:30:21.727266Z",
     "start_time": "2018-12-28T02:30:21.428123Z"
    }
   },
   "outputs": [
    {
     "data": {
      "text/plain": [
       "0.8614708105573701"
      ]
     },
     "execution_count": 36,
     "metadata": {},
     "output_type": "execute_result"
    }
   ],
   "source": [
    "roc_auc_score(y_score=lgb_model.predict(X_test), y_true=y_test)"
   ]
  },
  {
   "cell_type": "code",
   "execution_count": 55,
   "metadata": {
    "ExecuteTime": {
     "end_time": "2018-12-27T23:56:19.836967Z",
     "start_time": "2018-12-27T23:56:19.660296Z"
    }
   },
   "outputs": [
    {
     "data": {
      "text/html": [
       "<div>\n",
       "<style scoped>\n",
       "    .dataframe tbody tr th:only-of-type {\n",
       "        vertical-align: middle;\n",
       "    }\n",
       "\n",
       "    .dataframe tbody tr th {\n",
       "        vertical-align: top;\n",
       "    }\n",
       "\n",
       "    .dataframe thead th {\n",
       "        text-align: right;\n",
       "    }\n",
       "</style>\n",
       "<table border=\"1\" class=\"dataframe\">\n",
       "  <thead>\n",
       "    <tr style=\"text-align: right;\">\n",
       "      <th></th>\n",
       "      <th>0</th>\n",
       "      <th>1</th>\n",
       "      <th>2</th>\n",
       "    </tr>\n",
       "  </thead>\n",
       "  <tbody>\n",
       "    <tr>\n",
       "      <th>count</th>\n",
       "      <td>139717.000000</td>\n",
       "      <td>139717.000000</td>\n",
       "      <td>139717.000000</td>\n",
       "    </tr>\n",
       "    <tr>\n",
       "      <th>mean</th>\n",
       "      <td>0.630986</td>\n",
       "      <td>0.209083</td>\n",
       "      <td>0.159931</td>\n",
       "    </tr>\n",
       "    <tr>\n",
       "      <th>std</th>\n",
       "      <td>0.007147</td>\n",
       "      <td>0.005648</td>\n",
       "      <td>0.004706</td>\n",
       "    </tr>\n",
       "    <tr>\n",
       "      <th>min</th>\n",
       "      <td>0.502827</td>\n",
       "      <td>0.152388</td>\n",
       "      <td>0.110754</td>\n",
       "    </tr>\n",
       "    <tr>\n",
       "      <th>25%</th>\n",
       "      <td>0.629275</td>\n",
       "      <td>0.206945</td>\n",
       "      <td>0.158686</td>\n",
       "    </tr>\n",
       "    <tr>\n",
       "      <th>50%</th>\n",
       "      <td>0.630822</td>\n",
       "      <td>0.208772</td>\n",
       "      <td>0.160465</td>\n",
       "    </tr>\n",
       "    <tr>\n",
       "      <th>75%</th>\n",
       "      <td>0.632655</td>\n",
       "      <td>0.210202</td>\n",
       "      <td>0.161593</td>\n",
       "    </tr>\n",
       "    <tr>\n",
       "      <th>max</th>\n",
       "      <td>0.700247</td>\n",
       "      <td>0.337525</td>\n",
       "      <td>0.262446</td>\n",
       "    </tr>\n",
       "  </tbody>\n",
       "</table>\n",
       "</div>"
      ],
      "text/plain": [
       "                   0              1              2\n",
       "count  139717.000000  139717.000000  139717.000000\n",
       "mean        0.630986       0.209083       0.159931\n",
       "std         0.007147       0.005648       0.004706\n",
       "min         0.502827       0.152388       0.110754\n",
       "25%         0.629275       0.206945       0.158686\n",
       "50%         0.630822       0.208772       0.160465\n",
       "75%         0.632655       0.210202       0.161593\n",
       "max         0.700247       0.337525       0.262446"
      ]
     },
     "execution_count": 55,
     "metadata": {},
     "output_type": "execute_result"
    }
   ],
   "source": [
    "pd.DataFrame(lgb_model.predict(X_test)).describe()"
   ]
  },
  {
   "cell_type": "markdown",
   "metadata": {},
   "source": [
    "## Random Forest"
   ]
  },
  {
   "cell_type": "code",
   "execution_count": 28,
   "metadata": {
    "ExecuteTime": {
     "end_time": "2018-12-27T23:40:48.817474Z",
     "start_time": "2018-12-27T23:35:53.942018Z"
    }
   },
   "outputs": [
    {
     "name": "stdout",
     "output_type": "stream",
     "text": [
      "Accuracy: 63.39%\n"
     ]
    }
   ],
   "source": [
    "rf = RandomForestClassifier(n_jobs=-1,  \n",
    "                            n_estimators=100,\n",
    "                            class_weight='balanced_subsample')\n",
    "rf.fit(X_train, y_train)\n",
    "y_pred = rf.predict(X_test)\n",
    "print(f'Accuracy: {accuracy_score(y_true=y_test, y_pred=y_pred):.2%}')"
   ]
  },
  {
   "cell_type": "code",
   "execution_count": 38,
   "metadata": {
    "ExecuteTime": {
     "end_time": "2018-12-27T23:50:06.311958Z",
     "start_time": "2018-12-27T23:50:04.657072Z"
    }
   },
   "outputs": [],
   "source": [
    "y_pred_prob = rf.predict_proba(X_test)"
   ]
  },
  {
   "cell_type": "code",
   "execution_count": 39,
   "metadata": {
    "ExecuteTime": {
     "end_time": "2018-12-27T23:50:16.664162Z",
     "start_time": "2018-12-27T23:50:16.598883Z"
    }
   },
   "outputs": [
    {
     "data": {
      "text/html": [
       "<div>\n",
       "<style scoped>\n",
       "    .dataframe tbody tr th:only-of-type {\n",
       "        vertical-align: middle;\n",
       "    }\n",
       "\n",
       "    .dataframe tbody tr th {\n",
       "        vertical-align: top;\n",
       "    }\n",
       "\n",
       "    .dataframe thead th {\n",
       "        text-align: right;\n",
       "    }\n",
       "</style>\n",
       "<table border=\"1\" class=\"dataframe\">\n",
       "  <thead>\n",
       "    <tr style=\"text-align: right;\">\n",
       "      <th></th>\n",
       "      <th>0</th>\n",
       "      <th>1</th>\n",
       "      <th>2</th>\n",
       "    </tr>\n",
       "  </thead>\n",
       "  <tbody>\n",
       "    <tr>\n",
       "      <th>count</th>\n",
       "      <td>139717.000000</td>\n",
       "      <td>139717.000000</td>\n",
       "      <td>139717.000000</td>\n",
       "    </tr>\n",
       "    <tr>\n",
       "      <th>mean</th>\n",
       "      <td>0.635541</td>\n",
       "      <td>0.207648</td>\n",
       "      <td>0.156812</td>\n",
       "    </tr>\n",
       "    <tr>\n",
       "      <th>std</th>\n",
       "      <td>0.048588</td>\n",
       "      <td>0.041110</td>\n",
       "      <td>0.036620</td>\n",
       "    </tr>\n",
       "    <tr>\n",
       "      <th>min</th>\n",
       "      <td>0.190000</td>\n",
       "      <td>0.050000</td>\n",
       "      <td>0.030000</td>\n",
       "    </tr>\n",
       "    <tr>\n",
       "      <th>25%</th>\n",
       "      <td>0.600000</td>\n",
       "      <td>0.180000</td>\n",
       "      <td>0.130000</td>\n",
       "    </tr>\n",
       "    <tr>\n",
       "      <th>50%</th>\n",
       "      <td>0.640000</td>\n",
       "      <td>0.210000</td>\n",
       "      <td>0.160000</td>\n",
       "    </tr>\n",
       "    <tr>\n",
       "      <th>75%</th>\n",
       "      <td>0.670000</td>\n",
       "      <td>0.230000</td>\n",
       "      <td>0.180000</td>\n",
       "    </tr>\n",
       "    <tr>\n",
       "      <th>max</th>\n",
       "      <td>0.860000</td>\n",
       "      <td>0.740000</td>\n",
       "      <td>0.340000</td>\n",
       "    </tr>\n",
       "  </tbody>\n",
       "</table>\n",
       "</div>"
      ],
      "text/plain": [
       "                   0              1              2\n",
       "count  139717.000000  139717.000000  139717.000000\n",
       "mean        0.635541       0.207648       0.156812\n",
       "std         0.048588       0.041110       0.036620\n",
       "min         0.190000       0.050000       0.030000\n",
       "25%         0.600000       0.180000       0.130000\n",
       "50%         0.640000       0.210000       0.160000\n",
       "75%         0.670000       0.230000       0.180000\n",
       "max         0.860000       0.740000       0.340000"
      ]
     },
     "execution_count": 39,
     "metadata": {},
     "output_type": "execute_result"
    }
   ],
   "source": [
    "pd.DataFrame(y_pred_prob).describe()"
   ]
  },
  {
   "cell_type": "code",
   "execution_count": 36,
   "metadata": {
    "ExecuteTime": {
     "end_time": "2018-12-27T23:49:06.348646Z",
     "start_time": "2018-12-27T23:49:06.325988Z"
    }
   },
   "outputs": [
    {
     "data": {
      "text/plain": [
       "0    139715\n",
       "1         2\n",
       "dtype: int64"
      ]
     },
     "execution_count": 36,
     "metadata": {},
     "output_type": "execute_result"
    }
   ],
   "source": [
    "pd.Series(y_pred).value_counts()"
   ]
  },
  {
   "cell_type": "code",
   "execution_count": 32,
   "metadata": {
    "ExecuteTime": {
     "end_time": "2018-12-27T23:47:01.765414Z",
     "start_time": "2018-12-27T23:47:01.758140Z"
    }
   },
   "outputs": [
    {
     "data": {
      "text/plain": [
       "0    354263\n",
       "1    116809\n",
       "2     87796\n",
       "dtype: int64"
      ]
     },
     "execution_count": 32,
     "metadata": {},
     "output_type": "execute_result"
    }
   ],
   "source": [
    "pd.Series(y_train).value_counts()"
   ]
  },
  {
   "cell_type": "code",
   "execution_count": 33,
   "metadata": {
    "ExecuteTime": {
     "end_time": "2018-12-27T23:47:24.456819Z",
     "start_time": "2018-12-27T23:47:24.444497Z"
    }
   },
   "outputs": [
    {
     "data": {
      "text/plain": [
       "0.6338956605137528"
      ]
     },
     "execution_count": 33,
     "metadata": {},
     "output_type": "execute_result"
    }
   ],
   "source": [
    "(y_test == 0).mean()"
   ]
  },
  {
   "cell_type": "code",
   "execution_count": 29,
   "metadata": {
    "ExecuteTime": {
     "end_time": "2018-12-27T23:40:48.919212Z",
     "start_time": "2018-12-27T23:40:48.819056Z"
    }
   },
   "outputs": [
    {
     "data": {
      "text/plain": [
       "array([[88564,     2,     0],\n",
       "       [29202,     0,     0],\n",
       "       [21949,     0,     0]])"
      ]
     },
     "execution_count": 29,
     "metadata": {},
     "output_type": "execute_result"
    }
   ],
   "source": [
    "confusion_matrix(y_true=y_test, y_pred=y_pred)"
   ]
  },
  {
   "cell_type": "markdown",
   "metadata": {},
   "source": [
    "## Logistic Regression"
   ]
  },
  {
   "cell_type": "markdown",
   "metadata": {},
   "source": [
    "### Binary Classification"
   ]
  },
  {
   "cell_type": "code",
   "execution_count": 44,
   "metadata": {
    "ExecuteTime": {
     "end_time": "2018-12-28T01:29:09.839140Z",
     "start_time": "2018-12-28T01:29:04.044264Z"
    }
   },
   "outputs": [
    {
     "name": "stdout",
     "output_type": "stream",
     "text": [
      "Accuracy: 50.05%\n"
     ]
    }
   ],
   "source": [
    "lr = LogisticRegression()\n",
    "lr.fit(X_train, y_train)\n",
    "y_pred = lr.predict(X_test)\n",
    "print(f'Accuracy: {accuracy_score(y_true=y_test, y_pred=y_pred):.2%}')"
   ]
  },
  {
   "cell_type": "markdown",
   "metadata": {},
   "source": [
    "### Multinomial Classification"
   ]
  },
  {
   "cell_type": "code",
   "execution_count": 100,
   "metadata": {
    "ExecuteTime": {
     "end_time": "2018-12-28T04:17:30.953069Z",
     "start_time": "2018-12-28T04:17:16.299083Z"
    }
   },
   "outputs": [
    {
     "name": "stdout",
     "output_type": "stream",
     "text": [
      "Accuracy: 34.60%\n"
     ]
    }
   ],
   "source": [
    "lr = LogisticRegression(multi_class='multinomial', solver='lbfgs', class_weight='balanced')\n",
    "lr.fit(X_train, y_train)\n",
    "y_pred = lr.predict(X_test)\n",
    "print(f'Accuracy: {accuracy_score(y_true=y_test, y_pred=y_pred):.2%}')"
   ]
  },
  {
   "cell_type": "code",
   "execution_count": 101,
   "metadata": {
    "ExecuteTime": {
     "end_time": "2018-12-28T04:18:01.235296Z",
     "start_time": "2018-12-28T04:18:01.179436Z"
    }
   },
   "outputs": [
    {
     "data": {
      "text/plain": [
       "array([[ 7624,  3105,  1792,  2075,  4929],\n",
       "       [ 4957,  5365,  3126,  2027,  4111],\n",
       "       [ 3142,  3631,  4546,  3171,  5017],\n",
       "       [ 2301,  1756,  3307,  4580,  7430],\n",
       "       [ 1742,   888,  1363,  3653, 11499]])"
      ]
     },
     "execution_count": 101,
     "metadata": {},
     "output_type": "execute_result"
    }
   ],
   "source": [
    "confusion_matrix(y_true=y_test, y_pred=y_pred)"
   ]
  },
  {
   "cell_type": "code",
   "execution_count": null,
   "metadata": {},
   "outputs": [],
   "source": []
  }
 ],
 "metadata": {
  "kernelspec": {
   "display_name": "Python 3",
   "language": "python",
   "name": "python3"
  },
  "language_info": {
   "codemirror_mode": {
    "name": "ipython",
    "version": 3
   },
   "file_extension": ".py",
   "mimetype": "text/x-python",
   "name": "python",
   "nbconvert_exporter": "python",
   "pygments_lexer": "ipython3",
   "version": "3.6.8"
  },
  "toc": {
   "base_numbering": 1,
   "nav_menu": {},
   "number_sections": true,
   "sideBar": true,
   "skip_h1_title": false,
   "title_cell": "Table of Contents",
   "title_sidebar": "Contents",
   "toc_cell": false,
   "toc_position": {},
   "toc_section_display": true,
   "toc_window_display": false
  }
 },
 "nbformat": 4,
 "nbformat_minor": 2
}
