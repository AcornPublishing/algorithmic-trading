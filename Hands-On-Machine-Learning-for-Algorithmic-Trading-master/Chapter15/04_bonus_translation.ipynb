{
 "cells": [
  {
   "cell_type": "code",
   "execution_count": null,
   "metadata": {
    "slideshow": {
     "slide_type": "skip"
    }
   },
   "outputs": [],
   "source": [
    "from notebook.services.config import ConfigManager\n",
    "cm = ConfigManager()\n",
    "cm.update('livereveal', {\n",
    "    'width': 1280,\n",
    "    'height': 800,\n",
    "    'scroll': True\n",
    "})"
   ]
  },
  {
   "cell_type": "markdown",
   "metadata": {
    "slideshow": {
     "slide_type": "slide"
    }
   },
   "source": [
    "## Imports & Config"
   ]
  },
  {
   "cell_type": "code",
   "execution_count": 39,
   "metadata": {
    "slideshow": {
     "slide_type": "fragment"
    }
   },
   "outputs": [],
   "source": [
    "import tensorflow as tf\n",
    "from sklearn.model_selection import train_test_split\n",
    "from pathlib import Path\n",
    "import sys\n",
    "from os import environ\n",
    "from inspect import getfile, currentframe\n",
    "from os.path import join, dirname, abspath\n",
    "from gensim.models import Word2Vec, KeyedVectors\n",
    "import pandas as pd\n",
    "import numpy as np\n",
    "from numpy.linalg import norm\n",
    "from numpy.random import permutation\n",
    "from sklearn.manifold import TSNE\n",
    "import matplotlib.pyplot as plt\n",
    "from matplotlib.ticker import FuncFormatter\n",
    "\n",
    "plt.style.use('ggplot')"
   ]
  },
  {
   "cell_type": "code",
   "execution_count": 2,
   "metadata": {
    "slideshow": {
     "slide_type": "slide"
    }
   },
   "outputs": [],
   "source": [
    "def batches(l, n):\n",
    "    \"\"\" Yield successive n-sized chunks from l.\"\"\"\n",
    "    for i in range(0, len(l), n):\n",
    "        yield l[i:i + n]"
   ]
  },
  {
   "cell_type": "code",
   "execution_count": 41,
   "metadata": {
    "slideshow": {
     "slide_type": "fragment"
    }
   },
   "outputs": [],
   "source": [
    "LANGUAGES = ['en', 'es']\n",
    "translation_path = Path('translation')\n",
    "if not translation_path.exists():\n",
    "    translation_path.mkdir(parents=True, exist_ok=True)"
   ]
  },
  {
   "cell_type": "markdown",
   "metadata": {
    "slideshow": {
     "slide_type": "slide"
    }
   },
   "source": [
    "## Load word2vec Models"
   ]
  },
  {
   "cell_type": "code",
   "execution_count": 6,
   "metadata": {
    "slideshow": {
     "slide_type": "fragment"
    }
   },
   "outputs": [],
   "source": [
    "model, words, vectors = {}, {}, {}\n",
    "for language in LANGUAGES:\n",
    "    file_name = 'word2vec/word_vectors/vectors_{}.bin'.format(language)\n",
    "    model[language] = KeyedVectors.load_word2vec_format(file_name,\n",
    "                                                        binary=True,\n",
    "                                                        unicode_errors='ignore')\n",
    "    words[language] = model[language].index2word\n",
    "    vectors[language] = model[language].vectors\n",
    "    vectors[language] /= norm(vectors[language], axis=1).reshape(-1, 1)"
   ]
  },
  {
   "cell_type": "markdown",
   "metadata": {
    "slideshow": {
     "slide_type": "slide"
    }
   },
   "source": [
    "## Translate Top 10k English Terms"
   ]
  },
  {
   "cell_type": "code",
   "execution_count": 7,
   "metadata": {
    "slideshow": {
     "slide_type": "fragment"
    }
   },
   "outputs": [],
   "source": [
    "to_translate = words['en'][:10000]\n",
    "pd.Series(to_translate).to_csv(translation_path / 'words_en.txt', index=False)"
   ]
  },
  {
   "cell_type": "code",
   "execution_count": 8,
   "metadata": {
    "slideshow": {
     "slide_type": "fragment"
    }
   },
   "outputs": [
    {
     "data": {
      "text/plain": [
       "10000"
      ]
     },
     "execution_count": 8,
     "metadata": {},
     "output_type": "execute_result"
    }
   ],
   "source": [
    "translated = pd.Series((translation_path / 'words_es.txt').read_text().split('\\n'))\n",
    "translated.count()"
   ]
  },
  {
   "cell_type": "code",
   "execution_count": 9,
   "metadata": {
    "slideshow": {
     "slide_type": "slide"
    }
   },
   "outputs": [
    {
     "data": {
      "text/html": [
       "<div>\n",
       "<style scoped>\n",
       "    .dataframe tbody tr th:only-of-type {\n",
       "        vertical-align: middle;\n",
       "    }\n",
       "\n",
       "    .dataframe tbody tr th {\n",
       "        vertical-align: top;\n",
       "    }\n",
       "\n",
       "    .dataframe thead th {\n",
       "        text-align: right;\n",
       "    }\n",
       "</style>\n",
       "<table border=\"1\" class=\"dataframe\">\n",
       "  <thead>\n",
       "    <tr style=\"text-align: right;\">\n",
       "      <th></th>\n",
       "      <th>en</th>\n",
       "      <th>es</th>\n",
       "    </tr>\n",
       "  </thead>\n",
       "  <tbody>\n",
       "    <tr>\n",
       "      <th>0</th>\n",
       "      <td>&lt;/s&gt;</td>\n",
       "      <td>&lt;/ s&gt;</td>\n",
       "    </tr>\n",
       "    <tr>\n",
       "      <th>1</th>\n",
       "      <td>the</td>\n",
       "      <td>el</td>\n",
       "    </tr>\n",
       "    <tr>\n",
       "      <th>2</th>\n",
       "      <td>of</td>\n",
       "      <td>de</td>\n",
       "    </tr>\n",
       "    <tr>\n",
       "      <th>3</th>\n",
       "      <td>and</td>\n",
       "      <td>y</td>\n",
       "    </tr>\n",
       "    <tr>\n",
       "      <th>4</th>\n",
       "      <td>in</td>\n",
       "      <td>en</td>\n",
       "    </tr>\n",
       "  </tbody>\n",
       "</table>\n",
       "</div>"
      ],
      "text/plain": [
       "     en     es\n",
       "0  </s>  </ s>\n",
       "1   the     el\n",
       "2    of     de\n",
       "3   and      y\n",
       "4    in     en"
      ]
     },
     "execution_count": 9,
     "metadata": {},
     "output_type": "execute_result"
    }
   ],
   "source": [
    "matches = pd.DataFrame({'en': to_translate, 'es': translated})\n",
    "matches.head()"
   ]
  },
  {
   "cell_type": "code",
   "execution_count": 10,
   "metadata": {
    "slideshow": {
     "slide_type": "slide"
    }
   },
   "outputs": [],
   "source": [
    "word2id = {}\n",
    "for language in LANGUAGES:\n",
    "    word2id[language] = {w: i for i, w in enumerate(words[language])}"
   ]
  },
  {
   "cell_type": "code",
   "execution_count": 11,
   "metadata": {
    "slideshow": {
     "slide_type": "fragment"
    }
   },
   "outputs": [
    {
     "data": {
      "text/plain": [
       "'Missing: 13.17%'"
      ]
     },
     "execution_count": 11,
     "metadata": {},
     "output_type": "execute_result"
    }
   ],
   "source": [
    "matches['es_id'] = matches.es.map(word2id['es'])\n",
    "'Missing: {:.2%}'.format(matches.es_id.isnull().sum()/len(matches))"
   ]
  },
  {
   "cell_type": "code",
   "execution_count": 12,
   "metadata": {
    "slideshow": {
     "slide_type": "fragment"
    }
   },
   "outputs": [
    {
     "data": {
      "text/html": [
       "<div>\n",
       "<style scoped>\n",
       "    .dataframe tbody tr th:only-of-type {\n",
       "        vertical-align: middle;\n",
       "    }\n",
       "\n",
       "    .dataframe tbody tr th {\n",
       "        vertical-align: top;\n",
       "    }\n",
       "\n",
       "    .dataframe thead th {\n",
       "        text-align: right;\n",
       "    }\n",
       "</style>\n",
       "<table border=\"1\" class=\"dataframe\">\n",
       "  <thead>\n",
       "    <tr style=\"text-align: right;\">\n",
       "      <th></th>\n",
       "      <th>en</th>\n",
       "      <th>en_id</th>\n",
       "      <th>es</th>\n",
       "      <th>es_id</th>\n",
       "    </tr>\n",
       "  </thead>\n",
       "  <tbody>\n",
       "    <tr>\n",
       "      <th>0</th>\n",
       "      <td>the</td>\n",
       "      <td>1</td>\n",
       "      <td>el</td>\n",
       "      <td>2</td>\n",
       "    </tr>\n",
       "    <tr>\n",
       "      <th>1</th>\n",
       "      <td>of</td>\n",
       "      <td>2</td>\n",
       "      <td>de</td>\n",
       "      <td>1</td>\n",
       "    </tr>\n",
       "    <tr>\n",
       "      <th>2</th>\n",
       "      <td>and</td>\n",
       "      <td>3</td>\n",
       "      <td>y</td>\n",
       "      <td>5</td>\n",
       "    </tr>\n",
       "    <tr>\n",
       "      <th>3</th>\n",
       "      <td>in</td>\n",
       "      <td>4</td>\n",
       "      <td>en</td>\n",
       "      <td>4</td>\n",
       "    </tr>\n",
       "    <tr>\n",
       "      <th>4</th>\n",
       "      <td>to</td>\n",
       "      <td>5</td>\n",
       "      <td>a</td>\n",
       "      <td>6</td>\n",
       "    </tr>\n",
       "  </tbody>\n",
       "</table>\n",
       "</div>"
      ],
      "text/plain": [
       "    en  en_id  es  es_id\n",
       "0  the      1  el      2\n",
       "1   of      2  de      1\n",
       "2  and      3   y      5\n",
       "3   in      4  en      4\n",
       "4   to      5   a      6"
      ]
     },
     "execution_count": 12,
     "metadata": {},
     "output_type": "execute_result"
    }
   ],
   "source": [
    "matches = matches.dropna().reset_index().rename(columns={'index': 'en_id'}).sort_index(1)\n",
    "matches.es_id = matches.es_id.astype(int)\n",
    "matches.head()"
   ]
  },
  {
   "cell_type": "code",
   "execution_count": 13,
   "metadata": {
    "slideshow": {
     "slide_type": "slide"
    }
   },
   "outputs": [
    {
     "name": "stdout",
     "output_type": "stream",
     "text": [
      "<class 'pandas.core.frame.DataFrame'>\n",
      "RangeIndex: 8683 entries, 0 to 8682\n",
      "Data columns (total 4 columns):\n",
      "en       8683 non-null object\n",
      "en_id    8683 non-null int64\n",
      "es       8683 non-null object\n",
      "es_id    8683 non-null int64\n",
      "dtypes: int64(2), object(2)\n",
      "memory usage: 271.4+ KB\n"
     ]
    }
   ],
   "source": [
    "matches.info()"
   ]
  },
  {
   "cell_type": "markdown",
   "metadata": {
    "slideshow": {
     "slide_type": "slide"
    }
   },
   "source": [
    "## Learn Translation Matrix"
   ]
  },
  {
   "cell_type": "markdown",
   "metadata": {
    "slideshow": {
     "slide_type": "fragment"
    }
   },
   "source": [
    "### Model Settings"
   ]
  },
  {
   "cell_type": "code",
   "execution_count": 14,
   "metadata": {
    "slideshow": {
     "slide_type": "fragment"
    }
   },
   "outputs": [],
   "source": [
    "BATCH_SIZE = 100\n",
    "TRAIN_SIZE = 5000\n",
    "EARLY_STOP = 5\n",
    "SOURCE_DIM = vectors['en'].shape[1]\n",
    "TARGET_DIM = vectors['es'].shape[1]"
   ]
  },
  {
   "cell_type": "markdown",
   "metadata": {
    "slideshow": {
     "slide_type": "slide"
    }
   },
   "source": [
    "### Train & Test Sets for  Source & Target Embeddings"
   ]
  },
  {
   "cell_type": "code",
   "execution_count": 15,
   "metadata": {
    "slideshow": {
     "slide_type": "fragment"
    }
   },
   "outputs": [],
   "source": [
    "source_id = matches.en_id.values\n",
    "source_train = vectors['en'][source_id[:TRAIN_SIZE]]\n",
    "source_test = vectors['en'][source_id[TRAIN_SIZE:]]\n",
    "\n",
    "target_id = matches.es_id.values\n",
    "target_train = vectors['es'][target_id[:TRAIN_SIZE]]\n",
    "target_test = vectors['es'][target_id[TRAIN_SIZE:]]"
   ]
  },
  {
   "cell_type": "markdown",
   "metadata": {
    "slideshow": {
     "slide_type": "slide"
    }
   },
   "source": [
    "### TensorFlow Graph"
   ]
  },
  {
   "cell_type": "code",
   "execution_count": 16,
   "metadata": {
    "slideshow": {
     "slide_type": "fragment"
    }
   },
   "outputs": [],
   "source": [
    "tf.logging.set_verbosity(tf.logging.INFO)\n",
    "\n",
    "with tf.name_scope('inputs'):\n",
    "    s = tf.placeholder(tf.float32, shape=[None, SOURCE_DIM], name='source')\n",
    "    t_ = tf.placeholder(tf.float32, shape=[None, TARGET_DIM], name='target')\n",
    "\n",
    "with tf.name_scope('parameters'):\n",
    "    T = tf.Variable(\n",
    "        tf.random_normal([SOURCE_DIM, TARGET_DIM]),\n",
    "        name='translation_matrix'\n",
    "    )\n",
    "    tf.summary.histogram('histogram', T)\n",
    "\n",
    "with tf.name_scope('inference'):\n",
    "    t = tf.matmul(s, T, name='projection')\n",
    "    # Regularized L2 Loss\n",
    "    loss = tf.nn.l2_loss(t - t_, name='l2_loss') + .01 * tf.nn.l2_loss(T)\n",
    "\n",
    "with tf.name_scope('training'):\n",
    "    optimizer = tf.train.AdamOptimizer()\n",
    "    train = optimizer.minimize(loss)"
   ]
  },
  {
   "cell_type": "markdown",
   "metadata": {
    "slideshow": {
     "slide_type": "slide"
    }
   },
   "source": [
    "### Run TensorFlow Model"
   ]
  },
  {
   "cell_type": "code",
   "execution_count": 17,
   "metadata": {
    "slideshow": {
     "slide_type": "fragment"
    }
   },
   "outputs": [],
   "source": [
    "with tf.Session().as_default() as sess:\n",
    "    tf.global_variables_initializer().run()\n",
    "\n",
    "    test_loss = np.inf\n",
    "    early_stop = 0\n",
    "    losses = []\n",
    "    \n",
    "    while True:\n",
    "        s_train, s_test, t_train, t_test = train_test_split(source_train, \n",
    "                                                            target_train, \n",
    "                                                            test_size=0.2,\n",
    "                                                            random_state=42)\n",
    "        \n",
    "        for idx in batches(permutation(s_train.shape[0]), BATCH_SIZE):\n",
    "            train.run(feed_dict={s: s_train[idx], t_: t_train[idx]})\n",
    "            \n",
    "        loss_ = sess.run(loss, feed_dict={s: s_test, t_: t_test})\n",
    "        losses.append(loss_)\n",
    "        \n",
    "        if loss_ < test_loss:\n",
    "            test_loss = loss_\n",
    "            early_stop = 0\n",
    "        else:\n",
    "            early_stop += 1\n",
    "        if early_stop == EARLY_STOP:\n",
    "            break\n",
    "            \n",
    "    translation_matrix = T.eval(sess)"
   ]
  },
  {
   "cell_type": "markdown",
   "metadata": {
    "slideshow": {
     "slide_type": "slide"
    }
   },
   "source": [
    "### Review Results"
   ]
  },
  {
   "cell_type": "code",
   "execution_count": 18,
   "metadata": {
    "slideshow": {
     "slide_type": "fragment"
    }
   },
   "outputs": [
    {
     "data": {
      "image/png": "[encoded data removed]",
      "text/plain": [
       "<Figure size 432x288 with 1 Axes>"
      ]
     },
     "metadata": {},
     "output_type": "display_data"
    }
   ],
   "source": [
    "ax = pd.Series(losses).plot(title='L2 Loss', logy=True)\n",
    "ax.set_xlabel('Epochs');"
   ]
  },
  {
   "cell_type": "code",
   "execution_count": 19,
   "metadata": {
    "slideshow": {
     "slide_type": "fragment"
    }
   },
   "outputs": [
    {
     "data": {
      "text/plain": [
       "(300, 300)"
      ]
     },
     "execution_count": 19,
     "metadata": {},
     "output_type": "execute_result"
    }
   ],
   "source": [
    "translation_matrix.shape"
   ]
  },
  {
   "cell_type": "markdown",
   "metadata": {
    "slideshow": {
     "slide_type": "slide"
    }
   },
   "source": [
    "### Evaluate Translation Accuracy"
   ]
  },
  {
   "cell_type": "code",
   "execution_count": 22,
   "metadata": {
    "slideshow": {
     "slide_type": "fragment"
    }
   },
   "outputs": [],
   "source": [
    "def get_accuracy(source, target, translation):\n",
    "    source_projection = np.dot(source, translation)\n",
    "    similarity = np.dot(source_projection, target.T)\n",
    "    \n",
    "    # Sort descending by index from left to right\n",
    "    nearest_neighbors = np.fliplr(similarity.argsort(axis=1)) \n",
    "    \n",
    "    # Get ranking of correct prediction\n",
    "    _, rank = np.where(nearest_neighbors == np.arange(target.shape[0]).reshape(-1, 1))\n",
    "    return pd.Series(data=rank).add(1), nearest_neighbors"
   ]
  },
  {
   "cell_type": "markdown",
   "metadata": {
    "slideshow": {
     "slide_type": "slide"
    }
   },
   "source": [
    "#### Train Accuracy"
   ]
  },
  {
   "cell_type": "code",
   "execution_count": 31,
   "metadata": {
    "slideshow": {
     "slide_type": "fragment"
    }
   },
   "outputs": [],
   "source": [
    "ranking, nn_train = get_accuracy(source_train, target_train, translation_matrix)\n",
    "train_accuracy = ranking.value_counts().sort_index()\n",
    "train_precision = train_accuracy.cumsum().div(len(ranking)).iloc[:10]\n",
    "train_precision = train_precision.to_frame('Train: n={:,d}'.format(len(ranking)))"
   ]
  },
  {
   "cell_type": "markdown",
   "metadata": {
    "slideshow": {
     "slide_type": "slide"
    }
   },
   "source": [
    "#### Test Accuracy"
   ]
  },
  {
   "cell_type": "code",
   "execution_count": 32,
   "metadata": {
    "slideshow": {
     "slide_type": "fragment"
    }
   },
   "outputs": [],
   "source": [
    "ranking, nn_test = get_accuracy(source_test, target_test, translation_matrix)\n",
    "test_accuracy = ranking.value_counts().sort_index()\n",
    "test_precision = test_accuracy.cumsum().div(len(ranking)).iloc[:10].iloc[:10]\n",
    "test_precision = test_precision.to_frame('Test: n={:,d}'.format(len(ranking)))"
   ]
  },
  {
   "cell_type": "markdown",
   "metadata": {
    "slideshow": {
     "slide_type": "slide"
    }
   },
   "source": [
    "#### Plot Results"
   ]
  },
  {
   "cell_type": "code",
   "execution_count": 34,
   "metadata": {
    "slideshow": {
     "slide_type": "fragment"
    }
   },
   "outputs": [
    {
     "data": {
      "image/png": "[encoded data removed]",
      "text/plain": [
       "<Figure size 1152x648 with 1 Axes>"
      ]
     },
     "metadata": {},
     "output_type": "display_data"
    }
   ],
   "source": [
    "result = pd.concat([train_precision, test_precision], axis=1)\n",
    "ax = result.plot(title='P@K Accuracy', figsize=(16,9))\n",
    "ax.set_xlabel('k')\n",
    "ax.set_ylabel('P@k Accuracy')\n",
    "ax.yaxis.set_major_formatter(FuncFormatter(lambda y, _: '{:.0%}'.format(y)))\n",
    "\n",
    "plt.tight_layout()\n",
    "plt.gcf().savefig('assets/translation_accuracy.png', dpi=300);"
   ]
  },
  {
   "cell_type": "markdown",
   "metadata": {
    "slideshow": {
     "slide_type": "slide"
    }
   },
   "source": [
    "#### View Translations"
   ]
  },
  {
   "cell_type": "code",
   "execution_count": 35,
   "metadata": {
    "slideshow": {
     "slide_type": "fragment"
    }
   },
   "outputs": [
    {
     "name": "stdout",
     "output_type": "stream",
     "text": [
      "        0       1       2       3             4\n",
      "en                                             \n",
      "the    el      el      la      de            de\n",
      "of     de      de      el      el            la\n",
      "and     y       y      de      de           con\n",
      "in     en      en      de      de             y\n",
      "to      a       a    para     que  directamente\n",
      "a      un      un      el      el           que\n",
      "was   era  estaba      es      es            es\n",
      "is     es      es      es  existe        existe\n",
      "for  para  además  además  además        además\n",
      "on     en      en      de      de            el\n"
     ]
    }
   ],
   "source": [
    "top_5_preds = pd.DataFrame(nn_train[:, :5], index=matches.en.iloc[:TRAIN_SIZE])\n",
    "\n",
    "for col in top_5_preds.columns:\n",
    "    top_5_preds[col] = top_5_preds[col].map(matches.es.to_dict())\n",
    "print(top_5_preds.head(10))"
   ]
  },
  {
   "cell_type": "code",
   "execution_count": 36,
   "metadata": {
    "slideshow": {
     "slide_type": "fragment"
    }
   },
   "outputs": [],
   "source": [
    "with pd.HDFStore(translation_path / 'results.h5') as store:\n",
    "    store.put('translation_matrix', pd.DataFrame(translation_matrix))\n",
    "    store.put('top_5_preds', top_5_preds)\n",
    "    store.put('accuracy', result)"
   ]
  },
  {
   "cell_type": "markdown",
   "metadata": {
    "slideshow": {
     "slide_type": "slide"
    }
   },
   "source": [
    "### Visualize Bilingual Vector Space in `tensorboard`"
   ]
  },
  {
   "cell_type": "markdown",
   "metadata": {
    "slideshow": {
     "slide_type": "fragment"
    }
   },
   "source": [
    "#### Embeddings"
   ]
  },
  {
   "cell_type": "code",
   "execution_count": 37,
   "metadata": {
    "slideshow": {
     "slide_type": "fragment"
    }
   },
   "outputs": [
    {
     "name": "stdout",
     "output_type": "stream",
     "text": [
      "<class 'pandas.core.frame.DataFrame'>\n",
      "RangeIndex: 5000 entries, 0 to 4999\n",
      "Columns: 300 entries, 0 to 299\n",
      "dtypes: float32(300)\n",
      "memory usage: 5.7 MB\n"
     ]
    }
   ],
   "source": [
    "LIMIT = 2500\n",
    "source_projection = np.dot(source_test, translation_matrix)\n",
    "projector_data = pd.DataFrame(np.vstack((source_projection[:LIMIT], \n",
    "                                         target_test[:LIMIT])))\n",
    "projector_data.to_csv(translation_path / 'embeddings.tsv', index=False, sep='\\t', header=None)\n",
    "projector_data.info()"
   ]
  },
  {
   "cell_type": "markdown",
   "metadata": {
    "slideshow": {
     "slide_type": "slide"
    }
   },
   "source": [
    "#### Meta Data"
   ]
  },
  {
   "cell_type": "code",
   "execution_count": 38,
   "metadata": {
    "slideshow": {
     "slide_type": "fragment"
    }
   },
   "outputs": [
    {
     "name": "stdout",
     "output_type": "stream",
     "text": [
      "<class 'pandas.core.frame.DataFrame'>\n",
      "RangeIndex: 5000 entries, 0 to 4999\n",
      "Data columns (total 2 columns):\n",
      "language    5000 non-null object\n",
      "word        5000 non-null object\n",
      "dtypes: object(2)\n",
      "memory usage: 78.2+ KB\n"
     ]
    }
   ],
   "source": [
    "labels = pd.melt(matches.iloc[TRAIN_SIZE:TRAIN_SIZE+LIMIT].loc[:, ['en', 'es']],\n",
    "                 var_name='language', \n",
    "                 value_name='word')\n",
    "labels.to_csv(translation_path / 'meta_data.tsv', index=False, sep='\\t')\n",
    "labels.info()"
   ]
  },
  {
   "cell_type": "markdown",
   "metadata": {},
   "source": [
    "## Resources\n",
    "\n",
    "- [Exploiting similarities among languages for machine translation](https://arxiv.org/pdf/1309.4168)"
   ]
  }
 ],
 "metadata": {
  "celltoolbar": "Slideshow",
  "kernelspec": {
   "display_name": "Python 3",
   "language": "python",
   "name": "python3"
  },
  "language_info": {
   "codemirror_mode": {
    "name": "ipython",
    "version": 3
   },
   "file_extension": ".py",
   "mimetype": "text/x-python",
   "name": "python",
   "nbconvert_exporter": "python",
   "pygments_lexer": "ipython3",
   "version": "3.6.8"
  },
  "toc": {
   "base_numbering": 1,
   "nav_menu": {},
   "number_sections": true,
   "sideBar": true,
   "skip_h1_title": false,
   "title_cell": "Table of Contents",
   "title_sidebar": "Contents",
   "toc_cell": false,
   "toc_position": {
    "height": "900px",
    "left": "1536px",
    "top": "302.5px",
    "width": "212px"
   },
   "toc_section_display": true,
   "toc_window_display": true
  }
 },
 "nbformat": 4,
 "nbformat_minor": 2
}
