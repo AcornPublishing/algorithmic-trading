{
 "cells": [
  {
   "cell_type": "markdown",
   "metadata": {},
   "source": [
    "# Yelp Sentiment Analysis with doc2vec Document Vectors"
   ]
  },
  {
   "cell_type": "markdown",
   "metadata": {},
   "source": [
    "## Imports & Settings"
   ]
  },
  {
   "cell_type": "code",
   "execution_count": 1,
   "metadata": {
    "ExecuteTime": {
     "end_time": "2020-06-21T14:57:53.085651Z",
     "start_time": "2020-06-21T14:57:53.083498Z"
    }
   },
   "outputs": [],
   "source": [
    "import warnings\n",
    "warnings.filterwarnings('ignore')"
   ]
  },
  {
   "cell_type": "code",
   "execution_count": 2,
   "metadata": {
    "ExecuteTime": {
     "end_time": "2020-06-21T14:57:53.517538Z",
     "start_time": "2020-06-21T14:57:53.086768Z"
    }
   },
   "outputs": [
    {
     "name": "stderr",
     "output_type": "stream",
     "text": [
      "[nltk_data] Downloading package stopwords to /home/stefan/nltk_data...\n",
      "[nltk_data]   Package stopwords is already up-to-date!\n"
     ]
    },
    {
     "data": {
      "text/plain": [
       "True"
      ]
     },
     "execution_count": 2,
     "metadata": {},
     "output_type": "execute_result"
    }
   ],
   "source": [
    "import nltk\n",
    "nltk.download('stopwords')"
   ]
  },
  {
   "cell_type": "code",
   "execution_count": 3,
   "metadata": {
    "ExecuteTime": {
     "end_time": "2020-06-21T14:57:54.000662Z",
     "start_time": "2020-06-21T14:57:53.518570Z"
    }
   },
   "outputs": [],
   "source": [
    "from pathlib import Path\n",
    "import logging\n",
    "from random import shuffle\n",
    "\n",
    "import numpy as np\n",
    "import pandas as pd\n",
    "\n",
    "from gensim.models import Doc2Vec\n",
    "from gensim.models.doc2vec import TaggedDocument\n",
    "\n",
    "from nltk import RegexpTokenizer\n",
    "from nltk.corpus import stopwords\n",
    "\n",
    "from sklearn.model_selection import train_test_split\n",
    "from sklearn.linear_model import LogisticRegression\n",
    "from sklearn.ensemble import RandomForestClassifier\n",
    "from sklearn.metrics import confusion_matrix, accuracy_score, roc_auc_score\n",
    "from sklearn.utils import class_weight\n",
    "\n",
    "import lightgbm as lgb\n",
    "\n",
    "import matplotlib.pyplot as plt\n",
    "import seaborn as sns"
   ]
  },
  {
   "cell_type": "markdown",
   "metadata": {},
   "source": [
    "### Settings"
   ]
  },
  {
   "cell_type": "code",
   "execution_count": 4,
   "metadata": {
    "ExecuteTime": {
     "end_time": "2020-06-21T14:57:54.005819Z",
     "start_time": "2020-06-21T14:57:54.001544Z"
    }
   },
   "outputs": [],
   "source": [
    "sns.set_style('white')\n",
    "pd.set_option('display.expand_frame_repr', False)\n",
    "np.random.seed(42)"
   ]
  },
  {
   "cell_type": "markdown",
   "metadata": {},
   "source": [
    "### Paths"
   ]
  },
  {
   "cell_type": "code",
   "execution_count": 5,
   "metadata": {
    "ExecuteTime": {
     "end_time": "2020-06-21T14:57:54.015784Z",
     "start_time": "2020-06-21T14:57:54.006719Z"
    }
   },
   "outputs": [],
   "source": [
    "data_path = Path('..', 'data', 'yelp')"
   ]
  },
  {
   "cell_type": "code",
   "execution_count": 6,
   "metadata": {
    "ExecuteTime": {
     "end_time": "2020-06-21T14:57:54.024062Z",
     "start_time": "2020-06-21T14:57:54.017142Z"
    }
   },
   "outputs": [],
   "source": [
    "results_path = Path('results', 'yelp')\n",
    "if not results_path.exists():\n",
    "    results_path.mkdir(parents=True)"
   ]
  },
  {
   "cell_type": "markdown",
   "metadata": {},
   "source": [
    "### Logging Config"
   ]
  },
  {
   "cell_type": "code",
   "execution_count": 7,
   "metadata": {
    "ExecuteTime": {
     "end_time": "2020-06-21T14:57:54.032714Z",
     "start_time": "2020-06-21T14:57:54.025156Z"
    }
   },
   "outputs": [],
   "source": [
    "logging.basicConfig(\n",
    "        filename=results_path / 'doc2vec.log',\n",
    "        level=logging.DEBUG,\n",
    "        format='%(asctime)s - %(name)s - %(levelname)s - %(message)s',\n",
    "        datefmt='%H:%M:%S')"
   ]
  },
  {
   "cell_type": "markdown",
   "metadata": {},
   "source": [
    "## Load Data"
   ]
  },
  {
   "cell_type": "markdown",
   "metadata": {},
   "source": [
    "Refer to download information [here](../data/create_yelp_review_data.ipynb).\n",
    "\n",
    "We'll create a smaller sample of 100,000 reviews per star rating."
   ]
  },
  {
   "cell_type": "code",
   "execution_count": 8,
   "metadata": {
    "ExecuteTime": {
     "end_time": "2020-06-21T14:58:07.999024Z",
     "start_time": "2020-06-21T14:57:54.033764Z"
    }
   },
   "outputs": [],
   "source": [
    "df = pd.read_parquet(data_path / 'user_reviews.parquet').loc[:, ['stars', 'text']]"
   ]
  },
  {
   "cell_type": "code",
   "execution_count": 9,
   "metadata": {
    "ExecuteTime": {
     "end_time": "2020-06-21T14:58:08.004494Z",
     "start_time": "2020-06-21T14:58:07.999975Z"
    }
   },
   "outputs": [
    {
     "name": "stdout",
     "output_type": "stream",
     "text": [
      "<class 'pandas.core.frame.DataFrame'>\n",
      "Int64Index: 8021122 entries, 0 to 8021121\n",
      "Data columns (total 2 columns):\n",
      " #   Column  Dtype  \n",
      "---  ------  -----  \n",
      " 0   stars   float64\n",
      " 1   text    object \n",
      "dtypes: float64(1), object(1)\n",
      "memory usage: 183.6+ MB\n"
     ]
    }
   ],
   "source": [
    "df.info()"
   ]
  },
  {
   "cell_type": "code",
   "execution_count": 10,
   "metadata": {
    "ExecuteTime": {
     "end_time": "2020-06-21T14:58:08.071396Z",
     "start_time": "2020-06-21T14:58:08.005568Z"
    }
   },
   "outputs": [
    {
     "data": {
      "text/plain": [
       "5.0    3586460\n",
       "4.0    1673404\n",
       "1.0    1283897\n",
       "3.0     842289\n",
       "2.0     635072\n",
       "Name: stars, dtype: int64"
      ]
     },
     "execution_count": 10,
     "metadata": {},
     "output_type": "execute_result"
    }
   ],
   "source": [
    "df.stars.value_counts()"
   ]
  },
  {
   "cell_type": "code",
   "execution_count": 11,
   "metadata": {
    "ExecuteTime": {
     "end_time": "2020-06-21T14:58:08.073910Z",
     "start_time": "2020-06-21T14:58:08.072275Z"
    }
   },
   "outputs": [],
   "source": [
    "stars = range(1, 6)"
   ]
  },
  {
   "cell_type": "code",
   "execution_count": 12,
   "metadata": {
    "ExecuteTime": {
     "end_time": "2020-06-21T14:58:09.169024Z",
     "start_time": "2020-06-21T14:58:08.074693Z"
    }
   },
   "outputs": [],
   "source": [
    "sample = pd.concat([df[df.stars == s].sample(n=100000) for s in stars])"
   ]
  },
  {
   "cell_type": "code",
   "execution_count": 13,
   "metadata": {
    "ExecuteTime": {
     "end_time": "2020-06-21T14:58:09.259018Z",
     "start_time": "2020-06-21T14:58:09.169965Z"
    }
   },
   "outputs": [
    {
     "name": "stdout",
     "output_type": "stream",
     "text": [
      "<class 'pandas.core.frame.DataFrame'>\n",
      "Int64Index: 500000 entries, 7812276 to 4618307\n",
      "Data columns (total 2 columns):\n",
      " #   Column  Non-Null Count   Dtype  \n",
      "---  ------  --------------   -----  \n",
      " 0   stars   500000 non-null  float64\n",
      " 1   text    500000 non-null  object \n",
      "dtypes: float64(1), object(1)\n",
      "memory usage: 11.4+ MB\n"
     ]
    }
   ],
   "source": [
    "sample.info()"
   ]
  },
  {
   "cell_type": "code",
   "execution_count": 14,
   "metadata": {
    "ExecuteTime": {
     "end_time": "2020-06-21T14:58:09.266305Z",
     "start_time": "2020-06-21T14:58:09.259909Z"
    }
   },
   "outputs": [
    {
     "data": {
      "text/plain": [
       "3.0    100000\n",
       "5.0    100000\n",
       "4.0    100000\n",
       "2.0    100000\n",
       "1.0    100000\n",
       "Name: stars, dtype: int64"
      ]
     },
     "execution_count": 14,
     "metadata": {},
     "output_type": "execute_result"
    }
   ],
   "source": [
    "sample.stars.value_counts()"
   ]
  },
  {
   "cell_type": "code",
   "execution_count": 15,
   "metadata": {
    "ExecuteTime": {
     "end_time": "2020-06-21T14:58:11.449997Z",
     "start_time": "2020-06-21T14:58:09.267180Z"
    }
   },
   "outputs": [],
   "source": [
    "sample.to_parquet(results_path / 'review_sample.parquet')"
   ]
  },
  {
   "cell_type": "code",
   "execution_count": 16,
   "metadata": {
    "ExecuteTime": {
     "end_time": "2020-06-21T14:58:12.439379Z",
     "start_time": "2020-06-21T14:58:11.450988Z"
    }
   },
   "outputs": [],
   "source": [
    "sample = pd.read_parquet(results_path / 'review_sample.parquet').reset_index(drop=True)"
   ]
  },
  {
   "cell_type": "code",
   "execution_count": 17,
   "metadata": {
    "ExecuteTime": {
     "end_time": "2020-06-21T14:58:12.448022Z",
     "start_time": "2020-06-21T14:58:12.441587Z"
    }
   },
   "outputs": [
    {
     "data": {
      "text/html": [
       "<div>\n",
       "<style scoped>\n",
       "    .dataframe tbody tr th:only-of-type {\n",
       "        vertical-align: middle;\n",
       "    }\n",
       "\n",
       "    .dataframe tbody tr th {\n",
       "        vertical-align: top;\n",
       "    }\n",
       "\n",
       "    .dataframe thead th {\n",
       "        text-align: right;\n",
       "    }\n",
       "</style>\n",
       "<table border=\"1\" class=\"dataframe\">\n",
       "  <thead>\n",
       "    <tr style=\"text-align: right;\">\n",
       "      <th></th>\n",
       "      <th>stars</th>\n",
       "      <th>text</th>\n",
       "    </tr>\n",
       "  </thead>\n",
       "  <tbody>\n",
       "    <tr>\n",
       "      <th>0</th>\n",
       "      <td>1.0</td>\n",
       "      <td>I  have worked with Peter at Green Arrow for a...</td>\n",
       "    </tr>\n",
       "    <tr>\n",
       "      <th>1</th>\n",
       "      <td>1.0</td>\n",
       "      <td>Worst salon ever!!!! They make an appointment ...</td>\n",
       "    </tr>\n",
       "    <tr>\n",
       "      <th>2</th>\n",
       "      <td>1.0</td>\n",
       "      <td>could be happenin' if anybody showed up.  pitt...</td>\n",
       "    </tr>\n",
       "    <tr>\n",
       "      <th>3</th>\n",
       "      <td>1.0</td>\n",
       "      <td>Yeah, so nothing has changed with their servic...</td>\n",
       "    </tr>\n",
       "    <tr>\n",
       "      <th>4</th>\n",
       "      <td>1.0</td>\n",
       "      <td>I sent a parts request through their online em...</td>\n",
       "    </tr>\n",
       "  </tbody>\n",
       "</table>\n",
       "</div>"
      ],
      "text/plain": [
       "   stars                                               text\n",
       "0    1.0  I  have worked with Peter at Green Arrow for a...\n",
       "1    1.0  Worst salon ever!!!! They make an appointment ...\n",
       "2    1.0  could be happenin' if anybody showed up.  pitt...\n",
       "3    1.0  Yeah, so nothing has changed with their servic...\n",
       "4    1.0  I sent a parts request through their online em..."
      ]
     },
     "execution_count": 17,
     "metadata": {},
     "output_type": "execute_result"
    }
   ],
   "source": [
    "sample.head()"
   ]
  },
  {
   "cell_type": "code",
   "execution_count": 18,
   "metadata": {
    "ExecuteTime": {
     "end_time": "2020-06-21T14:58:19.364181Z",
     "start_time": "2020-06-21T14:58:12.449321Z"
    }
   },
   "outputs": [
    {
     "data": {
      "image/png": "[encoded data removed]",
      "text/plain": [
       "<Figure size 432x288 with 1 Axes>"
      ]
     },
     "metadata": {},
     "output_type": "display_data"
    }
   ],
   "source": [
    "ax = sns.distplot(sample.text.str.split().str.len())\n",
    "ax.set_xlabel('# Tokens')\n",
    "sns.despine();"
   ]
  },
  {
   "cell_type": "markdown",
   "metadata": {},
   "source": [
    "## Doc2Vec"
   ]
  },
  {
   "cell_type": "markdown",
   "metadata": {},
   "source": [
    "### Basic text cleaning"
   ]
  },
  {
   "cell_type": "code",
   "execution_count": 19,
   "metadata": {
    "ExecuteTime": {
     "end_time": "2020-06-21T14:58:19.368593Z",
     "start_time": "2020-06-21T14:58:19.365212Z"
    }
   },
   "outputs": [],
   "source": [
    "tokenizer = RegexpTokenizer(r'\\w+')\n",
    "stopword_set = set(stopwords.words('english'))\n",
    "\n",
    "def clean(review):\n",
    "    tokens = tokenizer.tokenize(review)\n",
    "    return ' '.join([t for t in tokens if t not in stopword_set])"
   ]
  },
  {
   "cell_type": "code",
   "execution_count": 20,
   "metadata": {
    "ExecuteTime": {
     "end_time": "2020-06-21T14:58:35.289430Z",
     "start_time": "2020-06-21T14:58:19.369470Z"
    }
   },
   "outputs": [],
   "source": [
    "sample.text = sample.text.str.lower().apply(clean)"
   ]
  },
  {
   "cell_type": "code",
   "execution_count": 21,
   "metadata": {
    "ExecuteTime": {
     "end_time": "2020-06-21T14:58:35.313272Z",
     "start_time": "2020-06-21T14:58:35.290328Z"
    }
   },
   "outputs": [
    {
     "data": {
      "text/html": [
       "<div>\n",
       "<style scoped>\n",
       "    .dataframe tbody tr th:only-of-type {\n",
       "        vertical-align: middle;\n",
       "    }\n",
       "\n",
       "    .dataframe tbody tr th {\n",
       "        vertical-align: top;\n",
       "    }\n",
       "\n",
       "    .dataframe thead th {\n",
       "        text-align: right;\n",
       "    }\n",
       "</style>\n",
       "<table border=\"1\" class=\"dataframe\">\n",
       "  <thead>\n",
       "    <tr style=\"text-align: right;\">\n",
       "      <th></th>\n",
       "      <th>stars</th>\n",
       "      <th>text</th>\n",
       "    </tr>\n",
       "  </thead>\n",
       "  <tbody>\n",
       "    <tr>\n",
       "      <th>106676</th>\n",
       "      <td>2.0</td>\n",
       "      <td>ordered guinea pig pizza read great reviews ca...</td>\n",
       "    </tr>\n",
       "    <tr>\n",
       "      <th>388751</th>\n",
       "      <td>4.0</td>\n",
       "      <td>great stop us way highpoint hubby craving shri...</td>\n",
       "    </tr>\n",
       "    <tr>\n",
       "      <th>235104</th>\n",
       "      <td>3.0</td>\n",
       "      <td>read roger review waiting show start thought h...</td>\n",
       "    </tr>\n",
       "    <tr>\n",
       "      <th>422459</th>\n",
       "      <td>5.0</td>\n",
       "      <td>finally broke tried ocp past weekend found cli...</td>\n",
       "    </tr>\n",
       "    <tr>\n",
       "      <th>366460</th>\n",
       "      <td>4.0</td>\n",
       "      <td>mary neill couple times drinks apps apps prett...</td>\n",
       "    </tr>\n",
       "    <tr>\n",
       "      <th>84223</th>\n",
       "      <td>1.0</td>\n",
       "      <td>going honest came dominoes temporarily closed ...</td>\n",
       "    </tr>\n",
       "    <tr>\n",
       "      <th>190363</th>\n",
       "      <td>2.0</td>\n",
       "      <td>tell much wanted like place counting days open...</td>\n",
       "    </tr>\n",
       "    <tr>\n",
       "      <th>282482</th>\n",
       "      <td>3.0</td>\n",
       "      <td>three stars may seem little harsh one sandwich...</td>\n",
       "    </tr>\n",
       "    <tr>\n",
       "      <th>388041</th>\n",
       "      <td>4.0</td>\n",
       "      <td>family goes breakfast brunch weekends great li...</td>\n",
       "    </tr>\n",
       "    <tr>\n",
       "      <th>136831</th>\n",
       "      <td>2.0</td>\n",
       "      <td>gone twice food amazing however staff much car...</td>\n",
       "    </tr>\n",
       "  </tbody>\n",
       "</table>\n",
       "</div>"
      ],
      "text/plain": [
       "        stars                                               text\n",
       "106676    2.0  ordered guinea pig pizza read great reviews ca...\n",
       "388751    4.0  great stop us way highpoint hubby craving shri...\n",
       "235104    3.0  read roger review waiting show start thought h...\n",
       "422459    5.0  finally broke tried ocp past weekend found cli...\n",
       "366460    4.0  mary neill couple times drinks apps apps prett...\n",
       "84223     1.0  going honest came dominoes temporarily closed ...\n",
       "190363    2.0  tell much wanted like place counting days open...\n",
       "282482    3.0  three stars may seem little harsh one sandwich...\n",
       "388041    4.0  family goes breakfast brunch weekends great li...\n",
       "136831    2.0  gone twice food amazing however staff much car..."
      ]
     },
     "execution_count": 21,
     "metadata": {},
     "output_type": "execute_result"
    }
   ],
   "source": [
    "sample.sample(n=10)"
   ]
  },
  {
   "cell_type": "code",
   "execution_count": 22,
   "metadata": {
    "ExecuteTime": {
     "end_time": "2020-06-21T14:58:38.692302Z",
     "start_time": "2020-06-21T14:58:35.314157Z"
    }
   },
   "outputs": [
    {
     "name": "stdout",
     "output_type": "stream",
     "text": [
      "<class 'pandas.core.frame.DataFrame'>\n",
      "Int64Index: 485725 entries, 0 to 499999\n",
      "Data columns (total 2 columns):\n",
      " #   Column  Non-Null Count   Dtype  \n",
      "---  ------  --------------   -----  \n",
      " 0   stars   485725 non-null  float64\n",
      " 1   text    485725 non-null  object \n",
      "dtypes: float64(1), object(1)\n",
      "memory usage: 11.1+ MB\n"
     ]
    }
   ],
   "source": [
    "sample = sample[sample.text.str.split().str.len()>10]\n",
    "sample.info()"
   ]
  },
  {
   "cell_type": "markdown",
   "metadata": {},
   "source": [
    "### Create sentence stream"
   ]
  },
  {
   "cell_type": "code",
   "execution_count": 23,
   "metadata": {
    "ExecuteTime": {
     "end_time": "2020-06-21T14:58:43.799150Z",
     "start_time": "2020-06-21T14:58:38.693275Z"
    }
   },
   "outputs": [],
   "source": [
    "sentences = []\n",
    "for i, (_, text) in enumerate(sample.values):\n",
    "    sentences.append(TaggedDocument(words=text.split(), tags=[i]))"
   ]
  },
  {
   "cell_type": "markdown",
   "metadata": {},
   "source": [
    "### Formulate the model"
   ]
  },
  {
   "cell_type": "code",
   "execution_count": 24,
   "metadata": {
    "ExecuteTime": {
     "end_time": "2020-06-21T15:06:02.413402Z",
     "start_time": "2020-06-21T14:58:43.800282Z"
    }
   },
   "outputs": [],
   "source": [
    "model = Doc2Vec(documents=sentences,\n",
    "                dm=1,           # 1=distributed memory, 0=dist.BOW\n",
    "                epochs=5,\n",
    "                size=300,       # vector size\n",
    "                window=5,       # max. distance betw. target and context\n",
    "                min_count=50,   # ignore tokens w. lower frequency\n",
    "                negative=5,     # negative training samples\n",
    "                dm_concat=0,    # 1=concatenate vectors, 0=sum\n",
    "                dbow_words=0,   # 1=train word vectors as well\n",
    "                workers=4)"
   ]
  },
  {
   "cell_type": "code",
   "execution_count": 25,
   "metadata": {
    "ExecuteTime": {
     "end_time": "2020-06-21T15:06:02.476540Z",
     "start_time": "2020-06-21T15:06:02.414829Z"
    }
   },
   "outputs": [
    {
     "data": {
      "text/html": [
       "<div>\n",
       "<style scoped>\n",
       "    .dataframe tbody tr th:only-of-type {\n",
       "        vertical-align: middle;\n",
       "    }\n",
       "\n",
       "    .dataframe tbody tr th {\n",
       "        vertical-align: top;\n",
       "    }\n",
       "\n",
       "    .dataframe thead th {\n",
       "        text-align: right;\n",
       "    }\n",
       "</style>\n",
       "<table border=\"1\" class=\"dataframe\">\n",
       "  <thead>\n",
       "    <tr style=\"text-align: right;\">\n",
       "      <th></th>\n",
       "      <th>token</th>\n",
       "      <th>similarity</th>\n",
       "    </tr>\n",
       "  </thead>\n",
       "  <tbody>\n",
       "    <tr>\n",
       "      <th>0</th>\n",
       "      <td>great</td>\n",
       "      <td>0.757694</td>\n",
       "    </tr>\n",
       "    <tr>\n",
       "      <th>1</th>\n",
       "      <td>decent</td>\n",
       "      <td>0.746465</td>\n",
       "    </tr>\n",
       "    <tr>\n",
       "      <th>2</th>\n",
       "      <td>awesome</td>\n",
       "      <td>0.622731</td>\n",
       "    </tr>\n",
       "    <tr>\n",
       "      <th>3</th>\n",
       "      <td>amazing</td>\n",
       "      <td>0.611350</td>\n",
       "    </tr>\n",
       "    <tr>\n",
       "      <th>4</th>\n",
       "      <td>bad</td>\n",
       "      <td>0.605432</td>\n",
       "    </tr>\n",
       "    <tr>\n",
       "      <th>5</th>\n",
       "      <td>yummy</td>\n",
       "      <td>0.600379</td>\n",
       "    </tr>\n",
       "    <tr>\n",
       "      <th>6</th>\n",
       "      <td>ok</td>\n",
       "      <td>0.600137</td>\n",
       "    </tr>\n",
       "    <tr>\n",
       "      <th>7</th>\n",
       "      <td>tasty</td>\n",
       "      <td>0.596531</td>\n",
       "    </tr>\n",
       "    <tr>\n",
       "      <th>8</th>\n",
       "      <td>excellent</td>\n",
       "      <td>0.594958</td>\n",
       "    </tr>\n",
       "    <tr>\n",
       "      <th>9</th>\n",
       "      <td>okay</td>\n",
       "      <td>0.592447</td>\n",
       "    </tr>\n",
       "  </tbody>\n",
       "</table>\n",
       "</div>"
      ],
      "text/plain": [
       "       token  similarity\n",
       "0      great    0.757694\n",
       "1     decent    0.746465\n",
       "2    awesome    0.622731\n",
       "3    amazing    0.611350\n",
       "4        bad    0.605432\n",
       "5      yummy    0.600379\n",
       "6         ok    0.600137\n",
       "7      tasty    0.596531\n",
       "8  excellent    0.594958\n",
       "9       okay    0.592447"
      ]
     },
     "execution_count": 25,
     "metadata": {},
     "output_type": "execute_result"
    }
   ],
   "source": [
    "pd.DataFrame(model.most_similar('good'), columns=['token', 'similarity'])"
   ]
  },
  {
   "cell_type": "markdown",
   "metadata": {},
   "source": [
    "### Continue training"
   ]
  },
  {
   "cell_type": "code",
   "execution_count": 26,
   "metadata": {
    "ExecuteTime": {
     "end_time": "2020-06-21T15:11:40.602744Z",
     "start_time": "2020-06-21T15:06:02.478442Z"
    }
   },
   "outputs": [],
   "source": [
    "model.train(sentences, total_examples=model.corpus_count, epochs=model.epochs)"
   ]
  },
  {
   "cell_type": "code",
   "execution_count": 27,
   "metadata": {
    "ExecuteTime": {
     "end_time": "2020-06-21T15:11:40.638403Z",
     "start_time": "2020-06-21T15:11:40.604303Z"
    }
   },
   "outputs": [
    {
     "data": {
      "text/html": [
       "<div>\n",
       "<style scoped>\n",
       "    .dataframe tbody tr th:only-of-type {\n",
       "        vertical-align: middle;\n",
       "    }\n",
       "\n",
       "    .dataframe tbody tr th {\n",
       "        vertical-align: top;\n",
       "    }\n",
       "\n",
       "    .dataframe thead th {\n",
       "        text-align: right;\n",
       "    }\n",
       "</style>\n",
       "<table border=\"1\" class=\"dataframe\">\n",
       "  <thead>\n",
       "    <tr style=\"text-align: right;\">\n",
       "      <th></th>\n",
       "      <th>token</th>\n",
       "      <th>similarity</th>\n",
       "    </tr>\n",
       "  </thead>\n",
       "  <tbody>\n",
       "    <tr>\n",
       "      <th>0</th>\n",
       "      <td>great</td>\n",
       "      <td>0.745322</td>\n",
       "    </tr>\n",
       "    <tr>\n",
       "      <th>1</th>\n",
       "      <td>decent</td>\n",
       "      <td>0.712028</td>\n",
       "    </tr>\n",
       "    <tr>\n",
       "      <th>2</th>\n",
       "      <td>awesome</td>\n",
       "      <td>0.618959</td>\n",
       "    </tr>\n",
       "    <tr>\n",
       "      <th>3</th>\n",
       "      <td>amazing</td>\n",
       "      <td>0.608737</td>\n",
       "    </tr>\n",
       "    <tr>\n",
       "      <th>4</th>\n",
       "      <td>excellent</td>\n",
       "      <td>0.605081</td>\n",
       "    </tr>\n",
       "    <tr>\n",
       "      <th>5</th>\n",
       "      <td>fantastic</td>\n",
       "      <td>0.577577</td>\n",
       "    </tr>\n",
       "    <tr>\n",
       "      <th>6</th>\n",
       "      <td>yummy</td>\n",
       "      <td>0.569521</td>\n",
       "    </tr>\n",
       "    <tr>\n",
       "      <th>7</th>\n",
       "      <td>tasty</td>\n",
       "      <td>0.555287</td>\n",
       "    </tr>\n",
       "    <tr>\n",
       "      <th>8</th>\n",
       "      <td>bad</td>\n",
       "      <td>0.543677</td>\n",
       "    </tr>\n",
       "    <tr>\n",
       "      <th>9</th>\n",
       "      <td>delicious</td>\n",
       "      <td>0.539020</td>\n",
       "    </tr>\n",
       "  </tbody>\n",
       "</table>\n",
       "</div>"
      ],
      "text/plain": [
       "       token  similarity\n",
       "0      great    0.745322\n",
       "1     decent    0.712028\n",
       "2    awesome    0.618959\n",
       "3    amazing    0.608737\n",
       "4  excellent    0.605081\n",
       "5  fantastic    0.577577\n",
       "6      yummy    0.569521\n",
       "7      tasty    0.555287\n",
       "8        bad    0.543677\n",
       "9  delicious    0.539020"
      ]
     },
     "execution_count": 27,
     "metadata": {},
     "output_type": "execute_result"
    }
   ],
   "source": [
    "most_similar = pd.DataFrame(model.most_similar('good'), columns=['token', 'similarity'])\n",
    "most_similar"
   ]
  },
  {
   "cell_type": "code",
   "execution_count": 28,
   "metadata": {
    "ExecuteTime": {
     "end_time": "2020-06-21T15:11:48.127809Z",
     "start_time": "2020-06-21T15:11:40.640050Z"
    }
   },
   "outputs": [
    {
     "data": {
      "image/png": "[encoded data removed]",
      "text/plain": [
       "<Figure size 864x288 with 2 Axes>"
      ]
     },
     "metadata": {},
     "output_type": "display_data"
    }
   ],
   "source": [
    "fig, axes =plt.subplots(ncols=2, figsize=(12, 4))\n",
    "sns.distplot(sample.text.str.split().str.len(), ax=axes[0])\n",
    "axes[0].set_title('# Tokens per Review')\n",
    "\n",
    "most_similar.set_index('token').similarity.sort_values().plot.barh(ax=axes[1], \n",
    "                                                                   title=\"Terms Most Similar to 'good'\",\n",
    "                                                                  xlim=(.5, .8))\n",
    "axes[1].set_xlabel('Similarity')\n",
    "axes[1].set_ylabel('Token')\n",
    "axes[0].set_xlabel('# Tokens')\n",
    "\n",
    "sns.despine()\n",
    "fig.tight_layout()\n",
    "fig.savefig(results_path / 'doc2vec_stats', dpi=300)"
   ]
  },
  {
   "cell_type": "markdown",
   "metadata": {},
   "source": [
    "## Persist Model"
   ]
  },
  {
   "cell_type": "code",
   "execution_count": 29,
   "metadata": {
    "ExecuteTime": {
     "end_time": "2020-06-21T15:11:49.241581Z",
     "start_time": "2020-06-21T15:11:48.129574Z"
    }
   },
   "outputs": [],
   "source": [
    "model.save((results_path / 'sample.model').as_posix())"
   ]
  },
  {
   "cell_type": "code",
   "execution_count": 30,
   "metadata": {
    "ExecuteTime": {
     "end_time": "2020-06-21T15:11:49.925621Z",
     "start_time": "2020-06-21T15:11:49.243068Z"
    }
   },
   "outputs": [],
   "source": [
    "model = Doc2Vec.load((results_path / 'sample.model').as_posix())"
   ]
  },
  {
   "cell_type": "markdown",
   "metadata": {},
   "source": [
    "## Evaluate"
   ]
  },
  {
   "cell_type": "code",
   "execution_count": 31,
   "metadata": {
    "ExecuteTime": {
     "end_time": "2020-06-21T15:11:49.947446Z",
     "start_time": "2020-06-21T15:11:49.927138Z"
    }
   },
   "outputs": [],
   "source": [
    "y = sample.stars.sub(1)"
   ]
  },
  {
   "cell_type": "code",
   "execution_count": 32,
   "metadata": {
    "ExecuteTime": {
     "end_time": "2020-06-21T15:11:51.091835Z",
     "start_time": "2020-06-21T15:11:49.950798Z"
    }
   },
   "outputs": [],
   "source": [
    "size = 300\n",
    "X = np.zeros(shape=(len(y), size))\n",
    "for i in range(len(sample)):\n",
    "    X[i] = model.docvecs[i]"
   ]
  },
  {
   "cell_type": "code",
   "execution_count": 33,
   "metadata": {
    "ExecuteTime": {
     "end_time": "2020-06-21T15:11:51.097386Z",
     "start_time": "2020-06-21T15:11:51.093053Z"
    }
   },
   "outputs": [
    {
     "data": {
      "text/plain": [
       "(485725, 300)"
      ]
     },
     "execution_count": 33,
     "metadata": {},
     "output_type": "execute_result"
    }
   ],
   "source": [
    "X.shape"
   ]
  },
  {
   "cell_type": "markdown",
   "metadata": {},
   "source": [
    "### Train-Test Split"
   ]
  },
  {
   "cell_type": "code",
   "execution_count": 34,
   "metadata": {
    "ExecuteTime": {
     "end_time": "2020-06-21T15:11:51.554548Z",
     "start_time": "2020-06-21T15:11:51.099169Z"
    }
   },
   "outputs": [],
   "source": [
    "X_train, X_test, y_train, y_test = train_test_split(X, y, \n",
    "                                                    test_size=0.2, \n",
    "                                                    random_state=42, \n",
    "                                                    stratify=y)"
   ]
  },
  {
   "cell_type": "code",
   "execution_count": 35,
   "metadata": {
    "ExecuteTime": {
     "end_time": "2020-06-21T15:11:51.569283Z",
     "start_time": "2020-06-21T15:11:51.555845Z"
    }
   },
   "outputs": [
    {
     "name": "stdout",
     "output_type": "stream",
     "text": [
      "Baseline Score: 20.15%\n"
     ]
    }
   ],
   "source": [
    "mode = pd.Series(y_train).mode().iloc[0]\n",
    "baseline = accuracy_score(y_true=y_test, y_pred=np.full_like(y_test, fill_value=mode))\n",
    "print(f'Baseline Score: {baseline:.2%}')"
   ]
  },
  {
   "cell_type": "code",
   "execution_count": 36,
   "metadata": {
    "ExecuteTime": {
     "end_time": "2020-06-21T15:11:51.635535Z",
     "start_time": "2020-06-21T15:11:51.570442Z"
    }
   },
   "outputs": [],
   "source": [
    "class_weights = class_weight.compute_class_weight('balanced',\n",
    "                                                 np.unique(y_train),\n",
    "                                                 y_train)"
   ]
  },
  {
   "cell_type": "code",
   "execution_count": 37,
   "metadata": {
    "ExecuteTime": {
     "end_time": "2020-06-21T15:11:51.639739Z",
     "start_time": "2020-06-21T15:11:51.636692Z"
    }
   },
   "outputs": [
    {
     "data": {
      "text/plain": [
       "array([0.99618017, 0.9923514 , 0.99524889, 1.00219225, 1.01433084])"
      ]
     },
     "execution_count": 37,
     "metadata": {},
     "output_type": "execute_result"
    }
   ],
   "source": [
    "class_weights"
   ]
  },
  {
   "cell_type": "markdown",
   "metadata": {},
   "source": [
    "## LightGBM"
   ]
  },
  {
   "cell_type": "code",
   "execution_count": 38,
   "metadata": {
    "ExecuteTime": {
     "end_time": "2020-06-21T15:11:51.647546Z",
     "start_time": "2020-06-21T15:11:51.640920Z"
    }
   },
   "outputs": [],
   "source": [
    "train_data = lgb.Dataset(data=X_train, label=y_train)\n",
    "test_data = train_data.create_valid(X_test, label=y_test)"
   ]
  },
  {
   "cell_type": "code",
   "execution_count": 39,
   "metadata": {
    "ExecuteTime": {
     "end_time": "2020-06-21T15:11:51.658669Z",
     "start_time": "2020-06-21T15:11:51.648961Z"
    }
   },
   "outputs": [],
   "source": [
    "params = {'objective': 'multiclass',\n",
    "          'num_classes': 5}"
   ]
  },
  {
   "cell_type": "code",
   "execution_count": 40,
   "metadata": {
    "ExecuteTime": {
     "end_time": "2020-06-21T16:17:49.244232Z",
     "start_time": "2020-06-21T15:11:51.660259Z"
    }
   },
   "outputs": [
    {
     "name": "stdout",
     "output_type": "stream",
     "text": [
      "Training until validation scores don't improve for 25 rounds\n",
      "[50]\ttraining's multi_logloss: 1.44166\tvalid_1's multi_logloss: 1.45977\n",
      "[100]\ttraining's multi_logloss: 1.38412\tvalid_1's multi_logloss: 1.41755\n",
      "[150]\ttraining's multi_logloss: 1.3404\tvalid_1's multi_logloss: 1.38813\n",
      "[200]\ttraining's multi_logloss: 1.30368\tvalid_1's multi_logloss: 1.36524\n",
      "[250]\ttraining's multi_logloss: 1.272\tvalid_1's multi_logloss: 1.34701\n",
      "[300]\ttraining's multi_logloss: 1.24457\tvalid_1's multi_logloss: 1.33252\n",
      "[350]\ttraining's multi_logloss: 1.22035\tvalid_1's multi_logloss: 1.32092\n",
      "[400]\ttraining's multi_logloss: 1.1986\tvalid_1's multi_logloss: 1.31161\n",
      "[450]\ttraining's multi_logloss: 1.17894\tvalid_1's multi_logloss: 1.30414\n",
      "[500]\ttraining's multi_logloss: 1.16084\tvalid_1's multi_logloss: 1.29773\n",
      "[550]\ttraining's multi_logloss: 1.14419\tvalid_1's multi_logloss: 1.29242\n",
      "[600]\ttraining's multi_logloss: 1.1284\tvalid_1's multi_logloss: 1.28762\n",
      "[650]\ttraining's multi_logloss: 1.11312\tvalid_1's multi_logloss: 1.28313\n",
      "[700]\ttraining's multi_logloss: 1.09771\tvalid_1's multi_logloss: 1.27818\n",
      "[750]\ttraining's multi_logloss: 1.08344\tvalid_1's multi_logloss: 1.27396\n",
      "[800]\ttraining's multi_logloss: 1.06931\tvalid_1's multi_logloss: 1.26982\n",
      "[850]\ttraining's multi_logloss: 1.05587\tvalid_1's multi_logloss: 1.26615\n",
      "[900]\ttraining's multi_logloss: 1.0426\tvalid_1's multi_logloss: 1.26248\n",
      "[950]\ttraining's multi_logloss: 1.02926\tvalid_1's multi_logloss: 1.25856\n",
      "[1000]\ttraining's multi_logloss: 1.01651\tvalid_1's multi_logloss: 1.25499\n",
      "[1050]\ttraining's multi_logloss: 1.00401\tvalid_1's multi_logloss: 1.25151\n",
      "[1100]\ttraining's multi_logloss: 0.991996\tvalid_1's multi_logloss: 1.24837\n",
      "[1150]\ttraining's multi_logloss: 0.980094\tvalid_1's multi_logloss: 1.24507\n",
      "[1200]\ttraining's multi_logloss: 0.968459\tvalid_1's multi_logloss: 1.2419\n",
      "[1250]\ttraining's multi_logloss: 0.956903\tvalid_1's multi_logloss: 1.23866\n",
      "[1300]\ttraining's multi_logloss: 0.945488\tvalid_1's multi_logloss: 1.23559\n",
      "[1350]\ttraining's multi_logloss: 0.934443\tvalid_1's multi_logloss: 1.23264\n",
      "[1400]\ttraining's multi_logloss: 0.923515\tvalid_1's multi_logloss: 1.22982\n",
      "[1450]\ttraining's multi_logloss: 0.91273\tvalid_1's multi_logloss: 1.22701\n",
      "[1500]\ttraining's multi_logloss: 0.902185\tvalid_1's multi_logloss: 1.2242\n",
      "[1550]\ttraining's multi_logloss: 0.891922\tvalid_1's multi_logloss: 1.22155\n",
      "[1600]\ttraining's multi_logloss: 0.881297\tvalid_1's multi_logloss: 1.21854\n",
      "[1650]\ttraining's multi_logloss: 0.871119\tvalid_1's multi_logloss: 1.21585\n",
      "[1700]\ttraining's multi_logloss: 0.861338\tvalid_1's multi_logloss: 1.2134\n",
      "[1750]\ttraining's multi_logloss: 0.851694\tvalid_1's multi_logloss: 1.21102\n",
      "[1800]\ttraining's multi_logloss: 0.842194\tvalid_1's multi_logloss: 1.20858\n",
      "[1850]\ttraining's multi_logloss: 0.832426\tvalid_1's multi_logloss: 1.20597\n",
      "[1900]\ttraining's multi_logloss: 0.822651\tvalid_1's multi_logloss: 1.20326\n",
      "[1950]\ttraining's multi_logloss: 0.813483\tvalid_1's multi_logloss: 1.20088\n",
      "[2000]\ttraining's multi_logloss: 0.804723\tvalid_1's multi_logloss: 1.19878\n",
      "[2050]\ttraining's multi_logloss: 0.795233\tvalid_1's multi_logloss: 1.19622\n",
      "[2100]\ttraining's multi_logloss: 0.786525\tvalid_1's multi_logloss: 1.19402\n",
      "[2150]\ttraining's multi_logloss: 0.77798\tvalid_1's multi_logloss: 1.19201\n",
      "[2200]\ttraining's multi_logloss: 0.769765\tvalid_1's multi_logloss: 1.19002\n",
      "[2250]\ttraining's multi_logloss: 0.761259\tvalid_1's multi_logloss: 1.18796\n",
      "[2300]\ttraining's multi_logloss: 0.753083\tvalid_1's multi_logloss: 1.18612\n",
      "[2350]\ttraining's multi_logloss: 0.744692\tvalid_1's multi_logloss: 1.18399\n",
      "[2400]\ttraining's multi_logloss: 0.736341\tvalid_1's multi_logloss: 1.18183\n",
      "[2450]\ttraining's multi_logloss: 0.728198\tvalid_1's multi_logloss: 1.17986\n",
      "[2500]\ttraining's multi_logloss: 0.720343\tvalid_1's multi_logloss: 1.17794\n",
      "[2550]\ttraining's multi_logloss: 0.712334\tvalid_1's multi_logloss: 1.17588\n",
      "[2600]\ttraining's multi_logloss: 0.704237\tvalid_1's multi_logloss: 1.17371\n",
      "[2650]\ttraining's multi_logloss: 0.696492\tvalid_1's multi_logloss: 1.1719\n",
      "[2700]\ttraining's multi_logloss: 0.688707\tvalid_1's multi_logloss: 1.16979\n",
      "[2750]\ttraining's multi_logloss: 0.681284\tvalid_1's multi_logloss: 1.16797\n",
      "[2800]\ttraining's multi_logloss: 0.673507\tvalid_1's multi_logloss: 1.16587\n",
      "[2850]\ttraining's multi_logloss: 0.666472\tvalid_1's multi_logloss: 1.16426\n",
      "[2900]\ttraining's multi_logloss: 0.658977\tvalid_1's multi_logloss: 1.16235\n",
      "[2950]\ttraining's multi_logloss: 0.6515\tvalid_1's multi_logloss: 1.16047\n",
      "[3000]\ttraining's multi_logloss: 0.644463\tvalid_1's multi_logloss: 1.15874\n",
      "[3050]\ttraining's multi_logloss: 0.637526\tvalid_1's multi_logloss: 1.15713\n",
      "[3100]\ttraining's multi_logloss: 0.630485\tvalid_1's multi_logloss: 1.15538\n",
      "[3150]\ttraining's multi_logloss: 0.623511\tvalid_1's multi_logloss: 1.15352\n",
      "[3200]\ttraining's multi_logloss: 0.616588\tvalid_1's multi_logloss: 1.15168\n",
      "[3250]\ttraining's multi_logloss: 0.609799\tvalid_1's multi_logloss: 1.14997\n",
      "[3300]\ttraining's multi_logloss: 0.603035\tvalid_1's multi_logloss: 1.14819\n",
      "[3350]\ttraining's multi_logloss: 0.5965\tvalid_1's multi_logloss: 1.14651\n",
      "[3400]\ttraining's multi_logloss: 0.589903\tvalid_1's multi_logloss: 1.14495\n",
      "[3450]\ttraining's multi_logloss: 0.583236\tvalid_1's multi_logloss: 1.14322\n",
      "[3500]\ttraining's multi_logloss: 0.576622\tvalid_1's multi_logloss: 1.14159\n",
      "[3550]\ttraining's multi_logloss: 0.570311\tvalid_1's multi_logloss: 1.14016\n",
      "[3600]\ttraining's multi_logloss: 0.564048\tvalid_1's multi_logloss: 1.13847\n",
      "[3650]\ttraining's multi_logloss: 0.557675\tvalid_1's multi_logloss: 1.13685\n",
      "[3700]\ttraining's multi_logloss: 0.551757\tvalid_1's multi_logloss: 1.13547\n",
      "[3750]\ttraining's multi_logloss: 0.545784\tvalid_1's multi_logloss: 1.13408\n",
      "[3800]\ttraining's multi_logloss: 0.539929\tvalid_1's multi_logloss: 1.13269\n",
      "[3850]\ttraining's multi_logloss: 0.534238\tvalid_1's multi_logloss: 1.13129\n",
      "[3900]\ttraining's multi_logloss: 0.528451\tvalid_1's multi_logloss: 1.12995\n",
      "[3950]\ttraining's multi_logloss: 0.522741\tvalid_1's multi_logloss: 1.12865\n",
      "[4000]\ttraining's multi_logloss: 0.517369\tvalid_1's multi_logloss: 1.12746\n",
      "[4050]\ttraining's multi_logloss: 0.511513\tvalid_1's multi_logloss: 1.12589\n",
      "[4100]\ttraining's multi_logloss: 0.505852\tvalid_1's multi_logloss: 1.12452\n",
      "[4150]\ttraining's multi_logloss: 0.50013\tvalid_1's multi_logloss: 1.12302\n",
      "[4200]\ttraining's multi_logloss: 0.494568\tvalid_1's multi_logloss: 1.1216\n",
      "[4250]\ttraining's multi_logloss: 0.488841\tvalid_1's multi_logloss: 1.12011\n",
      "[4300]\ttraining's multi_logloss: 0.483695\tvalid_1's multi_logloss: 1.11896\n",
      "[4350]\ttraining's multi_logloss: 0.478507\tvalid_1's multi_logloss: 1.11775\n",
      "[4400]\ttraining's multi_logloss: 0.473078\tvalid_1's multi_logloss: 1.11634\n",
      "[4450]\ttraining's multi_logloss: 0.467839\tvalid_1's multi_logloss: 1.11507\n",
      "[4500]\ttraining's multi_logloss: 0.462725\tvalid_1's multi_logloss: 1.11397\n",
      "[4550]\ttraining's multi_logloss: 0.45761\tvalid_1's multi_logloss: 1.11264\n",
      "[4600]\ttraining's multi_logloss: 0.452837\tvalid_1's multi_logloss: 1.11158\n",
      "[4650]\ttraining's multi_logloss: 0.447713\tvalid_1's multi_logloss: 1.11034\n",
      "[4700]\ttraining's multi_logloss: 0.442784\tvalid_1's multi_logloss: 1.10909\n",
      "[4750]\ttraining's multi_logloss: 0.438093\tvalid_1's multi_logloss: 1.10796\n",
      "[4800]\ttraining's multi_logloss: 0.433102\tvalid_1's multi_logloss: 1.10669\n",
      "[4850]\ttraining's multi_logloss: 0.428328\tvalid_1's multi_logloss: 1.10542\n",
      "[4900]\ttraining's multi_logloss: 0.423541\tvalid_1's multi_logloss: 1.1041\n",
      "[4950]\ttraining's multi_logloss: 0.41876\tvalid_1's multi_logloss: 1.10292\n",
      "[5000]\ttraining's multi_logloss: 0.414335\tvalid_1's multi_logloss: 1.1019\n",
      "Did not meet early stopping. Best iteration is:\n",
      "[5000]\ttraining's multi_logloss: 0.414335\tvalid_1's multi_logloss: 1.1019\n"
     ]
    }
   ],
   "source": [
    "lgb_model = lgb.train(params=params,\n",
    "                      train_set=train_data,\n",
    "                      num_boost_round=5000,\n",
    "                      valid_sets=[train_data, test_data],\n",
    "                      early_stopping_rounds=25,\n",
    "                      verbose_eval=50)"
   ]
  },
  {
   "cell_type": "code",
   "execution_count": 41,
   "metadata": {
    "ExecuteTime": {
     "end_time": "2020-06-21T16:18:30.593471Z",
     "start_time": "2020-06-21T16:17:49.245185Z"
    }
   },
   "outputs": [],
   "source": [
    "lgb_pred = np.argmax(lgb_model.predict(X_test), axis=1)"
   ]
  },
  {
   "cell_type": "code",
   "execution_count": 42,
   "metadata": {
    "ExecuteTime": {
     "end_time": "2020-06-21T16:18:30.600302Z",
     "start_time": "2020-06-21T16:18:30.594272Z"
    }
   },
   "outputs": [
    {
     "name": "stdout",
     "output_type": "stream",
     "text": [
      "Accuracy: 55.01%\n"
     ]
    }
   ],
   "source": [
    "lgb_acc = accuracy_score(y_true=y_test, y_pred=lgb_pred)\n",
    "print(f'Accuracy: {lgb_acc:.2%}')"
   ]
  },
  {
   "cell_type": "markdown",
   "metadata": {},
   "source": [
    "## Random Forest"
   ]
  },
  {
   "cell_type": "code",
   "execution_count": 44,
   "metadata": {
    "ExecuteTime": {
     "end_time": "2020-06-21T16:43:11.332188Z",
     "start_time": "2020-06-21T16:28:53.665145Z"
    }
   },
   "outputs": [
    {
     "name": "stderr",
     "output_type": "stream",
     "text": [
      "[Parallel(n_jobs=-1)]: Using backend ThreadingBackend with 8 concurrent workers.\n",
      "[Parallel(n_jobs=-1)]: Done  34 tasks      | elapsed:  1.1min\n",
      "[Parallel(n_jobs=-1)]: Done 184 tasks      | elapsed:  5.3min\n",
      "[Parallel(n_jobs=-1)]: Done 434 tasks      | elapsed: 12.5min\n",
      "[Parallel(n_jobs=-1)]: Done 500 out of 500 | elapsed: 14.3min finished\n"
     ]
    },
    {
     "data": {
      "text/plain": [
       "RandomForestClassifier(class_weight='balanced_subsample', n_estimators=500,\n",
       "                       n_jobs=-1, verbose=1)"
      ]
     },
     "execution_count": 44,
     "metadata": {},
     "output_type": "execute_result"
    }
   ],
   "source": [
    "rf = RandomForestClassifier(n_jobs=-1,  \n",
    "                            n_estimators=500,\n",
    "                            verbose=1,\n",
    "                            class_weight='balanced_subsample')\n",
    "rf.fit(X_train, y_train)"
   ]
  },
  {
   "cell_type": "code",
   "execution_count": 45,
   "metadata": {
    "ExecuteTime": {
     "end_time": "2020-06-21T16:43:18.604718Z",
     "start_time": "2020-06-21T16:43:11.333554Z"
    }
   },
   "outputs": [
    {
     "name": "stderr",
     "output_type": "stream",
     "text": [
      "[Parallel(n_jobs=8)]: Using backend ThreadingBackend with 8 concurrent workers.\n",
      "[Parallel(n_jobs=8)]: Done  34 tasks      | elapsed:    0.6s\n",
      "[Parallel(n_jobs=8)]: Done 184 tasks      | elapsed:    2.7s\n",
      "[Parallel(n_jobs=8)]: Done 434 tasks      | elapsed:    6.2s\n"
     ]
    },
    {
     "name": "stdout",
     "output_type": "stream",
     "text": [
      "Accuracy: 37.37%\n"
     ]
    },
    {
     "name": "stderr",
     "output_type": "stream",
     "text": [
      "[Parallel(n_jobs=8)]: Done 500 out of 500 | elapsed:    7.1s finished\n"
     ]
    }
   ],
   "source": [
    "rf_pred = rf.predict(X_test)\n",
    "rf_acc = accuracy_score(y_true=y_test, y_pred=rf_pred)\n",
    "print(f'Accuracy: {rf_acc:.2%}')"
   ]
  },
  {
   "cell_type": "code",
   "execution_count": 46,
   "metadata": {
    "ExecuteTime": {
     "end_time": "2020-06-21T16:43:18.940215Z",
     "start_time": "2020-06-21T16:43:18.607478Z"
    }
   },
   "outputs": [
    {
     "data": {
      "image/png": "[encoded data removed]",
      "text/plain": [
       "<Figure size 432x288 with 2 Axes>"
      ]
     },
     "metadata": {},
     "output_type": "display_data"
    }
   ],
   "source": [
    "cm = confusion_matrix(y_true=y_test, y_pred=rf_pred)\n",
    "sns.heatmap(pd.DataFrame(cm/np.sum(cm), \n",
    "                         index=stars, \n",
    "                         columns=stars), \n",
    "            annot=True, \n",
    "            cmap='Blues', \n",
    "            fmt='.1%');"
   ]
  },
  {
   "cell_type": "markdown",
   "metadata": {},
   "source": [
    "## Multinomial Logistic Regression"
   ]
  },
  {
   "cell_type": "code",
   "execution_count": 47,
   "metadata": {
    "ExecuteTime": {
     "end_time": "2020-06-21T16:43:47.898636Z",
     "start_time": "2020-06-21T16:43:27.073467Z"
    }
   },
   "outputs": [
    {
     "data": {
      "text/plain": [
       "LogisticRegression(class_weight='balanced', multi_class='multinomial')"
      ]
     },
     "execution_count": 47,
     "metadata": {},
     "output_type": "execute_result"
    }
   ],
   "source": [
    "lr = LogisticRegression(multi_class='multinomial', \n",
    "                        solver='lbfgs', \n",
    "                        class_weight='balanced')\n",
    "lr.fit(X_train, y_train)"
   ]
  },
  {
   "cell_type": "code",
   "execution_count": 48,
   "metadata": {
    "ExecuteTime": {
     "end_time": "2020-06-21T16:43:47.943467Z",
     "start_time": "2020-06-21T16:43:47.899779Z"
    }
   },
   "outputs": [
    {
     "name": "stdout",
     "output_type": "stream",
     "text": [
      "Accuracy: 33.72%\n"
     ]
    }
   ],
   "source": [
    "lr_pred = lr.predict(X_test)\n",
    "lr_acc = accuracy_score(y_true=y_test, y_pred=lr_pred)\n",
    "print(f'Accuracy: {lr_acc:.2%}')"
   ]
  },
  {
   "cell_type": "code",
   "execution_count": 49,
   "metadata": {
    "ExecuteTime": {
     "end_time": "2020-06-21T16:43:48.143005Z",
     "start_time": "2020-06-21T16:43:47.944521Z"
    }
   },
   "outputs": [
    {
     "data": {
      "image/png": "[encoded data removed]",
      "text/plain": [
       "<Figure size 432x288 with 2 Axes>"
      ]
     },
     "metadata": {},
     "output_type": "display_data"
    }
   ],
   "source": [
    "cm = confusion_matrix(y_true=y_test, y_pred=lr_pred)\n",
    "sns.heatmap(pd.DataFrame(cm/np.sum(cm), \n",
    "                         index=stars, \n",
    "                         columns=stars), \n",
    "            annot=True, \n",
    "            cmap='Blues', \n",
    "            fmt='.1%');"
   ]
  },
  {
   "cell_type": "markdown",
   "metadata": {},
   "source": [
    "## Comparison"
   ]
  },
  {
   "cell_type": "code",
   "execution_count": 50,
   "metadata": {
    "ExecuteTime": {
     "end_time": "2020-06-21T16:43:54.180892Z",
     "start_time": "2020-06-21T16:43:53.239808Z"
    }
   },
   "outputs": [
    {
     "data": {
      "image/png": "[encoded data removed]",
      "text/plain": [
       "<Figure size 1080x360 with 3 Axes>"
      ]
     },
     "metadata": {},
     "output_type": "display_data"
    }
   ],
   "source": [
    "fig, axes = plt.subplots(ncols=3, figsize=(15, 5), sharex=True, sharey=True)\n",
    "\n",
    "lgb_cm = confusion_matrix(y_true=y_test, y_pred=lgb_pred)\n",
    "sns.heatmap(pd.DataFrame(lgb_cm/np.sum(lgb_cm), index=stars, columns=stars),\n",
    "            annot=True, cmap='Blues', fmt='.1%', ax=axes[0], cbar=False)\n",
    "axes[0].set_title(f'Gradient Boosting: Accuracy {lgb_acc:.2%}')\n",
    "\n",
    "rf_cm = confusion_matrix(y_true=y_test, y_pred=rf_pred)\n",
    "sns.heatmap(pd.DataFrame(rf_cm/np.sum(rf_cm), index=stars, columns=stars),\n",
    "            annot=True, cmap='Blues', fmt='.1%', ax=axes[1], cbar=False)\n",
    "axes[1].set_title(f'Random Forest: Accuracy {rf_acc:.2%}')\n",
    "\n",
    "lr_cm = confusion_matrix(y_true=y_test, y_pred=lr_pred)\n",
    "sns.heatmap(pd.DataFrame(lr_cm/np.sum(lr_cm), index=stars, columns=stars),\n",
    "            annot=True, cmap='Blues', fmt='.1%', ax=axes[2], cbar=False)\n",
    "axes[2].set_title(f'Logistic Regression: Accuracy {lr_acc:.2%}')\n",
    "axes[0].set_ylabel('Actuals')\n",
    "for i in range(3):\n",
    "    axes[i].set_xlabel('Predicted')\n",
    "\n",
    "sns.despine()\n",
    "fig.tight_layout()\n",
    "fig.savefig(results_path / 'confusion_matrix', dpi=300)"
   ]
  }
 ],
 "metadata": {
  "kernelspec": {
   "display_name": "Python 3",
   "language": "python",
   "name": "python3"
  },
  "language_info": {
   "codemirror_mode": {
    "name": "ipython",
    "version": 3
   },
   "file_extension": ".py",
   "mimetype": "text/x-python",
   "name": "python",
   "nbconvert_exporter": "python",
   "pygments_lexer": "ipython3",
   "version": "3.7.7"
  },
  "toc": {
   "base_numbering": 1,
   "nav_menu": {},
   "number_sections": true,
   "sideBar": true,
   "skip_h1_title": true,
   "title_cell": "Table of Contents",
   "title_sidebar": "Contents",
   "toc_cell": false,
   "toc_position": {},
   "toc_section_display": true,
   "toc_window_display": true
  }
 },
 "nbformat": 4,
 "nbformat_minor": 4
}
