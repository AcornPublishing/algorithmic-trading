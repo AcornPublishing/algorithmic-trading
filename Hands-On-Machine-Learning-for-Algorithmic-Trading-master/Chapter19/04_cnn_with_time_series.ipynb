{
 "cells": [
  {
   "cell_type": "markdown",
   "metadata": {},
   "source": [
    "# How to use CNN with time series data"
   ]
  },
  {
   "cell_type": "markdown",
   "metadata": {},
   "source": [
    "The regular measurements of time series result in a similar grid-like data structure as for the image data we have focused on so far. As a result, we can use CNN architectures for univariate and multivariate time series. In the latter case, we consider different time series as channels, similar to the different color signals.\n",
    "\n",
    "We will illustrate the time series use case with the univariate asset price forecast example we introduced in the last chapter. Recall that we create rolling monthly stock returns and use the 24 lagged returns alongside one-hot-encoded month information to predict whether the subsequent monthly return is positive or negative."
   ]
  },
  {
   "cell_type": "markdown",
   "metadata": {},
   "source": [
    "## Imports & Settings"
   ]
  },
  {
   "cell_type": "code",
   "execution_count": 1,
   "metadata": {},
   "outputs": [
    {
     "name": "stderr",
     "output_type": "stream",
     "text": [
      "Using TensorFlow backend.\n"
     ]
    }
   ],
   "source": [
    "%matplotlib inline\n",
    "import numpy as np\n",
    "import pandas as pd\n",
    "import matplotlib.pyplot as plt\n",
    "from sklearn.metrics import roc_auc_score\n",
    "import tensorflow as tf\n",
    "import keras\n",
    "from keras.utils import np_utils\n",
    "from keras.datasets import cifar10\n",
    "from keras.models import Sequential\n",
    "from keras.preprocessing.image import ImageDataGenerator\n",
    "from keras.layers import Dense, Dropout, Activation, Flatten, Conv1D, Conv2D, MaxPooling1D, MaxPooling2D\n",
    "from keras.callbacks import ModelCheckpoint, TensorBoard\n",
    "from keras.layers.normalization import BatchNormalization\n",
    "from keras import backend as K"
   ]
  },
  {
   "cell_type": "markdown",
   "metadata": {},
   "source": [
    "## Prepare Data"
   ]
  },
  {
   "cell_type": "code",
   "execution_count": 2,
   "metadata": {},
   "outputs": [],
   "source": [
    "data = pd.read_hdf('data.h5', 'returns')\n",
    "data = data.drop([c for c in data.columns if str(c).startswith('year')], axis=1)"
   ]
  },
  {
   "cell_type": "code",
   "execution_count": 3,
   "metadata": {},
   "outputs": [],
   "source": [
    "X_train = data[:'2016'].drop('label', axis=1)\n",
    "y_train = data[:'2016'].label\n",
    "X_test = data['2017'].drop('label', axis=1)\n",
    "y_test = data['2017'].label"
   ]
  },
  {
   "cell_type": "code",
   "execution_count": 4,
   "metadata": {},
   "outputs": [],
   "source": [
    "X_train = X_train.values.reshape(-1, X_train.shape[1], 1)\n",
    "X_test = X_test.values.reshape(-1, X_train.shape[1], 1)"
   ]
  },
  {
   "cell_type": "markdown",
   "metadata": {},
   "source": [
    "## Define Custom AUC Metric"
   ]
  },
  {
   "cell_type": "code",
   "execution_count": 5,
   "metadata": {},
   "outputs": [],
   "source": [
    "def auc_roc(y_true, y_pred):\n",
    "    # any tensorflow metric\n",
    "    value, update_op = tf.metrics.auc(y_true, y_pred)\n",
    "\n",
    "    # find all variables created for this metric\n",
    "    metric_vars = [i for i in tf.local_variables() if 'auc_roc' in i.name.split('/')[1]]\n",
    "\n",
    "    # Add metric variables to GLOBAL_VARIABLES collection.\n",
    "    # They will be initialized for new session.\n",
    "    for v in metric_vars:\n",
    "        tf.add_to_collection(tf.GraphKeys.GLOBAL_VARIABLES, v)\n",
    "\n",
    "    # force to update metric values\n",
    "    with tf.control_dependencies([update_op]):\n",
    "        value = tf.identity(value)\n",
    "        return value"
   ]
  },
  {
   "cell_type": "markdown",
   "metadata": {},
   "source": [
    "## Build ConvNet"
   ]
  },
  {
   "cell_type": "markdown",
   "metadata": {},
   "source": [
    "### Model Architecture"
   ]
  },
  {
   "cell_type": "markdown",
   "metadata": {},
   "source": [
    "We design a simple one-layer CNN that uses one-dimensional convolutions combined with max pooling to learn time series patterns:"
   ]
  },
  {
   "cell_type": "code",
   "execution_count": 6,
   "metadata": {},
   "outputs": [],
   "source": [
    "model = Sequential([\n",
    "    Conv1D(filters=32, kernel_size=3, activation='relu', input_shape=(X_train.shape[1], 1)),\n",
    "    MaxPooling1D(pool_size=2),       \n",
    "    Flatten(),\n",
    "    Dense(1, activation='relu'),\n",
    "    Activation('sigmoid')])"
   ]
  },
  {
   "cell_type": "markdown",
   "metadata": {},
   "source": [
    "The model has 673 trainable parameters:"
   ]
  },
  {
   "cell_type": "code",
   "execution_count": 7,
   "metadata": {},
   "outputs": [
    {
     "name": "stdout",
     "output_type": "stream",
     "text": [
      "_________________________________________________________________\n",
      "Layer (type)                 Output Shape              Param #   \n",
      "=================================================================\n",
      "conv1d_1 (Conv1D)            (None, 34, 32)            128       \n",
      "_________________________________________________________________\n",
      "max_pooling1d_1 (MaxPooling1 (None, 17, 32)            0         \n",
      "_________________________________________________________________\n",
      "flatten_1 (Flatten)          (None, 544)               0         \n",
      "_________________________________________________________________\n",
      "dense_1 (Dense)              (None, 1)                 545       \n",
      "_________________________________________________________________\n",
      "activation_1 (Activation)    (None, 1)                 0         \n",
      "=================================================================\n",
      "Total params: 673\n",
      "Trainable params: 673\n",
      "Non-trainable params: 0\n",
      "_________________________________________________________________\n"
     ]
    }
   ],
   "source": [
    "model.summary()"
   ]
  },
  {
   "cell_type": "markdown",
   "metadata": {},
   "source": [
    "We compile using our custom auc_roc metric developed in the last chapter:"
   ]
  },
  {
   "cell_type": "code",
   "execution_count": 8,
   "metadata": {},
   "outputs": [],
   "source": [
    "model.compile(loss='binary_crossentropy',\n",
    "              optimizer='Adam',\n",
    "              metrics=['binary_accuracy', auc_roc])"
   ]
  },
  {
   "cell_type": "markdown",
   "metadata": {},
   "source": [
    "We train on returns for the years 2010-16 for 20 epochs using the default batch size of 32. Each epoch takes around 13s on a single NVIDIA GTX 1080 GPU."
   ]
  },
  {
   "cell_type": "code",
   "execution_count": 9,
   "metadata": {
    "scrolled": false
   },
   "outputs": [
    {
     "name": "stdout",
     "output_type": "stream",
     "text": [
      "Train on 206587 samples, validate on 29868 samples\n",
      "Epoch 1/20\n",
      "206587/206587 [==============================] - 14s 66us/step - loss: 0.6727 - binary_accuracy: 0.5845 - auc_roc: 0.5991 - val_loss: 0.7233 - val_binary_accuracy: 0.5206 - val_auc_roc: 0.6033\n",
      "Epoch 2/20\n",
      "206587/206587 [==============================] - 14s 68us/step - loss: 0.6687 - binary_accuracy: 0.5935 - auc_roc: 0.6037 - val_loss: 0.7170 - val_binary_accuracy: 0.5205 - val_auc_roc: 0.6056\n",
      "Epoch 3/20\n",
      "206587/206587 [==============================] - 13s 65us/step - loss: 0.6670 - binary_accuracy: 0.5955 - auc_roc: 0.6067 - val_loss: 0.7242 - val_binary_accuracy: 0.5268 - val_auc_roc: 0.6076\n",
      "Epoch 4/20\n",
      "206587/206587 [==============================] - 13s 62us/step - loss: 0.6659 - binary_accuracy: 0.5960 - auc_roc: 0.6084 - val_loss: 0.7191 - val_binary_accuracy: 0.5438 - val_auc_roc: 0.6092\n",
      "Epoch 5/20\n",
      "206587/206587 [==============================] - 13s 63us/step - loss: 0.6652 - binary_accuracy: 0.5969 - auc_roc: 0.6097 - val_loss: 0.7147 - val_binary_accuracy: 0.5453 - val_auc_roc: 0.6106\n",
      "Epoch 6/20\n",
      "206587/206587 [==============================] - 13s 64us/step - loss: 0.6647 - binary_accuracy: 0.5970 - auc_roc: 0.6110 - val_loss: 0.7155 - val_binary_accuracy: 0.5618 - val_auc_roc: 0.6114\n",
      "Epoch 7/20\n",
      "206587/206587 [==============================] - 14s 67us/step - loss: 0.6643 - binary_accuracy: 0.5978 - auc_roc: 0.6120 - val_loss: 0.7109 - val_binary_accuracy: 0.5656 - val_auc_roc: 0.6124\n",
      "Epoch 8/20\n",
      "206587/206587 [==============================] - 14s 68us/step - loss: 0.6637 - binary_accuracy: 0.5988 - auc_roc: 0.6128 - val_loss: 0.7173 - val_binary_accuracy: 0.5605 - val_auc_roc: 0.6133\n",
      "Epoch 9/20\n",
      "206587/206587 [==============================] - 13s 63us/step - loss: 0.6634 - binary_accuracy: 0.5997 - auc_roc: 0.6136 - val_loss: 0.7121 - val_binary_accuracy: 0.5627 - val_auc_roc: 0.6140\n",
      "Epoch 10/20\n",
      "206587/206587 [==============================] - 14s 66us/step - loss: 0.6633 - binary_accuracy: 0.5995 - auc_roc: 0.6143 - val_loss: 0.7158 - val_binary_accuracy: 0.5652 - val_auc_roc: 0.6145\n",
      "Epoch 11/20\n",
      "206587/206587 [==============================] - 14s 70us/step - loss: 0.6631 - binary_accuracy: 0.5999 - auc_roc: 0.6148 - val_loss: 0.7131 - val_binary_accuracy: 0.5627 - val_auc_roc: 0.6151\n",
      "Epoch 12/20\n",
      "206587/206587 [==============================] - 15s 72us/step - loss: 0.6628 - binary_accuracy: 0.6005 - auc_roc: 0.6153 - val_loss: 0.7068 - val_binary_accuracy: 0.5784 - val_auc_roc: 0.6156\n",
      "Epoch 13/20\n",
      "206587/206587 [==============================] - 14s 65us/step - loss: 0.6627 - binary_accuracy: 0.6010 - auc_roc: 0.6159 - val_loss: 0.7234 - val_binary_accuracy: 0.5697 - val_auc_roc: 0.6160\n",
      "Epoch 14/20\n",
      "206587/206587 [==============================] - 14s 69us/step - loss: 0.6625 - binary_accuracy: 0.6003 - auc_roc: 0.6162 - val_loss: 0.7050 - val_binary_accuracy: 0.5830 - val_auc_roc: 0.6164\n",
      "Epoch 15/20\n",
      "206587/206587 [==============================] - 13s 65us/step - loss: 0.6624 - binary_accuracy: 0.6009 - auc_roc: 0.6166 - val_loss: 0.7068 - val_binary_accuracy: 0.5781 - val_auc_roc: 0.6169\n",
      "Epoch 16/20\n",
      "206587/206587 [==============================] - 14s 68us/step - loss: 0.6624 - binary_accuracy: 0.6003 - auc_roc: 0.6170 - val_loss: 0.7071 - val_binary_accuracy: 0.5728 - val_auc_roc: 0.6172\n",
      "Epoch 17/20\n",
      "206587/206587 [==============================] - 14s 66us/step - loss: 0.6622 - binary_accuracy: 0.6012 - auc_roc: 0.6173 - val_loss: 0.7074 - val_binary_accuracy: 0.5598 - val_auc_roc: 0.6174\n",
      "Epoch 18/20\n",
      "206587/206587 [==============================] - 13s 61us/step - loss: 0.6622 - binary_accuracy: 0.6006 - auc_roc: 0.6175 - val_loss: 0.7220 - val_binary_accuracy: 0.5649 - val_auc_roc: 0.6176\n",
      "Epoch 19/20\n",
      "206587/206587 [==============================] - 13s 62us/step - loss: 0.6620 - binary_accuracy: 0.6005 - auc_roc: 0.6176 - val_loss: 0.7049 - val_binary_accuracy: 0.5791 - val_auc_roc: 0.6177\n",
      "Epoch 20/20\n",
      "206587/206587 [==============================] - 13s 62us/step - loss: 0.6619 - binary_accuracy: 0.6014 - auc_roc: 0.6179 - val_loss: 0.7032 - val_binary_accuracy: 0.5828 - val_auc_roc: 0.6180\n"
     ]
    }
   ],
   "source": [
    "training = model.fit(X_train,\n",
    "                     y_train, \n",
    "                     epochs=20,\n",
    "                     batch_size=32, \n",
    "                     validation_data=(X_test, y_test),\n",
    "                     shuffle=True,\n",
    "                     verbose=1)"
   ]
  },
  {
   "cell_type": "code",
   "execution_count": 10,
   "metadata": {},
   "outputs": [
    {
     "name": "stdout",
     "output_type": "stream",
     "text": [
      "Accuracy: 58.28%\n"
     ]
    }
   ],
   "source": [
    "accuracy = model.evaluate(X_test, y_test, verbose=0)[1]\n",
    "print('Accuracy: {:.2%}'.format(accuracy))"
   ]
  },
  {
   "cell_type": "markdown",
   "metadata": {},
   "source": [
    "For 2017 returns, we find a test accuracy of 58.28% and test AUC of 0.5701. The network is still underfitting at this point because both training and validation AUC are still improving after 20 epochs, suggesting that longer training and potentially a higher-capacity network would improve results. You should try!"
   ]
  },
  {
   "cell_type": "code",
   "execution_count": 11,
   "metadata": {},
   "outputs": [
    {
     "data": {
      "text/plain": [
       "0.5709754730834962"
      ]
     },
     "execution_count": 11,
     "metadata": {},
     "output_type": "execute_result"
    }
   ],
   "source": [
    "y_score = model.predict(X_test)\n",
    "roc_auc_score(y_score=y_score, y_true=y_test)"
   ]
  },
  {
   "cell_type": "code",
   "execution_count": 13,
   "metadata": {},
   "outputs": [
    {
     "data": {
      "image/png": "[encoded data removed]",
      "text/plain": [
       "<Figure size 432x288 with 1 Axes>"
      ]
     },
     "metadata": {
      "needs_background": "light"
     },
     "output_type": "display_data"
    }
   ],
   "source": [
    "pd.DataFrame(training.history)[['auc_roc', 'val_auc_roc']].plot();"
   ]
  },
  {
   "cell_type": "code",
   "execution_count": null,
   "metadata": {},
   "outputs": [],
   "source": []
  }
 ],
 "metadata": {
  "kernelspec": {
   "display_name": "Python 3",
   "language": "python",
   "name": "python3"
  },
  "language_info": {
   "codemirror_mode": {
    "name": "ipython",
    "version": 3
   },
   "file_extension": ".py",
   "mimetype": "text/x-python",
   "name": "python",
   "nbconvert_exporter": "python",
   "pygments_lexer": "ipython3",
   "version": "3.6.8"
  },
  "toc": {
   "base_numbering": 1,
   "nav_menu": {},
   "number_sections": true,
   "sideBar": true,
   "skip_h1_title": true,
   "title_cell": "Table of Contents",
   "title_sidebar": "Contents",
   "toc_cell": false,
   "toc_position": {},
   "toc_section_display": true,
   "toc_window_display": true
  }
 },
 "nbformat": 4,
 "nbformat_minor": 2
}
