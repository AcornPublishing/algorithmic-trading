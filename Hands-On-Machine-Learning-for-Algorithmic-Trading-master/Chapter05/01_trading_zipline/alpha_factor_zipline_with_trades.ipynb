{
 "cells": [
  {
   "cell_type": "markdown",
   "metadata": {},
   "source": [
    "# zipline MeanReversion Backtest"
   ]
  },
  {
   "cell_type": "markdown",
   "metadata": {},
   "source": [
    "In the chapter 04, we introduced `zipline` to simulate the computation of alpha factors from trailing cross-sectional market, fundamental, and alternative data. \n",
    "\n",
    "Now we will exploit the alpha factors to derive and act on buy and sell signals using the custom MeanReversion factor developed in the last chapter."
   ]
  },
  {
   "cell_type": "markdown",
   "metadata": {},
   "source": [
    "Run the following from the command line to create a `conda` environment with `zipline` and `pyfolio`: \n",
    "```\n",
    "conda env create -f environment.yml\n",
    "```\n",
    "This assumes you have miniconda3 installed."
   ]
  },
  {
   "cell_type": "markdown",
   "metadata": {},
   "source": [
    "## Imports"
   ]
  },
  {
   "cell_type": "code",
   "execution_count": 1,
   "metadata": {},
   "outputs": [],
   "source": [
    "import sys\n",
    "from pathlib import Path\n",
    "import pandas as pd\n",
    "from pytz import UTC\n",
    "from zipline import run_algorithm\n",
    "from zipline.api import (attach_pipeline, date_rules, time_rules, order_target_percent,\n",
    "                         pipeline_output, record, schedule_function, get_open_orders, calendars,\n",
    "                         set_commission, set_slippage)\n",
    "from zipline.finance import commission, slippage\n",
    "from zipline.pipeline import Pipeline, CustomFactor\n",
    "from zipline.pipeline.factors import Returns, AverageDollarVolume\n",
    "import logbook\n",
    "import matplotlib.pyplot as plt\n",
    "import seaborn\n",
    "\n",
    "from pyfolio.utils import extract_rets_pos_txn_from_zipline"
   ]
  },
  {
   "cell_type": "code",
   "execution_count": 2,
   "metadata": {},
   "outputs": [],
   "source": [
    "sns.set_style('darkgrid')"
   ]
  },
  {
   "cell_type": "markdown",
   "metadata": {},
   "source": [
    "## Logging Setup"
   ]
  },
  {
   "cell_type": "code",
   "execution_count": 3,
   "metadata": {},
   "outputs": [],
   "source": [
    "# setup stdout logging\n",
    "zipline_logging = logbook.NestedSetup([\n",
    "    logbook.NullHandler(level=logbook.DEBUG),\n",
    "    logbook.StreamHandler(sys.stdout, level=logbook.INFO),\n",
    "    logbook.StreamHandler(sys.stderr, level=logbook.ERROR),\n",
    "])\n",
    "zipline_logging.push_application()"
   ]
  },
  {
   "cell_type": "markdown",
   "metadata": {},
   "source": [
    "## Algo Settings"
   ]
  },
  {
   "cell_type": "code",
   "execution_count": 4,
   "metadata": {},
   "outputs": [],
   "source": [
    "# Settings\n",
    "MONTH = 21\n",
    "YEAR = 12 * MONTH\n",
    "N_LONGS = 200\n",
    "N_SHORTS = 0\n",
    "VOL_SCREEN = 1000"
   ]
  },
  {
   "cell_type": "code",
   "execution_count": 5,
   "metadata": {},
   "outputs": [],
   "source": [
    "start = pd.Timestamp('2010-01-01', tz=UTC)\n",
    "end = pd.Timestamp('2018-01-01', tz=UTC)\n",
    "capital_base = 1e7"
   ]
  },
  {
   "cell_type": "markdown",
   "metadata": {},
   "source": [
    "## Mean Reversion Factor"
   ]
  },
  {
   "cell_type": "code",
   "execution_count": 6,
   "metadata": {},
   "outputs": [],
   "source": [
    "class MeanReversion(CustomFactor):\n",
    "    \"\"\"Compute ratio of latest monthly return to 12m average,\n",
    "       normalized by std dev of monthly returns\"\"\"\n",
    "    inputs = [Returns(window_length=MONTH)]\n",
    "    window_length = YEAR\n",
    "\n",
    "    def compute(self, today, assets, out, monthly_returns):\n",
    "        df = pd.DataFrame(monthly_returns)\n",
    "        out[:] = df.iloc[-1].sub(df.mean()).div(df.std())"
   ]
  },
  {
   "cell_type": "markdown",
   "metadata": {},
   "source": [
    "## Create Pipeline"
   ]
  },
  {
   "cell_type": "markdown",
   "metadata": {},
   "source": [
    "The Pipeline created by the `compute_factors()` method returns a table with a long and a short column for the 25 stocks with the largest negative and positive deviations of their last monthly return from its annual average, normalized by the standard deviation. It also limited the universe to the 500 stocks with the highest average trading volume over the last 30 trading days. "
   ]
  },
  {
   "cell_type": "code",
   "execution_count": 7,
   "metadata": {},
   "outputs": [],
   "source": [
    "def compute_factors():\n",
    "    \"\"\"Create factor pipeline incl. mean reversion,\n",
    "        filtered by 30d Dollar Volume; capture factor ranks\"\"\"\n",
    "    mean_reversion = MeanReversion()\n",
    "    dollar_volume = AverageDollarVolume(window_length=30)\n",
    "    return Pipeline(columns={'longs'  : mean_reversion.bottom(N_LONGS),\n",
    "                             'shorts' : mean_reversion.top(N_SHORTS),\n",
    "                             'ranking': mean_reversion.rank(ascending=False)},\n",
    "                    screen=dollar_volume.top(VOL_SCREEN))"
   ]
  },
  {
   "cell_type": "markdown",
   "metadata": {},
   "source": [
    "Before_trading_start() ensures the daily execution of the pipeline and the recording of the results, including the current prices."
   ]
  },
  {
   "cell_type": "code",
   "execution_count": 8,
   "metadata": {},
   "outputs": [],
   "source": [
    "def before_trading_start(context, data):\n",
    "    \"\"\"Run factor pipeline\"\"\"\n",
    "    context.factor_data = pipeline_output('factor_pipeline')\n",
    "    record(factor_data=context.factor_data.ranking)\n",
    "    assets = context.factor_data.index\n",
    "    record(prices=data.current(assets, 'price'))"
   ]
  },
  {
   "cell_type": "markdown",
   "metadata": {},
   "source": [
    "## Set up Rebalancing"
   ]
  },
  {
   "cell_type": "markdown",
   "metadata": {},
   "source": [
    "The new rebalance() method submits trade orders to the exec_trades() method for the assets flagged for long and short positions by the pipeline with equal positive and negative weights. It also divests any current holdings that are no longer included in the factor signals:"
   ]
  },
  {
   "cell_type": "code",
   "execution_count": 9,
   "metadata": {},
   "outputs": [],
   "source": [
    "def rebalance(context, data):\n",
    "    \"\"\"Compute long, short and obsolete holdings; place trade orders\"\"\"\n",
    "    factor_data = context.factor_data\n",
    "    assets = factor_data.index\n",
    "\n",
    "    longs = assets[factor_data.longs]\n",
    "    shorts = assets[factor_data.shorts]\n",
    "    divest = context.portfolio.positions.keys() - longs.union(shorts)\n",
    "\n",
    "    exec_trades(data, assets=divest, target_percent=0)\n",
    "    exec_trades(data, assets=longs, target_percent=1 / N_LONGS if N_LONGS else 0)\n",
    "    exec_trades(data, assets=shorts, target_percent=-1 / N_SHORTS if N_SHORTS else 0)"
   ]
  },
  {
   "cell_type": "code",
   "execution_count": 10,
   "metadata": {},
   "outputs": [],
   "source": [
    "def exec_trades(data, assets, target_percent):\n",
    "    \"\"\"Place orders for assets using target portfolio percentage\"\"\"\n",
    "    for asset in assets:\n",
    "        if data.can_trade(asset) and not get_open_orders(asset):\n",
    "            order_target_percent(asset, target_percent)"
   ]
  },
  {
   "cell_type": "markdown",
   "metadata": {},
   "source": [
    "## Initialize Backtest"
   ]
  },
  {
   "cell_type": "markdown",
   "metadata": {},
   "source": [
    "The `rebalance()` method runs according to `date_rules` and `time_rules` set by the `schedule_function()` utility at the beginning of the week, right after market_open as stipulated by the built-in US_EQUITIES calendar (see docs for details on rules). \n",
    "\n",
    "You can also specify a trade commission both in relative terms and as a minimum amount. There is also an option to define slippage, which is the cost of an adverse change in price between trade decision and execution"
   ]
  },
  {
   "cell_type": "code",
   "execution_count": 11,
   "metadata": {},
   "outputs": [],
   "source": [
    "def initialize(context):\n",
    "    \"\"\"Setup: register pipeline, schedule rebalancing,\n",
    "        and set trading params\"\"\"\n",
    "    attach_pipeline(compute_factors(), 'factor_pipeline')\n",
    "    schedule_function(rebalance,\n",
    "                      date_rules.week_start(),\n",
    "                      time_rules.market_open(),\n",
    "                      calendar=calendars.US_EQUITIES)\n",
    "\n",
    "    set_commission(us_equities=commission.PerShare(cost=0.00075, min_trade_cost=.01))\n",
    "    set_slippage(us_equities=slippage.VolumeShareSlippage(volume_limit=0.0025, price_impact=0.01))"
   ]
  },
  {
   "cell_type": "markdown",
   "metadata": {},
   "source": [
    "## Run Algorithm"
   ]
  },
  {
   "cell_type": "markdown",
   "metadata": {},
   "source": [
    "The algorithm executes upon calling the run_algorithm() function and returns the backtest performance DataFrame."
   ]
  },
  {
   "cell_type": "code",
   "execution_count": 12,
   "metadata": {
    "scrolled": true
   },
   "outputs": [
    {
     "name": "stdout",
     "output_type": "stream",
     "text": [
      "[2019-04-18 18:18:48.293921] WARNING: Loader: Refusing to download new benchmark data because a download succeeded at 2019-04-18 17:27:53.709992+00:00.\n",
      "[2019-04-18 18:19:05.859843] INFO: Performance: after split: asset: Equity(3064 [WCN]), amount: 1992, cost_basis: 26.25, last_sale_price: 39.27\n",
      "[2019-04-18 18:19:05.860257] INFO: Performance: returning cash: 0.0\n",
      "[2019-04-18 18:19:12.050942] INFO: Performance: after split: asset: Equity(3070 [WEC]), amount: 1842, cost_basis: 29.1, last_sale_price: 58.64\n",
      "[2019-04-18 18:19:12.051501] INFO: Performance: returning cash: 0.0\n",
      "[2019-04-18 18:19:15.749578] INFO: Performance: after split: asset: Equity(798 [DDD]), amount: 3014, cost_basis: 19.18, last_sale_price: 37.08\n",
      "[2019-04-18 18:19:15.749994] INFO: Performance: returning cash: 0.0\n",
      "[2019-04-18 18:19:24.574877] INFO: Performance: after split: asset: Equity(2349 [QSII]), amount: 1200, cost_basis: 44.6, last_sale_price: 86.7\n",
      "[2019-04-18 18:19:24.575377] INFO: Performance: returning cash: 0.0\n",
      "[2019-04-18 18:19:29.655546] INFO: Performance: after split: asset: Equity(641 [COG]), amount: 1750, cost_basis: 33.66, last_sale_price: 66.62\n",
      "[2019-04-18 18:19:29.655937] INFO: Performance: returning cash: 0.0\n",
      "[2019-04-18 18:19:32.026047] INFO: Performance: after split: asset: Equity(126 [ALK]), amount: 1694, cost_basis: 34.75, last_sale_price: 69.79\n",
      "[2019-04-18 18:19:32.026520] INFO: Performance: returning cash: 0.0\n",
      "[2019-04-18 18:19:32.326564] INFO: Performance: after split: asset: Equity(793 [DCI]), amount: 1616, cost_basis: 35.59, last_sale_price: 70.24\n",
      "[2019-04-18 18:19:32.327034] INFO: Performance: returning cash: 0.0\n",
      "[2019-04-18 18:19:36.955213] INFO: Performance: after split: asset: Equity(1397 [HSH]), amount: 592, cost_basis: 95.05, last_sale_price: 18.5\n",
      "[2019-04-18 18:19:36.955605] INFO: Performance: returning cash: 57.03\n",
      "[2019-04-18 18:19:50.093413] INFO: Performance: after split: asset: Equity(798 [DDD]), amount: 1513, cost_basis: 39.93, last_sale_price: 56.95\n",
      "[2019-04-18 18:19:50.093863] INFO: Performance: returning cash: 19.96\n",
      "[2019-04-18 18:19:59.922411] INFO: Performance: after split: asset: Equity(3132 [WTR]), amount: 2501, cost_basis: 25.15, last_sale_price: 30.37\n",
      "[2019-04-18 18:19:59.922817] INFO: Performance: returning cash: 6.29\n",
      "[2019-04-18 18:20:11.254267] INFO: Performance: after split: asset: Equity(1733 [LVNTA]), amount: 1040, cost_basis: 61.38, last_sale_price: 113.61\n",
      "[2019-04-18 18:20:11.254715] INFO: Performance: returning cash: 0.0\n",
      "[2019-04-18 18:20:11.342908] INFO: Performance: after split: asset: Equity(2905 [UAA]), amount: 1218, cost_basis: 52.93, last_sale_price: 102.16\n",
      "[2019-04-18 18:20:11.343320] INFO: Performance: returning cash: 0.0\n",
      "[2019-04-18 18:20:14.173526] INFO: Performance: after split: asset: Equity(2926 [UFS]), amount: 1452, cost_basis: 43.47, last_sale_price: 86.93\n",
      "[2019-04-18 18:20:14.173920] INFO: Performance: returning cash: 0.0\n",
      "[2019-04-18 18:20:15.186710] INFO: Performance: after split: asset: Equity(126 [ALK]), amount: 1352, cost_basis: 46.8, last_sale_price: 96.86\n",
      "[2019-04-18 18:20:15.187103] INFO: Performance: returning cash: 0.0\n",
      "[2019-04-18 18:20:20.444623] INFO: Performance: after split: asset: Equity(198 [APH]), amount: 1274, cost_basis: 48.87, last_sale_price: 98.68\n",
      "[2019-04-18 18:20:20.445017] INFO: Performance: returning cash: 0.0\n",
      "[2019-04-18 18:21:19.568282] INFO: Performance: after split: asset: Equity(2889 [TWO]), amount: 2970, cost_basis: 19.6, last_sale_price: 9.8\n",
      "[2019-04-18 18:21:19.568683] INFO: Performance: returning cash: 9.8\n",
      "[2019-04-18 18:21:19.633009] INFO: Performance: after split: asset: Equity(2889 [TWO]), amount: 2600, cost_basis: 30.83, last_sale_price: 9.84\n",
      "[2019-04-18 18:21:19.633401] INFO: Performance: returning cash: 15.41\n",
      "[2019-04-18 18:21:22.980920] INFO: zipline.finance.metrics.tracker: Simulated 2013 trading days\n",
      "first open: 2010-01-04 14:31:00+00:00\n",
      "last close: 2017-12-29 21:00:00+00:00\n"
     ]
    }
   ],
   "source": [
    "backtest = run_algorithm(start=start,\n",
    "                         end=end,\n",
    "                         initialize=initialize,\n",
    "                         before_trading_start=before_trading_start,\n",
    "                         capital_base=capital_base)"
   ]
  },
  {
   "cell_type": "markdown",
   "metadata": {},
   "source": [
    "## Extract pyfolio Inputs"
   ]
  },
  {
   "cell_type": "markdown",
   "metadata": {},
   "source": [
    "The `extract_rets_pos_txn_from_zipline` utility provided by `pyfolio` extracts the data used to compute performance metrics."
   ]
  },
  {
   "cell_type": "code",
   "execution_count": 13,
   "metadata": {},
   "outputs": [],
   "source": [
    "returns, positions, transactions = extract_rets_pos_txn_from_zipline(backtest)"
   ]
  },
  {
   "cell_type": "markdown",
   "metadata": {},
   "source": [
    "## Persist Results for use with `pyfolio`"
   ]
  },
  {
   "cell_type": "code",
   "execution_count": 14,
   "metadata": {},
   "outputs": [
    {
     "name": "stderr",
     "output_type": "stream",
     "text": [
      "/home/stefan/.pyenv/versions/miniconda3-latest/envs/env_zipline/lib/python3.5/site-packages/IPython/core/interactiveshell.py:2901: PerformanceWarning: \n",
      "your performance may suffer as PyTables will pickle object types that it cannot\n",
      "map directly to c-types [inferred_type->mixed,key->block4_values] [items->['factor_data', 'orders', 'period_label', 'positions', 'prices', 'transactions']]\n",
      "\n",
      "  if self.run_code(code, result):\n",
      "/home/stefan/.pyenv/versions/miniconda3-latest/envs/env_zipline/lib/python3.5/site-packages/IPython/core/interactiveshell.py:2961: PerformanceWarning: \n",
      "your performance may suffer as PyTables will pickle object types that it cannot\n",
      "map directly to c-types [inferred_type->mixed,key->axis0] [items->None]\n",
      "\n",
      "  exec(code_obj, self.user_global_ns, self.user_ns)\n",
      "/home/stefan/.pyenv/versions/miniconda3-latest/envs/env_zipline/lib/python3.5/site-packages/IPython/core/interactiveshell.py:2961: PerformanceWarning: \n",
      "your performance may suffer as PyTables will pickle object types that it cannot\n",
      "map directly to c-types [inferred_type->mixed,key->block0_items] [items->None]\n",
      "\n",
      "  exec(code_obj, self.user_global_ns, self.user_ns)\n",
      "/home/stefan/.pyenv/versions/miniconda3-latest/envs/env_zipline/lib/python3.5/site-packages/IPython/core/interactiveshell.py:2901: PerformanceWarning: \n",
      "your performance may suffer as PyTables will pickle object types that it cannot\n",
      "map directly to c-types [inferred_type->mixed,key->block3_values] [items->['commission', 'order_id', 'sid', 'symbol']]\n",
      "\n",
      "  if self.run_code(code, result):\n"
     ]
    }
   ],
   "source": [
    "with pd.HDFStore('backtests.h5') as store:\n",
    "    store.put('backtest', backtest)\n",
    "    store.put('returns', returns)\n",
    "    store.put('positions', positions)\n",
    "    store.put('transactions', transactions)"
   ]
  },
  {
   "cell_type": "markdown",
   "metadata": {},
   "source": [
    "## Plot Results"
   ]
  },
  {
   "cell_type": "code",
   "execution_count": 42,
   "metadata": {},
   "outputs": [
    {
     "data": {
      "image/png": "[encoded data removed]",
      "text/plain": [
       "<Figure size 1008x432 with 2 Axes>"
      ]
     },
     "metadata": {},
     "output_type": "display_data"
    }
   ],
   "source": [
    "fig, axes= plt.subplots(nrows=2, figsize=(14,6))\n",
    "returns.add(1).cumprod().sub(1).plot(ax=axes[0], title='Cumulative Returns')\n",
    "transactions.groupby(transactions.dt.dt.day).txn_dollars.sum().cumsum().plot(ax=axes[1], title='Cumulative Transactions')\n",
    "fig.tight_layout();"
   ]
  },
  {
   "cell_type": "code",
   "execution_count": 43,
   "metadata": {},
   "outputs": [
    {
     "name": "stdout",
     "output_type": "stream",
     "text": [
      "<class 'pandas.core.frame.DataFrame'>\n",
      "DatetimeIndex: 2012 entries, 2010-01-05 to 2017-12-29\n",
      "Columns: 1717 entries, Equity(0 [A]) to cash\n",
      "dtypes: float64(1717)\n",
      "memory usage: 26.5 MB\n"
     ]
    }
   ],
   "source": [
    "positions.info()"
   ]
  },
  {
   "cell_type": "code",
   "execution_count": 26,
   "metadata": {},
   "outputs": [
    {
     "data": {
      "text/html": [
       "<div>\n",
       "<style scoped>\n",
       "    .dataframe tbody tr th:only-of-type {\n",
       "        vertical-align: middle;\n",
       "    }\n",
       "\n",
       "    .dataframe tbody tr th {\n",
       "        vertical-align: top;\n",
       "    }\n",
       "\n",
       "    .dataframe thead th {\n",
       "        text-align: right;\n",
       "    }\n",
       "</style>\n",
       "<table border=\"1\" class=\"dataframe\">\n",
       "  <thead>\n",
       "    <tr style=\"text-align: right;\">\n",
       "      <th></th>\n",
       "      <th>amount</th>\n",
       "      <th>price</th>\n",
       "      <th>txn_dollars</th>\n",
       "    </tr>\n",
       "  </thead>\n",
       "  <tbody>\n",
       "    <tr>\n",
       "      <th>count</th>\n",
       "      <td>54596.000000</td>\n",
       "      <td>54596.000000</td>\n",
       "      <td>54596.000000</td>\n",
       "    </tr>\n",
       "    <tr>\n",
       "      <th>mean</th>\n",
       "      <td>6.639039</td>\n",
       "      <td>54.526810</td>\n",
       "      <td>-125.974292</td>\n",
       "    </tr>\n",
       "    <tr>\n",
       "      <th>std</th>\n",
       "      <td>3164.246839</td>\n",
       "      <td>70.158189</td>\n",
       "      <td>46190.665141</td>\n",
       "    </tr>\n",
       "    <tr>\n",
       "      <th>min</th>\n",
       "      <td>-193113.000000</td>\n",
       "      <td>0.260000</td>\n",
       "      <td>-260289.136266</td>\n",
       "    </tr>\n",
       "    <tr>\n",
       "      <th>25%</th>\n",
       "      <td>-798.000000</td>\n",
       "      <td>23.870000</td>\n",
       "      <td>-50045.888868</td>\n",
       "    </tr>\n",
       "    <tr>\n",
       "      <th>50%</th>\n",
       "      <td>7.000000</td>\n",
       "      <td>40.440000</td>\n",
       "      <td>-401.450000</td>\n",
       "    </tr>\n",
       "    <tr>\n",
       "      <th>75%</th>\n",
       "      <td>790.250000</td>\n",
       "      <td>65.459000</td>\n",
       "      <td>48254.080538</td>\n",
       "    </tr>\n",
       "    <tr>\n",
       "      <th>max</th>\n",
       "      <td>312268.000000</td>\n",
       "      <td>2846.059938</td>\n",
       "      <td>110457.269868</td>\n",
       "    </tr>\n",
       "  </tbody>\n",
       "</table>\n",
       "</div>"
      ],
      "text/plain": [
       "              amount         price    txn_dollars\n",
       "count   54596.000000  54596.000000   54596.000000\n",
       "mean        6.639039     54.526810    -125.974292\n",
       "std      3164.246839     70.158189   46190.665141\n",
       "min   -193113.000000      0.260000 -260289.136266\n",
       "25%      -798.000000     23.870000  -50045.888868\n",
       "50%         7.000000     40.440000    -401.450000\n",
       "75%       790.250000     65.459000   48254.080538\n",
       "max    312268.000000   2846.059938  110457.269868"
      ]
     },
     "execution_count": 26,
     "metadata": {},
     "output_type": "execute_result"
    }
   ],
   "source": [
    "transactions.describe()"
   ]
  }
 ],
 "metadata": {
  "kernelspec": {
   "display_name": "Python 3",
   "language": "python",
   "name": "python3"
  },
  "language_info": {
   "codemirror_mode": {
    "name": "ipython",
    "version": 3
   },
   "file_extension": ".py",
   "mimetype": "text/x-python",
   "name": "python",
   "nbconvert_exporter": "python",
   "pygments_lexer": "ipython3",
   "version": "3.5.6"
  },
  "toc": {
   "base_numbering": 1,
   "nav_menu": {},
   "number_sections": true,
   "sideBar": true,
   "skip_h1_title": true,
   "title_cell": "Table of Contents",
   "title_sidebar": "Contents",
   "toc_cell": false,
   "toc_position": {
    "height": "calc(100% - 180px)",
    "left": "10px",
    "top": "150px",
    "width": "252.628px"
   },
   "toc_section_display": true,
   "toc_window_display": true
  }
 },
 "nbformat": 4,
 "nbformat_minor": 2
}
