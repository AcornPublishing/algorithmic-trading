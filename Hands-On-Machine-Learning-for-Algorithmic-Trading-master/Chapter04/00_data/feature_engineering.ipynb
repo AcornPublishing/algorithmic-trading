{
 "cells": [
  {
   "cell_type": "markdown",
   "metadata": {},
   "source": [
    "# How to transform data into factors"
   ]
  },
  {
   "cell_type": "markdown",
   "metadata": {},
   "source": [
    "Based on a conceptual understanding of key factor categories, their rationale and popular metrics, a key task is to identify new factors that may better capture the risks embodied by the return drivers laid out previously, or to find new ones. \n",
    "\n",
    "In either case, it will be important to compare the performance of innovative factors to that of known factors to identify incremental signal gains."
   ]
  },
  {
   "cell_type": "markdown",
   "metadata": {},
   "source": [
    "We create the dataset here and store it in our [data](../../data) folder to facilitate reuse in later chapters."
   ]
  },
  {
   "cell_type": "markdown",
   "metadata": {},
   "source": [
    "## Imports & Settings"
   ]
  },
  {
   "cell_type": "code",
   "execution_count": 1,
   "metadata": {
    "ExecuteTime": {
     "end_time": "2018-12-25T20:11:21.811956Z",
     "start_time": "2018-12-25T20:11:21.625862Z"
    }
   },
   "outputs": [],
   "source": [
    "%matplotlib inline\n",
    "\n",
    "import warnings\n",
    "from datetime import datetime\n",
    "import os\n",
    "from pathlib import Path\n",
    "import quandl\n",
    "import numpy as np\n",
    "import matplotlib.pyplot as plt\n",
    "import seaborn as sns\n",
    "import pandas as pd\n",
    "import pandas_datareader.data as web\n",
    "from pandas_datareader.famafrench import get_available_datasets\n",
    "from pyfinance.ols import PandasRollingOLS\n",
    "from sklearn.feature_selection import mutual_info_classif"
   ]
  },
  {
   "cell_type": "code",
   "execution_count": 2,
   "metadata": {
    "ExecuteTime": {
     "end_time": "2018-12-25T20:11:22.962072Z",
     "start_time": "2018-12-25T20:11:22.955098Z"
    }
   },
   "outputs": [],
   "source": [
    "warnings.filterwarnings('ignore')\n",
    "plt.style.use('fivethirtyeight')\n",
    "idx = pd.IndexSlice"
   ]
  },
  {
   "cell_type": "markdown",
   "metadata": {},
   "source": [
    "## Get Data"
   ]
  },
  {
   "cell_type": "markdown",
   "metadata": {},
   "source": [
    "The `assets.h5` store can be generated using the the notebook [create_datasets](../../data/create_datasets.ipynb) in the [data](../../data) directory in the root directory of this repo for instruction to download the following dataset."
   ]
  },
  {
   "cell_type": "markdown",
   "metadata": {},
   "source": [
    "We load the Quandl stock price datasets covering the US equity markets 2000-18 using `pd.IndexSlice` to perform a slice operation on the `pd.MultiIndex`, select the adjusted close price and unpivot the column to convert the DataFrame to wide format with tickers in the columns and timestamps in the rows:"
   ]
  },
  {
   "cell_type": "markdown",
   "metadata": {},
   "source": [
    "Set data store location:"
   ]
  },
  {
   "cell_type": "code",
   "execution_count": 3,
   "metadata": {},
   "outputs": [],
   "source": [
    "DATA_STORE = '../../data/assets.h5'"
   ]
  },
  {
   "cell_type": "code",
   "execution_count": 4,
   "metadata": {
    "ExecuteTime": {
     "end_time": "2018-12-25T20:20:58.388579Z",
     "start_time": "2018-12-25T20:20:54.763191Z"
    }
   },
   "outputs": [],
   "source": [
    "with pd.HDFStore(DATA_STORE) as store:\n",
    "    prices = store['quandl/wiki/prices'].loc[idx['2000':'2018', :], 'adj_close'].unstack('ticker')\n",
    "    stocks = store['us_equities/stocks'].loc[:, ['marketcap', 'ipoyear', 'sector']]"
   ]
  },
  {
   "cell_type": "markdown",
   "metadata": {},
   "source": [
    "### Keep data with stock info"
   ]
  },
  {
   "cell_type": "markdown",
   "metadata": {},
   "source": [
    "Remove `stocks` duplicates and align index names for later joining."
   ]
  },
  {
   "cell_type": "code",
   "execution_count": 5,
   "metadata": {
    "ExecuteTime": {
     "end_time": "2018-12-25T20:21:04.224845Z",
     "start_time": "2018-12-25T20:21:04.213399Z"
    }
   },
   "outputs": [],
   "source": [
    "stocks = stocks[~stocks.index.duplicated()]\n",
    "stocks.index.name = 'ticker'"
   ]
  },
  {
   "cell_type": "markdown",
   "metadata": {},
   "source": [
    "Get tickers with both price information and metdata"
   ]
  },
  {
   "cell_type": "code",
   "execution_count": 6,
   "metadata": {},
   "outputs": [],
   "source": [
    "shared = prices.columns.intersection(stocks.index)"
   ]
  },
  {
   "cell_type": "code",
   "execution_count": 7,
   "metadata": {},
   "outputs": [
    {
     "name": "stdout",
     "output_type": "stream",
     "text": [
      "<class 'pandas.core.frame.DataFrame'>\n",
      "Index: 2289 entries, A to ZUMZ\n",
      "Data columns (total 3 columns):\n",
      "marketcap    2287 non-null object\n",
      "ipoyear      1002 non-null float64\n",
      "sector       2248 non-null object\n",
      "dtypes: float64(1), object(2)\n",
      "memory usage: 71.5+ KB\n"
     ]
    }
   ],
   "source": [
    "stocks = stocks.loc[shared, :]\n",
    "stocks.info()"
   ]
  },
  {
   "cell_type": "code",
   "execution_count": 8,
   "metadata": {
    "ExecuteTime": {
     "end_time": "2018-12-25T20:21:04.314576Z",
     "start_time": "2018-12-25T20:21:04.227610Z"
    },
    "scrolled": true
   },
   "outputs": [
    {
     "name": "stdout",
     "output_type": "stream",
     "text": [
      "<class 'pandas.core.frame.DataFrame'>\n",
      "DatetimeIndex: 4706 entries, 2000-01-03 to 2018-03-27\n",
      "Columns: 2289 entries, A to ZUMZ\n",
      "dtypes: float64(2289)\n",
      "memory usage: 82.2 MB\n"
     ]
    }
   ],
   "source": [
    "prices = prices.loc[:, shared]\n",
    "prices.info()"
   ]
  },
  {
   "cell_type": "code",
   "execution_count": 9,
   "metadata": {},
   "outputs": [],
   "source": [
    "assert prices.shape[1] == stocks.shape[0]"
   ]
  },
  {
   "cell_type": "markdown",
   "metadata": {},
   "source": [
    "## Create monthly return series"
   ]
  },
  {
   "cell_type": "markdown",
   "metadata": {},
   "source": [
    "To reduce training time and experiment with strategies for longer time horizons, we convert the business-daily data to month-end frequency using the available adjusted close price:"
   ]
  },
  {
   "cell_type": "code",
   "execution_count": 10,
   "metadata": {
    "ExecuteTime": {
     "end_time": "2018-12-25T20:21:04.347475Z",
     "start_time": "2018-12-25T20:21:04.315535Z"
    }
   },
   "outputs": [],
   "source": [
    "monthly_prices = prices.resample('M').last()"
   ]
  },
  {
   "cell_type": "markdown",
   "metadata": {},
   "source": [
    "To capture time series dynamics that reflect, for example, momentum patterns, we compute historical returns using the method `.pct_change(n_periods)`, that is, returns over various monthly periods as identified by lags.\n",
    "\n",
    "We then convert the wide result back to long format with the `.stack()` method, use `.pipe()` to apply the `.clip()` method to the resulting `DataFrame`, and winsorize returns at the [1%, 99%] levels; that is, we cap outliers at these percentiles.\n",
    "\n",
    "Finally, we normalize returns using the geometric average. After using `.swaplevel()` to change the order of the `MultiIndex` levels, we obtain compounded monthly returns for six periods ranging from 1 to 12 months:"
   ]
  },
  {
   "cell_type": "code",
   "execution_count": 11,
   "metadata": {
    "ExecuteTime": {
     "end_time": "2018-12-25T20:21:11.219537Z",
     "start_time": "2018-12-25T20:21:04.349860Z"
    }
   },
   "outputs": [
    {
     "name": "stdout",
     "output_type": "stream",
     "text": [
      "<class 'pandas.core.frame.DataFrame'>\n",
      "MultiIndex: 381505 entries, (A, 2001-01-31 00:00:00) to (ZUMZ, 2018-03-31 00:00:00)\n",
      "Data columns (total 6 columns):\n",
      "return_1m     381505 non-null float64\n",
      "return_2m     381505 non-null float64\n",
      "return_3m     381505 non-null float64\n",
      "return_6m     381505 non-null float64\n",
      "return_9m     381505 non-null float64\n",
      "return_12m    381505 non-null float64\n",
      "dtypes: float64(6)\n",
      "memory usage: 18.9+ MB\n"
     ]
    }
   ],
   "source": [
    "outlier_cutoff = 0.01\n",
    "data = pd.DataFrame()\n",
    "lags = [1, 2, 3, 6, 9, 12]\n",
    "for lag in lags:\n",
    "    data[f'return_{lag}m'] = (monthly_prices\n",
    "                           .pct_change(lag)\n",
    "                           .stack()\n",
    "                           .pipe(lambda x: x.clip(lower=x.quantile(outlier_cutoff),\n",
    "                                                  upper=x.quantile(1-outlier_cutoff)))\n",
    "                           .add(1)\n",
    "                           .pow(1/lag)\n",
    "                           .sub(1)\n",
    "                           )\n",
    "data = data.swaplevel().dropna()\n",
    "data.info()"
   ]
  },
  {
   "cell_type": "markdown",
   "metadata": {},
   "source": [
    "## Drop stocks with less than 10 yrs of returns"
   ]
  },
  {
   "cell_type": "code",
   "execution_count": 12,
   "metadata": {
    "ExecuteTime": {
     "end_time": "2018-12-25T20:21:14.273535Z",
     "start_time": "2018-12-25T20:21:11.221231Z"
    }
   },
   "outputs": [
    {
     "name": "stdout",
     "output_type": "stream",
     "text": [
      "<class 'pandas.core.frame.DataFrame'>\n",
      "MultiIndex: 345502 entries, (A, 2001-01-31 00:00:00) to (ZUMZ, 2018-03-31 00:00:00)\n",
      "Data columns (total 6 columns):\n",
      "return_1m     345502 non-null float64\n",
      "return_2m     345502 non-null float64\n",
      "return_3m     345502 non-null float64\n",
      "return_6m     345502 non-null float64\n",
      "return_9m     345502 non-null float64\n",
      "return_12m    345502 non-null float64\n",
      "dtypes: float64(6)\n",
      "memory usage: 17.2+ MB\n"
     ]
    }
   ],
   "source": [
    "min_obs = 120\n",
    "nobs = data.groupby(level='ticker').size()\n",
    "keep = nobs[nobs>min_obs].index\n",
    "\n",
    "data = data.loc[idx[keep,:], :]\n",
    "data.info()"
   ]
  },
  {
   "cell_type": "code",
   "execution_count": 13,
   "metadata": {
    "ExecuteTime": {
     "end_time": "2018-12-25T20:21:14.409888Z",
     "start_time": "2018-12-25T20:21:14.274835Z"
    }
   },
   "outputs": [
    {
     "data": {
      "text/html": [
       "<div>\n",
       "<style scoped>\n",
       "    .dataframe tbody tr th:only-of-type {\n",
       "        vertical-align: middle;\n",
       "    }\n",
       "\n",
       "    .dataframe tbody tr th {\n",
       "        vertical-align: top;\n",
       "    }\n",
       "\n",
       "    .dataframe thead th {\n",
       "        text-align: right;\n",
       "    }\n",
       "</style>\n",
       "<table border=\"1\" class=\"dataframe\">\n",
       "  <thead>\n",
       "    <tr style=\"text-align: right;\">\n",
       "      <th></th>\n",
       "      <th>return_1m</th>\n",
       "      <th>return_2m</th>\n",
       "      <th>return_3m</th>\n",
       "      <th>return_6m</th>\n",
       "      <th>return_9m</th>\n",
       "      <th>return_12m</th>\n",
       "    </tr>\n",
       "  </thead>\n",
       "  <tbody>\n",
       "    <tr>\n",
       "      <th>count</th>\n",
       "      <td>345502.000000</td>\n",
       "      <td>345502.000000</td>\n",
       "      <td>345502.000000</td>\n",
       "      <td>345502.000000</td>\n",
       "      <td>345502.000000</td>\n",
       "      <td>345502.000000</td>\n",
       "    </tr>\n",
       "    <tr>\n",
       "      <th>mean</th>\n",
       "      <td>0.012353</td>\n",
       "      <td>0.009353</td>\n",
       "      <td>0.008338</td>\n",
       "      <td>0.007200</td>\n",
       "      <td>0.006731</td>\n",
       "      <td>0.006475</td>\n",
       "    </tr>\n",
       "    <tr>\n",
       "      <th>std</th>\n",
       "      <td>0.113467</td>\n",
       "      <td>0.080550</td>\n",
       "      <td>0.066075</td>\n",
       "      <td>0.048059</td>\n",
       "      <td>0.039555</td>\n",
       "      <td>0.034491</td>\n",
       "    </tr>\n",
       "    <tr>\n",
       "      <th>min</th>\n",
       "      <td>-0.327398</td>\n",
       "      <td>-0.253506</td>\n",
       "      <td>-0.212981</td>\n",
       "      <td>-0.160337</td>\n",
       "      <td>-0.130775</td>\n",
       "      <td>-0.112947</td>\n",
       "    </tr>\n",
       "    <tr>\n",
       "      <th>25%</th>\n",
       "      <td>-0.046028</td>\n",
       "      <td>-0.030347</td>\n",
       "      <td>-0.023647</td>\n",
       "      <td>-0.014607</td>\n",
       "      <td>-0.010836</td>\n",
       "      <td>-0.008764</td>\n",
       "    </tr>\n",
       "    <tr>\n",
       "      <th>50%</th>\n",
       "      <td>0.009524</td>\n",
       "      <td>0.009820</td>\n",
       "      <td>0.009832</td>\n",
       "      <td>0.009467</td>\n",
       "      <td>0.009105</td>\n",
       "      <td>0.008852</td>\n",
       "    </tr>\n",
       "    <tr>\n",
       "      <th>75%</th>\n",
       "      <td>0.065875</td>\n",
       "      <td>0.049190</td>\n",
       "      <td>0.042032</td>\n",
       "      <td>0.031989</td>\n",
       "      <td>0.027203</td>\n",
       "      <td>0.024636</td>\n",
       "    </tr>\n",
       "    <tr>\n",
       "      <th>max</th>\n",
       "      <td>0.428725</td>\n",
       "      <td>0.279875</td>\n",
       "      <td>0.220522</td>\n",
       "      <td>0.153314</td>\n",
       "      <td>0.123776</td>\n",
       "      <td>0.105675</td>\n",
       "    </tr>\n",
       "  </tbody>\n",
       "</table>\n",
       "</div>"
      ],
      "text/plain": [
       "           return_1m      return_2m      return_3m      return_6m  \\\n",
       "count  345502.000000  345502.000000  345502.000000  345502.000000   \n",
       "mean        0.012353       0.009353       0.008338       0.007200   \n",
       "std         0.113467       0.080550       0.066075       0.048059   \n",
       "min        -0.327398      -0.253506      -0.212981      -0.160337   \n",
       "25%        -0.046028      -0.030347      -0.023647      -0.014607   \n",
       "50%         0.009524       0.009820       0.009832       0.009467   \n",
       "75%         0.065875       0.049190       0.042032       0.031989   \n",
       "max         0.428725       0.279875       0.220522       0.153314   \n",
       "\n",
       "           return_9m     return_12m  \n",
       "count  345502.000000  345502.000000  \n",
       "mean        0.006731       0.006475  \n",
       "std         0.039555       0.034491  \n",
       "min        -0.130775      -0.112947  \n",
       "25%        -0.010836      -0.008764  \n",
       "50%         0.009105       0.008852  \n",
       "75%         0.027203       0.024636  \n",
       "max         0.123776       0.105675  "
      ]
     },
     "execution_count": 13,
     "metadata": {},
     "output_type": "execute_result"
    }
   ],
   "source": [
    "data.describe()"
   ]
  },
  {
   "cell_type": "code",
   "execution_count": 14,
   "metadata": {
    "ExecuteTime": {
     "end_time": "2018-12-25T20:21:16.941421Z",
     "start_time": "2018-12-25T20:21:14.411226Z"
    }
   },
   "outputs": [
    {
     "data": {
      "image/png": "[encoded data removed]",
      "text/plain": [
       "<Figure size 720x720 with 4 Axes>"
      ]
     },
     "metadata": {},
     "output_type": "display_data"
    }
   ],
   "source": [
    "# cmap = sns.diverging_palette(10, 220, as_cmap=True)\n",
    "sns.clustermap(data.corr('spearman'), annot=True, center=0, cmap='Blues');"
   ]
  },
  {
   "cell_type": "markdown",
   "metadata": {},
   "source": [
    "We are left with 1,775 tickers."
   ]
  },
  {
   "cell_type": "code",
   "execution_count": 15,
   "metadata": {
    "ExecuteTime": {
     "end_time": "2018-12-25T20:21:16.963520Z",
     "start_time": "2018-12-25T20:21:16.942416Z"
    }
   },
   "outputs": [
    {
     "data": {
      "text/plain": [
       "1756"
      ]
     },
     "execution_count": 15,
     "metadata": {},
     "output_type": "execute_result"
    }
   ],
   "source": [
    "data.index.get_level_values('ticker').nunique()"
   ]
  },
  {
   "cell_type": "markdown",
   "metadata": {},
   "source": [
    "## Rolling Factor Betas"
   ]
  },
  {
   "cell_type": "markdown",
   "metadata": {},
   "source": [
    "We will introduce the Fama—French data to estimate the exposure of assets to common risk factors using linear regression in [Chapter 8, Time Series Models]([](../../08_time_series_models))."
   ]
  },
  {
   "cell_type": "markdown",
   "metadata": {},
   "source": [
    "The five Fama—French factors, namely market risk, size, value, operating profitability, and investment have been shown empirically to explain asset returns and are commonly used to assess the risk/return profile of portfolios. Hence, it is natural to include past factor exposures as financial features in models that aim to predict future returns."
   ]
  },
  {
   "cell_type": "markdown",
   "metadata": {},
   "source": [
    "We can access the historical factor returns using the `pandas-datareader` and estimate historical exposures using the `PandasRollingOLS` rolling linear regression functionality in the `pyfinance` library as follows:"
   ]
  },
  {
   "cell_type": "markdown",
   "metadata": {},
   "source": [
    "Use Fama-French research factors to estimate the factor exposures of the stock in the dataset to the 5 factors market risk, size, value, operating profitability and investment."
   ]
  },
  {
   "cell_type": "code",
   "execution_count": 16,
   "metadata": {
    "ExecuteTime": {
     "end_time": "2018-12-25T20:21:17.055928Z",
     "start_time": "2018-12-25T20:21:16.964925Z"
    },
    "scrolled": false
   },
   "outputs": [
    {
     "name": "stdout",
     "output_type": "stream",
     "text": [
      "<class 'pandas.core.frame.DataFrame'>\n",
      "DatetimeIndex: 230 entries, 2000-01-31 to 2019-02-28\n",
      "Freq: M\n",
      "Data columns (total 5 columns):\n",
      "Mkt-RF    230 non-null float64\n",
      "SMB       230 non-null float64\n",
      "HML       230 non-null float64\n",
      "RMW       230 non-null float64\n",
      "CMA       230 non-null float64\n",
      "dtypes: float64(5)\n",
      "memory usage: 10.8 KB\n"
     ]
    }
   ],
   "source": [
    "factors = ['Mkt-RF', 'SMB', 'HML', 'RMW', 'CMA']\n",
    "factor_data = web.DataReader('F-F_Research_Data_5_Factors_2x3', 'famafrench', start='2000')[0].drop('RF', axis=1)\n",
    "factor_data.index = factor_data.index.to_timestamp()\n",
    "factor_data = factor_data.resample('M').last().div(100)\n",
    "factor_data.index.name = 'date'\n",
    "factor_data.info()"
   ]
  },
  {
   "cell_type": "code",
   "execution_count": 17,
   "metadata": {
    "ExecuteTime": {
     "end_time": "2018-12-25T20:21:17.331194Z",
     "start_time": "2018-12-25T20:21:17.056929Z"
    },
    "scrolled": true
   },
   "outputs": [
    {
     "name": "stdout",
     "output_type": "stream",
     "text": [
      "<class 'pandas.core.frame.DataFrame'>\n",
      "MultiIndex: 345502 entries, (A, 2001-01-31 00:00:00) to (ZUMZ, 2018-03-31 00:00:00)\n",
      "Data columns (total 6 columns):\n",
      "Mkt-RF       345502 non-null float64\n",
      "SMB          345502 non-null float64\n",
      "HML          345502 non-null float64\n",
      "RMW          345502 non-null float64\n",
      "CMA          345502 non-null float64\n",
      "return_1m    345502 non-null float64\n",
      "dtypes: float64(6)\n",
      "memory usage: 17.2+ MB\n"
     ]
    }
   ],
   "source": [
    "factor_data = factor_data.join(data['return_1m']).sort_index()\n",
    "factor_data.info()"
   ]
  },
  {
   "cell_type": "code",
   "execution_count": 18,
   "metadata": {
    "ExecuteTime": {
     "end_time": "2018-12-25T20:21:19.844785Z",
     "start_time": "2018-12-25T20:21:17.332666Z"
    }
   },
   "outputs": [],
   "source": [
    "T = 24\n",
    "betas = (factor_data\n",
    "         .groupby(level='ticker', group_keys=False)\n",
    "         .apply(lambda x: PandasRollingOLS(window=min(T, x.shape[0]-1), y=x.return_1m, x=x.drop('return_1m', axis=1)).beta))"
   ]
  },
  {
   "cell_type": "code",
   "execution_count": 19,
   "metadata": {
    "ExecuteTime": {
     "end_time": "2018-12-25T20:21:20.017589Z",
     "start_time": "2018-12-25T20:21:19.845761Z"
    }
   },
   "outputs": [
    {
     "data": {
      "text/html": [
       "<div>\n",
       "<style scoped>\n",
       "    .dataframe tbody tr th:only-of-type {\n",
       "        vertical-align: middle;\n",
       "    }\n",
       "\n",
       "    .dataframe tbody tr th {\n",
       "        vertical-align: top;\n",
       "    }\n",
       "\n",
       "    .dataframe thead th {\n",
       "        text-align: right;\n",
       "    }\n",
       "</style>\n",
       "<table border=\"1\" class=\"dataframe\">\n",
       "  <thead>\n",
       "    <tr style=\"text-align: right;\">\n",
       "      <th></th>\n",
       "      <th>Mkt-RF</th>\n",
       "      <th>SMB</th>\n",
       "      <th>HML</th>\n",
       "      <th>RMW</th>\n",
       "      <th>CMA</th>\n",
       "      <th>total</th>\n",
       "    </tr>\n",
       "  </thead>\n",
       "  <tbody>\n",
       "    <tr>\n",
       "      <th>count</th>\n",
       "      <td>305114.000000</td>\n",
       "      <td>305114.000000</td>\n",
       "      <td>305114.000000</td>\n",
       "      <td>305114.000000</td>\n",
       "      <td>305114.000000</td>\n",
       "      <td>305114.000000</td>\n",
       "    </tr>\n",
       "    <tr>\n",
       "      <th>mean</th>\n",
       "      <td>0.979211</td>\n",
       "      <td>0.624869</td>\n",
       "      <td>0.128957</td>\n",
       "      <td>-0.061538</td>\n",
       "      <td>0.017315</td>\n",
       "      <td>1.688816</td>\n",
       "    </tr>\n",
       "    <tr>\n",
       "      <th>std</th>\n",
       "      <td>0.911302</td>\n",
       "      <td>1.250830</td>\n",
       "      <td>1.569375</td>\n",
       "      <td>1.995244</td>\n",
       "      <td>2.182142</td>\n",
       "      <td>3.591829</td>\n",
       "    </tr>\n",
       "    <tr>\n",
       "      <th>min</th>\n",
       "      <td>-9.250214</td>\n",
       "      <td>-10.248056</td>\n",
       "      <td>-15.383714</td>\n",
       "      <td>-26.090632</td>\n",
       "      <td>-18.445731</td>\n",
       "      <td>-37.529387</td>\n",
       "    </tr>\n",
       "    <tr>\n",
       "      <th>25%</th>\n",
       "      <td>0.461364</td>\n",
       "      <td>-0.117809</td>\n",
       "      <td>-0.691242</td>\n",
       "      <td>-0.998343</td>\n",
       "      <td>-1.086057</td>\n",
       "      <td>-0.141855</td>\n",
       "    </tr>\n",
       "    <tr>\n",
       "      <th>50%</th>\n",
       "      <td>0.929989</td>\n",
       "      <td>0.542886</td>\n",
       "      <td>0.103899</td>\n",
       "      <td>0.047608</td>\n",
       "      <td>0.043913</td>\n",
       "      <td>1.637183</td>\n",
       "    </tr>\n",
       "    <tr>\n",
       "      <th>75%</th>\n",
       "      <td>1.446082</td>\n",
       "      <td>1.301350</td>\n",
       "      <td>0.930312</td>\n",
       "      <td>0.986083</td>\n",
       "      <td>1.144610</td>\n",
       "      <td>3.517309</td>\n",
       "    </tr>\n",
       "    <tr>\n",
       "      <th>max</th>\n",
       "      <td>10.428027</td>\n",
       "      <td>10.351943</td>\n",
       "      <td>13.129851</td>\n",
       "      <td>18.378405</td>\n",
       "      <td>16.423135</td>\n",
       "      <td>35.902406</td>\n",
       "    </tr>\n",
       "  </tbody>\n",
       "</table>\n",
       "</div>"
      ],
      "text/plain": [
       "              Mkt-RF            SMB            HML            RMW  \\\n",
       "count  305114.000000  305114.000000  305114.000000  305114.000000   \n",
       "mean        0.979211       0.624869       0.128957      -0.061538   \n",
       "std         0.911302       1.250830       1.569375       1.995244   \n",
       "min        -9.250214     -10.248056     -15.383714     -26.090632   \n",
       "25%         0.461364      -0.117809      -0.691242      -0.998343   \n",
       "50%         0.929989       0.542886       0.103899       0.047608   \n",
       "75%         1.446082       1.301350       0.930312       0.986083   \n",
       "max        10.428027      10.351943      13.129851      18.378405   \n",
       "\n",
       "                 CMA          total  \n",
       "count  305114.000000  305114.000000  \n",
       "mean        0.017315       1.688816  \n",
       "std         2.182142       3.591829  \n",
       "min       -18.445731     -37.529387  \n",
       "25%        -1.086057      -0.141855  \n",
       "50%         0.043913       1.637183  \n",
       "75%         1.144610       3.517309  \n",
       "max        16.423135      35.902406  "
      ]
     },
     "execution_count": 19,
     "metadata": {},
     "output_type": "execute_result"
    }
   ],
   "source": [
    "betas.describe().join(betas.sum(1).describe().to_frame('total'))"
   ]
  },
  {
   "cell_type": "code",
   "execution_count": 20,
   "metadata": {
    "ExecuteTime": {
     "end_time": "2018-12-25T20:21:20.301123Z",
     "start_time": "2018-12-25T20:21:20.018625Z"
    }
   },
   "outputs": [
    {
     "data": {
      "image/png": "[encoded data removed]",
      "text/plain": [
       "<Figure size 720x720 with 4 Axes>"
      ]
     },
     "metadata": {},
     "output_type": "display_data"
    }
   ],
   "source": [
    "cmap = sns.diverging_palette(10, 220, as_cmap=True)\n",
    "sns.clustermap(betas.corr(), annot=True, cmap=cmap, center=0);"
   ]
  },
  {
   "cell_type": "code",
   "execution_count": 21,
   "metadata": {
    "ExecuteTime": {
     "end_time": "2018-12-25T20:21:22.393396Z",
     "start_time": "2018-12-25T20:21:20.304774Z"
    },
    "scrolled": true
   },
   "outputs": [
    {
     "name": "stdout",
     "output_type": "stream",
     "text": [
      "<class 'pandas.core.frame.DataFrame'>\n",
      "MultiIndex: 345502 entries, (A, 2001-01-31 00:00:00) to (ZUMZ, 2018-03-31 00:00:00)\n",
      "Data columns (total 11 columns):\n",
      "return_1m     345502 non-null float64\n",
      "return_2m     345502 non-null float64\n",
      "return_3m     345502 non-null float64\n",
      "return_6m     345502 non-null float64\n",
      "return_9m     345502 non-null float64\n",
      "return_12m    345502 non-null float64\n",
      "Mkt-RF        303358 non-null float64\n",
      "SMB           303358 non-null float64\n",
      "HML           303358 non-null float64\n",
      "RMW           303358 non-null float64\n",
      "CMA           303358 non-null float64\n",
      "dtypes: float64(11)\n",
      "memory usage: 40.3+ MB\n"
     ]
    }
   ],
   "source": [
    "data = (data\n",
    "        .join(betas\n",
    "              .groupby(level='ticker')\n",
    "              .shift()))\n",
    "data.info()"
   ]
  },
  {
   "cell_type": "markdown",
   "metadata": {},
   "source": [
    "### Impute mean for missing factor betas"
   ]
  },
  {
   "cell_type": "code",
   "execution_count": 22,
   "metadata": {
    "ExecuteTime": {
     "end_time": "2018-12-25T20:21:26.128936Z",
     "start_time": "2018-12-25T20:21:22.394788Z"
    }
   },
   "outputs": [
    {
     "name": "stdout",
     "output_type": "stream",
     "text": [
      "<class 'pandas.core.frame.DataFrame'>\n",
      "MultiIndex: 345502 entries, (A, 2001-01-31 00:00:00) to (ZUMZ, 2018-03-31 00:00:00)\n",
      "Data columns (total 11 columns):\n",
      "return_1m     345502 non-null float64\n",
      "return_2m     345502 non-null float64\n",
      "return_3m     345502 non-null float64\n",
      "return_6m     345502 non-null float64\n",
      "return_9m     345502 non-null float64\n",
      "return_12m    345502 non-null float64\n",
      "Mkt-RF        345502 non-null float64\n",
      "SMB           345502 non-null float64\n",
      "HML           345502 non-null float64\n",
      "RMW           345502 non-null float64\n",
      "CMA           345502 non-null float64\n",
      "dtypes: float64(11)\n",
      "memory usage: 40.3+ MB\n"
     ]
    }
   ],
   "source": [
    "data.loc[:, factors] = data.groupby('ticker')[factors].apply(lambda x: x.fillna(x.mean()))\n",
    "data.info()"
   ]
  },
  {
   "cell_type": "markdown",
   "metadata": {},
   "source": [
    "## Momentum factors"
   ]
  },
  {
   "cell_type": "markdown",
   "metadata": {},
   "source": [
    "We can use these results to compute momentum factors based on the difference between returns over longer periods and the most recent monthly return, as well as for the difference between 3 and 12 month returns as follows:"
   ]
  },
  {
   "cell_type": "code",
   "execution_count": 23,
   "metadata": {
    "ExecuteTime": {
     "end_time": "2018-12-25T20:21:26.148656Z",
     "start_time": "2018-12-25T20:21:26.129919Z"
    }
   },
   "outputs": [],
   "source": [
    "for lag in [2,3,6,9,12]:\n",
    "    data[f'momentum_{lag}'] = data[f'return_{lag}m'].sub(data.return_1m)\n",
    "data[f'momentum_3_12'] = data[f'return_12m'].sub(data.return_3m)"
   ]
  },
  {
   "cell_type": "markdown",
   "metadata": {},
   "source": [
    "## Date Indicators"
   ]
  },
  {
   "cell_type": "code",
   "execution_count": 24,
   "metadata": {
    "ExecuteTime": {
     "end_time": "2018-12-25T20:21:26.178157Z",
     "start_time": "2018-12-25T20:21:26.149989Z"
    }
   },
   "outputs": [],
   "source": [
    "dates = data.index.get_level_values('date')\n",
    "data['year'] = dates.year\n",
    "data['month'] = dates.month"
   ]
  },
  {
   "cell_type": "markdown",
   "metadata": {},
   "source": [
    "## Lagged returns"
   ]
  },
  {
   "cell_type": "markdown",
   "metadata": {},
   "source": [
    "To use lagged values as input variables or features associated with the current observations, we use the .shift() method to move historical returns up to the current period:"
   ]
  },
  {
   "cell_type": "code",
   "execution_count": 25,
   "metadata": {
    "ExecuteTime": {
     "end_time": "2018-12-25T20:21:26.572552Z",
     "start_time": "2018-12-25T20:21:26.179228Z"
    }
   },
   "outputs": [
    {
     "name": "stdout",
     "output_type": "stream",
     "text": [
      "<class 'pandas.core.frame.DataFrame'>\n",
      "MultiIndex: 345502 entries, (A, 2001-01-31 00:00:00) to (ZUMZ, 2018-03-31 00:00:00)\n",
      "Data columns (total 25 columns):\n",
      "return_1m        345502 non-null float64\n",
      "return_2m        345502 non-null float64\n",
      "return_3m        345502 non-null float64\n",
      "return_6m        345502 non-null float64\n",
      "return_9m        345502 non-null float64\n",
      "return_12m       345502 non-null float64\n",
      "Mkt-RF           345502 non-null float64\n",
      "SMB              345502 non-null float64\n",
      "HML              345502 non-null float64\n",
      "RMW              345502 non-null float64\n",
      "CMA              345502 non-null float64\n",
      "momentum_2       345502 non-null float64\n",
      "momentum_3       345502 non-null float64\n",
      "momentum_6       345502 non-null float64\n",
      "momentum_9       345502 non-null float64\n",
      "momentum_12      345502 non-null float64\n",
      "momentum_3_12    345502 non-null float64\n",
      "year             345502 non-null int64\n",
      "month            345502 non-null int64\n",
      "return_1m_t-1    343746 non-null float64\n",
      "return_1m_t-2    341990 non-null float64\n",
      "return_1m_t-3    340234 non-null float64\n",
      "return_1m_t-4    338478 non-null float64\n",
      "return_1m_t-5    336722 non-null float64\n",
      "return_1m_t-6    334966 non-null float64\n",
      "dtypes: float64(23), int64(2)\n",
      "memory usage: 77.2+ MB\n"
     ]
    }
   ],
   "source": [
    "for t in range(1, 7):\n",
    "    data[f'return_1m_t-{t}'] = data.groupby(level='ticker').return_1m.shift(t)\n",
    "data.info()"
   ]
  },
  {
   "cell_type": "markdown",
   "metadata": {},
   "source": [
    "## Target: Holding Period Returns"
   ]
  },
  {
   "cell_type": "markdown",
   "metadata": {},
   "source": [
    "Similarly, to compute returns for various holding periods, we use the normalized period returns computed previously and shift them back to align them with the current financial features"
   ]
  },
  {
   "cell_type": "code",
   "execution_count": 26,
   "metadata": {
    "ExecuteTime": {
     "end_time": "2018-12-25T20:21:26.803930Z",
     "start_time": "2018-12-25T20:21:26.573662Z"
    }
   },
   "outputs": [],
   "source": [
    "for t in [1,2,3,6,12]:\n",
    "    data[f'target_{t}m'] = data.groupby(level='ticker')[f'return_{t}m'].shift(-t)"
   ]
  },
  {
   "cell_type": "code",
   "execution_count": 27,
   "metadata": {
    "ExecuteTime": {
     "end_time": "2018-12-25T20:21:27.100683Z",
     "start_time": "2018-12-25T20:21:26.804811Z"
    }
   },
   "outputs": [
    {
     "data": {
      "text/html": [
       "<div>\n",
       "<style scoped>\n",
       "    .dataframe tbody tr th:only-of-type {\n",
       "        vertical-align: middle;\n",
       "    }\n",
       "\n",
       "    .dataframe tbody tr th {\n",
       "        vertical-align: top;\n",
       "    }\n",
       "\n",
       "    .dataframe thead th {\n",
       "        text-align: right;\n",
       "    }\n",
       "</style>\n",
       "<table border=\"1\" class=\"dataframe\">\n",
       "  <thead>\n",
       "    <tr style=\"text-align: right;\">\n",
       "      <th></th>\n",
       "      <th></th>\n",
       "      <th>target_1m</th>\n",
       "      <th>target_2m</th>\n",
       "      <th>target_3m</th>\n",
       "      <th>return_1m</th>\n",
       "      <th>return_2m</th>\n",
       "      <th>return_3m</th>\n",
       "      <th>return_1m_t-1</th>\n",
       "      <th>return_1m_t-2</th>\n",
       "      <th>return_1m_t-3</th>\n",
       "    </tr>\n",
       "    <tr>\n",
       "      <th>ticker</th>\n",
       "      <th>date</th>\n",
       "      <th></th>\n",
       "      <th></th>\n",
       "      <th></th>\n",
       "      <th></th>\n",
       "      <th></th>\n",
       "      <th></th>\n",
       "      <th></th>\n",
       "      <th></th>\n",
       "      <th></th>\n",
       "    </tr>\n",
       "  </thead>\n",
       "  <tbody>\n",
       "    <tr>\n",
       "      <th rowspan=\"10\" valign=\"top\">A</th>\n",
       "      <th>2001-04-30</th>\n",
       "      <td>-0.140220</td>\n",
       "      <td>-0.087246</td>\n",
       "      <td>-0.098192</td>\n",
       "      <td>0.269444</td>\n",
       "      <td>0.040966</td>\n",
       "      <td>-0.105747</td>\n",
       "      <td>-0.146389</td>\n",
       "      <td>-0.327398</td>\n",
       "      <td>-0.003653</td>\n",
       "    </tr>\n",
       "    <tr>\n",
       "      <th>2001-05-31</th>\n",
       "      <td>-0.031008</td>\n",
       "      <td>-0.076414</td>\n",
       "      <td>-0.075527</td>\n",
       "      <td>-0.140220</td>\n",
       "      <td>0.044721</td>\n",
       "      <td>-0.023317</td>\n",
       "      <td>0.269444</td>\n",
       "      <td>-0.146389</td>\n",
       "      <td>-0.327398</td>\n",
       "    </tr>\n",
       "    <tr>\n",
       "      <th>2001-06-30</th>\n",
       "      <td>-0.119692</td>\n",
       "      <td>-0.097014</td>\n",
       "      <td>-0.155847</td>\n",
       "      <td>-0.031008</td>\n",
       "      <td>-0.087246</td>\n",
       "      <td>0.018842</td>\n",
       "      <td>-0.140220</td>\n",
       "      <td>0.269444</td>\n",
       "      <td>-0.146389</td>\n",
       "    </tr>\n",
       "    <tr>\n",
       "      <th>2001-07-31</th>\n",
       "      <td>-0.073750</td>\n",
       "      <td>-0.173364</td>\n",
       "      <td>-0.080114</td>\n",
       "      <td>-0.119692</td>\n",
       "      <td>-0.076414</td>\n",
       "      <td>-0.098192</td>\n",
       "      <td>-0.031008</td>\n",
       "      <td>-0.140220</td>\n",
       "      <td>0.269444</td>\n",
       "    </tr>\n",
       "    <tr>\n",
       "      <th>2001-08-31</th>\n",
       "      <td>-0.262264</td>\n",
       "      <td>-0.083279</td>\n",
       "      <td>0.009593</td>\n",
       "      <td>-0.073750</td>\n",
       "      <td>-0.097014</td>\n",
       "      <td>-0.075527</td>\n",
       "      <td>-0.119692</td>\n",
       "      <td>-0.031008</td>\n",
       "      <td>-0.140220</td>\n",
       "    </tr>\n",
       "    <tr>\n",
       "      <th>2001-09-30</th>\n",
       "      <td>0.139130</td>\n",
       "      <td>0.181052</td>\n",
       "      <td>0.134010</td>\n",
       "      <td>-0.262264</td>\n",
       "      <td>-0.173364</td>\n",
       "      <td>-0.155847</td>\n",
       "      <td>-0.073750</td>\n",
       "      <td>-0.119692</td>\n",
       "      <td>-0.031008</td>\n",
       "    </tr>\n",
       "    <tr>\n",
       "      <th>2001-10-31</th>\n",
       "      <td>0.224517</td>\n",
       "      <td>0.131458</td>\n",
       "      <td>0.108697</td>\n",
       "      <td>0.139130</td>\n",
       "      <td>-0.083279</td>\n",
       "      <td>-0.080114</td>\n",
       "      <td>-0.262264</td>\n",
       "      <td>-0.073750</td>\n",
       "      <td>-0.119692</td>\n",
       "    </tr>\n",
       "    <tr>\n",
       "      <th>2001-11-30</th>\n",
       "      <td>0.045471</td>\n",
       "      <td>0.054962</td>\n",
       "      <td>0.045340</td>\n",
       "      <td>0.224517</td>\n",
       "      <td>0.181052</td>\n",
       "      <td>0.009593</td>\n",
       "      <td>0.139130</td>\n",
       "      <td>-0.262264</td>\n",
       "      <td>-0.073750</td>\n",
       "    </tr>\n",
       "    <tr>\n",
       "      <th>2001-12-31</th>\n",
       "      <td>0.064539</td>\n",
       "      <td>0.045275</td>\n",
       "      <td>0.070347</td>\n",
       "      <td>0.045471</td>\n",
       "      <td>0.131458</td>\n",
       "      <td>0.134010</td>\n",
       "      <td>0.224517</td>\n",
       "      <td>0.139130</td>\n",
       "      <td>-0.262264</td>\n",
       "    </tr>\n",
       "    <tr>\n",
       "      <th>2002-01-31</th>\n",
       "      <td>0.026359</td>\n",
       "      <td>0.073264</td>\n",
       "      <td>-0.003306</td>\n",
       "      <td>0.064539</td>\n",
       "      <td>0.054962</td>\n",
       "      <td>0.108697</td>\n",
       "      <td>0.045471</td>\n",
       "      <td>0.224517</td>\n",
       "      <td>0.139130</td>\n",
       "    </tr>\n",
       "  </tbody>\n",
       "</table>\n",
       "</div>"
      ],
      "text/plain": [
       "                   target_1m  target_2m  target_3m  return_1m  return_2m  \\\n",
       "ticker date                                                                \n",
       "A      2001-04-30  -0.140220  -0.087246  -0.098192   0.269444   0.040966   \n",
       "       2001-05-31  -0.031008  -0.076414  -0.075527  -0.140220   0.044721   \n",
       "       2001-06-30  -0.119692  -0.097014  -0.155847  -0.031008  -0.087246   \n",
       "       2001-07-31  -0.073750  -0.173364  -0.080114  -0.119692  -0.076414   \n",
       "       2001-08-31  -0.262264  -0.083279   0.009593  -0.073750  -0.097014   \n",
       "       2001-09-30   0.139130   0.181052   0.134010  -0.262264  -0.173364   \n",
       "       2001-10-31   0.224517   0.131458   0.108697   0.139130  -0.083279   \n",
       "       2001-11-30   0.045471   0.054962   0.045340   0.224517   0.181052   \n",
       "       2001-12-31   0.064539   0.045275   0.070347   0.045471   0.131458   \n",
       "       2002-01-31   0.026359   0.073264  -0.003306   0.064539   0.054962   \n",
       "\n",
       "                   return_3m  return_1m_t-1  return_1m_t-2  return_1m_t-3  \n",
       "ticker date                                                                \n",
       "A      2001-04-30  -0.105747      -0.146389      -0.327398      -0.003653  \n",
       "       2001-05-31  -0.023317       0.269444      -0.146389      -0.327398  \n",
       "       2001-06-30   0.018842      -0.140220       0.269444      -0.146389  \n",
       "       2001-07-31  -0.098192      -0.031008      -0.140220       0.269444  \n",
       "       2001-08-31  -0.075527      -0.119692      -0.031008      -0.140220  \n",
       "       2001-09-30  -0.155847      -0.073750      -0.119692      -0.031008  \n",
       "       2001-10-31  -0.080114      -0.262264      -0.073750      -0.119692  \n",
       "       2001-11-30   0.009593       0.139130      -0.262264      -0.073750  \n",
       "       2001-12-31   0.134010       0.224517       0.139130      -0.262264  \n",
       "       2002-01-31   0.108697       0.045471       0.224517       0.139130  "
      ]
     },
     "execution_count": 27,
     "metadata": {},
     "output_type": "execute_result"
    }
   ],
   "source": [
    "cols = ['target_1m',\n",
    "        'target_2m',\n",
    "        'target_3m', 'return_1m',\n",
    "        'return_2m',\n",
    "        'return_3m',\n",
    "        'return_1m_t-1',\n",
    "        'return_1m_t-2',\n",
    "        'return_1m_t-3']\n",
    "\n",
    "data[cols].dropna().sort_index().head(10)"
   ]
  },
  {
   "cell_type": "code",
   "execution_count": 28,
   "metadata": {
    "ExecuteTime": {
     "end_time": "2018-12-25T20:21:27.239829Z",
     "start_time": "2018-12-25T20:21:27.101668Z"
    }
   },
   "outputs": [
    {
     "name": "stdout",
     "output_type": "stream",
     "text": [
      "<class 'pandas.core.frame.DataFrame'>\n",
      "MultiIndex: 345502 entries, (A, 2001-01-31 00:00:00) to (ZUMZ, 2018-03-31 00:00:00)\n",
      "Data columns (total 30 columns):\n",
      "return_1m        345502 non-null float64\n",
      "return_2m        345502 non-null float64\n",
      "return_3m        345502 non-null float64\n",
      "return_6m        345502 non-null float64\n",
      "return_9m        345502 non-null float64\n",
      "return_12m       345502 non-null float64\n",
      "Mkt-RF           345502 non-null float64\n",
      "SMB              345502 non-null float64\n",
      "HML              345502 non-null float64\n",
      "RMW              345502 non-null float64\n",
      "CMA              345502 non-null float64\n",
      "momentum_2       345502 non-null float64\n",
      "momentum_3       345502 non-null float64\n",
      "momentum_6       345502 non-null float64\n",
      "momentum_9       345502 non-null float64\n",
      "momentum_12      345502 non-null float64\n",
      "momentum_3_12    345502 non-null float64\n",
      "year             345502 non-null int64\n",
      "month            345502 non-null int64\n",
      "return_1m_t-1    343746 non-null float64\n",
      "return_1m_t-2    341990 non-null float64\n",
      "return_1m_t-3    340234 non-null float64\n",
      "return_1m_t-4    338478 non-null float64\n",
      "return_1m_t-5    336722 non-null float64\n",
      "return_1m_t-6    334966 non-null float64\n",
      "target_1m        343746 non-null float64\n",
      "target_2m        341990 non-null float64\n",
      "target_3m        340234 non-null float64\n",
      "target_6m        334966 non-null float64\n",
      "target_12m       324430 non-null float64\n",
      "dtypes: float64(28), int64(2)\n",
      "memory usage: 90.5+ MB\n"
     ]
    }
   ],
   "source": [
    "data.info()"
   ]
  },
  {
   "cell_type": "markdown",
   "metadata": {},
   "source": [
    "## Create age proxy"
   ]
  },
  {
   "cell_type": "markdown",
   "metadata": {},
   "source": [
    "We use quintiles of IPO year as a proxy for company age."
   ]
  },
  {
   "cell_type": "code",
   "execution_count": 29,
   "metadata": {
    "ExecuteTime": {
     "end_time": "2018-12-25T20:21:27.286036Z",
     "start_time": "2018-12-25T20:21:27.241312Z"
    }
   },
   "outputs": [],
   "source": [
    "data = (data\n",
    "        .join(pd.qcut(stocks.ipoyear, q=5, labels=list(range(1, 6)))\n",
    "              .astype(float)\n",
    "              .fillna(0)\n",
    "              .astype(int)\n",
    "              .to_frame('age')))\n",
    "data.age = data.age.fillna(-1)"
   ]
  },
  {
   "cell_type": "markdown",
   "metadata": {},
   "source": [
    "## Create dynamic size proxy"
   ]
  },
  {
   "cell_type": "markdown",
   "metadata": {},
   "source": [
    "We use the marketcap information from the NASDAQ ticker info to create a size proxy."
   ]
  },
  {
   "cell_type": "code",
   "execution_count": 30,
   "metadata": {
    "ExecuteTime": {
     "end_time": "2018-12-25T20:23:14.190943Z",
     "start_time": "2018-12-25T20:23:14.184872Z"
    }
   },
   "outputs": [
    {
     "name": "stdout",
     "output_type": "stream",
     "text": [
      "<class 'pandas.core.frame.DataFrame'>\n",
      "Index: 2289 entries, A to ZUMZ\n",
      "Data columns (total 3 columns):\n",
      "marketcap    2287 non-null object\n",
      "ipoyear      1002 non-null float64\n",
      "sector       2248 non-null object\n",
      "dtypes: float64(1), object(2)\n",
      "memory usage: 151.5+ KB\n"
     ]
    }
   ],
   "source": [
    "stocks.info()"
   ]
  },
  {
   "cell_type": "markdown",
   "metadata": {},
   "source": [
    "Market cap information is tied to currrent prices. We create an adjustment factor to have the values reflect lower historical prices for each individual stock:"
   ]
  },
  {
   "cell_type": "code",
   "execution_count": 37,
   "metadata": {
    "ExecuteTime": {
     "end_time": "2018-12-25T20:21:27.302005Z",
     "start_time": "2018-12-25T20:21:04.281Z"
    }
   },
   "outputs": [
    {
     "name": "stdout",
     "output_type": "stream",
     "text": [
      "<class 'pandas.core.frame.DataFrame'>\n",
      "DatetimeIndex: 207 entries, 2018-03-31 to 2001-01-31\n",
      "Freq: -1M\n",
      "Columns: 1756 entries, A to UFS\n",
      "dtypes: float64(1756)\n",
      "memory usage: 2.8 MB\n"
     ]
    }
   ],
   "source": [
    "size_factor = (monthly_prices\n",
    "               .loc[data.index.get_level_values('date').unique(),\n",
    "                    data.index.get_level_values('ticker').unique()]\n",
    "               .sort_index(ascending=False)\n",
    "               .pct_change()\n",
    "               .fillna(0)\n",
    "               .add(1)\n",
    "               .cumprod())\n",
    "size_factor.info()"
   ]
  },
  {
   "cell_type": "code",
   "execution_count": 38,
   "metadata": {
    "ExecuteTime": {
     "end_time": "2018-12-25T20:21:27.302756Z",
     "start_time": "2018-12-25T20:21:04.283Z"
    }
   },
   "outputs": [],
   "source": [
    "msize = (size_factor\n",
    "         .mul(stocks\n",
    "              .loc[size_factor.columns, 'marketcap'])).dropna(axis=1, how='all')"
   ]
  },
  {
   "cell_type": "markdown",
   "metadata": {},
   "source": [
    "### Create Size indicator as deciles per period"
   ]
  },
  {
   "cell_type": "markdown",
   "metadata": {},
   "source": [
    "Compute size deciles per month:"
   ]
  },
  {
   "cell_type": "code",
   "execution_count": 39,
   "metadata": {
    "ExecuteTime": {
     "end_time": "2018-12-25T20:21:27.303512Z",
     "start_time": "2018-12-25T20:21:04.284Z"
    }
   },
   "outputs": [],
   "source": [
    "data['msize'] = (msize\n",
    "                 .apply(lambda x: pd.qcut(x, q=10, labels=list(range(1, 11)))\n",
    "                        .astype(int), axis=1)\n",
    "                 .stack()\n",
    "                 .swaplevel())\n",
    "data.msize = data.msize.fillna(-1)"
   ]
  },
  {
   "cell_type": "markdown",
   "metadata": {},
   "source": [
    "## Combine data"
   ]
  },
  {
   "cell_type": "code",
   "execution_count": 40,
   "metadata": {
    "ExecuteTime": {
     "end_time": "2018-12-25T20:21:27.304218Z",
     "start_time": "2018-12-25T20:21:04.286Z"
    }
   },
   "outputs": [],
   "source": [
    "data = data.join(stocks[['sector']])\n",
    "data.sector = data.sector.fillna('Unknown')"
   ]
  },
  {
   "cell_type": "code",
   "execution_count": 41,
   "metadata": {
    "ExecuteTime": {
     "end_time": "2018-12-25T20:21:27.305025Z",
     "start_time": "2018-12-25T20:21:04.290Z"
    },
    "scrolled": true
   },
   "outputs": [
    {
     "name": "stdout",
     "output_type": "stream",
     "text": [
      "<class 'pandas.core.frame.DataFrame'>\n",
      "MultiIndex: 345502 entries, (A, 2001-01-31 00:00:00) to (ZUMZ, 2018-03-31 00:00:00)\n",
      "Data columns (total 33 columns):\n",
      "return_1m        345502 non-null float64\n",
      "return_2m        345502 non-null float64\n",
      "return_3m        345502 non-null float64\n",
      "return_6m        345502 non-null float64\n",
      "return_9m        345502 non-null float64\n",
      "return_12m       345502 non-null float64\n",
      "Mkt-RF           345502 non-null float64\n",
      "SMB              345502 non-null float64\n",
      "HML              345502 non-null float64\n",
      "RMW              345502 non-null float64\n",
      "CMA              345502 non-null float64\n",
      "momentum_2       345502 non-null float64\n",
      "momentum_3       345502 non-null float64\n",
      "momentum_6       345502 non-null float64\n",
      "momentum_9       345502 non-null float64\n",
      "momentum_12      345502 non-null float64\n",
      "momentum_3_12    345502 non-null float64\n",
      "year             345502 non-null int64\n",
      "month            345502 non-null int64\n",
      "return_1m_t-1    343746 non-null float64\n",
      "return_1m_t-2    341990 non-null float64\n",
      "return_1m_t-3    340234 non-null float64\n",
      "return_1m_t-4    338478 non-null float64\n",
      "return_1m_t-5    336722 non-null float64\n",
      "return_1m_t-6    334966 non-null float64\n",
      "target_1m        343746 non-null float64\n",
      "target_2m        341990 non-null float64\n",
      "target_3m        340234 non-null float64\n",
      "target_6m        334966 non-null float64\n",
      "target_12m       324430 non-null float64\n",
      "age              345502 non-null int64\n",
      "msize            345502 non-null float64\n",
      "sector           345502 non-null object\n",
      "dtypes: float64(29), int64(3), object(1)\n",
      "memory usage: 98.4+ MB\n"
     ]
    }
   ],
   "source": [
    "data.info()"
   ]
  },
  {
   "cell_type": "markdown",
   "metadata": {},
   "source": [
    "## Store data"
   ]
  },
  {
   "cell_type": "markdown",
   "metadata": {},
   "source": [
    "We will use the data again in several later chapters, starting in [Chapter 6 on Linear Models](../../06_machine_learning_process/02_mutual_information/mutual_information.ipynb)."
   ]
  },
  {
   "cell_type": "code",
   "execution_count": 42,
   "metadata": {},
   "outputs": [
    {
     "name": "stdout",
     "output_type": "stream",
     "text": [
      "<class 'pandas.io.pytables.HDFStore'>\n",
      "File path: ../../data/assets.h5\n",
      "/engineered_features            frame        (shape->[343746,33])  \n",
      "/fred/assets                    frame        (shape->[4826,5])     \n",
      "/quandl/wiki/prices             frame        (shape->[15389314,12])\n",
      "/quandl/wiki/stocks             frame        (shape->[1,2])        \n",
      "/sp500/prices                   frame        (shape->[37721,5])    \n",
      "/sp500/stocks                   frame        (shape->[1,7])        \n",
      "/us_equities/stocks             frame        (shape->[1,6])        \n"
     ]
    }
   ],
   "source": [
    "with pd.HDFStore(DATA_STORE) as store:\n",
    "    store.put('engineered_features', data.sort_index().loc[idx[:, :datetime(2018, 3, 1)], :])\n",
    "    print(store.info())"
   ]
  },
  {
   "cell_type": "markdown",
   "metadata": {},
   "source": [
    "## Create Dummy variables"
   ]
  },
  {
   "cell_type": "markdown",
   "metadata": {},
   "source": [
    "For most models, we need to encode categorical variables as 'dummies' (one-hot encoding):"
   ]
  },
  {
   "cell_type": "code",
   "execution_count": 43,
   "metadata": {
    "ExecuteTime": {
     "end_time": "2018-12-25T20:21:27.306385Z",
     "start_time": "2018-12-25T20:21:04.294Z"
    },
    "scrolled": false
   },
   "outputs": [
    {
     "name": "stdout",
     "output_type": "stream",
     "text": [
      "<class 'pandas.core.frame.DataFrame'>\n",
      "MultiIndex: 345502 entries, (A, 2001-01-31 00:00:00) to (ZUMZ, 2018-03-31 00:00:00)\n",
      "Data columns (total 88 columns):\n",
      "return_1m                345502 non-null float64\n",
      "return_2m                345502 non-null float64\n",
      "return_3m                345502 non-null float64\n",
      "return_6m                345502 non-null float64\n",
      "return_9m                345502 non-null float64\n",
      "return_12m               345502 non-null float64\n",
      "Mkt-RF                   345502 non-null float64\n",
      "SMB                      345502 non-null float64\n",
      "HML                      345502 non-null float64\n",
      "RMW                      345502 non-null float64\n",
      "CMA                      345502 non-null float64\n",
      "momentum_2               345502 non-null float64\n",
      "momentum_3               345502 non-null float64\n",
      "momentum_6               345502 non-null float64\n",
      "momentum_9               345502 non-null float64\n",
      "momentum_12              345502 non-null float64\n",
      "momentum_3_12            345502 non-null float64\n",
      "return_1m_t-1            343746 non-null float64\n",
      "return_1m_t-2            341990 non-null float64\n",
      "return_1m_t-3            340234 non-null float64\n",
      "return_1m_t-4            338478 non-null float64\n",
      "return_1m_t-5            336722 non-null float64\n",
      "return_1m_t-6            334966 non-null float64\n",
      "target_1m                343746 non-null float64\n",
      "target_2m                341990 non-null float64\n",
      "target_3m                340234 non-null float64\n",
      "target_6m                334966 non-null float64\n",
      "target_12m               324430 non-null float64\n",
      "year_2001                345502 non-null uint8\n",
      "year_2002                345502 non-null uint8\n",
      "year_2003                345502 non-null uint8\n",
      "year_2004                345502 non-null uint8\n",
      "year_2005                345502 non-null uint8\n",
      "year_2006                345502 non-null uint8\n",
      "year_2007                345502 non-null uint8\n",
      "year_2008                345502 non-null uint8\n",
      "year_2009                345502 non-null uint8\n",
      "year_2010                345502 non-null uint8\n",
      "year_2011                345502 non-null uint8\n",
      "year_2012                345502 non-null uint8\n",
      "year_2013                345502 non-null uint8\n",
      "year_2014                345502 non-null uint8\n",
      "year_2015                345502 non-null uint8\n",
      "year_2016                345502 non-null uint8\n",
      "year_2017                345502 non-null uint8\n",
      "year_2018                345502 non-null uint8\n",
      "month_1                  345502 non-null uint8\n",
      "month_2                  345502 non-null uint8\n",
      "month_3                  345502 non-null uint8\n",
      "month_4                  345502 non-null uint8\n",
      "month_5                  345502 non-null uint8\n",
      "month_6                  345502 non-null uint8\n",
      "month_7                  345502 non-null uint8\n",
      "month_8                  345502 non-null uint8\n",
      "month_9                  345502 non-null uint8\n",
      "month_10                 345502 non-null uint8\n",
      "month_11                 345502 non-null uint8\n",
      "month_12                 345502 non-null uint8\n",
      "msize_-1                 345502 non-null uint8\n",
      "msize_1                  345502 non-null uint8\n",
      "msize_2                  345502 non-null uint8\n",
      "msize_3                  345502 non-null uint8\n",
      "msize_4                  345502 non-null uint8\n",
      "msize_5                  345502 non-null uint8\n",
      "msize_6                  345502 non-null uint8\n",
      "msize_7                  345502 non-null uint8\n",
      "msize_8                  345502 non-null uint8\n",
      "msize_9                  345502 non-null uint8\n",
      "msize_10                 345502 non-null uint8\n",
      "age_0                    345502 non-null uint8\n",
      "age_1                    345502 non-null uint8\n",
      "age_2                    345502 non-null uint8\n",
      "age_3                    345502 non-null uint8\n",
      "age_4                    345502 non-null uint8\n",
      "age_5                    345502 non-null uint8\n",
      "Basic Industries         345502 non-null uint8\n",
      "Capital Goods            345502 non-null uint8\n",
      "Consumer Durables        345502 non-null uint8\n",
      "Consumer Non-Durables    345502 non-null uint8\n",
      "Consumer Services        345502 non-null uint8\n",
      "Energy                   345502 non-null uint8\n",
      "Finance                  345502 non-null uint8\n",
      "Health Care              345502 non-null uint8\n",
      "Miscellaneous            345502 non-null uint8\n",
      "Public Utilities         345502 non-null uint8\n",
      "Technology               345502 non-null uint8\n",
      "Transportation           345502 non-null uint8\n",
      "Unknown                  345502 non-null uint8\n",
      "dtypes: float64(28), uint8(60)\n",
      "memory usage: 94.9+ MB\n"
     ]
    }
   ],
   "source": [
    "dummy_data = pd.get_dummies(data,\n",
    "                            columns=['year','month', 'msize', 'age',  'sector'],\n",
    "                            prefix=['year','month', 'msize', 'age', ''],\n",
    "                            prefix_sep=['_', '_', '_', '_', ''])\n",
    "dummy_data = dummy_data.rename(columns={c:c.replace('.0', '') for c in dummy_data.columns})\n",
    "dummy_data.info()"
   ]
  }
 ],
 "metadata": {
  "kernelspec": {
   "display_name": "Python 3",
   "language": "python",
   "name": "python3"
  },
  "language_info": {
   "codemirror_mode": {
    "name": "ipython",
    "version": 3
   },
   "file_extension": ".py",
   "mimetype": "text/x-python",
   "name": "python",
   "nbconvert_exporter": "python",
   "pygments_lexer": "ipython3",
   "version": "3.6.8"
  },
  "toc": {
   "base_numbering": 1,
   "nav_menu": {},
   "number_sections": true,
   "sideBar": true,
   "skip_h1_title": true,
   "title_cell": "Table of Contents",
   "title_sidebar": "Contents",
   "toc_cell": false,
   "toc_position": {
    "height": "calc(100% - 180px)",
    "left": "10px",
    "top": "150px",
    "width": "230.355px"
   },
   "toc_section_display": true,
   "toc_window_display": true
  }
 },
 "nbformat": 4,
 "nbformat_minor": 2
}
